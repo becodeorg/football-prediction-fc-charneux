{
 "cells": [
  {
   "cell_type": "markdown",
   "id": "ed5deee3",
   "metadata": {},
   "source": [
    "## Charts to display in flask frontend"
   ]
  },
  {
   "cell_type": "markdown",
   "id": "76aa74cf",
   "metadata": {},
   "source": [
    "### 0. Imports"
   ]
  },
  {
   "cell_type": "code",
   "execution_count": 35,
   "id": "5bf6e5ca",
   "metadata": {},
   "outputs": [],
   "source": [
    "import os\n",
    "\n",
    "import sqlite3\n",
    "\n",
    "import pandas as pd\n",
    "from pandas.io.sql import DatabaseError\n",
    "\n",
    "import numpy as np\n",
    "\n",
    "import plotly.express as px\n",
    "\n",
    "from sklearn.model_selection import train_test_split\n",
    "from sklearn.preprocessing import OneHotEncoder, StandardScaler\n",
    "from sklearn.impute import SimpleImputer\n",
    "from sklearn.compose import ColumnTransformer\n",
    "from sklearn.pipeline import Pipeline\n",
    "from plotly.subplots import make_subplots\n",
    "import plotly.graph_objects as go\n",
    "from scipy import stats"
   ]
  },
  {
   "cell_type": "markdown",
   "id": "f6ef7b91",
   "metadata": {},
   "source": [
    "### 1. Setup and load"
   ]
  },
  {
   "cell_type": "code",
   "execution_count": 36,
   "id": "7ffd3292",
   "metadata": {},
   "outputs": [
    {
     "name": "stdout",
     "output_type": "stream",
     "text": [
      "✅ Loaded 1508 rows from 'matches' table\n"
     ]
    }
   ],
   "source": [
    "# Path to database\n",
    "db_path = '../football.db'\n",
    "\n",
    "if not os.path.exists(db_path):\n",
    "    raise FileNotFoundError(f\"Database '{db_path}' not found. Run db_setup.py first.\")\n",
    "\n",
    "conn = sqlite3.connect(db_path)\n",
    "\n",
    "try:\n",
    "    df = pd.read_sql_query(\"SELECT * FROM matches\", conn)\n",
    "    print(f\"✅ Loaded {len(df)} rows from 'matches' table\")\n",
    "except DatabaseError as e:\n",
    "    df = pd.DataFrame()\n",
    "    print(f\"❌ Error loading data: {e}\")\n",
    "finally:\n",
    "    conn.close()"
   ]
  },
  {
   "cell_type": "markdown",
   "id": "d00f9bf7",
   "metadata": {},
   "source": [
    "### 2. Data preprocessing"
   ]
  },
  {
   "cell_type": "code",
   "execution_count": 37,
   "id": "530ae619",
   "metadata": {},
   "outputs": [
    {
     "name": "stdout",
     "output_type": "stream",
     "text": [
      "HTHG          4\n",
      "HTAG          4\n",
      "HTR           4\n",
      "HS            5\n",
      "AS            5\n",
      "HST           5\n",
      "AST           5\n",
      "HF            5\n",
      "AF            5\n",
      "HC            5\n",
      "AC            5\n",
      "HY            4\n",
      "AY            4\n",
      "HR            4\n",
      "AR            4\n",
      "B365H         1\n",
      "B365D         1\n",
      "B365A         1\n",
      "BWH           3\n",
      "BWD           3\n",
      "BWA           3\n",
      "PSH           4\n",
      "PSD           4\n",
      "PSA           4\n",
      "WHH         349\n",
      "WHD         349\n",
      "WHA         349\n",
      "B365>2.5      1\n",
      "B365<2.5      1\n",
      "P>2.5         4\n",
      "P<2.5         4\n",
      "B365AHH       4\n",
      "B365AHA       4\n",
      "PAHH          4\n",
      "PAHA          4\n",
      "BWCH          8\n",
      "BWCD          8\n",
      "BWCA          8\n",
      "WHCH        355\n",
      "WHCD        355\n",
      "WHCA        355\n",
      "dtype: int64\n",
      "⚠️ Remaining missing values found:\n",
      "B365H         1\n",
      "B365D         1\n",
      "B365A         1\n",
      "BWH           3\n",
      "BWD           3\n",
      "BWA           3\n",
      "PSH           4\n",
      "PSD           4\n",
      "PSA           4\n",
      "WHH         349\n",
      "WHD         349\n",
      "WHA         349\n",
      "B365>2.5      1\n",
      "B365<2.5      1\n",
      "P>2.5         4\n",
      "P<2.5         4\n",
      "B365AHH       4\n",
      "B365AHA       4\n",
      "PAHH          4\n",
      "PAHA          4\n",
      "BWCH          8\n",
      "BWCD          8\n",
      "BWCA          8\n",
      "WHCH        355\n",
      "WHCD        355\n",
      "WHCA        355\n",
      "dtype: int64\n",
      "✅ Data cleaned successfully!\n",
      "✅ Final data shape: (1508, 93)\n",
      "✅ No missing values remaining: True\n"
     ]
    }
   ],
   "source": [
    "# Enhanced data cleaning for analysis\n",
    "df_clean = df.copy()\n",
    "\n",
    "print(df_clean.isnull().sum()[df_clean.isnull().sum() > 0])\n",
    "\n",
    "# Remove rows with missing critical information (match identifiers and results)\n",
    "critical_cols = ['HomeTeam', 'AwayTeam', 'FTR', 'Date']\n",
    "df_clean = df_clean.dropna(subset=critical_cols)\n",
    "\n",
    "# Handle missing values in numerical columns\n",
    "numerical_cols = ['FTHG', 'FTAG', 'HTHG', 'HTAG', 'HS', 'AS', 'HST', 'AST', \n",
    "                  'HF', 'AF', 'HC', 'AC', 'HY', 'AY', 'HR', 'AR']\n",
    "\n",
    "# Fill missing numerical values with 0 (assuming missing means no shots, fouls, cards, etc.)\n",
    "for col in numerical_cols:\n",
    "    if col in df_clean.columns:\n",
    "        df_clean[col] = df_clean[col].fillna(0)\n",
    "\n",
    "# Clean string columns\n",
    "string_cols = ['HomeTeam', 'AwayTeam', 'FTR', 'HTR']\n",
    "for col in string_cols:\n",
    "    if col in df_clean.columns:\n",
    "        df_clean[col] = df_clean[col].str.strip()  # Remove whitespace\n",
    "        # Fill any remaining missing string values with 'Unknown'\n",
    "        df_clean[col] = df_clean[col].fillna('Unknown')\n",
    "\n",
    "# Handle any other columns that might have missing values\n",
    "remaining_missing = df_clean.isnull().sum()\n",
    "if remaining_missing.sum() > 0:\n",
    "    print(f\"⚠️ Remaining missing values found:\")\n",
    "    print(remaining_missing[remaining_missing > 0])\n",
    "    \n",
    "    # Drop columns that are mostly missing (>50% missing)\n",
    "    threshold = len(df_clean) * 0.5\n",
    "    cols_to_drop = remaining_missing[remaining_missing > threshold].index.tolist()\n",
    "    if cols_to_drop:\n",
    "        print(f\"Dropping columns with >50% missing values: {cols_to_drop}\")\n",
    "        df_clean = df_clean.drop(columns=cols_to_drop)\n",
    "    \n",
    "    # For remaining columns, fill with appropriate defaults\n",
    "    for col in df_clean.columns:\n",
    "        if df_clean[col].isnull().sum() > 0:\n",
    "            if df_clean[col].dtype in ['object', 'string']:\n",
    "                df_clean[col] = df_clean[col].fillna('Unknown')\n",
    "            else:\n",
    "                df_clean[col] = df_clean[col].fillna(0)\n",
    "\n",
    "# Final check - ensure no missing values remain\n",
    "assert df_clean.isnull().sum().sum() == 0, \"Missing values still exist!\"\n",
    "\n",
    "# Update the main dataframe\n",
    "df = df_clean\n",
    "\n",
    "print(f\"✅ Data cleaned successfully!\")\n",
    "print(f\"✅ Final data shape: {df.shape}\")\n",
    "print(f\"✅ No missing values remaining: {df.isnull().sum().sum() == 0}\")\n"
   ]
  },
  {
   "cell_type": "markdown",
   "id": "3fd151ec",
   "metadata": {},
   "source": [
    "### 3. Extra Stats"
   ]
  },
  {
   "cell_type": "code",
   "execution_count": 38,
   "id": "4869330d",
   "metadata": {},
   "outputs": [],
   "source": [
    "# Add derived columns\n",
    "df['TotalGoals'] = df['FTHG'] + df['FTAG']\n",
    "df['GoalDifference'] = df['FTHG'] - df['FTAG']\n",
    "df['IsDraw'] = df['FTR'] == 'D'\n",
    "\n",
    "# Points earned by Home Team\n",
    "def home_points(row):\n",
    "    if row['FTR'] == 'H':\n",
    "        return 3\n",
    "    elif row['FTR'] == 'D':\n",
    "        return 1\n",
    "    else:\n",
    "        return 0\n",
    "\n",
    "df['HomePoints'] = df.apply(home_points, axis=1)\n",
    "\n",
    "# Convert Date column\n",
    "df['Date'] = pd.to_datetime(df['Date'])\n"
   ]
  },
  {
   "cell_type": "markdown",
   "id": "5ceba125",
   "metadata": {},
   "source": [
    "### 4. Charts"
   ]
  },
  {
   "cell_type": "code",
   "execution_count": 39,
   "id": "7ca45b00",
   "metadata": {},
   "outputs": [
    {
     "data": {
      "application/vnd.plotly.v1+json": {
       "config": {
        "plotlyServerURL": "https://plot.ly"
       },
       "data": [
        {
         "hovertemplate": "Date=%{x}<br>Avg Home Goals=%{y}<extra></extra>",
         "legendgroup": "",
         "line": {
          "color": "#636efa",
          "dash": "solid"
         },
         "marker": {
          "symbol": "circle"
         },
         "mode": "lines",
         "name": "",
         "orientation": "v",
         "showlegend": false,
         "type": "scatter",
         "x": [
          "2019-07-26T00:00:00.000000000",
          "2019-07-27T00:00:00.000000000",
          "2019-07-28T00:00:00.000000000",
          "2019-08-02T00:00:00.000000000",
          "2019-08-03T00:00:00.000000000",
          "2019-08-04T00:00:00.000000000",
          "2019-08-09T00:00:00.000000000",
          "2019-08-10T00:00:00.000000000",
          "2019-08-11T00:00:00.000000000",
          "2019-08-16T00:00:00.000000000",
          "2019-08-17T00:00:00.000000000",
          "2019-08-18T00:00:00.000000000",
          "2019-08-19T00:00:00.000000000",
          "2019-08-23T00:00:00.000000000",
          "2019-08-24T00:00:00.000000000",
          "2019-08-25T00:00:00.000000000",
          "2019-08-30T00:00:00.000000000",
          "2019-08-31T00:00:00.000000000",
          "2019-09-01T00:00:00.000000000",
          "2019-09-13T00:00:00.000000000",
          "2019-09-14T00:00:00.000000000",
          "2019-09-15T00:00:00.000000000",
          "2019-09-20T00:00:00.000000000",
          "2019-09-21T00:00:00.000000000",
          "2019-09-22T00:00:00.000000000",
          "2019-09-28T00:00:00.000000000",
          "2019-09-29T00:00:00.000000000",
          "2019-10-04T00:00:00.000000000",
          "2019-10-05T00:00:00.000000000",
          "2019-10-06T00:00:00.000000000",
          "2019-10-18T00:00:00.000000000",
          "2019-10-19T00:00:00.000000000",
          "2019-10-20T00:00:00.000000000",
          "2019-10-25T00:00:00.000000000",
          "2019-10-26T00:00:00.000000000",
          "2019-10-27T00:00:00.000000000",
          "2019-10-29T00:00:00.000000000",
          "2019-10-30T00:00:00.000000000",
          "2019-10-31T00:00:00.000000000",
          "2019-11-02T00:00:00.000000000",
          "2019-11-03T00:00:00.000000000",
          "2019-11-08T00:00:00.000000000",
          "2019-11-09T00:00:00.000000000",
          "2019-11-10T00:00:00.000000000",
          "2019-11-21T00:00:00.000000000",
          "2019-11-22T00:00:00.000000000",
          "2019-11-23T00:00:00.000000000",
          "2019-11-24T00:00:00.000000000",
          "2019-11-29T00:00:00.000000000",
          "2019-11-30T00:00:00.000000000",
          "2019-12-01T00:00:00.000000000",
          "2019-12-06T00:00:00.000000000",
          "2019-12-07T00:00:00.000000000",
          "2019-12-08T00:00:00.000000000",
          "2019-12-13T00:00:00.000000000",
          "2019-12-14T00:00:00.000000000",
          "2019-12-15T00:00:00.000000000",
          "2019-12-20T00:00:00.000000000",
          "2019-12-21T00:00:00.000000000",
          "2019-12-22T00:00:00.000000000",
          "2019-12-26T00:00:00.000000000",
          "2019-12-27T00:00:00.000000000",
          "2020-01-17T00:00:00.000000000",
          "2020-01-18T00:00:00.000000000",
          "2020-01-19T00:00:00.000000000",
          "2020-01-24T00:00:00.000000000",
          "2020-01-25T00:00:00.000000000",
          "2020-01-26T00:00:00.000000000",
          "2020-01-29T00:00:00.000000000",
          "2020-01-31T00:00:00.000000000",
          "2020-02-01T00:00:00.000000000",
          "2020-02-02T00:00:00.000000000",
          "2020-02-07T00:00:00.000000000",
          "2020-02-08T00:00:00.000000000",
          "2020-02-11T00:00:00.000000000",
          "2020-02-12T00:00:00.000000000",
          "2020-02-13T00:00:00.000000000",
          "2020-02-14T00:00:00.000000000",
          "2020-02-15T00:00:00.000000000",
          "2020-02-16T00:00:00.000000000",
          "2020-02-21T00:00:00.000000000",
          "2020-02-22T00:00:00.000000000",
          "2020-02-23T00:00:00.000000000",
          "2020-02-28T00:00:00.000000000",
          "2020-02-29T00:00:00.000000000",
          "2020-03-01T00:00:00.000000000",
          "2020-03-07T00:00:00.000000000",
          "2020-08-08T00:00:00.000000000",
          "2020-08-09T00:00:00.000000000",
          "2020-08-10T00:00:00.000000000",
          "2020-08-14T00:00:00.000000000",
          "2020-08-15T00:00:00.000000000",
          "2020-08-16T00:00:00.000000000",
          "2020-08-17T00:00:00.000000000",
          "2020-08-21T00:00:00.000000000",
          "2020-08-22T00:00:00.000000000",
          "2020-08-23T00:00:00.000000000",
          "2020-08-24T00:00:00.000000000",
          "2020-08-28T00:00:00.000000000",
          "2020-08-29T00:00:00.000000000",
          "2020-08-30T00:00:00.000000000",
          "2020-09-11T00:00:00.000000000",
          "2020-09-12T00:00:00.000000000",
          "2020-09-13T00:00:00.000000000",
          "2020-09-14T00:00:00.000000000",
          "2020-09-18T00:00:00.000000000",
          "2020-09-19T00:00:00.000000000",
          "2020-09-20T00:00:00.000000000",
          "2020-09-21T00:00:00.000000000",
          "2020-09-25T00:00:00.000000000",
          "2020-09-26T00:00:00.000000000",
          "2020-09-27T00:00:00.000000000",
          "2020-09-28T00:00:00.000000000",
          "2020-10-02T00:00:00.000000000",
          "2020-10-03T00:00:00.000000000",
          "2020-10-04T00:00:00.000000000",
          "2020-10-17T00:00:00.000000000",
          "2020-10-18T00:00:00.000000000",
          "2020-10-23T00:00:00.000000000",
          "2020-10-24T00:00:00.000000000",
          "2020-10-25T00:00:00.000000000",
          "2020-10-26T00:00:00.000000000",
          "2020-10-30T00:00:00.000000000",
          "2020-10-31T00:00:00.000000000",
          "2020-11-01T00:00:00.000000000",
          "2020-11-02T00:00:00.000000000",
          "2020-11-06T00:00:00.000000000",
          "2020-11-07T00:00:00.000000000",
          "2020-11-08T00:00:00.000000000",
          "2020-11-21T00:00:00.000000000",
          "2020-11-22T00:00:00.000000000",
          "2020-11-23T00:00:00.000000000",
          "2020-11-24T00:00:00.000000000",
          "2020-11-25T00:00:00.000000000",
          "2020-11-27T00:00:00.000000000",
          "2020-11-28T00:00:00.000000000",
          "2020-11-29T00:00:00.000000000",
          "2020-11-30T00:00:00.000000000",
          "2020-12-01T00:00:00.000000000",
          "2020-12-02T00:00:00.000000000",
          "2020-12-03T00:00:00.000000000",
          "2020-12-04T00:00:00.000000000",
          "2020-12-05T00:00:00.000000000",
          "2020-12-06T00:00:00.000000000",
          "2020-12-07T00:00:00.000000000",
          "2020-12-08T00:00:00.000000000",
          "2020-12-11T00:00:00.000000000",
          "2020-12-12T00:00:00.000000000",
          "2020-12-13T00:00:00.000000000",
          "2020-12-15T00:00:00.000000000",
          "2020-12-16T00:00:00.000000000",
          "2020-12-17T00:00:00.000000000",
          "2020-12-18T00:00:00.000000000",
          "2020-12-19T00:00:00.000000000",
          "2020-12-20T00:00:00.000000000",
          "2020-12-26T00:00:00.000000000",
          "2020-12-27T00:00:00.000000000",
          "2020-12-29T00:00:00.000000000",
          "2020-12-30T00:00:00.000000000",
          "2021-01-06T00:00:00.000000000",
          "2021-01-09T00:00:00.000000000",
          "2021-01-10T00:00:00.000000000",
          "2021-01-11T00:00:00.000000000",
          "2021-01-12T00:00:00.000000000",
          "2021-01-13T00:00:00.000000000",
          "2021-01-15T00:00:00.000000000",
          "2021-01-16T00:00:00.000000000",
          "2021-01-17T00:00:00.000000000",
          "2021-01-19T00:00:00.000000000",
          "2021-01-20T00:00:00.000000000",
          "2021-01-21T00:00:00.000000000",
          "2021-01-22T00:00:00.000000000",
          "2021-01-23T00:00:00.000000000",
          "2021-01-24T00:00:00.000000000",
          "2021-01-26T00:00:00.000000000",
          "2021-01-27T00:00:00.000000000",
          "2021-01-28T00:00:00.000000000",
          "2021-01-29T00:00:00.000000000",
          "2021-01-30T00:00:00.000000000",
          "2021-01-31T00:00:00.000000000",
          "2021-02-05T00:00:00.000000000",
          "2021-02-06T00:00:00.000000000",
          "2021-02-07T00:00:00.000000000",
          "2021-02-12T00:00:00.000000000",
          "2021-02-13T00:00:00.000000000",
          "2021-02-14T00:00:00.000000000",
          "2021-02-15T00:00:00.000000000",
          "2021-02-17T00:00:00.000000000",
          "2021-02-19T00:00:00.000000000",
          "2021-02-20T00:00:00.000000000",
          "2021-02-21T00:00:00.000000000",
          "2021-02-22T00:00:00.000000000",
          "2021-02-26T00:00:00.000000000",
          "2021-02-27T00:00:00.000000000",
          "2021-02-28T00:00:00.000000000",
          "2021-03-01T00:00:00.000000000",
          "2021-03-05T00:00:00.000000000",
          "2021-03-06T00:00:00.000000000",
          "2021-03-07T00:00:00.000000000",
          "2021-03-08T00:00:00.000000000",
          "2021-03-12T00:00:00.000000000",
          "2021-03-15T00:00:00.000000000",
          "2021-03-19T00:00:00.000000000",
          "2021-03-20T00:00:00.000000000",
          "2021-03-21T00:00:00.000000000",
          "2021-04-03T00:00:00.000000000",
          "2021-04-04T00:00:00.000000000",
          "2021-04-05T00:00:00.000000000",
          "2021-04-06T00:00:00.000000000",
          "2021-04-07T00:00:00.000000000",
          "2021-04-09T00:00:00.000000000",
          "2021-04-10T00:00:00.000000000",
          "2021-04-11T00:00:00.000000000",
          "2021-04-12T00:00:00.000000000",
          "2021-04-17T00:00:00.000000000",
          "2021-04-18T00:00:00.000000000",
          "2021-07-23T00:00:00.000000000",
          "2021-07-24T00:00:00.000000000",
          "2021-07-25T00:00:00.000000000",
          "2021-07-27T00:00:00.000000000",
          "2021-07-30T00:00:00.000000000",
          "2021-07-31T00:00:00.000000000",
          "2021-08-01T00:00:00.000000000",
          "2021-08-06T00:00:00.000000000",
          "2021-08-07T00:00:00.000000000",
          "2021-08-08T00:00:00.000000000",
          "2021-08-13T00:00:00.000000000",
          "2021-08-14T00:00:00.000000000",
          "2021-08-15T00:00:00.000000000",
          "2021-08-20T00:00:00.000000000",
          "2021-08-21T00:00:00.000000000",
          "2021-08-22T00:00:00.000000000",
          "2021-08-27T00:00:00.000000000",
          "2021-08-28T00:00:00.000000000",
          "2021-08-29T00:00:00.000000000",
          "2021-09-10T00:00:00.000000000",
          "2021-09-11T00:00:00.000000000",
          "2021-09-12T00:00:00.000000000",
          "2021-09-13T00:00:00.000000000",
          "2021-09-17T00:00:00.000000000",
          "2021-09-18T00:00:00.000000000",
          "2021-09-19T00:00:00.000000000",
          "2021-09-22T00:00:00.000000000",
          "2021-09-23T00:00:00.000000000",
          "2021-09-24T00:00:00.000000000",
          "2021-09-25T00:00:00.000000000",
          "2021-09-26T00:00:00.000000000",
          "2021-10-01T00:00:00.000000000",
          "2021-10-02T00:00:00.000000000",
          "2021-10-03T00:00:00.000000000",
          "2021-10-15T00:00:00.000000000",
          "2021-10-16T00:00:00.000000000",
          "2021-10-17T00:00:00.000000000",
          "2021-10-22T00:00:00.000000000",
          "2021-10-23T00:00:00.000000000",
          "2021-10-24T00:00:00.000000000",
          "2021-10-29T00:00:00.000000000",
          "2021-10-30T00:00:00.000000000",
          "2021-10-31T00:00:00.000000000",
          "2021-11-05T00:00:00.000000000",
          "2021-11-06T00:00:00.000000000",
          "2021-11-07T00:00:00.000000000",
          "2021-11-19T00:00:00.000000000",
          "2021-11-20T00:00:00.000000000",
          "2021-11-21T00:00:00.000000000",
          "2021-11-26T00:00:00.000000000",
          "2021-11-27T00:00:00.000000000",
          "2021-11-28T00:00:00.000000000",
          "2021-12-03T00:00:00.000000000",
          "2021-12-04T00:00:00.000000000",
          "2021-12-05T00:00:00.000000000",
          "2021-12-10T00:00:00.000000000",
          "2021-12-11T00:00:00.000000000",
          "2021-12-12T00:00:00.000000000",
          "2021-12-14T00:00:00.000000000",
          "2021-12-15T00:00:00.000000000",
          "2021-12-16T00:00:00.000000000",
          "2021-12-17T00:00:00.000000000",
          "2021-12-18T00:00:00.000000000",
          "2021-12-19T00:00:00.000000000",
          "2021-12-26T00:00:00.000000000",
          "2021-12-27T00:00:00.000000000",
          "2022-01-14T00:00:00.000000000",
          "2022-01-15T00:00:00.000000000",
          "2022-01-16T00:00:00.000000000",
          "2022-01-18T00:00:00.000000000",
          "2022-01-21T00:00:00.000000000",
          "2022-01-22T00:00:00.000000000",
          "2022-01-23T00:00:00.000000000",
          "2022-01-25T00:00:00.000000000",
          "2022-01-26T00:00:00.000000000",
          "2022-01-27T00:00:00.000000000",
          "2022-01-28T00:00:00.000000000",
          "2022-01-29T00:00:00.000000000",
          "2022-01-30T00:00:00.000000000",
          "2022-02-02T00:00:00.000000000",
          "2022-02-04T00:00:00.000000000",
          "2022-02-05T00:00:00.000000000",
          "2022-02-06T00:00:00.000000000",
          "2022-02-09T00:00:00.000000000",
          "2022-02-11T00:00:00.000000000",
          "2022-02-12T00:00:00.000000000",
          "2022-02-13T00:00:00.000000000",
          "2022-02-16T00:00:00.000000000",
          "2022-02-19T00:00:00.000000000",
          "2022-02-20T00:00:00.000000000",
          "2022-02-23T00:00:00.000000000",
          "2022-02-25T00:00:00.000000000",
          "2022-02-26T00:00:00.000000000",
          "2022-02-27T00:00:00.000000000",
          "2022-03-02T00:00:00.000000000",
          "2022-03-04T00:00:00.000000000",
          "2022-03-05T00:00:00.000000000",
          "2022-03-06T00:00:00.000000000",
          "2022-03-11T00:00:00.000000000",
          "2022-03-12T00:00:00.000000000",
          "2022-03-13T00:00:00.000000000",
          "2022-03-18T00:00:00.000000000",
          "2022-03-19T00:00:00.000000000",
          "2022-03-20T00:00:00.000000000",
          "2022-04-01T00:00:00.000000000",
          "2022-04-02T00:00:00.000000000",
          "2022-04-03T00:00:00.000000000",
          "2022-04-09T00:00:00.000000000",
          "2022-04-10T00:00:00.000000000",
          "2022-07-22T00:00:00.000000000",
          "2022-07-23T00:00:00.000000000",
          "2022-07-24T00:00:00.000000000",
          "2022-07-29T00:00:00.000000000",
          "2022-07-30T00:00:00.000000000",
          "2022-07-31T00:00:00.000000000",
          "2022-08-05T00:00:00.000000000",
          "2022-08-06T00:00:00.000000000",
          "2022-08-07T00:00:00.000000000",
          "2022-08-12T00:00:00.000000000",
          "2022-08-13T00:00:00.000000000",
          "2022-08-14T00:00:00.000000000",
          "2022-08-19T00:00:00.000000000",
          "2022-08-20T00:00:00.000000000",
          "2022-08-21T00:00:00.000000000",
          "2022-08-26T00:00:00.000000000",
          "2022-08-27T00:00:00.000000000",
          "2022-08-28T00:00:00.000000000",
          "2022-08-31T00:00:00.000000000",
          "2022-09-01T00:00:00.000000000",
          "2022-09-02T00:00:00.000000000",
          "2022-09-03T00:00:00.000000000",
          "2022-09-04T00:00:00.000000000",
          "2022-09-09T00:00:00.000000000",
          "2022-09-10T00:00:00.000000000",
          "2022-09-11T00:00:00.000000000",
          "2022-09-16T00:00:00.000000000",
          "2022-09-17T00:00:00.000000000",
          "2022-09-18T00:00:00.000000000",
          "2022-09-30T00:00:00.000000000",
          "2022-10-01T00:00:00.000000000",
          "2022-10-02T00:00:00.000000000",
          "2022-10-07T00:00:00.000000000",
          "2022-10-08T00:00:00.000000000",
          "2022-10-09T00:00:00.000000000",
          "2022-10-14T00:00:00.000000000",
          "2022-10-15T00:00:00.000000000",
          "2022-10-16T00:00:00.000000000",
          "2022-10-18T00:00:00.000000000",
          "2022-10-19T00:00:00.000000000",
          "2022-10-20T00:00:00.000000000",
          "2022-10-21T00:00:00.000000000",
          "2022-10-22T00:00:00.000000000",
          "2022-10-23T00:00:00.000000000",
          "2022-10-28T00:00:00.000000000",
          "2022-10-29T00:00:00.000000000",
          "2022-10-30T00:00:00.000000000",
          "2022-11-04T00:00:00.000000000",
          "2022-11-05T00:00:00.000000000",
          "2022-11-06T00:00:00.000000000",
          "2022-11-11T00:00:00.000000000",
          "2022-11-12T00:00:00.000000000",
          "2022-11-13T00:00:00.000000000",
          "2022-12-23T00:00:00.000000000",
          "2022-12-26T00:00:00.000000000",
          "2022-12-27T00:00:00.000000000",
          "2023-01-06T00:00:00.000000000",
          "2023-01-07T00:00:00.000000000",
          "2023-01-08T00:00:00.000000000",
          "2023-01-13T00:00:00.000000000",
          "2023-01-14T00:00:00.000000000",
          "2023-01-15T00:00:00.000000000",
          "2023-01-17T00:00:00.000000000",
          "2023-01-18T00:00:00.000000000",
          "2023-01-19T00:00:00.000000000",
          "2023-01-21T00:00:00.000000000",
          "2023-01-22T00:00:00.000000000",
          "2023-01-27T00:00:00.000000000",
          "2023-01-28T00:00:00.000000000",
          "2023-01-29T00:00:00.000000000",
          "2023-02-01T00:00:00.000000000",
          "2023-02-03T00:00:00.000000000",
          "2023-02-04T00:00:00.000000000",
          "2023-02-05T00:00:00.000000000",
          "2023-02-10T00:00:00.000000000",
          "2023-02-11T00:00:00.000000000",
          "2023-02-12T00:00:00.000000000",
          "2023-02-17T00:00:00.000000000",
          "2023-02-18T00:00:00.000000000",
          "2023-02-19T00:00:00.000000000",
          "2023-02-24T00:00:00.000000000",
          "2023-02-25T00:00:00.000000000",
          "2023-02-26T00:00:00.000000000",
          "2023-03-03T00:00:00.000000000",
          "2023-03-04T00:00:00.000000000",
          "2023-03-05T00:00:00.000000000",
          "2023-03-10T00:00:00.000000000",
          "2023-03-11T00:00:00.000000000",
          "2023-03-12T00:00:00.000000000",
          "2023-03-17T00:00:00.000000000",
          "2023-03-18T00:00:00.000000000",
          "2023-03-19T00:00:00.000000000",
          "2023-03-31T00:00:00.000000000",
          "2023-04-01T00:00:00.000000000",
          "2023-04-02T00:00:00.000000000",
          "2023-04-07T00:00:00.000000000",
          "2023-04-08T00:00:00.000000000",
          "2023-04-09T00:00:00.000000000",
          "2023-04-14T00:00:00.000000000",
          "2023-04-15T00:00:00.000000000",
          "2023-04-16T00:00:00.000000000",
          "2023-04-22T00:00:00.000000000",
          "2023-04-23T00:00:00.000000000",
          "2023-07-28T00:00:00.000000000",
          "2023-07-29T00:00:00.000000000",
          "2023-07-30T00:00:00.000000000",
          "2023-08-04T00:00:00.000000000",
          "2023-08-05T00:00:00.000000000",
          "2023-08-06T00:00:00.000000000",
          "2023-08-11T00:00:00.000000000",
          "2023-08-12T00:00:00.000000000",
          "2023-08-13T00:00:00.000000000",
          "2023-08-18T00:00:00.000000000",
          "2023-08-19T00:00:00.000000000",
          "2023-08-20T00:00:00.000000000",
          "2023-08-26T00:00:00.000000000",
          "2023-08-27T00:00:00.000000000",
          "2023-09-01T00:00:00.000000000",
          "2023-09-02T00:00:00.000000000",
          "2023-09-03T00:00:00.000000000",
          "2023-09-15T00:00:00.000000000",
          "2023-09-16T00:00:00.000000000",
          "2023-09-17T00:00:00.000000000",
          "2023-09-22T00:00:00.000000000",
          "2023-09-23T00:00:00.000000000",
          "2023-09-24T00:00:00.000000000",
          "2023-09-27T00:00:00.000000000",
          "2023-09-28T00:00:00.000000000",
          "2023-09-29T00:00:00.000000000",
          "2023-09-30T00:00:00.000000000",
          "2023-10-01T00:00:00.000000000",
          "2023-10-06T00:00:00.000000000",
          "2023-10-07T00:00:00.000000000",
          "2023-10-08T00:00:00.000000000",
          "2023-10-20T00:00:00.000000000",
          "2023-10-21T00:00:00.000000000",
          "2023-10-22T00:00:00.000000000",
          "2023-10-27T00:00:00.000000000",
          "2023-10-28T00:00:00.000000000",
          "2023-10-29T00:00:00.000000000",
          "2023-11-03T00:00:00.000000000",
          "2023-11-04T00:00:00.000000000",
          "2023-11-05T00:00:00.000000000",
          "2023-11-10T00:00:00.000000000",
          "2023-11-11T00:00:00.000000000",
          "2023-11-12T00:00:00.000000000",
          "2023-11-24T00:00:00.000000000",
          "2023-11-25T00:00:00.000000000",
          "2023-11-26T00:00:00.000000000",
          "2023-12-01T00:00:00.000000000",
          "2023-12-02T00:00:00.000000000",
          "2023-12-03T00:00:00.000000000",
          "2023-12-08T00:00:00.000000000",
          "2023-12-09T00:00:00.000000000",
          "2023-12-10T00:00:00.000000000",
          "2023-12-15T00:00:00.000000000",
          "2023-12-16T00:00:00.000000000",
          "2023-12-17T00:00:00.000000000",
          "2023-12-20T00:00:00.000000000",
          "2023-12-21T00:00:00.000000000",
          "2023-12-22T00:00:00.000000000",
          "2023-12-23T00:00:00.000000000",
          "2023-12-26T00:00:00.000000000",
          "2023-12-27T00:00:00.000000000",
          "2024-01-19T00:00:00.000000000",
          "2024-01-20T00:00:00.000000000",
          "2024-01-21T00:00:00.000000000",
          "2024-01-24T00:00:00.000000000",
          "2024-01-26T00:00:00.000000000",
          "2024-01-27T00:00:00.000000000",
          "2024-01-28T00:00:00.000000000",
          "2024-01-30T00:00:00.000000000",
          "2024-01-31T00:00:00.000000000",
          "2024-02-01T00:00:00.000000000",
          "2024-02-03T00:00:00.000000000",
          "2024-02-04T00:00:00.000000000",
          "2024-02-09T00:00:00.000000000",
          "2024-02-10T00:00:00.000000000",
          "2024-02-11T00:00:00.000000000",
          "2024-02-16T00:00:00.000000000",
          "2024-02-17T00:00:00.000000000",
          "2024-02-18T00:00:00.000000000",
          "2024-02-23T00:00:00.000000000",
          "2024-02-24T00:00:00.000000000",
          "2024-02-25T00:00:00.000000000",
          "2024-03-01T00:00:00.000000000",
          "2024-03-02T00:00:00.000000000",
          "2024-03-03T00:00:00.000000000",
          "2024-03-08T00:00:00.000000000",
          "2024-03-09T00:00:00.000000000",
          "2024-03-10T00:00:00.000000000",
          "2024-03-16T00:00:00.000000000",
          "2024-03-17T00:00:00.000000000",
          "2024-03-29T00:00:00.000000000",
          "2024-03-30T00:00:00.000000000",
          "2024-03-31T00:00:00.000000000",
          "2024-04-01T00:00:00.000000000",
          "2024-04-05T00:00:00.000000000",
          "2024-04-06T00:00:00.000000000",
          "2024-04-07T00:00:00.000000000",
          "2024-04-12T00:00:00.000000000",
          "2024-04-13T00:00:00.000000000",
          "2024-04-14T00:00:00.000000000",
          "2024-04-20T00:00:00.000000000",
          "2024-04-21T00:00:00.000000000",
          "2024-04-23T00:00:00.000000000",
          "2024-04-24T00:00:00.000000000",
          "2024-04-25T00:00:00.000000000",
          "2024-04-26T00:00:00.000000000",
          "2024-04-27T00:00:00.000000000",
          "2024-04-28T00:00:00.000000000",
          "2024-05-03T00:00:00.000000000",
          "2024-05-04T00:00:00.000000000",
          "2024-05-05T00:00:00.000000000",
          "2024-05-11T00:00:00.000000000",
          "2024-05-12T00:00:00.000000000",
          "2024-05-13T00:00:00.000000000",
          "2024-05-17T00:00:00.000000000",
          "2024-05-18T00:00:00.000000000",
          "2024-05-19T00:00:00.000000000",
          "2024-05-20T00:00:00.000000000",
          "2024-05-25T00:00:00.000000000",
          "2024-05-26T00:00:00.000000000",
          "2024-06-02T00:00:00.000000000",
          "2024-07-26T00:00:00.000000000",
          "2024-07-27T00:00:00.000000000",
          "2024-07-28T00:00:00.000000000",
          "2024-08-02T00:00:00.000000000",
          "2024-08-03T00:00:00.000000000",
          "2024-08-04T00:00:00.000000000",
          "2024-08-09T00:00:00.000000000",
          "2024-08-10T00:00:00.000000000",
          "2024-08-11T00:00:00.000000000",
          "2024-08-16T00:00:00.000000000",
          "2024-08-17T00:00:00.000000000",
          "2024-08-18T00:00:00.000000000",
          "2024-08-24T00:00:00.000000000",
          "2024-08-25T00:00:00.000000000",
          "2024-08-30T00:00:00.000000000",
          "2024-08-31T00:00:00.000000000",
          "2024-09-01T00:00:00.000000000"
         ],
         "xaxis": "x",
         "y": {
          "bdata": "AAAAAAAAAEAAAAAAAADQPwAAAAAAAPA/AAAAAAAAGEAAAAAAAAAGQKuqqqqqqgpAAAAAAAAAAAAAAAAAAADgPwAAAAAAAABAAAAAAAAAAACrqqqqqqoCQFVVVVVVVQVAAAAAAAAACEAAAAAAAADwPwAAAAAAAPA/AAAAAAAAAEAAAAAAAAAAQFVVVVVVVeU/AAAAAAAA/D8AAAAAAAAAQAAAAAAAAOg/AAAAAAAAAEAAAAAAAAAAQAAAAAAAAPw/q6qqqqqqAkCamZmZmZn5P1VVVVVVVeU/AAAAAAAA8D8AAAAAAAAKQFVVVVVVVQVAAAAAAAAAAAAAAAAAAAD8P6uqqqqqqgJAAAAAAAAAAAAAAAAAAAD8P1VVVVVVVeU/AAAAAAAA8D8AAAAAAAD0PwAAAAAAAAhAAAAAAAAAAECrqqqqqqoCQAAAAAAAAPA/AAAAAAAA+D8AAAAAAADwPwAAAAAAAAhAAAAAAAAAAEAAAAAAAADwP1VVVVVVVeU/AAAAAAAA8D8AAAAAAAD0P6uqqqqqqvo/AAAAAAAAAAAAAAAAAAD0PwAAAAAAAPA/AAAAAAAA8D8AAAAAAAAKQAAAAAAAAABAAAAAAAAA8D8AAAAAAAD4P1VVVVVVVfU/AAAAAAAA+D8AAAAAAAAEQAAAAAAAAABAAAAAAAAA+D9VVVVVVVXlPwAAAAAAAABAq6qqqqqq+j+rqqqqqqr6PwAAAAAAAAAAAAAAAAAACEAAAAAAAADoP6uqqqqqqgJAAAAAAAAA8D8AAAAAAAAOQAAAAAAAAABAAAAAAAAA4D8AAAAAAADwPwAAAAAAAABAAAAAAAAA8D8AAAAAAADwPwAAAAAAAAAAAAAAAAAA+D9VVVVVVVUNQAAAAAAAAAAAAAAAAAAA/D9VVVVVVVX1PwAAAAAAAPw/AAAAAAAA+H8AAAAAAAD4PwAAAAAAAPA/AAAAAAAAAAAAAAAAAADwPwAAAAAAAABAAAAAAAAA8D8AAAAAAAAAAAAAAAAAAABAVVVVVVVV1T8AAAAAAAAAAAAAAAAAAABAAAAAAAAA4D8AAAAAAADwPwAAAAAAAABAq6qqqqqq+j8AAAAAAAD8PwAAAAAAABRAAAAAAAAACECrqqqqqqr6PwAAAAAAAPw/AAAAAAAACEAAAAAAAADwP6uqqqqqqgJAAAAAAAAA+D8AAAAAAAAAQAAAAAAAABBAAAAAAAAA8D8AAAAAAAAIQAAAAAAAAApAAAAAAAAA9D8AAAAAAADwPwAAAAAAAABAVVVVVVVVBUAAAAAAAADwPwAAAAAAABBAAAAAAAAACEAAAAAAAADwPwAAAAAAAPA/AAAAAAAACECrqqqqqqoCQAAAAAAAAPA/AAAAAAAA8D8AAAAAAAD8PwAAAAAAAABAAAAAAAAAAEAAAAAAAADwPwAAAAAAAAhAVVVVVVVV5T8AAAAAAAD0PwAAAAAAAAhAAAAAAAAACEAAAAAAAAAAAAAAAAAAAPA/AAAAAAAAAECrqqqqqqr6PwAAAAAAAABAAAAAAAAAAAAAAAAAAAAAQAAAAAAAAPA/AAAAAAAA8D9VVVVVVVX1P6uqqqqqqgJAq6qqqqqq+j8AAAAAAAAAAAAAAAAAAPA/AAAAAAAA8D8AAAAAAADQP2ZmZmZmZvY/AAAAAAAA/D8AAAAAAAAAQAAAAAAAAPA/AAAAAAAA8D8AAAAAAAD8PwAAAAAAAPg/AAAAAAAACEAAAAAAAADwPwAAAAAAAPA/AAAAAAAAAEAAAAAAAAD0PwAAAAAAAOg/AAAAAAAAAEAzMzMzMzPzPwAAAAAAAPg/AAAAAAAAAAAAAAAAAAD0PwAAAAAAAPg/AAAAAAAA8D8AAAAAAAD0PwAAAAAAAPg/AAAAAAAACEAAAAAAAADgPwAAAAAAAABAAAAAAAAAAAAAAAAAAADwPwAAAAAAAPQ/AAAAAAAACEAAAAAAAADwP1VVVVVVVeU/AAAAAAAAEEAAAAAAAAAAQAAAAAAAAPA/AAAAAAAA8D8AAAAAAADwPwAAAAAAAAhAAAAAAAAA8D+rqqqqqqr6PwAAAAAAAPA/AAAAAAAAAEAAAAAAAAAAAFVVVVVVVQVAAAAAAAAA/D8AAAAAAADwPwAAAAAAAPA/AAAAAAAAAAAAAAAAAAAAQAAAAAAAAPA/AAAAAAAA/D8AAAAAAADwP6uqqqqqqvo/q6qqqqqq+j8AAAAAAAAAQAAAAAAAAABAAAAAAAAAAABVVVVVVVUNQAAAAAAAAARAAAAAAAAAAEAAAAAAAAAEQNu2bdu2bfs/AAAAAAAA+H8AAAAAAADwPwAAAAAAAABAAAAAAAAAAAAAAAAAAAAIQAAAAAAAAOg/AAAAAAAA6D8AAAAAAADwPwAAAAAAAOg/AAAAAAAA/D8AAAAAAADwPwAAAAAAAARAAAAAAAAA6D8AAAAAAADwPwAAAAAAAPA/VVVVVVVVBUAAAAAAAAAAQAAAAAAAAARAAAAAAAAAAkAAAAAAAAAIQAAAAAAAAPA/MzMzMzMzA0AAAAAAAAAAAAAAAAAAAPA/AAAAAAAA/D8AAAAAAADwPwAAAAAAABBAAAAAAAAA8D8AAAAAAADwPwAAAAAAAPA/mpmZmZmZ+T8AAAAAAAAIQAAAAAAAAOg/AAAAAAAABEAAAAAAAAAAQAAAAAAAAARAAAAAAAAA+D8AAAAAAADwPwAAAAAAAPg/AAAAAAAAAkAAAAAAAAAAQAAAAAAAAABAAAAAAAAA8D8AAAAAAADwPwAAAAAAAPg/AAAAAAAA9D8AAAAAAAAAQAAAAAAAAPA/AAAAAAAA+D8AAAAAAADwPwAAAAAAAABAAAAAAAAABEAAAAAAAADwPwAAAAAAAPQ/AAAAAAAA8D8AAAAAAADwPwAAAAAAAPA/AAAAAAAAAEBVVVVVVVX1P6uqqqqqqvo/AAAAAAAAEEAAAAAAAAAAAAAAAAAAAABAAAAAAAAA9D8AAAAAAADgPwAAAAAAAPA/AAAAAAAAAEAAAAAAAAAMQAAAAAAAAABAAAAAAAAAAAAAAAAAAADwPwAAAAAAAPw/AAAAAAAA/D8AAAAAAADwPwAAAAAAAOg/AAAAAAAAAAAAAAAAAAAAAAAAAAAAAPA/AAAAAAAA4D8AAAAAAAAAAAAAAAAAAABAAAAAAAAA6D8AAAAAAAAEQAAAAAAAAPA/AAAAAAAAAAAAAAAAAAD8PwAAAAAAAPg/AAAAAAAAEEAAAAAAAAAAQAAAAAAAAPg/AAAAAAAAEEAAAAAAAAAAQAAAAAAAAOA/AAAAAAAA/D8AAAAAAADwPwAAAAAAAPA/VVVVVVVV9T8AAAAAAAAAQAAAAAAAAPA/AAAAAAAAAEAAAAAAAADgPwAAAAAAAPA/AAAAAAAAAEAAAAAAAAD8PwAAAAAAAPA/AAAAAAAA9D8AAAAAAAAIQAAAAAAAAOA/t23btm3bBkAAAAAAAAD4fwAAAAAAAPg/AAAAAAAA/D8AAAAAAADwPwAAAAAAAPg/AAAAAAAA+D8AAAAAAADwPwAAAAAAAABAAAAAAAAABkAAAAAAAADwPwAAAAAAAPg/AAAAAAAA0D8AAAAAAADwPwAAAAAAAPA/AAAAAAAAAkAAAAAAAADwPwAAAAAAAPg/AAAAAAAA6D8AAAAAAAAQQAAAAAAAAAAAAAAAAAAAEEAAAAAAAADoPwAAAAAAAABAAAAAAAAA8D8AAAAAAAD0PwAAAAAAAPQ/AAAAAAAAAEAAAAAAAADwPwAAAAAAAAJAAAAAAAAAAAAAAAAAAAD4PwAAAAAAAPQ/AAAAAAAAAEAAAAAAAAD0PwAAAAAAAOg/AAAAAAAAAEAAAAAAAAAAQAAAAAAAAPw/AAAAAAAACECrqqqqqqoCQAAAAAAAAAhAAAAAAAAAEEAAAAAAAADwPwAAAAAAAARAAAAAAAAACEAAAAAAAAD8PwAAAAAAAPw/AAAAAAAAEEAAAAAAAAD8PwAAAAAAAPg/AAAAAAAAFEAAAAAAAAAGQAAAAAAAAPA/AAAAAAAA+H8AAAAAAAD0PwAAAAAAAARAAAAAAAAA8D8AAAAAAADwPwAAAAAAAABAAAAAAAAA8D8AAAAAAADwPwAAAAAAAPw/q6qqqqqq+j8AAAAAAAD4PwAAAAAAAOA/AAAAAAAA+D8AAAAAAAD4PwAAAAAAAAhAAAAAAAAA9D8AAAAAAAAAQAAAAAAAAPA/AAAAAAAAAAAAAAAAAAD0PwAAAAAAAABAAAAAAAAA8D8AAAAAAAAIQAAAAAAAAPA/AAAAAAAAAEAAAAAAAAD0PwAAAAAAAPg/AAAAAAAACEAAAAAAAAACQAAAAAAAAPg/AAAAAAAACEAAAAAAAAACQAAAAAAAAARAAAAAAAAAAAAAAAAAAAAAQAAAAAAAAPw/AAAAAAAA8D8AAAAAAAD4PwAAAAAAAPQ/AAAAAAAAAAAAAAAAAAD0PwAAAAAAAPA/AAAAAAAAAEAAAAAAAAAAQAAAAAAAAAJAAAAAAAAACEAAAAAAAADwPwAAAAAAAAJAAAAAAAAA8D8AAAAAAAADQAAAAAAAAPh/AAAAAAAA8D8AAAAAAAD4PwAAAAAAAAAAAAAAAAAA8D8AAAAAAADQPwAAAAAAABhAAAAAAAAACECamZmZmZnZPwAAAAAAAPA/AAAAAAAAAEAzMzMzMzMDQAAAAAAAAABAAAAAAAAA8D8AAAAAAAAIQFVVVVVVVfU/AAAAAAAA+D8AAAAAAAAAAAAAAAAAAABAAAAAAAAA+D8AAAAAAAAAAFVVVVVVVeU/AAAAAAAA+D8AAAAAAAAAAAAAAAAAAPg/AAAAAAAAAEBVVVVVVVXlPwAAAAAAAABAAAAAAAAAAECrqqqqqqoCQAAAAAAAAPw/AAAAAAAAEECrqqqqqqr6PwAAAAAAAApAAAAAAAAAAECrqqqqqqoCQAAAAAAAAPg/AAAAAAAA8D9VVVVVVVX1PwAAAAAAAPA/AAAAAAAACEBVVVVVVVUFQAAAAAAAAPw/AAAAAAAA8D8AAAAAAAAAQAAAAAAAAOg/AAAAAAAA8D9VVVVVVVXlPwAAAAAAAPg/AAAAAAAA8D8AAAAAAAAAQAAAAAAAAPA/AAAAAAAAAEBVVVVVVVX1PwAAAAAAAABAAAAAAAAACEAAAAAAAAAQQAAAAAAAAPA/AAAAAAAA+D8AAAAAAAAAQAAAAAAAAABAAAAAAAAA8D9VVVVVVVX1P6uqqqqqqgJAAAAAAAAAAAAAAAAAAADwPwAAAAAAAPA/AAAAAAAA/D8AAAAAAAAMQAAAAAAAAPg/AAAAAAAACEAAAAAAAADoPwAAAAAAAPw/AAAAAAAA8D+rqqqqqqoCQAAAAAAAAOg/AAAAAAAAAEAAAAAAAADwPwAAAAAAAPg/AAAAAAAAAACrqqqqqqr6PwAAAAAAAPQ/AAAAAAAAAAAAAAAAAAAAQAAAAAAAAPw/AAAAAAAACEAAAAAAAAAAAAAAAAAAAPg/AAAAAAAAAECrqqqqqqoCQAAAAAAAABRAAAAAAAAA+D8AAAAAAAAAQAAAAAAAAPA/AAAAAAAAAEAAAAAAAAAAAAAAAAAAAPg/AAAAAAAACECrqqqqqqoCQAAAAAAAAABAAAAAAAAAAkAAAAAAAADwP1VVVVVVVdU/AAAAAAAADEAAAAAAAAAAAAAAAAAAAPA/q6qqqqqqAkAAAAAAAAD0PwAAAAAAAABAq6qqqqqqAkAAAAAAAAD0P6uqqqqqqgJAAAAAAAAA8D8AAAAAAAAAQAAAAAAAAPA/AAAAAAAA4D8AAAAAAADgPwAAAAAAAPA/AAAAAAAAAECrqqqqqqr6PwAAAAAAAAAAAAAAAAAA+H9VVVVVVVXVPwAAAAAAAOg/AAAAAAAACEAAAAAAAAAAQAAAAAAAAPA/AAAAAAAAAAAAAAAAAAAIQAAAAAAAAAxAAAAAAAAA8D+rqqqqqqoCQAAAAAAAAPw/AAAAAAAA4D8AAAAAAADoPwAAAAAAAPA/VVVVVVVVBUAAAAAAAAD0Pw==",
          "dtype": "f8"
         },
         "yaxis": "y"
        }
       ],
       "layout": {
        "legend": {
         "tracegroupgap": 0
        },
        "template": {
         "data": {
          "bar": [
           {
            "error_x": {
             "color": "#2a3f5f"
            },
            "error_y": {
             "color": "#2a3f5f"
            },
            "marker": {
             "line": {
              "color": "#E5ECF6",
              "width": 0.5
             },
             "pattern": {
              "fillmode": "overlay",
              "size": 10,
              "solidity": 0.2
             }
            },
            "type": "bar"
           }
          ],
          "barpolar": [
           {
            "marker": {
             "line": {
              "color": "#E5ECF6",
              "width": 0.5
             },
             "pattern": {
              "fillmode": "overlay",
              "size": 10,
              "solidity": 0.2
             }
            },
            "type": "barpolar"
           }
          ],
          "carpet": [
           {
            "aaxis": {
             "endlinecolor": "#2a3f5f",
             "gridcolor": "white",
             "linecolor": "white",
             "minorgridcolor": "white",
             "startlinecolor": "#2a3f5f"
            },
            "baxis": {
             "endlinecolor": "#2a3f5f",
             "gridcolor": "white",
             "linecolor": "white",
             "minorgridcolor": "white",
             "startlinecolor": "#2a3f5f"
            },
            "type": "carpet"
           }
          ],
          "choropleth": [
           {
            "colorbar": {
             "outlinewidth": 0,
             "ticks": ""
            },
            "type": "choropleth"
           }
          ],
          "contour": [
           {
            "colorbar": {
             "outlinewidth": 0,
             "ticks": ""
            },
            "colorscale": [
             [
              0,
              "#0d0887"
             ],
             [
              0.1111111111111111,
              "#46039f"
             ],
             [
              0.2222222222222222,
              "#7201a8"
             ],
             [
              0.3333333333333333,
              "#9c179e"
             ],
             [
              0.4444444444444444,
              "#bd3786"
             ],
             [
              0.5555555555555556,
              "#d8576b"
             ],
             [
              0.6666666666666666,
              "#ed7953"
             ],
             [
              0.7777777777777778,
              "#fb9f3a"
             ],
             [
              0.8888888888888888,
              "#fdca26"
             ],
             [
              1,
              "#f0f921"
             ]
            ],
            "type": "contour"
           }
          ],
          "contourcarpet": [
           {
            "colorbar": {
             "outlinewidth": 0,
             "ticks": ""
            },
            "type": "contourcarpet"
           }
          ],
          "heatmap": [
           {
            "colorbar": {
             "outlinewidth": 0,
             "ticks": ""
            },
            "colorscale": [
             [
              0,
              "#0d0887"
             ],
             [
              0.1111111111111111,
              "#46039f"
             ],
             [
              0.2222222222222222,
              "#7201a8"
             ],
             [
              0.3333333333333333,
              "#9c179e"
             ],
             [
              0.4444444444444444,
              "#bd3786"
             ],
             [
              0.5555555555555556,
              "#d8576b"
             ],
             [
              0.6666666666666666,
              "#ed7953"
             ],
             [
              0.7777777777777778,
              "#fb9f3a"
             ],
             [
              0.8888888888888888,
              "#fdca26"
             ],
             [
              1,
              "#f0f921"
             ]
            ],
            "type": "heatmap"
           }
          ],
          "histogram": [
           {
            "marker": {
             "pattern": {
              "fillmode": "overlay",
              "size": 10,
              "solidity": 0.2
             }
            },
            "type": "histogram"
           }
          ],
          "histogram2d": [
           {
            "colorbar": {
             "outlinewidth": 0,
             "ticks": ""
            },
            "colorscale": [
             [
              0,
              "#0d0887"
             ],
             [
              0.1111111111111111,
              "#46039f"
             ],
             [
              0.2222222222222222,
              "#7201a8"
             ],
             [
              0.3333333333333333,
              "#9c179e"
             ],
             [
              0.4444444444444444,
              "#bd3786"
             ],
             [
              0.5555555555555556,
              "#d8576b"
             ],
             [
              0.6666666666666666,
              "#ed7953"
             ],
             [
              0.7777777777777778,
              "#fb9f3a"
             ],
             [
              0.8888888888888888,
              "#fdca26"
             ],
             [
              1,
              "#f0f921"
             ]
            ],
            "type": "histogram2d"
           }
          ],
          "histogram2dcontour": [
           {
            "colorbar": {
             "outlinewidth": 0,
             "ticks": ""
            },
            "colorscale": [
             [
              0,
              "#0d0887"
             ],
             [
              0.1111111111111111,
              "#46039f"
             ],
             [
              0.2222222222222222,
              "#7201a8"
             ],
             [
              0.3333333333333333,
              "#9c179e"
             ],
             [
              0.4444444444444444,
              "#bd3786"
             ],
             [
              0.5555555555555556,
              "#d8576b"
             ],
             [
              0.6666666666666666,
              "#ed7953"
             ],
             [
              0.7777777777777778,
              "#fb9f3a"
             ],
             [
              0.8888888888888888,
              "#fdca26"
             ],
             [
              1,
              "#f0f921"
             ]
            ],
            "type": "histogram2dcontour"
           }
          ],
          "mesh3d": [
           {
            "colorbar": {
             "outlinewidth": 0,
             "ticks": ""
            },
            "type": "mesh3d"
           }
          ],
          "parcoords": [
           {
            "line": {
             "colorbar": {
              "outlinewidth": 0,
              "ticks": ""
             }
            },
            "type": "parcoords"
           }
          ],
          "pie": [
           {
            "automargin": true,
            "type": "pie"
           }
          ],
          "scatter": [
           {
            "fillpattern": {
             "fillmode": "overlay",
             "size": 10,
             "solidity": 0.2
            },
            "type": "scatter"
           }
          ],
          "scatter3d": [
           {
            "line": {
             "colorbar": {
              "outlinewidth": 0,
              "ticks": ""
             }
            },
            "marker": {
             "colorbar": {
              "outlinewidth": 0,
              "ticks": ""
             }
            },
            "type": "scatter3d"
           }
          ],
          "scattercarpet": [
           {
            "marker": {
             "colorbar": {
              "outlinewidth": 0,
              "ticks": ""
             }
            },
            "type": "scattercarpet"
           }
          ],
          "scattergeo": [
           {
            "marker": {
             "colorbar": {
              "outlinewidth": 0,
              "ticks": ""
             }
            },
            "type": "scattergeo"
           }
          ],
          "scattergl": [
           {
            "marker": {
             "colorbar": {
              "outlinewidth": 0,
              "ticks": ""
             }
            },
            "type": "scattergl"
           }
          ],
          "scattermap": [
           {
            "marker": {
             "colorbar": {
              "outlinewidth": 0,
              "ticks": ""
             }
            },
            "type": "scattermap"
           }
          ],
          "scattermapbox": [
           {
            "marker": {
             "colorbar": {
              "outlinewidth": 0,
              "ticks": ""
             }
            },
            "type": "scattermapbox"
           }
          ],
          "scatterpolar": [
           {
            "marker": {
             "colorbar": {
              "outlinewidth": 0,
              "ticks": ""
             }
            },
            "type": "scatterpolar"
           }
          ],
          "scatterpolargl": [
           {
            "marker": {
             "colorbar": {
              "outlinewidth": 0,
              "ticks": ""
             }
            },
            "type": "scatterpolargl"
           }
          ],
          "scatterternary": [
           {
            "marker": {
             "colorbar": {
              "outlinewidth": 0,
              "ticks": ""
             }
            },
            "type": "scatterternary"
           }
          ],
          "surface": [
           {
            "colorbar": {
             "outlinewidth": 0,
             "ticks": ""
            },
            "colorscale": [
             [
              0,
              "#0d0887"
             ],
             [
              0.1111111111111111,
              "#46039f"
             ],
             [
              0.2222222222222222,
              "#7201a8"
             ],
             [
              0.3333333333333333,
              "#9c179e"
             ],
             [
              0.4444444444444444,
              "#bd3786"
             ],
             [
              0.5555555555555556,
              "#d8576b"
             ],
             [
              0.6666666666666666,
              "#ed7953"
             ],
             [
              0.7777777777777778,
              "#fb9f3a"
             ],
             [
              0.8888888888888888,
              "#fdca26"
             ],
             [
              1,
              "#f0f921"
             ]
            ],
            "type": "surface"
           }
          ],
          "table": [
           {
            "cells": {
             "fill": {
              "color": "#EBF0F8"
             },
             "line": {
              "color": "white"
             }
            },
            "header": {
             "fill": {
              "color": "#C8D4E3"
             },
             "line": {
              "color": "white"
             }
            },
            "type": "table"
           }
          ]
         },
         "layout": {
          "annotationdefaults": {
           "arrowcolor": "#2a3f5f",
           "arrowhead": 0,
           "arrowwidth": 1
          },
          "autotypenumbers": "strict",
          "coloraxis": {
           "colorbar": {
            "outlinewidth": 0,
            "ticks": ""
           }
          },
          "colorscale": {
           "diverging": [
            [
             0,
             "#8e0152"
            ],
            [
             0.1,
             "#c51b7d"
            ],
            [
             0.2,
             "#de77ae"
            ],
            [
             0.3,
             "#f1b6da"
            ],
            [
             0.4,
             "#fde0ef"
            ],
            [
             0.5,
             "#f7f7f7"
            ],
            [
             0.6,
             "#e6f5d0"
            ],
            [
             0.7,
             "#b8e186"
            ],
            [
             0.8,
             "#7fbc41"
            ],
            [
             0.9,
             "#4d9221"
            ],
            [
             1,
             "#276419"
            ]
           ],
           "sequential": [
            [
             0,
             "#0d0887"
            ],
            [
             0.1111111111111111,
             "#46039f"
            ],
            [
             0.2222222222222222,
             "#7201a8"
            ],
            [
             0.3333333333333333,
             "#9c179e"
            ],
            [
             0.4444444444444444,
             "#bd3786"
            ],
            [
             0.5555555555555556,
             "#d8576b"
            ],
            [
             0.6666666666666666,
             "#ed7953"
            ],
            [
             0.7777777777777778,
             "#fb9f3a"
            ],
            [
             0.8888888888888888,
             "#fdca26"
            ],
            [
             1,
             "#f0f921"
            ]
           ],
           "sequentialminus": [
            [
             0,
             "#0d0887"
            ],
            [
             0.1111111111111111,
             "#46039f"
            ],
            [
             0.2222222222222222,
             "#7201a8"
            ],
            [
             0.3333333333333333,
             "#9c179e"
            ],
            [
             0.4444444444444444,
             "#bd3786"
            ],
            [
             0.5555555555555556,
             "#d8576b"
            ],
            [
             0.6666666666666666,
             "#ed7953"
            ],
            [
             0.7777777777777778,
             "#fb9f3a"
            ],
            [
             0.8888888888888888,
             "#fdca26"
            ],
            [
             1,
             "#f0f921"
            ]
           ]
          },
          "colorway": [
           "#636efa",
           "#EF553B",
           "#00cc96",
           "#ab63fa",
           "#FFA15A",
           "#19d3f3",
           "#FF6692",
           "#B6E880",
           "#FF97FF",
           "#FECB52"
          ],
          "font": {
           "color": "#2a3f5f"
          },
          "geo": {
           "bgcolor": "white",
           "lakecolor": "white",
           "landcolor": "#E5ECF6",
           "showlakes": true,
           "showland": true,
           "subunitcolor": "white"
          },
          "hoverlabel": {
           "align": "left"
          },
          "hovermode": "closest",
          "mapbox": {
           "style": "light"
          },
          "paper_bgcolor": "white",
          "plot_bgcolor": "#E5ECF6",
          "polar": {
           "angularaxis": {
            "gridcolor": "white",
            "linecolor": "white",
            "ticks": ""
           },
           "bgcolor": "#E5ECF6",
           "radialaxis": {
            "gridcolor": "white",
            "linecolor": "white",
            "ticks": ""
           }
          },
          "scene": {
           "xaxis": {
            "backgroundcolor": "#E5ECF6",
            "gridcolor": "white",
            "gridwidth": 2,
            "linecolor": "white",
            "showbackground": true,
            "ticks": "",
            "zerolinecolor": "white"
           },
           "yaxis": {
            "backgroundcolor": "#E5ECF6",
            "gridcolor": "white",
            "gridwidth": 2,
            "linecolor": "white",
            "showbackground": true,
            "ticks": "",
            "zerolinecolor": "white"
           },
           "zaxis": {
            "backgroundcolor": "#E5ECF6",
            "gridcolor": "white",
            "gridwidth": 2,
            "linecolor": "white",
            "showbackground": true,
            "ticks": "",
            "zerolinecolor": "white"
           }
          },
          "shapedefaults": {
           "line": {
            "color": "#2a3f5f"
           }
          },
          "ternary": {
           "aaxis": {
            "gridcolor": "white",
            "linecolor": "white",
            "ticks": ""
           },
           "baxis": {
            "gridcolor": "white",
            "linecolor": "white",
            "ticks": ""
           },
           "bgcolor": "#E5ECF6",
           "caxis": {
            "gridcolor": "white",
            "linecolor": "white",
            "ticks": ""
           }
          },
          "title": {
           "x": 0.05
          },
          "xaxis": {
           "automargin": true,
           "gridcolor": "white",
           "linecolor": "white",
           "ticks": "",
           "title": {
            "standoff": 15
           },
           "zerolinecolor": "white",
           "zerolinewidth": 2
          },
          "yaxis": {
           "automargin": true,
           "gridcolor": "white",
           "linecolor": "white",
           "ticks": "",
           "title": {
            "standoff": 15
           },
           "zerolinecolor": "white",
           "zerolinewidth": 2
          }
         }
        },
        "title": {
         "text": "Avg Home Goals Over Time (With Season Gaps)"
        },
        "xaxis": {
         "anchor": "y",
         "domain": [
          0,
          1
         ],
         "title": {
          "text": "Date"
         }
        },
        "yaxis": {
         "anchor": "x",
         "domain": [
          0,
          1
         ],
         "title": {
          "text": "Avg Home Goals"
         }
        }
       }
      }
     },
     "metadata": {},
     "output_type": "display_data"
    }
   ],
   "source": [
    "# Group by date to show average goals scored by home teams per matchday\n",
    "daily_goals = df.groupby('Date')['FTHG'].mean().reset_index()\n",
    "\n",
    "\n",
    "# Calculate time gaps between rows\n",
    "daily_goals['PrevDate'] = daily_goals['Date'].shift(1)\n",
    "daily_goals['Gap'] = (daily_goals['Date'] - daily_goals['PrevDate']).dt.days\n",
    "\n",
    "# Insert NaN for big gaps\n",
    "daily_goals['FTHG_clean'] = np.where(daily_goals['Gap'] > 30, np.nan, daily_goals['FTHG'])\n",
    "\n",
    "# Plot the cleaned series\n",
    "fig = px.line(\n",
    "    daily_goals,\n",
    "    x='Date',\n",
    "    y='FTHG_clean',\n",
    "    title='Avg Home Goals Over Time (With Season Gaps)',\n",
    "    labels={'FTHG_clean': 'Avg Home Goals'}\n",
    ")\n",
    "fig.show()\n"
   ]
  },
  {
   "cell_type": "code",
   "execution_count": 40,
   "id": "02c5cd9f",
   "metadata": {},
   "outputs": [
    {
     "data": {
      "application/vnd.plotly.v1+json": {
       "config": {
        "plotlyServerURL": "https://plot.ly"
       },
       "data": [
        {
         "name": "Home Teams",
         "type": "bar",
         "visible": true,
         "x": [
          "Club Brugge",
          "Gent",
          "Genk",
          "St. Gilloise",
          "Antwerp",
          "Westerlo",
          "Anderlecht",
          "Mechelen",
          "Dender",
          "Waregem"
         ],
         "y": {
          "bdata": "mMMc5jCHAUCKUIQiFKEAQIELXOACFwBABPcR3Edw/z/poosuuuj+PwAAAAAAAP4/dNFFF110/T/Sj370ox/9P6uqqqqqqvo/qZVaqZVa+T8=",
          "dtype": "f8"
         }
        },
        {
         "name": "Away Teams",
         "type": "bar",
         "visible": false,
         "x": [
          "Dender",
          "St. Gilloise",
          "Club Brugge",
          "Genk",
          "Gent",
          "Anderlecht",
          "Charleroi",
          "Antwerp",
          "Westerlo",
          "Oud-Heverlee Leuven"
         ],
         "y": {
          "bdata": "q6qqqqqqAkA2lNdQXkMBQEYXXXTRRf0/XXTRRRdd+j/poosuuuj4PwAAAAAAAPg/WO5phOWe9j9c4AIXuMD1P+ZbvuVbvvU/fdYNpshn9T8=",
          "dtype": "f8"
         }
        }
       ],
       "layout": {
        "height": 500,
        "template": {
         "data": {
          "bar": [
           {
            "error_x": {
             "color": "#2a3f5f"
            },
            "error_y": {
             "color": "#2a3f5f"
            },
            "marker": {
             "line": {
              "color": "#E5ECF6",
              "width": 0.5
             },
             "pattern": {
              "fillmode": "overlay",
              "size": 10,
              "solidity": 0.2
             }
            },
            "type": "bar"
           }
          ],
          "barpolar": [
           {
            "marker": {
             "line": {
              "color": "#E5ECF6",
              "width": 0.5
             },
             "pattern": {
              "fillmode": "overlay",
              "size": 10,
              "solidity": 0.2
             }
            },
            "type": "barpolar"
           }
          ],
          "carpet": [
           {
            "aaxis": {
             "endlinecolor": "#2a3f5f",
             "gridcolor": "white",
             "linecolor": "white",
             "minorgridcolor": "white",
             "startlinecolor": "#2a3f5f"
            },
            "baxis": {
             "endlinecolor": "#2a3f5f",
             "gridcolor": "white",
             "linecolor": "white",
             "minorgridcolor": "white",
             "startlinecolor": "#2a3f5f"
            },
            "type": "carpet"
           }
          ],
          "choropleth": [
           {
            "colorbar": {
             "outlinewidth": 0,
             "ticks": ""
            },
            "type": "choropleth"
           }
          ],
          "contour": [
           {
            "colorbar": {
             "outlinewidth": 0,
             "ticks": ""
            },
            "colorscale": [
             [
              0,
              "#0d0887"
             ],
             [
              0.1111111111111111,
              "#46039f"
             ],
             [
              0.2222222222222222,
              "#7201a8"
             ],
             [
              0.3333333333333333,
              "#9c179e"
             ],
             [
              0.4444444444444444,
              "#bd3786"
             ],
             [
              0.5555555555555556,
              "#d8576b"
             ],
             [
              0.6666666666666666,
              "#ed7953"
             ],
             [
              0.7777777777777778,
              "#fb9f3a"
             ],
             [
              0.8888888888888888,
              "#fdca26"
             ],
             [
              1,
              "#f0f921"
             ]
            ],
            "type": "contour"
           }
          ],
          "contourcarpet": [
           {
            "colorbar": {
             "outlinewidth": 0,
             "ticks": ""
            },
            "type": "contourcarpet"
           }
          ],
          "heatmap": [
           {
            "colorbar": {
             "outlinewidth": 0,
             "ticks": ""
            },
            "colorscale": [
             [
              0,
              "#0d0887"
             ],
             [
              0.1111111111111111,
              "#46039f"
             ],
             [
              0.2222222222222222,
              "#7201a8"
             ],
             [
              0.3333333333333333,
              "#9c179e"
             ],
             [
              0.4444444444444444,
              "#bd3786"
             ],
             [
              0.5555555555555556,
              "#d8576b"
             ],
             [
              0.6666666666666666,
              "#ed7953"
             ],
             [
              0.7777777777777778,
              "#fb9f3a"
             ],
             [
              0.8888888888888888,
              "#fdca26"
             ],
             [
              1,
              "#f0f921"
             ]
            ],
            "type": "heatmap"
           }
          ],
          "histogram": [
           {
            "marker": {
             "pattern": {
              "fillmode": "overlay",
              "size": 10,
              "solidity": 0.2
             }
            },
            "type": "histogram"
           }
          ],
          "histogram2d": [
           {
            "colorbar": {
             "outlinewidth": 0,
             "ticks": ""
            },
            "colorscale": [
             [
              0,
              "#0d0887"
             ],
             [
              0.1111111111111111,
              "#46039f"
             ],
             [
              0.2222222222222222,
              "#7201a8"
             ],
             [
              0.3333333333333333,
              "#9c179e"
             ],
             [
              0.4444444444444444,
              "#bd3786"
             ],
             [
              0.5555555555555556,
              "#d8576b"
             ],
             [
              0.6666666666666666,
              "#ed7953"
             ],
             [
              0.7777777777777778,
              "#fb9f3a"
             ],
             [
              0.8888888888888888,
              "#fdca26"
             ],
             [
              1,
              "#f0f921"
             ]
            ],
            "type": "histogram2d"
           }
          ],
          "histogram2dcontour": [
           {
            "colorbar": {
             "outlinewidth": 0,
             "ticks": ""
            },
            "colorscale": [
             [
              0,
              "#0d0887"
             ],
             [
              0.1111111111111111,
              "#46039f"
             ],
             [
              0.2222222222222222,
              "#7201a8"
             ],
             [
              0.3333333333333333,
              "#9c179e"
             ],
             [
              0.4444444444444444,
              "#bd3786"
             ],
             [
              0.5555555555555556,
              "#d8576b"
             ],
             [
              0.6666666666666666,
              "#ed7953"
             ],
             [
              0.7777777777777778,
              "#fb9f3a"
             ],
             [
              0.8888888888888888,
              "#fdca26"
             ],
             [
              1,
              "#f0f921"
             ]
            ],
            "type": "histogram2dcontour"
           }
          ],
          "mesh3d": [
           {
            "colorbar": {
             "outlinewidth": 0,
             "ticks": ""
            },
            "type": "mesh3d"
           }
          ],
          "parcoords": [
           {
            "line": {
             "colorbar": {
              "outlinewidth": 0,
              "ticks": ""
             }
            },
            "type": "parcoords"
           }
          ],
          "pie": [
           {
            "automargin": true,
            "type": "pie"
           }
          ],
          "scatter": [
           {
            "fillpattern": {
             "fillmode": "overlay",
             "size": 10,
             "solidity": 0.2
            },
            "type": "scatter"
           }
          ],
          "scatter3d": [
           {
            "line": {
             "colorbar": {
              "outlinewidth": 0,
              "ticks": ""
             }
            },
            "marker": {
             "colorbar": {
              "outlinewidth": 0,
              "ticks": ""
             }
            },
            "type": "scatter3d"
           }
          ],
          "scattercarpet": [
           {
            "marker": {
             "colorbar": {
              "outlinewidth": 0,
              "ticks": ""
             }
            },
            "type": "scattercarpet"
           }
          ],
          "scattergeo": [
           {
            "marker": {
             "colorbar": {
              "outlinewidth": 0,
              "ticks": ""
             }
            },
            "type": "scattergeo"
           }
          ],
          "scattergl": [
           {
            "marker": {
             "colorbar": {
              "outlinewidth": 0,
              "ticks": ""
             }
            },
            "type": "scattergl"
           }
          ],
          "scattermap": [
           {
            "marker": {
             "colorbar": {
              "outlinewidth": 0,
              "ticks": ""
             }
            },
            "type": "scattermap"
           }
          ],
          "scattermapbox": [
           {
            "marker": {
             "colorbar": {
              "outlinewidth": 0,
              "ticks": ""
             }
            },
            "type": "scattermapbox"
           }
          ],
          "scatterpolar": [
           {
            "marker": {
             "colorbar": {
              "outlinewidth": 0,
              "ticks": ""
             }
            },
            "type": "scatterpolar"
           }
          ],
          "scatterpolargl": [
           {
            "marker": {
             "colorbar": {
              "outlinewidth": 0,
              "ticks": ""
             }
            },
            "type": "scatterpolargl"
           }
          ],
          "scatterternary": [
           {
            "marker": {
             "colorbar": {
              "outlinewidth": 0,
              "ticks": ""
             }
            },
            "type": "scatterternary"
           }
          ],
          "surface": [
           {
            "colorbar": {
             "outlinewidth": 0,
             "ticks": ""
            },
            "colorscale": [
             [
              0,
              "#0d0887"
             ],
             [
              0.1111111111111111,
              "#46039f"
             ],
             [
              0.2222222222222222,
              "#7201a8"
             ],
             [
              0.3333333333333333,
              "#9c179e"
             ],
             [
              0.4444444444444444,
              "#bd3786"
             ],
             [
              0.5555555555555556,
              "#d8576b"
             ],
             [
              0.6666666666666666,
              "#ed7953"
             ],
             [
              0.7777777777777778,
              "#fb9f3a"
             ],
             [
              0.8888888888888888,
              "#fdca26"
             ],
             [
              1,
              "#f0f921"
             ]
            ],
            "type": "surface"
           }
          ],
          "table": [
           {
            "cells": {
             "fill": {
              "color": "#EBF0F8"
             },
             "line": {
              "color": "white"
             }
            },
            "header": {
             "fill": {
              "color": "#C8D4E3"
             },
             "line": {
              "color": "white"
             }
            },
            "type": "table"
           }
          ]
         },
         "layout": {
          "annotationdefaults": {
           "arrowcolor": "#2a3f5f",
           "arrowhead": 0,
           "arrowwidth": 1
          },
          "autotypenumbers": "strict",
          "coloraxis": {
           "colorbar": {
            "outlinewidth": 0,
            "ticks": ""
           }
          },
          "colorscale": {
           "diverging": [
            [
             0,
             "#8e0152"
            ],
            [
             0.1,
             "#c51b7d"
            ],
            [
             0.2,
             "#de77ae"
            ],
            [
             0.3,
             "#f1b6da"
            ],
            [
             0.4,
             "#fde0ef"
            ],
            [
             0.5,
             "#f7f7f7"
            ],
            [
             0.6,
             "#e6f5d0"
            ],
            [
             0.7,
             "#b8e186"
            ],
            [
             0.8,
             "#7fbc41"
            ],
            [
             0.9,
             "#4d9221"
            ],
            [
             1,
             "#276419"
            ]
           ],
           "sequential": [
            [
             0,
             "#0d0887"
            ],
            [
             0.1111111111111111,
             "#46039f"
            ],
            [
             0.2222222222222222,
             "#7201a8"
            ],
            [
             0.3333333333333333,
             "#9c179e"
            ],
            [
             0.4444444444444444,
             "#bd3786"
            ],
            [
             0.5555555555555556,
             "#d8576b"
            ],
            [
             0.6666666666666666,
             "#ed7953"
            ],
            [
             0.7777777777777778,
             "#fb9f3a"
            ],
            [
             0.8888888888888888,
             "#fdca26"
            ],
            [
             1,
             "#f0f921"
            ]
           ],
           "sequentialminus": [
            [
             0,
             "#0d0887"
            ],
            [
             0.1111111111111111,
             "#46039f"
            ],
            [
             0.2222222222222222,
             "#7201a8"
            ],
            [
             0.3333333333333333,
             "#9c179e"
            ],
            [
             0.4444444444444444,
             "#bd3786"
            ],
            [
             0.5555555555555556,
             "#d8576b"
            ],
            [
             0.6666666666666666,
             "#ed7953"
            ],
            [
             0.7777777777777778,
             "#fb9f3a"
            ],
            [
             0.8888888888888888,
             "#fdca26"
            ],
            [
             1,
             "#f0f921"
            ]
           ]
          },
          "colorway": [
           "#636efa",
           "#EF553B",
           "#00cc96",
           "#ab63fa",
           "#FFA15A",
           "#19d3f3",
           "#FF6692",
           "#B6E880",
           "#FF97FF",
           "#FECB52"
          ],
          "font": {
           "color": "#2a3f5f"
          },
          "geo": {
           "bgcolor": "white",
           "lakecolor": "white",
           "landcolor": "#E5ECF6",
           "showlakes": true,
           "showland": true,
           "subunitcolor": "white"
          },
          "hoverlabel": {
           "align": "left"
          },
          "hovermode": "closest",
          "mapbox": {
           "style": "light"
          },
          "paper_bgcolor": "white",
          "plot_bgcolor": "#E5ECF6",
          "polar": {
           "angularaxis": {
            "gridcolor": "white",
            "linecolor": "white",
            "ticks": ""
           },
           "bgcolor": "#E5ECF6",
           "radialaxis": {
            "gridcolor": "white",
            "linecolor": "white",
            "ticks": ""
           }
          },
          "scene": {
           "xaxis": {
            "backgroundcolor": "#E5ECF6",
            "gridcolor": "white",
            "gridwidth": 2,
            "linecolor": "white",
            "showbackground": true,
            "ticks": "",
            "zerolinecolor": "white"
           },
           "yaxis": {
            "backgroundcolor": "#E5ECF6",
            "gridcolor": "white",
            "gridwidth": 2,
            "linecolor": "white",
            "showbackground": true,
            "ticks": "",
            "zerolinecolor": "white"
           },
           "zaxis": {
            "backgroundcolor": "#E5ECF6",
            "gridcolor": "white",
            "gridwidth": 2,
            "linecolor": "white",
            "showbackground": true,
            "ticks": "",
            "zerolinecolor": "white"
           }
          },
          "shapedefaults": {
           "line": {
            "color": "#2a3f5f"
           }
          },
          "ternary": {
           "aaxis": {
            "gridcolor": "white",
            "linecolor": "white",
            "ticks": ""
           },
           "baxis": {
            "gridcolor": "white",
            "linecolor": "white",
            "ticks": ""
           },
           "bgcolor": "#E5ECF6",
           "caxis": {
            "gridcolor": "white",
            "linecolor": "white",
            "ticks": ""
           }
          },
          "title": {
           "x": 0.05
          },
          "xaxis": {
           "automargin": true,
           "gridcolor": "white",
           "linecolor": "white",
           "ticks": "",
           "title": {
            "standoff": 15
           },
           "zerolinecolor": "white",
           "zerolinewidth": 2
          },
          "yaxis": {
           "automargin": true,
           "gridcolor": "white",
           "linecolor": "white",
           "ticks": "",
           "title": {
            "standoff": 15
           },
           "zerolinecolor": "white",
           "zerolinewidth": 2
          }
         }
        },
        "title": {
         "text": "Top 10 Teams by Average Goals"
        },
        "updatemenus": [
         {
          "buttons": [
           {
            "args": [
             {
              "visible": [
               true,
               false
              ]
             },
             {
              "title": "Top 10 Home Teams by Avg Goals",
              "yaxis": {
               "title": "Avg Home Goals"
              }
             }
            ],
            "label": "Top Home Teams",
            "method": "update"
           },
           {
            "args": [
             {
              "visible": [
               false,
               true
              ]
             },
             {
              "title": "Top 10 Away Teams by Avg Goals",
              "yaxis": {
               "title": "Avg Away Goals"
              }
             }
            ],
            "label": "Top Away Teams",
            "method": "update"
           }
          ],
          "direction": "down",
          "showactive": true,
          "type": "dropdown",
          "x": 0.1,
          "xanchor": "left",
          "y": 1.15,
          "yanchor": "top"
         }
        ]
       }
      }
     },
     "metadata": {},
     "output_type": "display_data"
    }
   ],
   "source": [
    "# Compute top 10 home teams\n",
    "home_goals = df.groupby('HomeTeam')['FTHG'].mean().reset_index()\n",
    "top_home = home_goals.sort_values(by='FTHG', ascending=False).head(10)\n",
    "\n",
    "# Compute top 10 away teams\n",
    "away_goals = df.groupby('AwayTeam')['FTAG'].mean().reset_index()\n",
    "top_away = away_goals.sort_values(by='FTAG', ascending=False).head(10)\n",
    "\n",
    "# Create the figure\n",
    "fig = go.Figure()\n",
    "\n",
    "# Add home team bar chart\n",
    "fig.add_trace(go.Bar(\n",
    "    x=top_home['HomeTeam'],\n",
    "    y=top_home['FTHG'],\n",
    "    name='Home Teams',\n",
    "    visible=True\n",
    "))\n",
    "\n",
    "# Add away team bar chart\n",
    "fig.add_trace(go.Bar(\n",
    "    x=top_away['AwayTeam'],\n",
    "    y=top_away['FTAG'],\n",
    "    name='Away Teams',\n",
    "    visible=False\n",
    "))\n",
    "\n",
    "# Add dropdown to toggle visibility\n",
    "fig.update_layout(\n",
    "    title='Top 10 Teams by Average Goals',\n",
    "    updatemenus=[\n",
    "        dict(\n",
    "            type='dropdown',\n",
    "            direction='down',\n",
    "            buttons=[\n",
    "                dict(label='Top Home Teams',\n",
    "                     method='update',\n",
    "                     args=[{'visible': [True, False]},\n",
    "                           {'title': 'Top 10 Home Teams by Avg Goals',\n",
    "                            'yaxis': {'title': 'Avg Home Goals'}}]),\n",
    "                dict(label='Top Away Teams',\n",
    "                     method='update',\n",
    "                     args=[{'visible': [False, True]},\n",
    "                           {'title': 'Top 10 Away Teams by Avg Goals',\n",
    "                            'yaxis': {'title': 'Avg Away Goals'}}]),\n",
    "            ],\n",
    "            showactive=True,\n",
    "            x=0.1,\n",
    "            xanchor=\"left\",\n",
    "            y=1.15,\n",
    "            yanchor=\"top\"\n",
    "        ),\n",
    "    ]\n",
    ")\n",
    "\n",
    "fig.update_layout(height=500)\n",
    "\n",
    "fig.show()\n"
   ]
  },
  {
   "cell_type": "code",
   "execution_count": 41,
   "id": "416a14e4",
   "metadata": {},
   "outputs": [
    {
     "data": {
      "application/vnd.plotly.v1+json": {
       "config": {
        "plotlyServerURL": "https://plot.ly"
       },
       "data": [
        {
         "hovertemplate": "Result=Wins<br>Number of Matches=%{x}<br>Team=%{y}<extra></extra>",
         "legendgroup": "Wins",
         "marker": {
          "color": "#2E8B57",
          "pattern": {
           "shape": ""
          }
         },
         "name": "Wins",
         "orientation": "h",
         "showlegend": true,
         "textposition": "auto",
         "type": "bar",
         "x": {
          "bdata": "DQcNEikQLyYmGTA6PT5GSFJWVwNcako=",
          "dtype": "i1"
         },
         "xaxis": "x",
         "y": [
          "Seraing",
          "RWD Molenbeek",
          "Waasland-Beveren",
          "Beerschot VA",
          "Eupen",
          "Mouscron",
          "Kortrijk",
          "Waregem",
          "Oostende",
          "Westerlo",
          "Oud-Heverlee Leuven",
          "St Truiden",
          "Cercle Brugge",
          "Standard",
          "Charleroi",
          "Mechelen",
          "Anderlecht",
          "Genk",
          "Gent",
          "Dender",
          "Antwerp",
          "Club Brugge",
          "St. Gilloise"
         ],
         "yaxis": "y"
        },
        {
         "hovertemplate": "Result=Draws<br>Number of Matches=%{x}<br>Team=%{y}<extra></extra>",
         "legendgroup": "Draws",
         "marker": {
          "color": "#FFD700",
          "pattern": {
           "shape": ""
          }
         },
         "name": "Draws",
         "orientation": "h",
         "showlegend": true,
         "textposition": "auto",
         "type": "bar",
         "x": {
          "bdata": "CQkMCiYTJRsZFiwuIzMqJTUmKgIlLBc=",
          "dtype": "i1"
         },
         "xaxis": "x",
         "y": [
          "Seraing",
          "RWD Molenbeek",
          "Waasland-Beveren",
          "Beerschot VA",
          "Eupen",
          "Mouscron",
          "Kortrijk",
          "Waregem",
          "Oostende",
          "Westerlo",
          "Oud-Heverlee Leuven",
          "St Truiden",
          "Cercle Brugge",
          "Standard",
          "Charleroi",
          "Mechelen",
          "Anderlecht",
          "Genk",
          "Gent",
          "Dender",
          "Antwerp",
          "Club Brugge",
          "St. Gilloise"
         ],
         "yaxis": "y"
        },
        {
         "hovertemplate": "Result=Losses<br>Number of Matches=%{x}<br>Team=%{y}<extra></extra>",
         "legendgroup": "Losses",
         "marker": {
          "color": "#DC143C",
          "pattern": {
           "shape": ""
          }
         },
         "name": "Losses",
         "orientation": "h",
         "showlegend": true,
         "textposition": "auto",
         "type": "bar",
         "x": {
          "bdata": "LhQmLlgcWUJEIDhJUD89RCk1MAEwGxE=",
          "dtype": "i1"
         },
         "xaxis": "x",
         "y": [
          "Seraing",
          "RWD Molenbeek",
          "Waasland-Beveren",
          "Beerschot VA",
          "Eupen",
          "Mouscron",
          "Kortrijk",
          "Waregem",
          "Oostende",
          "Westerlo",
          "Oud-Heverlee Leuven",
          "St Truiden",
          "Cercle Brugge",
          "Standard",
          "Charleroi",
          "Mechelen",
          "Anderlecht",
          "Genk",
          "Gent",
          "Dender",
          "Antwerp",
          "Club Brugge",
          "St. Gilloise"
         ],
         "yaxis": "y"
        }
       ],
       "layout": {
        "barmode": "relative",
        "height": 600,
        "legend": {
         "title": {
          "text": "Match Result"
         },
         "tracegroupgap": 0
        },
        "template": {
         "data": {
          "bar": [
           {
            "error_x": {
             "color": "#2a3f5f"
            },
            "error_y": {
             "color": "#2a3f5f"
            },
            "marker": {
             "line": {
              "color": "#E5ECF6",
              "width": 0.5
             },
             "pattern": {
              "fillmode": "overlay",
              "size": 10,
              "solidity": 0.2
             }
            },
            "type": "bar"
           }
          ],
          "barpolar": [
           {
            "marker": {
             "line": {
              "color": "#E5ECF6",
              "width": 0.5
             },
             "pattern": {
              "fillmode": "overlay",
              "size": 10,
              "solidity": 0.2
             }
            },
            "type": "barpolar"
           }
          ],
          "carpet": [
           {
            "aaxis": {
             "endlinecolor": "#2a3f5f",
             "gridcolor": "white",
             "linecolor": "white",
             "minorgridcolor": "white",
             "startlinecolor": "#2a3f5f"
            },
            "baxis": {
             "endlinecolor": "#2a3f5f",
             "gridcolor": "white",
             "linecolor": "white",
             "minorgridcolor": "white",
             "startlinecolor": "#2a3f5f"
            },
            "type": "carpet"
           }
          ],
          "choropleth": [
           {
            "colorbar": {
             "outlinewidth": 0,
             "ticks": ""
            },
            "type": "choropleth"
           }
          ],
          "contour": [
           {
            "colorbar": {
             "outlinewidth": 0,
             "ticks": ""
            },
            "colorscale": [
             [
              0,
              "#0d0887"
             ],
             [
              0.1111111111111111,
              "#46039f"
             ],
             [
              0.2222222222222222,
              "#7201a8"
             ],
             [
              0.3333333333333333,
              "#9c179e"
             ],
             [
              0.4444444444444444,
              "#bd3786"
             ],
             [
              0.5555555555555556,
              "#d8576b"
             ],
             [
              0.6666666666666666,
              "#ed7953"
             ],
             [
              0.7777777777777778,
              "#fb9f3a"
             ],
             [
              0.8888888888888888,
              "#fdca26"
             ],
             [
              1,
              "#f0f921"
             ]
            ],
            "type": "contour"
           }
          ],
          "contourcarpet": [
           {
            "colorbar": {
             "outlinewidth": 0,
             "ticks": ""
            },
            "type": "contourcarpet"
           }
          ],
          "heatmap": [
           {
            "colorbar": {
             "outlinewidth": 0,
             "ticks": ""
            },
            "colorscale": [
             [
              0,
              "#0d0887"
             ],
             [
              0.1111111111111111,
              "#46039f"
             ],
             [
              0.2222222222222222,
              "#7201a8"
             ],
             [
              0.3333333333333333,
              "#9c179e"
             ],
             [
              0.4444444444444444,
              "#bd3786"
             ],
             [
              0.5555555555555556,
              "#d8576b"
             ],
             [
              0.6666666666666666,
              "#ed7953"
             ],
             [
              0.7777777777777778,
              "#fb9f3a"
             ],
             [
              0.8888888888888888,
              "#fdca26"
             ],
             [
              1,
              "#f0f921"
             ]
            ],
            "type": "heatmap"
           }
          ],
          "histogram": [
           {
            "marker": {
             "pattern": {
              "fillmode": "overlay",
              "size": 10,
              "solidity": 0.2
             }
            },
            "type": "histogram"
           }
          ],
          "histogram2d": [
           {
            "colorbar": {
             "outlinewidth": 0,
             "ticks": ""
            },
            "colorscale": [
             [
              0,
              "#0d0887"
             ],
             [
              0.1111111111111111,
              "#46039f"
             ],
             [
              0.2222222222222222,
              "#7201a8"
             ],
             [
              0.3333333333333333,
              "#9c179e"
             ],
             [
              0.4444444444444444,
              "#bd3786"
             ],
             [
              0.5555555555555556,
              "#d8576b"
             ],
             [
              0.6666666666666666,
              "#ed7953"
             ],
             [
              0.7777777777777778,
              "#fb9f3a"
             ],
             [
              0.8888888888888888,
              "#fdca26"
             ],
             [
              1,
              "#f0f921"
             ]
            ],
            "type": "histogram2d"
           }
          ],
          "histogram2dcontour": [
           {
            "colorbar": {
             "outlinewidth": 0,
             "ticks": ""
            },
            "colorscale": [
             [
              0,
              "#0d0887"
             ],
             [
              0.1111111111111111,
              "#46039f"
             ],
             [
              0.2222222222222222,
              "#7201a8"
             ],
             [
              0.3333333333333333,
              "#9c179e"
             ],
             [
              0.4444444444444444,
              "#bd3786"
             ],
             [
              0.5555555555555556,
              "#d8576b"
             ],
             [
              0.6666666666666666,
              "#ed7953"
             ],
             [
              0.7777777777777778,
              "#fb9f3a"
             ],
             [
              0.8888888888888888,
              "#fdca26"
             ],
             [
              1,
              "#f0f921"
             ]
            ],
            "type": "histogram2dcontour"
           }
          ],
          "mesh3d": [
           {
            "colorbar": {
             "outlinewidth": 0,
             "ticks": ""
            },
            "type": "mesh3d"
           }
          ],
          "parcoords": [
           {
            "line": {
             "colorbar": {
              "outlinewidth": 0,
              "ticks": ""
             }
            },
            "type": "parcoords"
           }
          ],
          "pie": [
           {
            "automargin": true,
            "type": "pie"
           }
          ],
          "scatter": [
           {
            "fillpattern": {
             "fillmode": "overlay",
             "size": 10,
             "solidity": 0.2
            },
            "type": "scatter"
           }
          ],
          "scatter3d": [
           {
            "line": {
             "colorbar": {
              "outlinewidth": 0,
              "ticks": ""
             }
            },
            "marker": {
             "colorbar": {
              "outlinewidth": 0,
              "ticks": ""
             }
            },
            "type": "scatter3d"
           }
          ],
          "scattercarpet": [
           {
            "marker": {
             "colorbar": {
              "outlinewidth": 0,
              "ticks": ""
             }
            },
            "type": "scattercarpet"
           }
          ],
          "scattergeo": [
           {
            "marker": {
             "colorbar": {
              "outlinewidth": 0,
              "ticks": ""
             }
            },
            "type": "scattergeo"
           }
          ],
          "scattergl": [
           {
            "marker": {
             "colorbar": {
              "outlinewidth": 0,
              "ticks": ""
             }
            },
            "type": "scattergl"
           }
          ],
          "scattermap": [
           {
            "marker": {
             "colorbar": {
              "outlinewidth": 0,
              "ticks": ""
             }
            },
            "type": "scattermap"
           }
          ],
          "scattermapbox": [
           {
            "marker": {
             "colorbar": {
              "outlinewidth": 0,
              "ticks": ""
             }
            },
            "type": "scattermapbox"
           }
          ],
          "scatterpolar": [
           {
            "marker": {
             "colorbar": {
              "outlinewidth": 0,
              "ticks": ""
             }
            },
            "type": "scatterpolar"
           }
          ],
          "scatterpolargl": [
           {
            "marker": {
             "colorbar": {
              "outlinewidth": 0,
              "ticks": ""
             }
            },
            "type": "scatterpolargl"
           }
          ],
          "scatterternary": [
           {
            "marker": {
             "colorbar": {
              "outlinewidth": 0,
              "ticks": ""
             }
            },
            "type": "scatterternary"
           }
          ],
          "surface": [
           {
            "colorbar": {
             "outlinewidth": 0,
             "ticks": ""
            },
            "colorscale": [
             [
              0,
              "#0d0887"
             ],
             [
              0.1111111111111111,
              "#46039f"
             ],
             [
              0.2222222222222222,
              "#7201a8"
             ],
             [
              0.3333333333333333,
              "#9c179e"
             ],
             [
              0.4444444444444444,
              "#bd3786"
             ],
             [
              0.5555555555555556,
              "#d8576b"
             ],
             [
              0.6666666666666666,
              "#ed7953"
             ],
             [
              0.7777777777777778,
              "#fb9f3a"
             ],
             [
              0.8888888888888888,
              "#fdca26"
             ],
             [
              1,
              "#f0f921"
             ]
            ],
            "type": "surface"
           }
          ],
          "table": [
           {
            "cells": {
             "fill": {
              "color": "#EBF0F8"
             },
             "line": {
              "color": "white"
             }
            },
            "header": {
             "fill": {
              "color": "#C8D4E3"
             },
             "line": {
              "color": "white"
             }
            },
            "type": "table"
           }
          ]
         },
         "layout": {
          "annotationdefaults": {
           "arrowcolor": "#2a3f5f",
           "arrowhead": 0,
           "arrowwidth": 1
          },
          "autotypenumbers": "strict",
          "coloraxis": {
           "colorbar": {
            "outlinewidth": 0,
            "ticks": ""
           }
          },
          "colorscale": {
           "diverging": [
            [
             0,
             "#8e0152"
            ],
            [
             0.1,
             "#c51b7d"
            ],
            [
             0.2,
             "#de77ae"
            ],
            [
             0.3,
             "#f1b6da"
            ],
            [
             0.4,
             "#fde0ef"
            ],
            [
             0.5,
             "#f7f7f7"
            ],
            [
             0.6,
             "#e6f5d0"
            ],
            [
             0.7,
             "#b8e186"
            ],
            [
             0.8,
             "#7fbc41"
            ],
            [
             0.9,
             "#4d9221"
            ],
            [
             1,
             "#276419"
            ]
           ],
           "sequential": [
            [
             0,
             "#0d0887"
            ],
            [
             0.1111111111111111,
             "#46039f"
            ],
            [
             0.2222222222222222,
             "#7201a8"
            ],
            [
             0.3333333333333333,
             "#9c179e"
            ],
            [
             0.4444444444444444,
             "#bd3786"
            ],
            [
             0.5555555555555556,
             "#d8576b"
            ],
            [
             0.6666666666666666,
             "#ed7953"
            ],
            [
             0.7777777777777778,
             "#fb9f3a"
            ],
            [
             0.8888888888888888,
             "#fdca26"
            ],
            [
             1,
             "#f0f921"
            ]
           ],
           "sequentialminus": [
            [
             0,
             "#0d0887"
            ],
            [
             0.1111111111111111,
             "#46039f"
            ],
            [
             0.2222222222222222,
             "#7201a8"
            ],
            [
             0.3333333333333333,
             "#9c179e"
            ],
            [
             0.4444444444444444,
             "#bd3786"
            ],
            [
             0.5555555555555556,
             "#d8576b"
            ],
            [
             0.6666666666666666,
             "#ed7953"
            ],
            [
             0.7777777777777778,
             "#fb9f3a"
            ],
            [
             0.8888888888888888,
             "#fdca26"
            ],
            [
             1,
             "#f0f921"
            ]
           ]
          },
          "colorway": [
           "#636efa",
           "#EF553B",
           "#00cc96",
           "#ab63fa",
           "#FFA15A",
           "#19d3f3",
           "#FF6692",
           "#B6E880",
           "#FF97FF",
           "#FECB52"
          ],
          "font": {
           "color": "#2a3f5f"
          },
          "geo": {
           "bgcolor": "white",
           "lakecolor": "white",
           "landcolor": "#E5ECF6",
           "showlakes": true,
           "showland": true,
           "subunitcolor": "white"
          },
          "hoverlabel": {
           "align": "left"
          },
          "hovermode": "closest",
          "mapbox": {
           "style": "light"
          },
          "paper_bgcolor": "white",
          "plot_bgcolor": "#E5ECF6",
          "polar": {
           "angularaxis": {
            "gridcolor": "white",
            "linecolor": "white",
            "ticks": ""
           },
           "bgcolor": "#E5ECF6",
           "radialaxis": {
            "gridcolor": "white",
            "linecolor": "white",
            "ticks": ""
           }
          },
          "scene": {
           "xaxis": {
            "backgroundcolor": "#E5ECF6",
            "gridcolor": "white",
            "gridwidth": 2,
            "linecolor": "white",
            "showbackground": true,
            "ticks": "",
            "zerolinecolor": "white"
           },
           "yaxis": {
            "backgroundcolor": "#E5ECF6",
            "gridcolor": "white",
            "gridwidth": 2,
            "linecolor": "white",
            "showbackground": true,
            "ticks": "",
            "zerolinecolor": "white"
           },
           "zaxis": {
            "backgroundcolor": "#E5ECF6",
            "gridcolor": "white",
            "gridwidth": 2,
            "linecolor": "white",
            "showbackground": true,
            "ticks": "",
            "zerolinecolor": "white"
           }
          },
          "shapedefaults": {
           "line": {
            "color": "#2a3f5f"
           }
          },
          "ternary": {
           "aaxis": {
            "gridcolor": "white",
            "linecolor": "white",
            "ticks": ""
           },
           "baxis": {
            "gridcolor": "white",
            "linecolor": "white",
            "ticks": ""
           },
           "bgcolor": "#E5ECF6",
           "caxis": {
            "gridcolor": "white",
            "linecolor": "white",
            "ticks": ""
           }
          },
          "title": {
           "x": 0.05
          },
          "xaxis": {
           "automargin": true,
           "gridcolor": "white",
           "linecolor": "white",
           "ticks": "",
           "title": {
            "standoff": 15
           },
           "zerolinecolor": "white",
           "zerolinewidth": 2
          },
          "yaxis": {
           "automargin": true,
           "gridcolor": "white",
           "linecolor": "white",
           "ticks": "",
           "title": {
            "standoff": 15
           },
           "zerolinecolor": "white",
           "zerolinewidth": 2
          }
         }
        },
        "title": {
         "text": "Win/Draw/Loss Record by Team"
        },
        "xaxis": {
         "anchor": "y",
         "domain": [
          0,
          1
         ],
         "title": {
          "text": "Number of Matches"
         }
        },
        "yaxis": {
         "anchor": "x",
         "domain": [
          0,
          1
         ],
         "title": {
          "text": "Teams"
         }
        }
       }
      }
     },
     "metadata": {},
     "output_type": "display_data"
    }
   ],
   "source": [
    "# Calculate win/loss/draw statistics for all teams\n",
    "team_stats = []\n",
    "\n",
    "# Get all unique teams\n",
    "all_teams = set(df['HomeTeam'].unique()) | set(df['AwayTeam'].unique())\n",
    "\n",
    "for team in all_teams:\n",
    "    # Home matches\n",
    "    home_matches = df[df['HomeTeam'] == team]\n",
    "    home_wins = len(home_matches[home_matches['FTR'] == 'H'])\n",
    "    home_draws = len(home_matches[home_matches['FTR'] == 'D'])\n",
    "    home_losses = len(home_matches[home_matches['FTR'] == 'A'])\n",
    "    \n",
    "    # Away matches\n",
    "    away_matches = df[df['AwayTeam'] == team]\n",
    "    away_wins = len(away_matches[away_matches['FTR'] == 'A'])\n",
    "    away_draws = len(away_matches[away_matches['FTR'] == 'D'])\n",
    "    away_losses = len(away_matches[away_matches['FTR'] == 'H'])\n",
    "    \n",
    "    # Total stats\n",
    "    total_wins = home_wins + away_wins\n",
    "    total_draws = home_draws + away_draws\n",
    "    total_losses = home_losses + away_losses\n",
    "    total_matches = total_wins + total_draws + total_losses\n",
    "    \n",
    "    team_stats.append({\n",
    "        'Team': team,\n",
    "        'Wins': total_wins,\n",
    "        'Draws': total_draws,\n",
    "        'Losses': total_losses,\n",
    "        'Total': total_matches,\n",
    "        'Win_Pct': total_wins / total_matches * 100 if total_matches > 0 else 0\n",
    "    })\n",
    "\n",
    "# Convert to DataFrame and sort by win percentage\n",
    "stats_df = pd.DataFrame(team_stats)\n",
    "stats_df = stats_df.sort_values('Win_Pct', ascending=True)\n",
    "\n",
    "# Create stacked horizontal bar chart\n",
    "fig_wld = px.bar(\n",
    "    stats_df,\n",
    "    x=['Wins', 'Draws', 'Losses'],\n",
    "    y='Team',\n",
    "    orientation='h',\n",
    "    title='Win/Draw/Loss Record by Team',\n",
    "    color_discrete_map={\n",
    "        'Wins': '#2E8B57',     # Sea Green\n",
    "        'Draws': '#FFD700',    # Gold\n",
    "        'Losses': '#DC143C'    # Crimson\n",
    "    },\n",
    "    labels={'value': 'Number of Matches', 'variable': 'Result'}\n",
    ")\n",
    "\n",
    "fig_wld.update_layout(\n",
    "    height=600,\n",
    "    xaxis_title='Number of Matches',\n",
    "    yaxis_title='Teams',\n",
    "    legend_title='Match Result'\n",
    ")\n",
    "\n",
    "fig_wld.show()"
   ]
  },
  {
   "cell_type": "code",
   "execution_count": 42,
   "id": "f286c8c0",
   "metadata": {},
   "outputs": [
    {
     "ename": "NameError",
     "evalue": "name 'awayMatches' is not defined",
     "output_type": "error",
     "traceback": [
      "\u001b[31m---------------------------------------------------------------------------\u001b[39m",
      "\u001b[31mNameError\u001b[39m                                 Traceback (most recent call last)",
      "\u001b[36mCell\u001b[39m\u001b[36m \u001b[39m\u001b[32mIn[42]\u001b[39m\u001b[32m, line 53\u001b[39m\n\u001b[32m     50\u001b[39m     \u001b[38;5;28;01mreturn\u001b[39;00m pd.DataFrame(team_stats_pct).sort_values(\u001b[33m'\u001b[39m\u001b[33mWin_Pct\u001b[39m\u001b[33m'\u001b[39m, ascending=\u001b[38;5;28;01mTrue\u001b[39;00m)\n\u001b[32m     52\u001b[39m \u001b[38;5;66;03m# Create initial data for all seasons\u001b[39;00m\n\u001b[32m---> \u001b[39m\u001b[32m53\u001b[39m initial_stats = \u001b[43mcalculate_team_stats_by_season\u001b[49m\u001b[43m(\u001b[49m\u001b[33;43m'\u001b[39;49m\u001b[33;43mAll Seasons\u001b[39;49m\u001b[33;43m'\u001b[39;49m\u001b[43m)\u001b[49m\n\u001b[32m     55\u001b[39m \u001b[38;5;66;03m# Create the figure with initial data\u001b[39;00m\n\u001b[32m     56\u001b[39m fig_pct = px.bar(\n\u001b[32m     57\u001b[39m     initial_stats,\n\u001b[32m     58\u001b[39m     x=[\u001b[33m'\u001b[39m\u001b[33mWin_Pct\u001b[39m\u001b[33m'\u001b[39m, \u001b[33m'\u001b[39m\u001b[33mDraw_Pct\u001b[39m\u001b[33m'\u001b[39m, \u001b[33m'\u001b[39m\u001b[33mLoss_Pct\u001b[39m\u001b[33m'\u001b[39m],\n\u001b[32m   (...)\u001b[39m\u001b[32m     67\u001b[39m     labels={\u001b[33m'\u001b[39m\u001b[33mvalue\u001b[39m\u001b[33m'\u001b[39m: \u001b[33m'\u001b[39m\u001b[33mPercentage (\u001b[39m\u001b[33m%\u001b[39m\u001b[33m)\u001b[39m\u001b[33m'\u001b[39m, \u001b[33m'\u001b[39m\u001b[33mvariable\u001b[39m\u001b[33m'\u001b[39m: \u001b[33m'\u001b[39m\u001b[33mResult\u001b[39m\u001b[33m'\u001b[39m}\n\u001b[32m     68\u001b[39m )\n",
      "\u001b[36mCell\u001b[39m\u001b[36m \u001b[39m\u001b[32mIn[42]\u001b[39m\u001b[32m, line 26\u001b[39m, in \u001b[36mcalculate_team_stats_by_season\u001b[39m\u001b[34m(selected_season)\u001b[39m\n\u001b[32m     24\u001b[39m \u001b[38;5;66;03m# Away matches\u001b[39;00m\n\u001b[32m     25\u001b[39m away_matches = filtered_df[filtered_df[\u001b[33m'\u001b[39m\u001b[33mAwayTeam\u001b[39m\u001b[33m'\u001b[39m] == team]\n\u001b[32m---> \u001b[39m\u001b[32m26\u001b[39m away_wins = \u001b[38;5;28mlen\u001b[39m(away_matches[\u001b[43mawayMatches\u001b[49m[\u001b[33m'\u001b[39m\u001b[33mFTR\u001b[39m\u001b[33m'\u001b[39m] == \u001b[33m'\u001b[39m\u001b[33mA\u001b[39m\u001b[33m'\u001b[39m])\n\u001b[32m     27\u001b[39m away_draws = \u001b[38;5;28mlen\u001b[39m(away_matches[away_matches[\u001b[33m'\u001b[39m\u001b[33mFTR\u001b[39m\u001b[33m'\u001b[39m] == \u001b[33m'\u001b[39m\u001b[33mD\u001b[39m\u001b[33m'\u001b[39m])\n\u001b[32m     28\u001b[39m away_losses = \u001b[38;5;28mlen\u001b[39m(away_matches[away_matches[\u001b[33m'\u001b[39m\u001b[33mFTR\u001b[39m\u001b[33m'\u001b[39m] == \u001b[33m'\u001b[39m\u001b[33mH\u001b[39m\u001b[33m'\u001b[39m])\n",
      "\u001b[31mNameError\u001b[39m: name 'awayMatches' is not defined"
     ]
    }
   ],
   "source": [
    "# Extract season information from dates\n",
    "df['Season'] = df['Date'].dt.year.astype(str) + '/' + (df['Date'].dt.year + 1).astype(str).str[-2:]\n",
    "\n",
    "# Get unique seasons for dropdown options\n",
    "seasons = ['All Seasons'] + sorted(df['Season'].unique().tolist())\n",
    "\n",
    "# Calculate win/loss/draw statistics as percentages with season filter\n",
    "def calculate_team_stats_by_season(selected_season):\n",
    "    if selected_season == 'All Seasons':\n",
    "        filtered_df = df\n",
    "    else:\n",
    "        filtered_df = df[df['Season'] == selected_season]\n",
    "    \n",
    "    team_stats_pct = []\n",
    "    all_teams = set(filtered_df['HomeTeam'].unique()) | set(filtered_df['AwayTeam'].unique())\n",
    "    \n",
    "    for team in all_teams:\n",
    "        # Home matches\n",
    "        home_matches = filtered_df[filtered_df['HomeTeam'] == team]\n",
    "        home_wins = len(home_matches[home_matches['FTR'] == 'H'])\n",
    "        home_draws = len(home_matches[home_matches['FTR'] == 'D'])\n",
    "        home_losses = len(home_matches[home_matches['FTR'] == 'A'])\n",
    "        \n",
    "        # Away matches\n",
    "        away_matches = filtered_df[filtered_df['AwayTeam'] == team]\n",
    "        away_wins = len(away_matches[awayMatches['FTR'] == 'A'])\n",
    "        away_draws = len(away_matches[away_matches['FTR'] == 'D'])\n",
    "        away_losses = len(away_matches[away_matches['FTR'] == 'H'])\n",
    "        \n",
    "        # Total stats\n",
    "        total_wins = home_wins + away_wins\n",
    "        total_draws = home_draws + away_draws\n",
    "        total_losses = home_losses + away_losses\n",
    "        total_matches = total_wins + total_draws + total_losses\n",
    "        \n",
    "        if total_matches > 0:  # Only include teams with matches in the season\n",
    "            # Calculate percentages\n",
    "            win_pct = (total_wins / total_matches * 100)\n",
    "            draw_pct = (total_draws / total_matches * 100)\n",
    "            loss_pct = (total_losses / total_matches * 100)\n",
    "            \n",
    "            team_stats_pct.append({\n",
    "                'Team': team,\n",
    "                'Win_Pct': win_pct,\n",
    "                'Draw_Pct': draw_pct,\n",
    "                'Loss_Pct': loss_pct,\n",
    "                'Total': total_matches\n",
    "            })\n",
    "    \n",
    "    return pd.DataFrame(team_stats_pct).sort_values('Win_Pct', ascending=True)\n",
    "\n",
    "# Create initial data for all seasons\n",
    "initial_stats = calculate_team_stats_by_season('All Seasons')\n",
    "\n",
    "# Create the figure with initial data\n",
    "fig_pct = px.bar(\n",
    "    initial_stats,\n",
    "    x=['Win_Pct', 'Draw_Pct', 'Loss_Pct'],\n",
    "    y='Team',\n",
    "    orientation='h',\n",
    "    title='Win/Draw/Loss Percentage by Team - All Seasons',\n",
    "    color_discrete_map={\n",
    "        'Win_Pct': '#2E8B57',     # Sea Green\n",
    "        'Draw_Pct': '#FFD700',    # Gold\n",
    "        'Loss_Pct': '#DC143C'     # Crimson\n",
    "    },\n",
    "    labels={'value': 'Percentage (%)', 'variable': 'Result'}\n",
    ")\n",
    "\n",
    "# Add dropdown menu for season selection\n",
    "buttons = []\n",
    "for season in seasons:\n",
    "    season_stats = calculate_team_stats_by_season(season)\n",
    "    \n",
    "    # Create button for each season\n",
    "    button = dict(\n",
    "        label=season,\n",
    "        method='restyle',\n",
    "        args=[{\n",
    "            'x': [season_stats['Win_Pct'].tolist(), \n",
    "                  season_stats['Draw_Pct'].tolist(), \n",
    "                  season_stats['Loss_Pct'].tolist()],\n",
    "            'y': [season_stats['Team'].tolist()] * 3\n",
    "        }],\n",
    "        args2=[{\n",
    "            'title': f'Win/Draw/Loss Percentage by Team - {season}'\n",
    "        }]\n",
    "    )\n",
    "    buttons.append(button)\n",
    "\n",
    "# Add the dropdown to the layout\n",
    "fig_pct.update_layout(\n",
    "    height=600,\n",
    "    xaxis_title='Percentage (%)',\n",
    "    yaxis_title='Teams',\n",
    "    legend_title='Match Result',\n",
    "    xaxis=dict(range=[0, 100]),  # Set x-axis range to 0-100%\n",
    "    updatemenus=[\n",
    "        dict(\n",
    "            type='dropdown',\n",
    "            direction='down',\n",
    "            buttons=buttons,\n",
    "            showactive=True,\n",
    "            x=0.1,\n",
    "            xanchor=\"left\",\n",
    "            y=1.15,\n",
    "            yanchor=\"top\"\n",
    "        )\n",
    "    ]\n",
    ")\n",
    "\n",
    "fig_pct.show()"
   ]
  },
  {
   "cell_type": "code",
   "execution_count": null,
   "id": "9ca37192",
   "metadata": {},
   "outputs": [
    {
     "data": {
      "application/vnd.plotly.v1+json": {
       "config": {
        "plotlyServerURL": "https://plot.ly"
       },
       "data": [
        {
         "customdata": {
          "bdata": "AgECBQEJAgEKBg4GAg4KARAQAhgTAx4LCAIQEwgTEgQBFAsCDQwFCA4DAQoKAggGAwUFAQgDAgQGAgIBBAMDBAEDAgECAQEDAg==",
          "dtype": "i1",
          "shape": "73, 1"
         },
         "hovertemplate": "Match Result=A<br>Home Shots=%{x}<br>Home Goals=%{y}<br>Number of matches=%{customdata[0]}<extra></extra>",
         "legendgroup": "A",
         "marker": {
          "color": "#DC143C",
          "size": {
           "bdata": "AgECBQEJAgEKBg4GAg4KARAQAhgTAx4LCAIQEwgTEgQBFAsCDQwFCA4DAQoKAggGAwUFAQgDAgQGAgIBBAMDBAEDAgECAQEDAg==",
           "dtype": "i1"
          },
          "sizemode": "area",
          "sizeref": 0.075,
          "symbol": "circle"
         },
         "mode": "markers",
         "name": "A",
         "orientation": "v",
         "showlegend": true,
         "type": "scatter",
         "x": {
          "bdata": "AAAAAAAAAAAAAAAAAADwPwAAAAAAAABAAAAAAAAACEAAAAAAAAAIQAAAAAAAABBAAAAAAAAAEEAAAAAAAAAQQAAAAAAAABRAAAAAAAAAFEAAAAAAAAAYQAAAAAAAABhAAAAAAAAAGEAAAAAAAAAcQAAAAAAAABxAAAAAAAAAHEAAAAAAAAAgQAAAAAAAACBAAAAAAAAAIEAAAAAAAAAiQAAAAAAAACJAAAAAAAAAIkAAAAAAAAAkQAAAAAAAACRAAAAAAAAAJEAAAAAAAAAkQAAAAAAAACZAAAAAAAAAJkAAAAAAAAAmQAAAAAAAAChAAAAAAAAAKEAAAAAAAAAoQAAAAAAAAChAAAAAAAAAKkAAAAAAAAAqQAAAAAAAACpAAAAAAAAALEAAAAAAAAAsQAAAAAAAACxAAAAAAAAALkAAAAAAAAAuQAAAAAAAAC5AAAAAAAAALkAAAAAAAAAwQAAAAAAAADBAAAAAAAAAMEAAAAAAAAAxQAAAAAAAADFAAAAAAAAAMUAAAAAAAAAyQAAAAAAAADJAAAAAAAAAMkAAAAAAAAAzQAAAAAAAADNAAAAAAAAAM0AAAAAAAAA0QAAAAAAAADRAAAAAAAAANEAAAAAAAAA1QAAAAAAAADVAAAAAAAAANUAAAAAAAAA2QAAAAAAAADZAAAAAAAAAN0AAAAAAAAA3QAAAAAAAADhAAAAAAAAAOEAAAAAAAAA4QAAAAAAAADlAAAAAAAAAOUAAAAAAAAA5QAAAAAAAADxAAAAAAAAAPUA=",
          "dtype": "f8"
         },
         "xaxis": "x",
         "y": {
          "bdata": "AAEAAAEAAQIAAQABAgABAgABAgABAgABAgMAAQIAAQIDAAECAAECAAECAwABAgABAgABAgABAgABAgABAgABAQIAAQIAAQMAAA==",
          "dtype": "i1"
         },
         "yaxis": "y"
        },
        {
         "customdata": {
          "bdata": "AwEEAgEGBgMMCAQFDAQFCwoFAw0VDwQMGA0EAQMBBRoUBgQHGA4EAQoMDgUEAQkTDwUBAgEECQkGAgIGDw4IAQYGDQIDAQQGCggBAgUGBwEECQYBAQYCAwEDAQIBAQEDAwIBAgECAQEDAQIBAQIBAQIBAQEB",
          "dtype": "i1",
          "shape": "117, 1"
         },
         "hovertemplate": "Match Result=H<br>Home Shots=%{x}<br>Home Goals=%{y}<br>Number of matches=%{customdata[0]}<extra></extra>",
         "legendgroup": "H",
         "marker": {
          "color": "#2E8B57",
          "size": {
           "bdata": "AwEEAgEGBgMMCAQFDAQFCwoFAw0VDwQMGA0EAQMBBRoUBgQHGA4EAQoMDgUEAQkTDwUBAgEECQkGAgIGDw4IAQYGDQIDAQQGCggBAgUGBwEECQYBAQYCAwEDAQIBAQEDAwIBAgECAQEDAQIBAQIBAQIBAQEB",
           "dtype": "i1"
          },
          "sizemode": "area",
          "sizeref": 0.075,
          "symbol": "circle"
         },
         "mode": "markers",
         "name": "H",
         "orientation": "v",
         "showlegend": true,
         "type": "scatter",
         "x": {
          "bdata": "AAAAAAAAAAAAAAAAAAAIQAAAAAAAABRAAAAAAAAAFEAAAAAAAAAUQAAAAAAAABhAAAAAAAAAGEAAAAAAAAAYQAAAAAAAABxAAAAAAAAAHEAAAAAAAAAcQAAAAAAAACBAAAAAAAAAIEAAAAAAAAAgQAAAAAAAACBAAAAAAAAAIkAAAAAAAAAiQAAAAAAAACJAAAAAAAAAIkAAAAAAAAAkQAAAAAAAACRAAAAAAAAAJEAAAAAAAAAkQAAAAAAAACZAAAAAAAAAJkAAAAAAAAAmQAAAAAAAACZAAAAAAAAAJkAAAAAAAAAmQAAAAAAAACZAAAAAAAAAKEAAAAAAAAAoQAAAAAAAAChAAAAAAAAAKEAAAAAAAAAoQAAAAAAAACpAAAAAAAAAKkAAAAAAAAAqQAAAAAAAACpAAAAAAAAAKkAAAAAAAAAsQAAAAAAAACxAAAAAAAAALEAAAAAAAAAsQAAAAAAAACxAAAAAAAAALEAAAAAAAAAuQAAAAAAAAC5AAAAAAAAALkAAAAAAAAAuQAAAAAAAAC5AAAAAAAAALkAAAAAAAAAuQAAAAAAAADBAAAAAAAAAMEAAAAAAAAAwQAAAAAAAADBAAAAAAAAAMEAAAAAAAAAwQAAAAAAAADFAAAAAAAAAMUAAAAAAAAAxQAAAAAAAADFAAAAAAAAAMUAAAAAAAAAyQAAAAAAAADJAAAAAAAAAMkAAAAAAAAAyQAAAAAAAADJAAAAAAAAAMkAAAAAAAAAzQAAAAAAAADNAAAAAAAAAM0AAAAAAAAAzQAAAAAAAADNAAAAAAAAANEAAAAAAAAA0QAAAAAAAADRAAAAAAAAANEAAAAAAAAA1QAAAAAAAADVAAAAAAAAANUAAAAAAAAA1QAAAAAAAADVAAAAAAAAANkAAAAAAAAA2QAAAAAAAADZAAAAAAAAANkAAAAAAAAA2QAAAAAAAADdAAAAAAAAAN0AAAAAAAAA3QAAAAAAAADdAAAAAAAAAN0AAAAAAAAA4QAAAAAAAADhAAAAAAAAAOEAAAAAAAAA4QAAAAAAAADhAAAAAAAAAOUAAAAAAAAA5QAAAAAAAADlAAAAAAAAAOUAAAAAAAAA5QAAAAAAAADpAAAAAAAAAOkAAAAAAAAA6QAAAAAAAADtAAAAAAAAAO0AAAAAAAAA7QAAAAAAAADxAAAAAAAAAPEAAAAAAAAA9QAAAAAAAAD1AAAAAAAAAPkAAAAAAAAA/QAAAAAAAgEBA",
          "dtype": "f8"
         },
         "xaxis": "x",
         "y": {
          "bdata": "BQIBAgMBAgMBAgMBAgMEAQIDBAECAwQBAgMEBQYHAQIDBAUBAgMEBQECAwQFBgECAwQFBgcBAgMEBQYBAgMEBQECAwQFBgECAwQFAQIDBAECAwQFAQIDBAUCAwQGBwECAwQFAgMEBQYCBAUCAwQCAwIDAgMH",
          "dtype": "i1"
         },
         "yaxis": "y"
        },
        {
         "customdata": {
          "bdata": "AgEBAgECBAICAQUIAwcLAwMKAgIEEAkIEQYDBAgKBw8EAQUMBwoLCQEHAgECAgQBBAcFAQEMAwICBgIBAQUDAgMEBQECAgMBAQMCAQIBAQEBAQE=",
          "dtype": "i1",
          "shape": "83, 1"
         },
         "hovertemplate": "Match Result=D<br>Home Shots=%{x}<br>Home Goals=%{y}<br>Number of matches=%{customdata[0]}<extra></extra>",
         "legendgroup": "D",
         "marker": {
          "color": "#FFD700",
          "size": {
           "bdata": "AgEBAgECBAICAQUIAwcLAwMKAgIEEAkIEQYDBAgKBw8EAQUMBwoLCQEHAgECAgQBBAcFAQEMAwICBgIBAQUDAgMEBQECAgMBAQMCAQIBAQEBAQE=",
           "dtype": "i1"
          },
          "sizemode": "area",
          "sizeref": 0.075,
          "symbol": "circle"
         },
         "mode": "markers",
         "name": "D",
         "orientation": "v",
         "showlegend": true,
         "type": "scatter",
         "x": {
          "bdata": "AAAAAAAA8D8AAAAAAAAAQAAAAAAAAAhAAAAAAAAACEAAAAAAAAAIQAAAAAAAABBAAAAAAAAAEEAAAAAAAAAUQAAAAAAAABRAAAAAAAAAFEAAAAAAAAAYQAAAAAAAABhAAAAAAAAAGEAAAAAAAAAcQAAAAAAAABxAAAAAAAAAHEAAAAAAAAAgQAAAAAAAACBAAAAAAAAAIEAAAAAAAAAgQAAAAAAAACJAAAAAAAAAIkAAAAAAAAAiQAAAAAAAACRAAAAAAAAAJEAAAAAAAAAkQAAAAAAAACRAAAAAAAAAJkAAAAAAAAAmQAAAAAAAACZAAAAAAAAAKEAAAAAAAAAoQAAAAAAAAChAAAAAAAAAKEAAAAAAAAAqQAAAAAAAACpAAAAAAAAAKkAAAAAAAAAsQAAAAAAAACxAAAAAAAAALEAAAAAAAAAuQAAAAAAAAC5AAAAAAAAALkAAAAAAAAAuQAAAAAAAADBAAAAAAAAAMEAAAAAAAAAwQAAAAAAAADBAAAAAAAAAMUAAAAAAAAAxQAAAAAAAADFAAAAAAAAAMUAAAAAAAAAyQAAAAAAAADJAAAAAAAAAMkAAAAAAAAAyQAAAAAAAADNAAAAAAAAAM0AAAAAAAAAzQAAAAAAAADNAAAAAAAAAM0AAAAAAAAA0QAAAAAAAADRAAAAAAAAANEAAAAAAAAA1QAAAAAAAADVAAAAAAAAANUAAAAAAAAA2QAAAAAAAADZAAAAAAAAAN0AAAAAAAAA3QAAAAAAAADdAAAAAAAAAOEAAAAAAAAA4QAAAAAAAADlAAAAAAAAAOkAAAAAAAAA6QAAAAAAAADtAAAAAAAAAPEAAAAAAAAA8QAAAAAAAAD1AAAAAAAAAP0AAAAAAAABAQA==",
          "dtype": "f8"
         },
         "xaxis": "x",
         "y": {
          "bdata": "AAEAAQIAAQABAgABAgABAgABAgMAAQIAAQIDAAECAAECAwABAgABAgABAgMAAQIDAAECAwABAgMAAQIDBQECAwABAgACAAEFAQIBAAECAQIEAwE=",
          "dtype": "i1"
         },
         "yaxis": "y"
        }
       ],
       "layout": {
        "height": 500,
        "legend": {
         "itemsizing": "constant",
         "title": {
          "text": "Match Result"
         },
         "tracegroupgap": 0
        },
        "showlegend": true,
        "template": {
         "data": {
          "bar": [
           {
            "error_x": {
             "color": "#2a3f5f"
            },
            "error_y": {
             "color": "#2a3f5f"
            },
            "marker": {
             "line": {
              "color": "#E5ECF6",
              "width": 0.5
             },
             "pattern": {
              "fillmode": "overlay",
              "size": 10,
              "solidity": 0.2
             }
            },
            "type": "bar"
           }
          ],
          "barpolar": [
           {
            "marker": {
             "line": {
              "color": "#E5ECF6",
              "width": 0.5
             },
             "pattern": {
              "fillmode": "overlay",
              "size": 10,
              "solidity": 0.2
             }
            },
            "type": "barpolar"
           }
          ],
          "carpet": [
           {
            "aaxis": {
             "endlinecolor": "#2a3f5f",
             "gridcolor": "white",
             "linecolor": "white",
             "minorgridcolor": "white",
             "startlinecolor": "#2a3f5f"
            },
            "baxis": {
             "endlinecolor": "#2a3f5f",
             "gridcolor": "white",
             "linecolor": "white",
             "minorgridcolor": "white",
             "startlinecolor": "#2a3f5f"
            },
            "type": "carpet"
           }
          ],
          "choropleth": [
           {
            "colorbar": {
             "outlinewidth": 0,
             "ticks": ""
            },
            "type": "choropleth"
           }
          ],
          "contour": [
           {
            "colorbar": {
             "outlinewidth": 0,
             "ticks": ""
            },
            "colorscale": [
             [
              0,
              "#0d0887"
             ],
             [
              0.1111111111111111,
              "#46039f"
             ],
             [
              0.2222222222222222,
              "#7201a8"
             ],
             [
              0.3333333333333333,
              "#9c179e"
             ],
             [
              0.4444444444444444,
              "#bd3786"
             ],
             [
              0.5555555555555556,
              "#d8576b"
             ],
             [
              0.6666666666666666,
              "#ed7953"
             ],
             [
              0.7777777777777778,
              "#fb9f3a"
             ],
             [
              0.8888888888888888,
              "#fdca26"
             ],
             [
              1,
              "#f0f921"
             ]
            ],
            "type": "contour"
           }
          ],
          "contourcarpet": [
           {
            "colorbar": {
             "outlinewidth": 0,
             "ticks": ""
            },
            "type": "contourcarpet"
           }
          ],
          "heatmap": [
           {
            "colorbar": {
             "outlinewidth": 0,
             "ticks": ""
            },
            "colorscale": [
             [
              0,
              "#0d0887"
             ],
             [
              0.1111111111111111,
              "#46039f"
             ],
             [
              0.2222222222222222,
              "#7201a8"
             ],
             [
              0.3333333333333333,
              "#9c179e"
             ],
             [
              0.4444444444444444,
              "#bd3786"
             ],
             [
              0.5555555555555556,
              "#d8576b"
             ],
             [
              0.6666666666666666,
              "#ed7953"
             ],
             [
              0.7777777777777778,
              "#fb9f3a"
             ],
             [
              0.8888888888888888,
              "#fdca26"
             ],
             [
              1,
              "#f0f921"
             ]
            ],
            "type": "heatmap"
           }
          ],
          "histogram": [
           {
            "marker": {
             "pattern": {
              "fillmode": "overlay",
              "size": 10,
              "solidity": 0.2
             }
            },
            "type": "histogram"
           }
          ],
          "histogram2d": [
           {
            "colorbar": {
             "outlinewidth": 0,
             "ticks": ""
            },
            "colorscale": [
             [
              0,
              "#0d0887"
             ],
             [
              0.1111111111111111,
              "#46039f"
             ],
             [
              0.2222222222222222,
              "#7201a8"
             ],
             [
              0.3333333333333333,
              "#9c179e"
             ],
             [
              0.4444444444444444,
              "#bd3786"
             ],
             [
              0.5555555555555556,
              "#d8576b"
             ],
             [
              0.6666666666666666,
              "#ed7953"
             ],
             [
              0.7777777777777778,
              "#fb9f3a"
             ],
             [
              0.8888888888888888,
              "#fdca26"
             ],
             [
              1,
              "#f0f921"
             ]
            ],
            "type": "histogram2d"
           }
          ],
          "histogram2dcontour": [
           {
            "colorbar": {
             "outlinewidth": 0,
             "ticks": ""
            },
            "colorscale": [
             [
              0,
              "#0d0887"
             ],
             [
              0.1111111111111111,
              "#46039f"
             ],
             [
              0.2222222222222222,
              "#7201a8"
             ],
             [
              0.3333333333333333,
              "#9c179e"
             ],
             [
              0.4444444444444444,
              "#bd3786"
             ],
             [
              0.5555555555555556,
              "#d8576b"
             ],
             [
              0.6666666666666666,
              "#ed7953"
             ],
             [
              0.7777777777777778,
              "#fb9f3a"
             ],
             [
              0.8888888888888888,
              "#fdca26"
             ],
             [
              1,
              "#f0f921"
             ]
            ],
            "type": "histogram2dcontour"
           }
          ],
          "mesh3d": [
           {
            "colorbar": {
             "outlinewidth": 0,
             "ticks": ""
            },
            "type": "mesh3d"
           }
          ],
          "parcoords": [
           {
            "line": {
             "colorbar": {
              "outlinewidth": 0,
              "ticks": ""
             }
            },
            "type": "parcoords"
           }
          ],
          "pie": [
           {
            "automargin": true,
            "type": "pie"
           }
          ],
          "scatter": [
           {
            "fillpattern": {
             "fillmode": "overlay",
             "size": 10,
             "solidity": 0.2
            },
            "type": "scatter"
           }
          ],
          "scatter3d": [
           {
            "line": {
             "colorbar": {
              "outlinewidth": 0,
              "ticks": ""
             }
            },
            "marker": {
             "colorbar": {
              "outlinewidth": 0,
              "ticks": ""
             }
            },
            "type": "scatter3d"
           }
          ],
          "scattercarpet": [
           {
            "marker": {
             "colorbar": {
              "outlinewidth": 0,
              "ticks": ""
             }
            },
            "type": "scattercarpet"
           }
          ],
          "scattergeo": [
           {
            "marker": {
             "colorbar": {
              "outlinewidth": 0,
              "ticks": ""
             }
            },
            "type": "scattergeo"
           }
          ],
          "scattergl": [
           {
            "marker": {
             "colorbar": {
              "outlinewidth": 0,
              "ticks": ""
             }
            },
            "type": "scattergl"
           }
          ],
          "scattermap": [
           {
            "marker": {
             "colorbar": {
              "outlinewidth": 0,
              "ticks": ""
             }
            },
            "type": "scattermap"
           }
          ],
          "scattermapbox": [
           {
            "marker": {
             "colorbar": {
              "outlinewidth": 0,
              "ticks": ""
             }
            },
            "type": "scattermapbox"
           }
          ],
          "scatterpolar": [
           {
            "marker": {
             "colorbar": {
              "outlinewidth": 0,
              "ticks": ""
             }
            },
            "type": "scatterpolar"
           }
          ],
          "scatterpolargl": [
           {
            "marker": {
             "colorbar": {
              "outlinewidth": 0,
              "ticks": ""
             }
            },
            "type": "scatterpolargl"
           }
          ],
          "scatterternary": [
           {
            "marker": {
             "colorbar": {
              "outlinewidth": 0,
              "ticks": ""
             }
            },
            "type": "scatterternary"
           }
          ],
          "surface": [
           {
            "colorbar": {
             "outlinewidth": 0,
             "ticks": ""
            },
            "colorscale": [
             [
              0,
              "#0d0887"
             ],
             [
              0.1111111111111111,
              "#46039f"
             ],
             [
              0.2222222222222222,
              "#7201a8"
             ],
             [
              0.3333333333333333,
              "#9c179e"
             ],
             [
              0.4444444444444444,
              "#bd3786"
             ],
             [
              0.5555555555555556,
              "#d8576b"
             ],
             [
              0.6666666666666666,
              "#ed7953"
             ],
             [
              0.7777777777777778,
              "#fb9f3a"
             ],
             [
              0.8888888888888888,
              "#fdca26"
             ],
             [
              1,
              "#f0f921"
             ]
            ],
            "type": "surface"
           }
          ],
          "table": [
           {
            "cells": {
             "fill": {
              "color": "#EBF0F8"
             },
             "line": {
              "color": "white"
             }
            },
            "header": {
             "fill": {
              "color": "#C8D4E3"
             },
             "line": {
              "color": "white"
             }
            },
            "type": "table"
           }
          ]
         },
         "layout": {
          "annotationdefaults": {
           "arrowcolor": "#2a3f5f",
           "arrowhead": 0,
           "arrowwidth": 1
          },
          "autotypenumbers": "strict",
          "coloraxis": {
           "colorbar": {
            "outlinewidth": 0,
            "ticks": ""
           }
          },
          "colorscale": {
           "diverging": [
            [
             0,
             "#8e0152"
            ],
            [
             0.1,
             "#c51b7d"
            ],
            [
             0.2,
             "#de77ae"
            ],
            [
             0.3,
             "#f1b6da"
            ],
            [
             0.4,
             "#fde0ef"
            ],
            [
             0.5,
             "#f7f7f7"
            ],
            [
             0.6,
             "#e6f5d0"
            ],
            [
             0.7,
             "#b8e186"
            ],
            [
             0.8,
             "#7fbc41"
            ],
            [
             0.9,
             "#4d9221"
            ],
            [
             1,
             "#276419"
            ]
           ],
           "sequential": [
            [
             0,
             "#0d0887"
            ],
            [
             0.1111111111111111,
             "#46039f"
            ],
            [
             0.2222222222222222,
             "#7201a8"
            ],
            [
             0.3333333333333333,
             "#9c179e"
            ],
            [
             0.4444444444444444,
             "#bd3786"
            ],
            [
             0.5555555555555556,
             "#d8576b"
            ],
            [
             0.6666666666666666,
             "#ed7953"
            ],
            [
             0.7777777777777778,
             "#fb9f3a"
            ],
            [
             0.8888888888888888,
             "#fdca26"
            ],
            [
             1,
             "#f0f921"
            ]
           ],
           "sequentialminus": [
            [
             0,
             "#0d0887"
            ],
            [
             0.1111111111111111,
             "#46039f"
            ],
            [
             0.2222222222222222,
             "#7201a8"
            ],
            [
             0.3333333333333333,
             "#9c179e"
            ],
            [
             0.4444444444444444,
             "#bd3786"
            ],
            [
             0.5555555555555556,
             "#d8576b"
            ],
            [
             0.6666666666666666,
             "#ed7953"
            ],
            [
             0.7777777777777778,
             "#fb9f3a"
            ],
            [
             0.8888888888888888,
             "#fdca26"
            ],
            [
             1,
             "#f0f921"
            ]
           ]
          },
          "colorway": [
           "#636efa",
           "#EF553B",
           "#00cc96",
           "#ab63fa",
           "#FFA15A",
           "#19d3f3",
           "#FF6692",
           "#B6E880",
           "#FF97FF",
           "#FECB52"
          ],
          "font": {
           "color": "#2a3f5f"
          },
          "geo": {
           "bgcolor": "white",
           "lakecolor": "white",
           "landcolor": "#E5ECF6",
           "showlakes": true,
           "showland": true,
           "subunitcolor": "white"
          },
          "hoverlabel": {
           "align": "left"
          },
          "hovermode": "closest",
          "mapbox": {
           "style": "light"
          },
          "paper_bgcolor": "white",
          "plot_bgcolor": "#E5ECF6",
          "polar": {
           "angularaxis": {
            "gridcolor": "white",
            "linecolor": "white",
            "ticks": ""
           },
           "bgcolor": "#E5ECF6",
           "radialaxis": {
            "gridcolor": "white",
            "linecolor": "white",
            "ticks": ""
           }
          },
          "scene": {
           "xaxis": {
            "backgroundcolor": "#E5ECF6",
            "gridcolor": "white",
            "gridwidth": 2,
            "linecolor": "white",
            "showbackground": true,
            "ticks": "",
            "zerolinecolor": "white"
           },
           "yaxis": {
            "backgroundcolor": "#E5ECF6",
            "gridcolor": "white",
            "gridwidth": 2,
            "linecolor": "white",
            "showbackground": true,
            "ticks": "",
            "zerolinecolor": "white"
           },
           "zaxis": {
            "backgroundcolor": "#E5ECF6",
            "gridcolor": "white",
            "gridwidth": 2,
            "linecolor": "white",
            "showbackground": true,
            "ticks": "",
            "zerolinecolor": "white"
           }
          },
          "shapedefaults": {
           "line": {
            "color": "#2a3f5f"
           }
          },
          "ternary": {
           "aaxis": {
            "gridcolor": "white",
            "linecolor": "white",
            "ticks": ""
           },
           "baxis": {
            "gridcolor": "white",
            "linecolor": "white",
            "ticks": ""
           },
           "bgcolor": "#E5ECF6",
           "caxis": {
            "gridcolor": "white",
            "linecolor": "white",
            "ticks": ""
           }
          },
          "title": {
           "x": 0.05
          },
          "xaxis": {
           "automargin": true,
           "gridcolor": "white",
           "linecolor": "white",
           "ticks": "",
           "title": {
            "standoff": 15
           },
           "zerolinecolor": "white",
           "zerolinewidth": 2
          },
          "yaxis": {
           "automargin": true,
           "gridcolor": "white",
           "linecolor": "white",
           "ticks": "",
           "title": {
            "standoff": 15
           },
           "zerolinecolor": "white",
           "zerolinewidth": 2
          }
         }
        },
        "title": {
         "text": "Home Team: Shots vs Goals Scored (Dot size = frequency)"
        },
        "xaxis": {
         "anchor": "y",
         "domain": [
          0,
          1
         ],
         "title": {
          "text": "Home Shots"
         }
        },
        "yaxis": {
         "anchor": "x",
         "domain": [
          0,
          1
         ],
         "title": {
          "text": "Home Goals"
         }
        }
       }
      }
     },
     "metadata": {},
     "output_type": "display_data"
    }
   ],
   "source": [
    "# Create a scatter plot showing relationship between shots and goals with sized markers\n",
    "# First, count occurrences of each (HS, FTHG) combination\n",
    "df_counts = df.groupby(['HS', 'FTHG', 'FTR']).size().reset_index(name='count')\n",
    "\n",
    "fig_shots_goals = px.scatter(\n",
    "    df_counts, \n",
    "    x='HS', \n",
    "    y='FTHG',\n",
    "    color='FTR',\n",
    "    size='count',  # Size dots based on count of overlapping points\n",
    "    title='Home Team: Shots vs Goals Scored (Dot size = frequency)',\n",
    "    labels={\n",
    "        'HS': 'Home Shots',\n",
    "        'FTHG': 'Home Goals',\n",
    "        'FTR': 'Match Result',\n",
    "        'count': 'Number of matches'\n",
    "    },\n",
    "    color_discrete_map={\n",
    "        'H': '#2E8B57',  # Green for home wins\n",
    "        'D': '#FFD700',  # Gold for draws\n",
    "        'A': '#DC143C'   # Red for home losses\n",
    "    },\n",
    "    size_max=20,  # Maximum dot size\n",
    "    hover_data=['count']\n",
    ")\n",
    "\n",
    "fig_shots_goals.update_layout(\n",
    "    height=500,\n",
    "    showlegend=True\n",
    ")\n",
    "\n",
    "fig_shots_goals.show()\n"
   ]
  },
  {
   "cell_type": "code",
   "execution_count": null,
   "id": "102ec1fb",
   "metadata": {},
   "outputs": [
    {
     "data": {
      "application/vnd.plotly.v1+json": {
       "config": {
        "plotlyServerURL": "https://plot.ly"
       },
       "data": [
        {
         "hovertemplate": "<b>%{hovertext}</b><br>Correlation: %{x:.3f}<br><extra></extra>",
         "hovertext": [
          "Home Goals - Away Goals<br>Correlation: 0.853",
          "Full Time Home Goals<br>Correlation: 0.666",
          "Full Time Away Goals<br>Correlation: -0.609",
          "Half Time Home Goals<br>Correlation: 0.446",
          "Home Shots on Target<br>Correlation: 0.413",
          "Half Time Away Goals<br>Correlation: -0.392",
          "Away Shots on Target<br>Correlation: -0.370",
          "Away Shots<br>Correlation: -0.229",
          "Home Shots<br>Correlation: 0.182",
          "Home Yellow Cards<br>Correlation: -0.177"
         ],
         "legendgroup": "",
         "marker": {
          "color": {
           "bdata": "dM3nretJ6z8Yb0uEzE7lPxI4loPEfuO/j/5vaYqM3D/mPaSsH3XaPyb9R+IWGNm/xZ06ZBmo17/fG6iGlUvNv1DeV3KyRMc/QBw46Yedxr8=",
           "dtype": "f8"
          },
          "coloraxis": "coloraxis",
          "pattern": {
           "shape": ""
          }
         },
         "name": "",
         "orientation": "h",
         "showlegend": false,
         "text": [
          "0.853",
          "0.666",
          "-0.609",
          "0.446",
          "0.413",
          "-0.392",
          "-0.370",
          "-0.229",
          "0.182",
          "-0.177"
         ],
         "textposition": "outside",
         "type": "bar",
         "x": {
          "bdata": "dM3nretJ6z8Yb0uEzE7lPxI4loPEfuO/j/5vaYqM3D/mPaSsH3XaPyb9R+IWGNm/xZ06ZBmo17/fG6iGlUvNv1DeV3KyRMc/QBw46Yedxr8=",
          "dtype": "f8"
         },
         "xaxis": "x",
         "y": [
          "GoalDifference",
          "FTHG",
          "FTAG",
          "HTHG",
          "HST",
          "HTAG",
          "AST",
          "AS",
          "HS",
          "HY"
         ],
         "yaxis": "y"
        }
       ],
       "layout": {
        "barmode": "relative",
        "coloraxis": {
         "cmid": 0,
         "colorbar": {
          "title": {
           "text": "Correlation"
          }
         },
         "colorscale": [
          [
           0,
           "rgb(5,48,97)"
          ],
          [
           0.1,
           "rgb(33,102,172)"
          ],
          [
           0.2,
           "rgb(67,147,195)"
          ],
          [
           0.3,
           "rgb(146,197,222)"
          ],
          [
           0.4,
           "rgb(209,229,240)"
          ],
          [
           0.5,
           "rgb(247,247,247)"
          ],
          [
           0.6,
           "rgb(253,219,199)"
          ],
          [
           0.7,
           "rgb(244,165,130)"
          ],
          [
           0.8,
           "rgb(214,96,77)"
          ],
          [
           0.9,
           "rgb(178,24,43)"
          ],
          [
           1,
           "rgb(103,0,31)"
          ]
         ],
         "showscale": true
        },
        "height": 500,
        "legend": {
         "tracegroupgap": 0
        },
        "showlegend": false,
        "template": {
         "data": {
          "bar": [
           {
            "error_x": {
             "color": "#2a3f5f"
            },
            "error_y": {
             "color": "#2a3f5f"
            },
            "marker": {
             "line": {
              "color": "#E5ECF6",
              "width": 0.5
             },
             "pattern": {
              "fillmode": "overlay",
              "size": 10,
              "solidity": 0.2
             }
            },
            "type": "bar"
           }
          ],
          "barpolar": [
           {
            "marker": {
             "line": {
              "color": "#E5ECF6",
              "width": 0.5
             },
             "pattern": {
              "fillmode": "overlay",
              "size": 10,
              "solidity": 0.2
             }
            },
            "type": "barpolar"
           }
          ],
          "carpet": [
           {
            "aaxis": {
             "endlinecolor": "#2a3f5f",
             "gridcolor": "white",
             "linecolor": "white",
             "minorgridcolor": "white",
             "startlinecolor": "#2a3f5f"
            },
            "baxis": {
             "endlinecolor": "#2a3f5f",
             "gridcolor": "white",
             "linecolor": "white",
             "minorgridcolor": "white",
             "startlinecolor": "#2a3f5f"
            },
            "type": "carpet"
           }
          ],
          "choropleth": [
           {
            "colorbar": {
             "outlinewidth": 0,
             "ticks": ""
            },
            "type": "choropleth"
           }
          ],
          "contour": [
           {
            "colorbar": {
             "outlinewidth": 0,
             "ticks": ""
            },
            "colorscale": [
             [
              0,
              "#0d0887"
             ],
             [
              0.1111111111111111,
              "#46039f"
             ],
             [
              0.2222222222222222,
              "#7201a8"
             ],
             [
              0.3333333333333333,
              "#9c179e"
             ],
             [
              0.4444444444444444,
              "#bd3786"
             ],
             [
              0.5555555555555556,
              "#d8576b"
             ],
             [
              0.6666666666666666,
              "#ed7953"
             ],
             [
              0.7777777777777778,
              "#fb9f3a"
             ],
             [
              0.8888888888888888,
              "#fdca26"
             ],
             [
              1,
              "#f0f921"
             ]
            ],
            "type": "contour"
           }
          ],
          "contourcarpet": [
           {
            "colorbar": {
             "outlinewidth": 0,
             "ticks": ""
            },
            "type": "contourcarpet"
           }
          ],
          "heatmap": [
           {
            "colorbar": {
             "outlinewidth": 0,
             "ticks": ""
            },
            "colorscale": [
             [
              0,
              "#0d0887"
             ],
             [
              0.1111111111111111,
              "#46039f"
             ],
             [
              0.2222222222222222,
              "#7201a8"
             ],
             [
              0.3333333333333333,
              "#9c179e"
             ],
             [
              0.4444444444444444,
              "#bd3786"
             ],
             [
              0.5555555555555556,
              "#d8576b"
             ],
             [
              0.6666666666666666,
              "#ed7953"
             ],
             [
              0.7777777777777778,
              "#fb9f3a"
             ],
             [
              0.8888888888888888,
              "#fdca26"
             ],
             [
              1,
              "#f0f921"
             ]
            ],
            "type": "heatmap"
           }
          ],
          "histogram": [
           {
            "marker": {
             "pattern": {
              "fillmode": "overlay",
              "size": 10,
              "solidity": 0.2
             }
            },
            "type": "histogram"
           }
          ],
          "histogram2d": [
           {
            "colorbar": {
             "outlinewidth": 0,
             "ticks": ""
            },
            "colorscale": [
             [
              0,
              "#0d0887"
             ],
             [
              0.1111111111111111,
              "#46039f"
             ],
             [
              0.2222222222222222,
              "#7201a8"
             ],
             [
              0.3333333333333333,
              "#9c179e"
             ],
             [
              0.4444444444444444,
              "#bd3786"
             ],
             [
              0.5555555555555556,
              "#d8576b"
             ],
             [
              0.6666666666666666,
              "#ed7953"
             ],
             [
              0.7777777777777778,
              "#fb9f3a"
             ],
             [
              0.8888888888888888,
              "#fdca26"
             ],
             [
              1,
              "#f0f921"
             ]
            ],
            "type": "histogram2d"
           }
          ],
          "histogram2dcontour": [
           {
            "colorbar": {
             "outlinewidth": 0,
             "ticks": ""
            },
            "colorscale": [
             [
              0,
              "#0d0887"
             ],
             [
              0.1111111111111111,
              "#46039f"
             ],
             [
              0.2222222222222222,
              "#7201a8"
             ],
             [
              0.3333333333333333,
              "#9c179e"
             ],
             [
              0.4444444444444444,
              "#bd3786"
             ],
             [
              0.5555555555555556,
              "#d8576b"
             ],
             [
              0.6666666666666666,
              "#ed7953"
             ],
             [
              0.7777777777777778,
              "#fb9f3a"
             ],
             [
              0.8888888888888888,
              "#fdca26"
             ],
             [
              1,
              "#f0f921"
             ]
            ],
            "type": "histogram2dcontour"
           }
          ],
          "mesh3d": [
           {
            "colorbar": {
             "outlinewidth": 0,
             "ticks": ""
            },
            "type": "mesh3d"
           }
          ],
          "parcoords": [
           {
            "line": {
             "colorbar": {
              "outlinewidth": 0,
              "ticks": ""
             }
            },
            "type": "parcoords"
           }
          ],
          "pie": [
           {
            "automargin": true,
            "type": "pie"
           }
          ],
          "scatter": [
           {
            "fillpattern": {
             "fillmode": "overlay",
             "size": 10,
             "solidity": 0.2
            },
            "type": "scatter"
           }
          ],
          "scatter3d": [
           {
            "line": {
             "colorbar": {
              "outlinewidth": 0,
              "ticks": ""
             }
            },
            "marker": {
             "colorbar": {
              "outlinewidth": 0,
              "ticks": ""
             }
            },
            "type": "scatter3d"
           }
          ],
          "scattercarpet": [
           {
            "marker": {
             "colorbar": {
              "outlinewidth": 0,
              "ticks": ""
             }
            },
            "type": "scattercarpet"
           }
          ],
          "scattergeo": [
           {
            "marker": {
             "colorbar": {
              "outlinewidth": 0,
              "ticks": ""
             }
            },
            "type": "scattergeo"
           }
          ],
          "scattergl": [
           {
            "marker": {
             "colorbar": {
              "outlinewidth": 0,
              "ticks": ""
             }
            },
            "type": "scattergl"
           }
          ],
          "scattermap": [
           {
            "marker": {
             "colorbar": {
              "outlinewidth": 0,
              "ticks": ""
             }
            },
            "type": "scattermap"
           }
          ],
          "scattermapbox": [
           {
            "marker": {
             "colorbar": {
              "outlinewidth": 0,
              "ticks": ""
             }
            },
            "type": "scattermapbox"
           }
          ],
          "scatterpolar": [
           {
            "marker": {
             "colorbar": {
              "outlinewidth": 0,
              "ticks": ""
             }
            },
            "type": "scatterpolar"
           }
          ],
          "scatterpolargl": [
           {
            "marker": {
             "colorbar": {
              "outlinewidth": 0,
              "ticks": ""
             }
            },
            "type": "scatterpolargl"
           }
          ],
          "scatterternary": [
           {
            "marker": {
             "colorbar": {
              "outlinewidth": 0,
              "ticks": ""
             }
            },
            "type": "scatterternary"
           }
          ],
          "surface": [
           {
            "colorbar": {
             "outlinewidth": 0,
             "ticks": ""
            },
            "colorscale": [
             [
              0,
              "#0d0887"
             ],
             [
              0.1111111111111111,
              "#46039f"
             ],
             [
              0.2222222222222222,
              "#7201a8"
             ],
             [
              0.3333333333333333,
              "#9c179e"
             ],
             [
              0.4444444444444444,
              "#bd3786"
             ],
             [
              0.5555555555555556,
              "#d8576b"
             ],
             [
              0.6666666666666666,
              "#ed7953"
             ],
             [
              0.7777777777777778,
              "#fb9f3a"
             ],
             [
              0.8888888888888888,
              "#fdca26"
             ],
             [
              1,
              "#f0f921"
             ]
            ],
            "type": "surface"
           }
          ],
          "table": [
           {
            "cells": {
             "fill": {
              "color": "#EBF0F8"
             },
             "line": {
              "color": "white"
             }
            },
            "header": {
             "fill": {
              "color": "#C8D4E3"
             },
             "line": {
              "color": "white"
             }
            },
            "type": "table"
           }
          ]
         },
         "layout": {
          "annotationdefaults": {
           "arrowcolor": "#2a3f5f",
           "arrowhead": 0,
           "arrowwidth": 1
          },
          "autotypenumbers": "strict",
          "coloraxis": {
           "colorbar": {
            "outlinewidth": 0,
            "ticks": ""
           }
          },
          "colorscale": {
           "diverging": [
            [
             0,
             "#8e0152"
            ],
            [
             0.1,
             "#c51b7d"
            ],
            [
             0.2,
             "#de77ae"
            ],
            [
             0.3,
             "#f1b6da"
            ],
            [
             0.4,
             "#fde0ef"
            ],
            [
             0.5,
             "#f7f7f7"
            ],
            [
             0.6,
             "#e6f5d0"
            ],
            [
             0.7,
             "#b8e186"
            ],
            [
             0.8,
             "#7fbc41"
            ],
            [
             0.9,
             "#4d9221"
            ],
            [
             1,
             "#276419"
            ]
           ],
           "sequential": [
            [
             0,
             "#0d0887"
            ],
            [
             0.1111111111111111,
             "#46039f"
            ],
            [
             0.2222222222222222,
             "#7201a8"
            ],
            [
             0.3333333333333333,
             "#9c179e"
            ],
            [
             0.4444444444444444,
             "#bd3786"
            ],
            [
             0.5555555555555556,
             "#d8576b"
            ],
            [
             0.6666666666666666,
             "#ed7953"
            ],
            [
             0.7777777777777778,
             "#fb9f3a"
            ],
            [
             0.8888888888888888,
             "#fdca26"
            ],
            [
             1,
             "#f0f921"
            ]
           ],
           "sequentialminus": [
            [
             0,
             "#0d0887"
            ],
            [
             0.1111111111111111,
             "#46039f"
            ],
            [
             0.2222222222222222,
             "#7201a8"
            ],
            [
             0.3333333333333333,
             "#9c179e"
            ],
            [
             0.4444444444444444,
             "#bd3786"
            ],
            [
             0.5555555555555556,
             "#d8576b"
            ],
            [
             0.6666666666666666,
             "#ed7953"
            ],
            [
             0.7777777777777778,
             "#fb9f3a"
            ],
            [
             0.8888888888888888,
             "#fdca26"
            ],
            [
             1,
             "#f0f921"
            ]
           ]
          },
          "colorway": [
           "#636efa",
           "#EF553B",
           "#00cc96",
           "#ab63fa",
           "#FFA15A",
           "#19d3f3",
           "#FF6692",
           "#B6E880",
           "#FF97FF",
           "#FECB52"
          ],
          "font": {
           "color": "#2a3f5f"
          },
          "geo": {
           "bgcolor": "white",
           "lakecolor": "white",
           "landcolor": "#E5ECF6",
           "showlakes": true,
           "showland": true,
           "subunitcolor": "white"
          },
          "hoverlabel": {
           "align": "left"
          },
          "hovermode": "closest",
          "mapbox": {
           "style": "light"
          },
          "paper_bgcolor": "white",
          "plot_bgcolor": "#E5ECF6",
          "polar": {
           "angularaxis": {
            "gridcolor": "white",
            "linecolor": "white",
            "ticks": ""
           },
           "bgcolor": "#E5ECF6",
           "radialaxis": {
            "gridcolor": "white",
            "linecolor": "white",
            "ticks": ""
           }
          },
          "scene": {
           "xaxis": {
            "backgroundcolor": "#E5ECF6",
            "gridcolor": "white",
            "gridwidth": 2,
            "linecolor": "white",
            "showbackground": true,
            "ticks": "",
            "zerolinecolor": "white"
           },
           "yaxis": {
            "backgroundcolor": "#E5ECF6",
            "gridcolor": "white",
            "gridwidth": 2,
            "linecolor": "white",
            "showbackground": true,
            "ticks": "",
            "zerolinecolor": "white"
           },
           "zaxis": {
            "backgroundcolor": "#E5ECF6",
            "gridcolor": "white",
            "gridwidth": 2,
            "linecolor": "white",
            "showbackground": true,
            "ticks": "",
            "zerolinecolor": "white"
           }
          },
          "shapedefaults": {
           "line": {
            "color": "#2a3f5f"
           }
          },
          "ternary": {
           "aaxis": {
            "gridcolor": "white",
            "linecolor": "white",
            "ticks": ""
           },
           "baxis": {
            "gridcolor": "white",
            "linecolor": "white",
            "ticks": ""
           },
           "bgcolor": "#E5ECF6",
           "caxis": {
            "gridcolor": "white",
            "linecolor": "white",
            "ticks": ""
           }
          },
          "title": {
           "x": 0.05
          },
          "xaxis": {
           "automargin": true,
           "gridcolor": "white",
           "linecolor": "white",
           "ticks": "",
           "title": {
            "standoff": 15
           },
           "zerolinecolor": "white",
           "zerolinewidth": 2
          },
          "yaxis": {
           "automargin": true,
           "gridcolor": "white",
           "linecolor": "white",
           "ticks": "",
           "title": {
            "standoff": 15
           },
           "zerolinecolor": "white",
           "zerolinewidth": 2
          }
         }
        },
        "title": {
         "text": "Top 10 Features Most Correlated with Home Points"
        },
        "xaxis": {
         "anchor": "y",
         "domain": [
          0,
          1
         ],
         "title": {
          "text": "Correlation Coefficient"
         }
        },
        "yaxis": {
         "anchor": "x",
         "domain": [
          0,
          1
         ],
         "title": {
          "text": "Features"
         }
        }
       }
      }
     },
     "metadata": {},
     "output_type": "display_data"
    }
   ],
   "source": [
    "# First, create the correlation matrix for numerical columns\n",
    "numerical_cols = ['FTHG', 'FTAG', 'HTHG', 'HTAG', 'HS', 'AS', 'HST', 'AST', \n",
    "                  'HF', 'AF', 'HC', 'AC', 'HY', 'AY', 'HR', 'AR', \n",
    "                  'TotalGoals', 'GoalDifference', 'HomePoints']\n",
    "\n",
    "correlation_matrix = df[numerical_cols].corr()\n",
    "\n",
    "# Create a dictionary to explain abbreviations\n",
    "abbreviation_explanations = {\n",
    "    'FTHG': 'Full Time Home Goals',\n",
    "    'FTAG': 'Full Time Away Goals', \n",
    "    'HTHG': 'Half Time Home Goals',\n",
    "    'HTAG': 'Half Time Away Goals',\n",
    "    'HS': 'Home Shots',\n",
    "    'AS': 'Away Shots',\n",
    "    'HST': 'Home Shots on Target',\n",
    "    'AST': 'Away Shots on Target',\n",
    "    'HF': 'Home Fouls',\n",
    "    'AF': 'Away Fouls',\n",
    "    'HC': 'Home Corners',\n",
    "    'AC': 'Away Corners',\n",
    "    'HY': 'Home Yellow Cards',\n",
    "    'AY': 'Away Yellow Cards',\n",
    "    'HR': 'Home Red Cards',\n",
    "    'AR': 'Away Red Cards',\n",
    "    'TotalGoals': 'Total Goals in Match',\n",
    "    'GoalDifference': 'Home Goals - Away Goals',\n",
    "    'HomePoints': 'Points Earned by Home Team'\n",
    "}\n",
    "\n",
    "# Extract correlations with HomePoints\n",
    "homepoints_corr = correlation_matrix['HomePoints'].drop('HomePoints')\n",
    "homepoints_corr_sorted = homepoints_corr.abs().sort_values(ascending=False)\n",
    "\n",
    "# Get top 10 most correlated features\n",
    "top_correlations = homepoints_corr_sorted.head(10)\n",
    "top_corr_values = homepoints_corr[top_correlations.index]\n",
    "\n",
    "# Create hover text with explanations\n",
    "hover_text = [f\"{abbreviation_explanations.get(feature, feature)}<br>Correlation: {corr:.3f}\" \n",
    "              for feature, corr in top_corr_values.items()]\n",
    "\n",
    "# Create bar chart with enhanced hover information\n",
    "fig_homepoints = px.bar(\n",
    "    x=top_corr_values.values,\n",
    "    y=top_corr_values.index,\n",
    "    orientation='h',\n",
    "    title='Top 10 Features Most Correlated with Home Points',\n",
    "    labels={'x': 'Correlation Coefficient', 'y': 'Features'},\n",
    "    color=top_corr_values.values,\n",
    "    color_continuous_scale='RdBu_r',\n",
    "    color_continuous_midpoint=0,\n",
    "    hover_name=[abbreviation_explanations.get(feature, feature) for feature in top_corr_values.index]\n",
    ")\n",
    "\n",
    "# Update hover template for better formatting\n",
    "fig_homepoints.update_traces(\n",
    "    text=[f'{val:.3f}' for val in top_corr_values.values],\n",
    "    textposition='outside',\n",
    "    hovertemplate='<b>%{hovertext}</b><br>' +\n",
    "                  'Correlation: %{x:.3f}<br>' +\n",
    "                  '<extra></extra>',\n",
    "    hovertext=hover_text\n",
    ")\n",
    "\n",
    "fig_homepoints.update_layout(\n",
    "    height=500,\n",
    "    showlegend=False,\n",
    "    coloraxis_showscale=True,\n",
    "    coloraxis_colorbar_title=\"Correlation\"\n",
    ")\n",
    "\n",
    "fig_homepoints.show()\n"
   ]
  },
  {
   "cell_type": "code",
   "execution_count": null,
   "id": "75b77f78",
   "metadata": {},
   "outputs": [
    {
     "data": {
      "application/vnd.plotly.v1+json": {
       "config": {
        "plotlyServerURL": "https://plot.ly"
       },
       "data": [
        {
         "hovertemplate": "<b>%{hovertext}</b><br>Win Rate: %{y:.1f}%<br>Cards per Match: %{x:.2f}<br>Total Matches: %{marker.size}<br>Discipline Score: %{marker.color:.2f}<br><extra></extra>",
         "hovertext": [
          "Kortrijk",
          "St. Gilloise",
          "Gent",
          "Club Brugge",
          "Oud-Heverlee Leuven",
          "Beerschot VA",
          "Mechelen",
          "Genk",
          "Charleroi",
          "Standard",
          "St Truiden",
          "Antwerp",
          "Westerlo",
          "Cercle Brugge",
          "Anderlecht",
          "Eupen",
          "RWD Molenbeek",
          "Waregem",
          "Seraing",
          "Oostende",
          "Mouscron",
          "Waasland-Beveren"
         ],
         "legendgroup": "",
         "marker": {
          "color": {
           "bdata": "oT/JWFTDBEBsKK+hvIYGQHsb/aGQXABARCG5gNfbAEAOpshn3WAEQJ91gynyWQdAA15voz8UAkA6WLPE+JQBQKbQn2QsqgFAo4suuuiiCEBVVVVVVVUFQLYiaDip+wJAfleLmzC/A0BddNFFF90FQBdddNFFlwJACI2887c4BUByHMdxHMcHQJYRfUB17AVA8fDw8PDwCEDsrQ3T3AUHQPy+7/u+7wNAJUmSJEmSBEA=",
           "dtype": "f8"
          },
          "coloraxis": "coloraxis",
          "size": {
           "bdata": "rQByALEAsQCUAEoAsQCxAK0AsACxALEATwCwALAApwAkAIMARACDAD8APwA=",
           "dtype": "i2"
          },
          "sizemode": "area",
          "sizeref": 0.2832,
          "symbol": "circle"
         },
         "mode": "markers",
         "name": "",
         "orientation": "v",
         "showlegend": false,
         "type": "scatter",
         "x": {
          "bdata": "byn0JxmLAkBeQ3kN5TUEQPpDIbmA1/s/xfiUaedg/T/yWTeYIp8BQIp81g2myANAQ3IBr7fR/z9AFJILeL39Pzpd5Zn4uP8/RhdddNFFBEC1c7BmifEBQIeTui+PrQBAPgNR6cieAUCjiy666CIDQHTRRRdddP8/+HJDDEjHAkByHMdxHMcDQDHNXfBXcQJAWlpaWlpaBEDAihNS8iwDQJqmaZqmaQJAq6qqqqqqAkA=",
          "dtype": "f8"
         },
         "xaxis": "x",
         "y": {
          "bdata": "rBewzekqO0Cms5jOYjpQQMxjK4KGk0hAtXOwZonxTUB2gynyWTdAQDFFPusGUzhAxEndl8dWREBUpp2DNUtIQFAyFtUwO0RAXXTRRRedQUAy7RysWWJAQCQX8Hob/UlAS0f2DESlP0B10UUXXVRBQIsuuuiiS0dANdsnqgeNOEAdx3Ecx3EzQKTkWUb0AT1AHh4eHh4eM0Ck5FlG9AE9QFmWZVmWZTlAKIqiKIqiNEA=",
          "dtype": "f8"
         },
         "yaxis": "y"
        }
       ],
       "layout": {
        "annotations": [
         {
          "bgcolor": "rgba(255,255,255,0.8)",
          "bordercolor": "gray",
          "borderwidth": 1,
          "font": {
           "size": 10
          },
          "showarrow": false,
          "text": "💡 Bubble size = Total matches played<br>🔴 Color intensity = Disciplinary issues",
          "x": 0.02,
          "xref": "paper",
          "y": 0.98,
          "yref": "paper"
         },
         {
          "showarrow": false,
          "text": "Avg Win Rate: 35.8%",
          "x": 1,
          "xanchor": "right",
          "xref": "x domain",
          "y": 35.80149036278689,
          "yanchor": "bottom",
          "yref": "y"
         },
         {
          "showarrow": false,
          "text": "Avg Cards: 2.2",
          "x": 2.229518863594735,
          "xanchor": "left",
          "xref": "x",
          "y": 1,
          "yanchor": "top",
          "yref": "y domain"
         }
        ],
        "coloraxis": {
         "colorbar": {
          "title": {
           "text": "Discipline Penalty Score"
          }
         },
         "colorscale": [
          [
           0,
           "rgb(255,245,240)"
          ],
          [
           0.125,
           "rgb(254,224,210)"
          ],
          [
           0.25,
           "rgb(252,187,161)"
          ],
          [
           0.375,
           "rgb(252,146,114)"
          ],
          [
           0.5,
           "rgb(251,106,74)"
          ],
          [
           0.625,
           "rgb(239,59,44)"
          ],
          [
           0.75,
           "rgb(203,24,29)"
          ],
          [
           0.875,
           "rgb(165,15,21)"
          ],
          [
           1,
           "rgb(103,0,13)"
          ]
         ]
        },
        "font": {
         "size": 12
        },
        "height": 600,
        "legend": {
         "itemsizing": "constant",
         "tracegroupgap": 0
        },
        "plot_bgcolor": "rgba(240,240,240,0.8)",
        "shapes": [
         {
          "line": {
           "color": "gray",
           "dash": "dot"
          },
          "type": "line",
          "x0": 0,
          "x1": 1,
          "xref": "x domain",
          "y0": 35.80149036278689,
          "y1": 35.80149036278689,
          "yref": "y"
         },
         {
          "line": {
           "color": "gray",
           "dash": "dot"
          },
          "type": "line",
          "x0": 2.229518863594735,
          "x1": 2.229518863594735,
          "xref": "x",
          "y0": 0,
          "y1": 1,
          "yref": "y domain"
         }
        ],
        "showlegend": true,
        "template": {
         "data": {
          "bar": [
           {
            "error_x": {
             "color": "#2a3f5f"
            },
            "error_y": {
             "color": "#2a3f5f"
            },
            "marker": {
             "line": {
              "color": "#E5ECF6",
              "width": 0.5
             },
             "pattern": {
              "fillmode": "overlay",
              "size": 10,
              "solidity": 0.2
             }
            },
            "type": "bar"
           }
          ],
          "barpolar": [
           {
            "marker": {
             "line": {
              "color": "#E5ECF6",
              "width": 0.5
             },
             "pattern": {
              "fillmode": "overlay",
              "size": 10,
              "solidity": 0.2
             }
            },
            "type": "barpolar"
           }
          ],
          "carpet": [
           {
            "aaxis": {
             "endlinecolor": "#2a3f5f",
             "gridcolor": "white",
             "linecolor": "white",
             "minorgridcolor": "white",
             "startlinecolor": "#2a3f5f"
            },
            "baxis": {
             "endlinecolor": "#2a3f5f",
             "gridcolor": "white",
             "linecolor": "white",
             "minorgridcolor": "white",
             "startlinecolor": "#2a3f5f"
            },
            "type": "carpet"
           }
          ],
          "choropleth": [
           {
            "colorbar": {
             "outlinewidth": 0,
             "ticks": ""
            },
            "type": "choropleth"
           }
          ],
          "contour": [
           {
            "colorbar": {
             "outlinewidth": 0,
             "ticks": ""
            },
            "colorscale": [
             [
              0,
              "#0d0887"
             ],
             [
              0.1111111111111111,
              "#46039f"
             ],
             [
              0.2222222222222222,
              "#7201a8"
             ],
             [
              0.3333333333333333,
              "#9c179e"
             ],
             [
              0.4444444444444444,
              "#bd3786"
             ],
             [
              0.5555555555555556,
              "#d8576b"
             ],
             [
              0.6666666666666666,
              "#ed7953"
             ],
             [
              0.7777777777777778,
              "#fb9f3a"
             ],
             [
              0.8888888888888888,
              "#fdca26"
             ],
             [
              1,
              "#f0f921"
             ]
            ],
            "type": "contour"
           }
          ],
          "contourcarpet": [
           {
            "colorbar": {
             "outlinewidth": 0,
             "ticks": ""
            },
            "type": "contourcarpet"
           }
          ],
          "heatmap": [
           {
            "colorbar": {
             "outlinewidth": 0,
             "ticks": ""
            },
            "colorscale": [
             [
              0,
              "#0d0887"
             ],
             [
              0.1111111111111111,
              "#46039f"
             ],
             [
              0.2222222222222222,
              "#7201a8"
             ],
             [
              0.3333333333333333,
              "#9c179e"
             ],
             [
              0.4444444444444444,
              "#bd3786"
             ],
             [
              0.5555555555555556,
              "#d8576b"
             ],
             [
              0.6666666666666666,
              "#ed7953"
             ],
             [
              0.7777777777777778,
              "#fb9f3a"
             ],
             [
              0.8888888888888888,
              "#fdca26"
             ],
             [
              1,
              "#f0f921"
             ]
            ],
            "type": "heatmap"
           }
          ],
          "histogram": [
           {
            "marker": {
             "pattern": {
              "fillmode": "overlay",
              "size": 10,
              "solidity": 0.2
             }
            },
            "type": "histogram"
           }
          ],
          "histogram2d": [
           {
            "colorbar": {
             "outlinewidth": 0,
             "ticks": ""
            },
            "colorscale": [
             [
              0,
              "#0d0887"
             ],
             [
              0.1111111111111111,
              "#46039f"
             ],
             [
              0.2222222222222222,
              "#7201a8"
             ],
             [
              0.3333333333333333,
              "#9c179e"
             ],
             [
              0.4444444444444444,
              "#bd3786"
             ],
             [
              0.5555555555555556,
              "#d8576b"
             ],
             [
              0.6666666666666666,
              "#ed7953"
             ],
             [
              0.7777777777777778,
              "#fb9f3a"
             ],
             [
              0.8888888888888888,
              "#fdca26"
             ],
             [
              1,
              "#f0f921"
             ]
            ],
            "type": "histogram2d"
           }
          ],
          "histogram2dcontour": [
           {
            "colorbar": {
             "outlinewidth": 0,
             "ticks": ""
            },
            "colorscale": [
             [
              0,
              "#0d0887"
             ],
             [
              0.1111111111111111,
              "#46039f"
             ],
             [
              0.2222222222222222,
              "#7201a8"
             ],
             [
              0.3333333333333333,
              "#9c179e"
             ],
             [
              0.4444444444444444,
              "#bd3786"
             ],
             [
              0.5555555555555556,
              "#d8576b"
             ],
             [
              0.6666666666666666,
              "#ed7953"
             ],
             [
              0.7777777777777778,
              "#fb9f3a"
             ],
             [
              0.8888888888888888,
              "#fdca26"
             ],
             [
              1,
              "#f0f921"
             ]
            ],
            "type": "histogram2dcontour"
           }
          ],
          "mesh3d": [
           {
            "colorbar": {
             "outlinewidth": 0,
             "ticks": ""
            },
            "type": "mesh3d"
           }
          ],
          "parcoords": [
           {
            "line": {
             "colorbar": {
              "outlinewidth": 0,
              "ticks": ""
             }
            },
            "type": "parcoords"
           }
          ],
          "pie": [
           {
            "automargin": true,
            "type": "pie"
           }
          ],
          "scatter": [
           {
            "fillpattern": {
             "fillmode": "overlay",
             "size": 10,
             "solidity": 0.2
            },
            "type": "scatter"
           }
          ],
          "scatter3d": [
           {
            "line": {
             "colorbar": {
              "outlinewidth": 0,
              "ticks": ""
             }
            },
            "marker": {
             "colorbar": {
              "outlinewidth": 0,
              "ticks": ""
             }
            },
            "type": "scatter3d"
           }
          ],
          "scattercarpet": [
           {
            "marker": {
             "colorbar": {
              "outlinewidth": 0,
              "ticks": ""
             }
            },
            "type": "scattercarpet"
           }
          ],
          "scattergeo": [
           {
            "marker": {
             "colorbar": {
              "outlinewidth": 0,
              "ticks": ""
             }
            },
            "type": "scattergeo"
           }
          ],
          "scattergl": [
           {
            "marker": {
             "colorbar": {
              "outlinewidth": 0,
              "ticks": ""
             }
            },
            "type": "scattergl"
           }
          ],
          "scattermap": [
           {
            "marker": {
             "colorbar": {
              "outlinewidth": 0,
              "ticks": ""
             }
            },
            "type": "scattermap"
           }
          ],
          "scattermapbox": [
           {
            "marker": {
             "colorbar": {
              "outlinewidth": 0,
              "ticks": ""
             }
            },
            "type": "scattermapbox"
           }
          ],
          "scatterpolar": [
           {
            "marker": {
             "colorbar": {
              "outlinewidth": 0,
              "ticks": ""
             }
            },
            "type": "scatterpolar"
           }
          ],
          "scatterpolargl": [
           {
            "marker": {
             "colorbar": {
              "outlinewidth": 0,
              "ticks": ""
             }
            },
            "type": "scatterpolargl"
           }
          ],
          "scatterternary": [
           {
            "marker": {
             "colorbar": {
              "outlinewidth": 0,
              "ticks": ""
             }
            },
            "type": "scatterternary"
           }
          ],
          "surface": [
           {
            "colorbar": {
             "outlinewidth": 0,
             "ticks": ""
            },
            "colorscale": [
             [
              0,
              "#0d0887"
             ],
             [
              0.1111111111111111,
              "#46039f"
             ],
             [
              0.2222222222222222,
              "#7201a8"
             ],
             [
              0.3333333333333333,
              "#9c179e"
             ],
             [
              0.4444444444444444,
              "#bd3786"
             ],
             [
              0.5555555555555556,
              "#d8576b"
             ],
             [
              0.6666666666666666,
              "#ed7953"
             ],
             [
              0.7777777777777778,
              "#fb9f3a"
             ],
             [
              0.8888888888888888,
              "#fdca26"
             ],
             [
              1,
              "#f0f921"
             ]
            ],
            "type": "surface"
           }
          ],
          "table": [
           {
            "cells": {
             "fill": {
              "color": "#EBF0F8"
             },
             "line": {
              "color": "white"
             }
            },
            "header": {
             "fill": {
              "color": "#C8D4E3"
             },
             "line": {
              "color": "white"
             }
            },
            "type": "table"
           }
          ]
         },
         "layout": {
          "annotationdefaults": {
           "arrowcolor": "#2a3f5f",
           "arrowhead": 0,
           "arrowwidth": 1
          },
          "autotypenumbers": "strict",
          "coloraxis": {
           "colorbar": {
            "outlinewidth": 0,
            "ticks": ""
           }
          },
          "colorscale": {
           "diverging": [
            [
             0,
             "#8e0152"
            ],
            [
             0.1,
             "#c51b7d"
            ],
            [
             0.2,
             "#de77ae"
            ],
            [
             0.3,
             "#f1b6da"
            ],
            [
             0.4,
             "#fde0ef"
            ],
            [
             0.5,
             "#f7f7f7"
            ],
            [
             0.6,
             "#e6f5d0"
            ],
            [
             0.7,
             "#b8e186"
            ],
            [
             0.8,
             "#7fbc41"
            ],
            [
             0.9,
             "#4d9221"
            ],
            [
             1,
             "#276419"
            ]
           ],
           "sequential": [
            [
             0,
             "#0d0887"
            ],
            [
             0.1111111111111111,
             "#46039f"
            ],
            [
             0.2222222222222222,
             "#7201a8"
            ],
            [
             0.3333333333333333,
             "#9c179e"
            ],
            [
             0.4444444444444444,
             "#bd3786"
            ],
            [
             0.5555555555555556,
             "#d8576b"
            ],
            [
             0.6666666666666666,
             "#ed7953"
            ],
            [
             0.7777777777777778,
             "#fb9f3a"
            ],
            [
             0.8888888888888888,
             "#fdca26"
            ],
            [
             1,
             "#f0f921"
            ]
           ],
           "sequentialminus": [
            [
             0,
             "#0d0887"
            ],
            [
             0.1111111111111111,
             "#46039f"
            ],
            [
             0.2222222222222222,
             "#7201a8"
            ],
            [
             0.3333333333333333,
             "#9c179e"
            ],
            [
             0.4444444444444444,
             "#bd3786"
            ],
            [
             0.5555555555555556,
             "#d8576b"
            ],
            [
             0.6666666666666666,
             "#ed7953"
            ],
            [
             0.7777777777777778,
             "#fb9f3a"
            ],
            [
             0.8888888888888888,
             "#fdca26"
            ],
            [
             1,
             "#f0f921"
            ]
           ]
          },
          "colorway": [
           "#636efa",
           "#EF553B",
           "#00cc96",
           "#ab63fa",
           "#FFA15A",
           "#19d3f3",
           "#FF6692",
           "#B6E880",
           "#FF97FF",
           "#FECB52"
          ],
          "font": {
           "color": "#2a3f5f"
          },
          "geo": {
           "bgcolor": "white",
           "lakecolor": "white",
           "landcolor": "#E5ECF6",
           "showlakes": true,
           "showland": true,
           "subunitcolor": "white"
          },
          "hoverlabel": {
           "align": "left"
          },
          "hovermode": "closest",
          "mapbox": {
           "style": "light"
          },
          "paper_bgcolor": "white",
          "plot_bgcolor": "#E5ECF6",
          "polar": {
           "angularaxis": {
            "gridcolor": "white",
            "linecolor": "white",
            "ticks": ""
           },
           "bgcolor": "#E5ECF6",
           "radialaxis": {
            "gridcolor": "white",
            "linecolor": "white",
            "ticks": ""
           }
          },
          "scene": {
           "xaxis": {
            "backgroundcolor": "#E5ECF6",
            "gridcolor": "white",
            "gridwidth": 2,
            "linecolor": "white",
            "showbackground": true,
            "ticks": "",
            "zerolinecolor": "white"
           },
           "yaxis": {
            "backgroundcolor": "#E5ECF6",
            "gridcolor": "white",
            "gridwidth": 2,
            "linecolor": "white",
            "showbackground": true,
            "ticks": "",
            "zerolinecolor": "white"
           },
           "zaxis": {
            "backgroundcolor": "#E5ECF6",
            "gridcolor": "white",
            "gridwidth": 2,
            "linecolor": "white",
            "showbackground": true,
            "ticks": "",
            "zerolinecolor": "white"
           }
          },
          "shapedefaults": {
           "line": {
            "color": "#2a3f5f"
           }
          },
          "ternary": {
           "aaxis": {
            "gridcolor": "white",
            "linecolor": "white",
            "ticks": ""
           },
           "baxis": {
            "gridcolor": "white",
            "linecolor": "white",
            "ticks": ""
           },
           "bgcolor": "#E5ECF6",
           "caxis": {
            "gridcolor": "white",
            "linecolor": "white",
            "ticks": ""
           }
          },
          "title": {
           "x": 0.05
          },
          "xaxis": {
           "automargin": true,
           "gridcolor": "white",
           "linecolor": "white",
           "ticks": "",
           "title": {
            "standoff": 15
           },
           "zerolinecolor": "white",
           "zerolinewidth": 2
          },
          "yaxis": {
           "automargin": true,
           "gridcolor": "white",
           "linecolor": "white",
           "ticks": "",
           "title": {
            "standoff": 15
           },
           "zerolinecolor": "white",
           "zerolinewidth": 2
          }
         }
        },
        "title": {
         "font": {
          "size": 16
         },
         "text": "🟨🟥 The Card Penalty Effect: How Discipline Affects Team Success"
        },
        "xaxis": {
         "anchor": "y",
         "domain": [
          0,
          1
         ],
         "title": {
          "text": "Total Cards per Match (Yellow + 2×Red)"
         }
        },
        "yaxis": {
         "anchor": "x",
         "domain": [
          0,
          1
         ],
         "title": {
          "text": "Win Rate (%)"
         }
        }
       }
      }
     },
     "metadata": {},
     "output_type": "display_data"
    }
   ],
   "source": [
    "# Create a comprehensive cards vs wins analysis\n",
    "team_cards_wins = []\n",
    "\n",
    "for team in df['HomeTeam'].unique():\n",
    "    # Home matches\n",
    "    home_matches = df[df['HomeTeam'] == team]\n",
    "    home_wins = len(home_matches[home_matches['FTR'] == 'H'])\n",
    "    home_yellow = home_matches['HY'].sum()\n",
    "    home_red = home_matches['HR'].sum()\n",
    "    home_total = len(home_matches)\n",
    "    \n",
    "    # Away matches  \n",
    "    away_matches = df[df['AwayTeam'] == team]\n",
    "    away_wins = len(away_matches[away_matches['FTR'] == 'A'])\n",
    "    away_yellow = away_matches['AY'].sum()\n",
    "    away_red = away_matches['AR'].sum()\n",
    "    away_total = len(away_matches)\n",
    "    \n",
    "    # Combined stats\n",
    "    total_wins = home_wins + away_wins\n",
    "    total_matches = home_total + away_total\n",
    "    total_yellow = home_yellow + away_yellow\n",
    "    total_red = home_red + away_red\n",
    "    total_cards = total_yellow + (total_red * 2)  # Weight red cards more heavily\n",
    "    \n",
    "    if total_matches > 20:  # Only include teams with sufficient matches\n",
    "        team_cards_wins.append({\n",
    "            'Team': team,\n",
    "            'Win_Rate': (total_wins / total_matches) * 100,\n",
    "            'Cards_Per_Match': total_cards / total_matches,\n",
    "            'Yellow_Per_Match': total_yellow / total_matches,\n",
    "            'Red_Per_Match': total_red / total_matches,\n",
    "            'Total_Matches': total_matches,\n",
    "            'Discipline_Score': (total_yellow * 1 + total_red * 5) / total_matches  # Discipline penalty score\n",
    "        })\n",
    "\n",
    "cards_df = pd.DataFrame(team_cards_wins)\n",
    "\n",
    "# Create the main bubble chart\n",
    "fig_cards = px.scatter(\n",
    "    cards_df,\n",
    "    x='Cards_Per_Match',\n",
    "    y='Win_Rate',\n",
    "    size='Total_Matches',\n",
    "    color='Discipline_Score',\n",
    "    hover_name='Team',\n",
    "    title='🟨🟥 The Card Penalty Effect: How Discipline Affects Team Success',\n",
    "    labels={\n",
    "        'Cards_Per_Match': 'Total Cards per Match (Yellow + 2×Red)',\n",
    "        'Win_Rate': 'Win Rate (%)',\n",
    "        'Discipline_Score': 'Discipline Penalty Score',\n",
    "        'Total_Matches': 'Total Matches'\n",
    "    },\n",
    "    color_continuous_scale='Reds',\n",
    "    size_max=25\n",
    ")\n",
    "\n",
    "# Customize the layout\n",
    "fig_cards.update_layout(\n",
    "    height=600,\n",
    "    showlegend=True,\n",
    "    plot_bgcolor='rgba(240,240,240,0.8)',\n",
    "    font=dict(size=12),\n",
    "    title_font_size=16,\n",
    "    annotations=[\n",
    "        dict(\n",
    "            x=0.02, y=0.98,\n",
    "            xref='paper', yref='paper',\n",
    "            text='💡 Bubble size = Total matches played<br>🔴 Color intensity = Disciplinary issues',\n",
    "            showarrow=False,\n",
    "            font=dict(size=10),\n",
    "            bgcolor='rgba(255,255,255,0.8)',\n",
    "            bordercolor='gray',\n",
    "            borderwidth=1\n",
    "        )\n",
    "    ]\n",
    ")\n",
    "\n",
    "# Add quadrant lines for better interpretation\n",
    "mean_cards = cards_df['Cards_Per_Match'].mean()\n",
    "mean_wins = cards_df['Win_Rate'].mean()\n",
    "\n",
    "fig_cards.add_hline(y=mean_wins, line_dash=\"dot\", line_color=\"gray\", \n",
    "                   annotation_text=f\"Avg Win Rate: {mean_wins:.1f}%\")\n",
    "fig_cards.add_vline(x=mean_cards, line_dash=\"dot\", line_color=\"gray\",\n",
    "                   annotation_text=f\"Avg Cards: {mean_cards:.1f}\")\n",
    "\n",
    "# Update hover template for better information\n",
    "fig_cards.update_traces(\n",
    "    hovertemplate='<b>%{hovertext}</b><br>' +\n",
    "                  'Win Rate: %{y:.1f}%<br>' +\n",
    "                  'Cards per Match: %{x:.2f}<br>' +\n",
    "                  'Total Matches: %{marker.size}<br>' +\n",
    "                  'Discipline Score: %{marker.color:.2f}<br>' +\n",
    "                  '<extra></extra>',\n",
    "    selector=dict(mode='markers')\n",
    ")\n",
    "\n",
    "fig_cards.show()"
   ]
  },
  {
   "cell_type": "code",
   "execution_count": null,
   "id": "5a7aba09",
   "metadata": {},
   "outputs": [
    {
     "data": {
      "application/vnd.plotly.v1+json": {
       "config": {
        "plotlyServerURL": "https://plot.ly"
       },
       "data": [
        {
         "hovertemplate": "<b>%{hovertext}</b><br><br>Away_Win_Rate=%{x}<br>Home_Win_Rate=%{y}<br>Home_Matches=%{marker.size}<br>Home_Advantage=%{marker.color}<extra></extra>",
         "hovertext": [
          "Kortrijk",
          "St. Gilloise",
          "Gent",
          "Club Brugge",
          "Oud-Heverlee Leuven",
          "Beerschot VA",
          "Mechelen",
          "Genk",
          "Charleroi",
          "Standard",
          "St Truiden",
          "Antwerp",
          "Westerlo",
          "Cercle Brugge",
          "Anderlecht",
          "Eupen",
          "Waregem",
          "Seraing",
          "Oostende",
          "Mouscron",
          "Waasland-Beveren"
         ],
         "legendgroup": "",
         "marker": {
          "color": {
           "bdata": "Ar6TheA7CUAfwX0E9xEMQOoDq4bvZDBAKJeKmuu5IEDyWTeYIp81QPJZN5ginyVA9qMf/ehHGUAEq4bvZMozQNHudi7tbiNARRdddNFFK0D86Ec/+tEiQJPIWztPSyxAfsu3fMu3J0CSJNLUZQgmQNBFF1100S9AweaTH4cYD0Cs9L7AUTMaQIOHh4eHhwfAfzePUH2mLUBLKaWUUsonQCqllFJKKQTA",
           "dtype": "f8"
          },
          "coloraxis": "coloraxis",
          "size": {
           "bdata": "VzlZWUolWVlWWFhYKFdYU0EiQiAf",
           "dtype": "i1"
          },
          "sizemode": "area",
          "sizeref": 0.2225,
          "symbol": "circle"
         },
         "mode": "markers",
         "name": "",
         "orientation": "v",
         "showlegend": false,
         "type": "scatter",
         "x": {
          "bdata": "Zk1ZU9aUOUBDeQ3lNZRPQHXRRRdddERAF1100UXXS0DyWTeYIp81QLRuMEU+6zJAAAAAAADAQkDRRRdddFFDQLcO/Wbr0EFA6aKLLrpoPECCC1zgAhc8QGc84xnPeEZAQRqkQRqkOUBTm9rUpjY9QNFFF110UUNA6Hme53meNkDCBx988ME5QJaWlpaWljRAntiJndiJNUBba6211lozQAAAAAAA4DVA",
          "dtype": "f8"
         },
         "xaxis": "x",
         "y": {
          "bdata": "JsULZFK8PECqqqqqqqpQQGpTm9rUpkxAcIELXOACUEDyWTeYIp9FQK0bTJHPuj1Af/SjH/3oRUBTm9rUpjZNQGvKmrKmrEZARhdddNEFRUAAAAAAAMBCQIwuuuiii01AAAAAAADAQkDO1qHfbB1EQEUXXXTRRUtAwPaQy4qBOkB2Yid2YidAQKalpaWlpTFAL7rooosuQkAAAAAAAEA/QFtrrbXWWjNA",
          "dtype": "f8"
         },
         "yaxis": "y"
        },
        {
         "hovertemplate": "<b>%{hovertext}</b><br><br>Away_Goals_Per_Game=%{x}<br>Home_Goals_Per_Game=%{y}<br>Home_Matches=%{marker.size}<br>Home_Advantage=%{marker.color}<extra></extra>",
         "hovertext": [
          "Kortrijk",
          "St. Gilloise",
          "Gent",
          "Club Brugge",
          "Oud-Heverlee Leuven",
          "Beerschot VA",
          "Mechelen",
          "Genk",
          "Charleroi",
          "Standard",
          "St Truiden",
          "Antwerp",
          "Westerlo",
          "Cercle Brugge",
          "Anderlecht",
          "Eupen",
          "Waregem",
          "Seraing",
          "Oostende",
          "Mouscron",
          "Waasland-Beveren"
         ],
         "legendgroup": "",
         "marker": {
          "color": {
           "bdata": "Ar6TheA7CUAfwX0E9xEMQOoDq4bvZDBAKJeKmuu5IEDyWTeYIp81QPJZN5ginyVA9qMf/ehHGUAEq4bvZMozQNHudi7tbiNARRdddNFFK0D86Ec/+tEiQJPIWztPSyxAfsu3fMu3J0CSJNLUZQgmQNBFF1100S9AweaTH4cYD0Cs9L7AUTMaQIOHh4eHhwfAfzePUH2mLUBLKaWUUsonQCqllFJKKQTA",
           "dtype": "f8"
          },
          "coloraxis": "coloraxis",
          "size": {
           "bdata": "VzlZWUolWVlWWFhYKFdYU0EiQiAf",
           "dtype": "i1"
          },
          "sizemode": "area",
          "sizeref": 0.2225,
          "symbol": "circle"
         },
         "mode": "markers",
         "name": "",
         "orientation": "v",
         "showlegend": false,
         "type": "scatter",
         "x": {
          "bdata": "R9wRd8Qd8T82lNdQXkMBQOmiiy666Pg/RhdddNFF/T991g2myGf1P1o3mCKfdfM/jC666KKL9D9ddNFFF136P1juaYTlnvY/6aKLLrro9D8RilCEIhTxP1zgAhe4wPU/5lu+5Vu+9T8RilCEIhTxPwAAAAAAAPg/t23btm3b7j8ffPDBBx/0PwAAAAAAAPA/vdALvdAL7T8AAAAAAADwPwAAAAAAAPA/",
          "dtype": "f8"
         },
         "xaxis": "x2",
         "y": {
          "bdata": "dug3W4d+8z8E9xHcR3D/P4pQhCIUoQBAmMMc5jCHAUB2gynyWTf4P8ln3WCKfPY/0o9+9KMf/T+BC1zgAhcAQHFH3BF3xPU/AAAAAAAA9j+MLrrooov0P+miiy666P4/AAAAAAAA/j+BTIoXyKT4P3TRRRdddP0/p86vPeSy8j+plVqplVr5P5eWlpaWluY/0UUXXXTR9T8AAAAAAIDzPwghhBBCCPE/",
          "dtype": "f8"
         },
         "yaxis": "y2"
        },
        {
         "hovertemplate": "Home_Advantage=%{marker.color}<br>Team=%{y}<extra></extra>",
         "legendgroup": "",
         "marker": {
          "color": {
           "bdata": "g4eHh4eHB8AqpZRSSikEwAK+k4XgOwlAH8F9BPcRDEDB5pMfhxgPQPajH/3oRxlArPS+wFEzGkAol4qa67kgQPzoRz/60SJA0e52Lu1uI0DyWTeYIp8lQJIk0tRlCCZAfsu3fMu3J0BLKaWUUsonQEUXXXTRRStAk8hbO09LLEB/N49QfaYtQNBFF1100S9A6gOrhu9kMEAEq4bvZMozQPJZN5ginzVA",
           "dtype": "f8"
          },
          "coloraxis": "coloraxis",
          "pattern": {
           "shape": ""
          }
         },
         "name": "",
         "orientation": "h",
         "showlegend": false,
         "textposition": "auto",
         "type": "bar",
         "x": {
          "bdata": "g4eHh4eHB8AqpZRSSikEwAK+k4XgOwlAH8F9BPcRDEDB5pMfhxgPQPajH/3oRxlArPS+wFEzGkAol4qa67kgQPzoRz/60SJA0e52Lu1uI0DyWTeYIp8lQJIk0tRlCCZAfsu3fMu3J0BLKaWUUsonQEUXXXTRRStAk8hbO09LLEB/N49QfaYtQNBFF1100S9A6gOrhu9kMEAEq4bvZMozQPJZN5ginzVA",
          "dtype": "f8"
         },
         "xaxis": "x3",
         "y": [
          "Seraing",
          "Waasland-Beveren",
          "Kortrijk",
          "St. Gilloise",
          "Eupen",
          "Mechelen",
          "Waregem",
          "Club Brugge",
          "St Truiden",
          "Charleroi",
          "Beerschot VA",
          "Cercle Brugge",
          "Westerlo",
          "Mouscron",
          "Standard",
          "Antwerp",
          "Oostende",
          "Anderlecht",
          "Gent",
          "Genk",
          "Oud-Heverlee Leuven"
         ],
         "yaxis": "y3"
        },
        {
         "hovertemplate": "<b>%{hovertext}</b><br><br>Goal_Difference_Away=%{x}<br>Goal_Difference_Home=%{y}<br>Home_Matches=%{marker.size}<br>Home_Advantage=%{marker.color}<extra></extra>",
         "hovertext": [
          "Kortrijk",
          "St. Gilloise",
          "Gent",
          "Club Brugge",
          "Oud-Heverlee Leuven",
          "Beerschot VA",
          "Mechelen",
          "Genk",
          "Charleroi",
          "Standard",
          "St Truiden",
          "Antwerp",
          "Westerlo",
          "Cercle Brugge",
          "Anderlecht",
          "Eupen",
          "Waregem",
          "Seraing",
          "Oostende",
          "Mouscron",
          "Waasland-Beveren"
         ],
         "legendgroup": "",
         "marker": {
          "color": {
           "bdata": "Ar6TheA7CUAfwX0E9xEMQOoDq4bvZDBAKJeKmuu5IEDyWTeYIp81QPJZN5ginyVA9qMf/ehHGUAEq4bvZMozQNHudi7tbiNARRdddNFFK0D86Ec/+tEiQJPIWztPSyxAfsu3fMu3J0CSJNLUZQgmQNBFF1100S9AweaTH4cYD0Cs9L7AUTMaQIOHh4eHhwfAfzePUH2mLUBLKaWUUsonQCqllFJKKQTA",
           "dtype": "f8"
          },
          "coloraxis": "coloraxis",
          "size": {
           "bdata": "VzlZWUolWVlWWFhYKFdYU0EiQiAf",
           "dtype": "i1"
          },
          "sizemode": "area",
          "sizeref": 0.2225,
          "symbol": "circle"
         },
         "mode": "markers",
         "name": "",
         "orientation": "v",
         "showlegend": false,
         "type": "scatter",
         "x": {
          "bdata": "v6Av6Av64r95DeU1lNfwP7rooosuutg/o4suuuii6z+myGfdYIrcv60bTJHPuvG/AAAAAAAA2L8XXXTRRRe9Py+QSfECmcS/jC666KKL1r884xnPeMbjv3CBC1zgAsc/XL7lW77l278DF7jABS7gv3TRRRdddNE/DMMwDMMw8L/CBx988MHnvzw8PDw8PPS/vdALvdAL7b/GGGOMMcbovwAAAAAAAOy/",
          "dtype": "f8"
         },
         "xaxis": "x4",
         "y": {
          "bdata": "YbmnEZZ72r/8CO4juI/wPwYucIELXPA/alOb2tSm9j/QusEU+azLP9C6wRT5rNu/IP3oRz/60T/d6173utftP3fEHXFH3NE/RhdddNFF1z8XXXTRRRetPxdddNFFF+0/ZmZmZmZmxj/6zdah32zNPxdddNFFF+0/U+fXHnJZ4b+e2Imd2Indv3h4eHh4ePC/J5tssskm278AAAAAAAAAABljjDHGGPO/",
          "dtype": "f8"
         },
         "yaxis": "y4"
        }
       ],
       "layout": {
        "annotations": [
         {
          "font": {
           "size": 16
          },
          "showarrow": false,
          "text": "Win Rate: Home vs Away",
          "x": 0.225,
          "xanchor": "center",
          "xref": "paper",
          "y": 1,
          "yanchor": "bottom",
          "yref": "paper"
         },
         {
          "font": {
           "size": 16
          },
          "showarrow": false,
          "text": "Goals Scored: Home vs Away",
          "x": 0.775,
          "xanchor": "center",
          "xref": "paper",
          "y": 1,
          "yanchor": "bottom",
          "yref": "paper"
         },
         {
          "font": {
           "size": 16
          },
          "showarrow": false,
          "text": "Home Advantage by Team",
          "x": 0.225,
          "xanchor": "center",
          "xref": "paper",
          "y": 0.375,
          "yanchor": "bottom",
          "yref": "paper"
         },
         {
          "font": {
           "size": 16
          },
          "showarrow": false,
          "text": "Goal Difference: Home vs Away",
          "x": 0.775,
          "xanchor": "center",
          "xref": "paper",
          "y": 0.375,
          "yanchor": "bottom",
          "yref": "paper"
         }
        ],
        "height": 800,
        "shapes": [
         {
          "line": {
           "color": "gray",
           "dash": "dash"
          },
          "type": "line",
          "x0": 0,
          "x1": 70,
          "xref": "x",
          "y0": 0,
          "y1": 70,
          "yref": "y"
         },
         {
          "line": {
           "color": "gray",
           "dash": "dash"
          },
          "type": "line",
          "x0": 0.5,
          "x1": 2.5,
          "xref": "x2",
          "y0": 0.5,
          "y1": 2.5,
          "yref": "y2"
         },
         {
          "line": {
           "color": "gray",
           "dash": "dash"
          },
          "type": "line",
          "x0": -2,
          "x1": 2,
          "xref": "x4",
          "y0": -2,
          "y1": 2,
          "yref": "y4"
         },
         {
          "line": {
           "color": "gray",
           "dash": "dot"
          },
          "type": "line",
          "x0": 0,
          "x1": 1,
          "xref": "x4 domain",
          "y0": 0,
          "y1": 0,
          "yref": "y4"
         },
         {
          "line": {
           "color": "gray",
           "dash": "dot"
          },
          "type": "line",
          "x0": 0,
          "x1": 0,
          "xref": "x4",
          "y0": 0,
          "y1": 1,
          "yref": "y4 domain"
         }
        ],
        "showlegend": false,
        "template": {
         "data": {
          "bar": [
           {
            "error_x": {
             "color": "#2a3f5f"
            },
            "error_y": {
             "color": "#2a3f5f"
            },
            "marker": {
             "line": {
              "color": "#E5ECF6",
              "width": 0.5
             },
             "pattern": {
              "fillmode": "overlay",
              "size": 10,
              "solidity": 0.2
             }
            },
            "type": "bar"
           }
          ],
          "barpolar": [
           {
            "marker": {
             "line": {
              "color": "#E5ECF6",
              "width": 0.5
             },
             "pattern": {
              "fillmode": "overlay",
              "size": 10,
              "solidity": 0.2
             }
            },
            "type": "barpolar"
           }
          ],
          "carpet": [
           {
            "aaxis": {
             "endlinecolor": "#2a3f5f",
             "gridcolor": "white",
             "linecolor": "white",
             "minorgridcolor": "white",
             "startlinecolor": "#2a3f5f"
            },
            "baxis": {
             "endlinecolor": "#2a3f5f",
             "gridcolor": "white",
             "linecolor": "white",
             "minorgridcolor": "white",
             "startlinecolor": "#2a3f5f"
            },
            "type": "carpet"
           }
          ],
          "choropleth": [
           {
            "colorbar": {
             "outlinewidth": 0,
             "ticks": ""
            },
            "type": "choropleth"
           }
          ],
          "contour": [
           {
            "colorbar": {
             "outlinewidth": 0,
             "ticks": ""
            },
            "colorscale": [
             [
              0,
              "#0d0887"
             ],
             [
              0.1111111111111111,
              "#46039f"
             ],
             [
              0.2222222222222222,
              "#7201a8"
             ],
             [
              0.3333333333333333,
              "#9c179e"
             ],
             [
              0.4444444444444444,
              "#bd3786"
             ],
             [
              0.5555555555555556,
              "#d8576b"
             ],
             [
              0.6666666666666666,
              "#ed7953"
             ],
             [
              0.7777777777777778,
              "#fb9f3a"
             ],
             [
              0.8888888888888888,
              "#fdca26"
             ],
             [
              1,
              "#f0f921"
             ]
            ],
            "type": "contour"
           }
          ],
          "contourcarpet": [
           {
            "colorbar": {
             "outlinewidth": 0,
             "ticks": ""
            },
            "type": "contourcarpet"
           }
          ],
          "heatmap": [
           {
            "colorbar": {
             "outlinewidth": 0,
             "ticks": ""
            },
            "colorscale": [
             [
              0,
              "#0d0887"
             ],
             [
              0.1111111111111111,
              "#46039f"
             ],
             [
              0.2222222222222222,
              "#7201a8"
             ],
             [
              0.3333333333333333,
              "#9c179e"
             ],
             [
              0.4444444444444444,
              "#bd3786"
             ],
             [
              0.5555555555555556,
              "#d8576b"
             ],
             [
              0.6666666666666666,
              "#ed7953"
             ],
             [
              0.7777777777777778,
              "#fb9f3a"
             ],
             [
              0.8888888888888888,
              "#fdca26"
             ],
             [
              1,
              "#f0f921"
             ]
            ],
            "type": "heatmap"
           }
          ],
          "histogram": [
           {
            "marker": {
             "pattern": {
              "fillmode": "overlay",
              "size": 10,
              "solidity": 0.2
             }
            },
            "type": "histogram"
           }
          ],
          "histogram2d": [
           {
            "colorbar": {
             "outlinewidth": 0,
             "ticks": ""
            },
            "colorscale": [
             [
              0,
              "#0d0887"
             ],
             [
              0.1111111111111111,
              "#46039f"
             ],
             [
              0.2222222222222222,
              "#7201a8"
             ],
             [
              0.3333333333333333,
              "#9c179e"
             ],
             [
              0.4444444444444444,
              "#bd3786"
             ],
             [
              0.5555555555555556,
              "#d8576b"
             ],
             [
              0.6666666666666666,
              "#ed7953"
             ],
             [
              0.7777777777777778,
              "#fb9f3a"
             ],
             [
              0.8888888888888888,
              "#fdca26"
             ],
             [
              1,
              "#f0f921"
             ]
            ],
            "type": "histogram2d"
           }
          ],
          "histogram2dcontour": [
           {
            "colorbar": {
             "outlinewidth": 0,
             "ticks": ""
            },
            "colorscale": [
             [
              0,
              "#0d0887"
             ],
             [
              0.1111111111111111,
              "#46039f"
             ],
             [
              0.2222222222222222,
              "#7201a8"
             ],
             [
              0.3333333333333333,
              "#9c179e"
             ],
             [
              0.4444444444444444,
              "#bd3786"
             ],
             [
              0.5555555555555556,
              "#d8576b"
             ],
             [
              0.6666666666666666,
              "#ed7953"
             ],
             [
              0.7777777777777778,
              "#fb9f3a"
             ],
             [
              0.8888888888888888,
              "#fdca26"
             ],
             [
              1,
              "#f0f921"
             ]
            ],
            "type": "histogram2dcontour"
           }
          ],
          "mesh3d": [
           {
            "colorbar": {
             "outlinewidth": 0,
             "ticks": ""
            },
            "type": "mesh3d"
           }
          ],
          "parcoords": [
           {
            "line": {
             "colorbar": {
              "outlinewidth": 0,
              "ticks": ""
             }
            },
            "type": "parcoords"
           }
          ],
          "pie": [
           {
            "automargin": true,
            "type": "pie"
           }
          ],
          "scatter": [
           {
            "fillpattern": {
             "fillmode": "overlay",
             "size": 10,
             "solidity": 0.2
            },
            "type": "scatter"
           }
          ],
          "scatter3d": [
           {
            "line": {
             "colorbar": {
              "outlinewidth": 0,
              "ticks": ""
             }
            },
            "marker": {
             "colorbar": {
              "outlinewidth": 0,
              "ticks": ""
             }
            },
            "type": "scatter3d"
           }
          ],
          "scattercarpet": [
           {
            "marker": {
             "colorbar": {
              "outlinewidth": 0,
              "ticks": ""
             }
            },
            "type": "scattercarpet"
           }
          ],
          "scattergeo": [
           {
            "marker": {
             "colorbar": {
              "outlinewidth": 0,
              "ticks": ""
             }
            },
            "type": "scattergeo"
           }
          ],
          "scattergl": [
           {
            "marker": {
             "colorbar": {
              "outlinewidth": 0,
              "ticks": ""
             }
            },
            "type": "scattergl"
           }
          ],
          "scattermap": [
           {
            "marker": {
             "colorbar": {
              "outlinewidth": 0,
              "ticks": ""
             }
            },
            "type": "scattermap"
           }
          ],
          "scattermapbox": [
           {
            "marker": {
             "colorbar": {
              "outlinewidth": 0,
              "ticks": ""
             }
            },
            "type": "scattermapbox"
           }
          ],
          "scatterpolar": [
           {
            "marker": {
             "colorbar": {
              "outlinewidth": 0,
              "ticks": ""
             }
            },
            "type": "scatterpolar"
           }
          ],
          "scatterpolargl": [
           {
            "marker": {
             "colorbar": {
              "outlinewidth": 0,
              "ticks": ""
             }
            },
            "type": "scatterpolargl"
           }
          ],
          "scatterternary": [
           {
            "marker": {
             "colorbar": {
              "outlinewidth": 0,
              "ticks": ""
             }
            },
            "type": "scatterternary"
           }
          ],
          "surface": [
           {
            "colorbar": {
             "outlinewidth": 0,
             "ticks": ""
            },
            "colorscale": [
             [
              0,
              "#0d0887"
             ],
             [
              0.1111111111111111,
              "#46039f"
             ],
             [
              0.2222222222222222,
              "#7201a8"
             ],
             [
              0.3333333333333333,
              "#9c179e"
             ],
             [
              0.4444444444444444,
              "#bd3786"
             ],
             [
              0.5555555555555556,
              "#d8576b"
             ],
             [
              0.6666666666666666,
              "#ed7953"
             ],
             [
              0.7777777777777778,
              "#fb9f3a"
             ],
             [
              0.8888888888888888,
              "#fdca26"
             ],
             [
              1,
              "#f0f921"
             ]
            ],
            "type": "surface"
           }
          ],
          "table": [
           {
            "cells": {
             "fill": {
              "color": "#EBF0F8"
             },
             "line": {
              "color": "white"
             }
            },
            "header": {
             "fill": {
              "color": "#C8D4E3"
             },
             "line": {
              "color": "white"
             }
            },
            "type": "table"
           }
          ]
         },
         "layout": {
          "annotationdefaults": {
           "arrowcolor": "#2a3f5f",
           "arrowhead": 0,
           "arrowwidth": 1
          },
          "autotypenumbers": "strict",
          "coloraxis": {
           "colorbar": {
            "outlinewidth": 0,
            "ticks": ""
           }
          },
          "colorscale": {
           "diverging": [
            [
             0,
             "#8e0152"
            ],
            [
             0.1,
             "#c51b7d"
            ],
            [
             0.2,
             "#de77ae"
            ],
            [
             0.3,
             "#f1b6da"
            ],
            [
             0.4,
             "#fde0ef"
            ],
            [
             0.5,
             "#f7f7f7"
            ],
            [
             0.6,
             "#e6f5d0"
            ],
            [
             0.7,
             "#b8e186"
            ],
            [
             0.8,
             "#7fbc41"
            ],
            [
             0.9,
             "#4d9221"
            ],
            [
             1,
             "#276419"
            ]
           ],
           "sequential": [
            [
             0,
             "#0d0887"
            ],
            [
             0.1111111111111111,
             "#46039f"
            ],
            [
             0.2222222222222222,
             "#7201a8"
            ],
            [
             0.3333333333333333,
             "#9c179e"
            ],
            [
             0.4444444444444444,
             "#bd3786"
            ],
            [
             0.5555555555555556,
             "#d8576b"
            ],
            [
             0.6666666666666666,
             "#ed7953"
            ],
            [
             0.7777777777777778,
             "#fb9f3a"
            ],
            [
             0.8888888888888888,
             "#fdca26"
            ],
            [
             1,
             "#f0f921"
            ]
           ],
           "sequentialminus": [
            [
             0,
             "#0d0887"
            ],
            [
             0.1111111111111111,
             "#46039f"
            ],
            [
             0.2222222222222222,
             "#7201a8"
            ],
            [
             0.3333333333333333,
             "#9c179e"
            ],
            [
             0.4444444444444444,
             "#bd3786"
            ],
            [
             0.5555555555555556,
             "#d8576b"
            ],
            [
             0.6666666666666666,
             "#ed7953"
            ],
            [
             0.7777777777777778,
             "#fb9f3a"
            ],
            [
             0.8888888888888888,
             "#fdca26"
            ],
            [
             1,
             "#f0f921"
            ]
           ]
          },
          "colorway": [
           "#636efa",
           "#EF553B",
           "#00cc96",
           "#ab63fa",
           "#FFA15A",
           "#19d3f3",
           "#FF6692",
           "#B6E880",
           "#FF97FF",
           "#FECB52"
          ],
          "font": {
           "color": "#2a3f5f"
          },
          "geo": {
           "bgcolor": "white",
           "lakecolor": "white",
           "landcolor": "#E5ECF6",
           "showlakes": true,
           "showland": true,
           "subunitcolor": "white"
          },
          "hoverlabel": {
           "align": "left"
          },
          "hovermode": "closest",
          "mapbox": {
           "style": "light"
          },
          "paper_bgcolor": "white",
          "plot_bgcolor": "#E5ECF6",
          "polar": {
           "angularaxis": {
            "gridcolor": "white",
            "linecolor": "white",
            "ticks": ""
           },
           "bgcolor": "#E5ECF6",
           "radialaxis": {
            "gridcolor": "white",
            "linecolor": "white",
            "ticks": ""
           }
          },
          "scene": {
           "xaxis": {
            "backgroundcolor": "#E5ECF6",
            "gridcolor": "white",
            "gridwidth": 2,
            "linecolor": "white",
            "showbackground": true,
            "ticks": "",
            "zerolinecolor": "white"
           },
           "yaxis": {
            "backgroundcolor": "#E5ECF6",
            "gridcolor": "white",
            "gridwidth": 2,
            "linecolor": "white",
            "showbackground": true,
            "ticks": "",
            "zerolinecolor": "white"
           },
           "zaxis": {
            "backgroundcolor": "#E5ECF6",
            "gridcolor": "white",
            "gridwidth": 2,
            "linecolor": "white",
            "showbackground": true,
            "ticks": "",
            "zerolinecolor": "white"
           }
          },
          "shapedefaults": {
           "line": {
            "color": "#2a3f5f"
           }
          },
          "ternary": {
           "aaxis": {
            "gridcolor": "white",
            "linecolor": "white",
            "ticks": ""
           },
           "baxis": {
            "gridcolor": "white",
            "linecolor": "white",
            "ticks": ""
           },
           "bgcolor": "#E5ECF6",
           "caxis": {
            "gridcolor": "white",
            "linecolor": "white",
            "ticks": ""
           }
          },
          "title": {
           "x": 0.05
          },
          "xaxis": {
           "automargin": true,
           "gridcolor": "white",
           "linecolor": "white",
           "ticks": "",
           "title": {
            "standoff": 15
           },
           "zerolinecolor": "white",
           "zerolinewidth": 2
          },
          "yaxis": {
           "automargin": true,
           "gridcolor": "white",
           "linecolor": "white",
           "ticks": "",
           "title": {
            "standoff": 15
           },
           "zerolinecolor": "white",
           "zerolinewidth": 2
          }
         }
        },
        "title": {
         "font": {
          "size": 16
         },
         "text": "🏠 Home vs Away Performance Analysis"
        },
        "xaxis": {
         "anchor": "y",
         "domain": [
          0,
          0.45
         ],
         "title": {
          "text": "Away Win Rate (%)"
         }
        },
        "xaxis2": {
         "anchor": "y2",
         "domain": [
          0.55,
          1
         ],
         "title": {
          "text": "Away Goals per Game"
         }
        },
        "xaxis3": {
         "anchor": "y3",
         "domain": [
          0,
          0.45
         ],
         "title": {
          "text": "Home Advantage (%)"
         }
        },
        "xaxis4": {
         "anchor": "y4",
         "domain": [
          0.55,
          1
         ],
         "title": {
          "text": "Away Goal Difference"
         }
        },
        "yaxis": {
         "anchor": "x",
         "domain": [
          0.625,
          1
         ],
         "title": {
          "text": "Home Win Rate (%)"
         }
        },
        "yaxis2": {
         "anchor": "x2",
         "domain": [
          0.625,
          1
         ],
         "title": {
          "text": "Home Goals per Game"
         }
        },
        "yaxis3": {
         "anchor": "x3",
         "domain": [
          0,
          0.375
         ],
         "title": {
          "text": "Teams"
         }
        },
        "yaxis4": {
         "anchor": "x4",
         "domain": [
          0,
          0.375
         ],
         "title": {
          "text": "Home Goal Difference"
         }
        }
       }
      }
     },
     "metadata": {},
     "output_type": "display_data"
    }
   ],
   "source": [
    "# Create a comprehensive home vs away performance comparison\n",
    "performance_stats = []\n",
    "\n",
    "for team in df['HomeTeam'].unique():\n",
    "    # Home matches\n",
    "    home_matches = df[df['HomeTeam'] == team]\n",
    "    home_wins = len(home_matches[home_matches['FTR'] == 'H'])\n",
    "    home_draws = len(home_matches[home_matches['FTR'] == 'D'])\n",
    "    home_losses = len(home_matches[home_matches['FTR'] == 'A'])\n",
    "    home_total = len(home_matches)\n",
    "    home_goals_scored = home_matches['FTHG'].sum()\n",
    "    home_goals_conceded = home_matches['FTAG'].sum()\n",
    "    \n",
    "    # Away matches\n",
    "    away_matches = df[df['AwayTeam'] == team]\n",
    "    away_wins = len(away_matches[away_matches['FTR'] == 'A'])\n",
    "    away_draws = len(away_matches[away_matches['FTR'] == 'D'])\n",
    "    away_losses = len(away_matches[awayMatches['FTR'] == 'H'])\n",
    "    away_total = len(away_matches)\n",
    "    away_goals_scored = away_matches['FTAG'].sum()\n",
    "    away_goals_conceded = away_matches['FTHG'].sum()\n",
    "    \n",
    "    if home_total >= 20 and away_total >= 20:  # Only teams with sufficient matches\n",
    "        performance_stats.append({\n",
    "            'Team': team,\n",
    "            'Home_Win_Rate': (home_wins / home_total) * 100,\n",
    "            'Away_Win_Rate': (away_wins / away_total) * 100,\n",
    "            'Home_Goals_Per_Game': home_goals_scored / home_total,\n",
    "            'Away_Goals_Per_Game': away_goals_scored / away_total,\n",
    "            'Home_Goals_Against_Per_Game': home_goals_conceded / home_total,\n",
    "            'Away_Goals_Against_Per_Game': away_goals_conceded / away_total,\n",
    "            'Home_Advantage': ((home_wins / home_total) - (away_wins / away_total)) * 100,\n",
    "            'Goal_Difference_Home': (home_goals_scored - home_goals_conceded) / home_total,\n",
    "            'Goal_Difference_Away': (away_goals_scored - away_goals_conceded) / away_total,\n",
    "            'Home_Matches': home_total,\n",
    "            'Away_Matches': away_total\n",
    "        })\n",
    "\n",
    "perf_df = pd.DataFrame(performance_stats)\n",
    "\n",
    "# Create subplots for comprehensive comparison\n",
    "\n",
    "fig = make_subplots(\n",
    "    rows=2, cols=2,\n",
    "    subplot_titles=('Win Rate: Home vs Away', 'Goals Scored: Home vs Away', \n",
    "                   'Home Advantage by Team', 'Goal Difference: Home vs Away'),\n",
    "    specs=[[{\"secondary_y\": False}, {\"secondary_y\": False}],\n",
    "           [{\"secondary_y\": False}, {\"secondary_y\": False}]]\n",
    ")\n",
    "\n",
    "# 1. Win Rate Comparison - Scatter plot\n",
    "fig.add_trace(\n",
    "    px.scatter(perf_df, x='Away_Win_Rate', y='Home_Win_Rate', \n",
    "               hover_name='Team', size='Home_Matches',\n",
    "               color='Home_Advantage',\n",
    "               color_continuous_scale='RdYlGn').data[0],\n",
    "    row=1, col=1\n",
    ")\n",
    "\n",
    "# Add diagonal line for reference (equal performance)\n",
    "fig.add_shape(\n",
    "    type=\"line\", x0=0, y0=0, x1=70, y1=70,\n",
    "    line=dict(color=\"gray\", dash=\"dash\"),\n",
    "    row=1, col=1\n",
    ")\n",
    "\n",
    "# 2. Goals Scored Comparison\n",
    "fig.add_trace(\n",
    "    px.scatter(perf_df, x='Away_Goals_Per_Game', y='Home_Goals_Per_Game',\n",
    "               hover_name='Team', size='Home_Matches',\n",
    "               color='Home_Advantage',\n",
    "               color_continuous_scale='RdYlGn').data[0],\n",
    "    row=1, col=2\n",
    ")\n",
    "\n",
    "# Add diagonal line for reference\n",
    "fig.add_shape(\n",
    "    type=\"line\", x0=0.5, y0=0.5, x1=2.5, y1=2.5,\n",
    "    line=dict(color=\"gray\", dash=\"dash\"),\n",
    "    row=1, col=2\n",
    ")\n",
    "\n",
    "# 3. Home Advantage Bar Chart\n",
    "perf_sorted = perf_df.sort_values('Home_Advantage', ascending=True)\n",
    "fig.add_trace(\n",
    "    px.bar(perf_sorted, x='Home_Advantage', y='Team', \n",
    "           orientation='h', color='Home_Advantage',\n",
    "           color_continuous_scale='RdYlGn').data[0],\n",
    "    row=2, col=1\n",
    ")\n",
    "\n",
    "# 4. Goal Difference Comparison\n",
    "fig.add_trace(\n",
    "    px.scatter(perf_df, x='Goal_Difference_Away', y='Goal_Difference_Home',\n",
    "               hover_name='Team', size='Home_Matches',\n",
    "               color='Home_Advantage',\n",
    "               color_continuous_scale='RdYlGn').data[0],\n",
    "    row=2, col=2\n",
    ")\n",
    "\n",
    "# Add reference lines\n",
    "fig.add_shape(\n",
    "    type=\"line\", x0=-2, y0=-2, x1=2, y1=2,\n",
    "    line=dict(color=\"gray\", dash=\"dash\"),\n",
    "    row=2, col=2\n",
    ")\n",
    "fig.add_hline(y=0, line_dash=\"dot\", line_color=\"gray\", row=2, col=2)\n",
    "fig.add_vline(x=0, line_dash=\"dot\", line_color=\"gray\", row=2, col=2)\n",
    "\n",
    "# Update layout\n",
    "fig.update_layout(\n",
    "    height=800,\n",
    "    title_text=\"🏠 Home vs Away Performance Analysis\",\n",
    "    title_font_size=16,\n",
    "    showlegend=False\n",
    ")\n",
    "\n",
    "# Update axes labels\n",
    "fig.update_xaxes(title_text=\"Away Win Rate (%)\", row=1, col=1)\n",
    "fig.update_yaxes(title_text=\"Home Win Rate (%)\", row=1, col=1)\n",
    "fig.update_xaxes(title_text=\"Away Goals per Game\", row=1, col=2)\n",
    "fig.update_yaxes(title_text=\"Home Goals per Game\", row=1, col=2)\n",
    "fig.update_xaxes(title_text=\"Home Advantage (%)\", row=2, col=1)\n",
    "fig.update_yaxes(title_text=\"Teams\", row=2, col=1)\n",
    "fig.update_xaxes(title_text=\"Away Goal Difference\", row=2, col=2)\n",
    "fig.update_yaxes(title_text=\"Home Goal Difference\", row=2, col=2)\n",
    "\n",
    "fig.show()"
   ]
  },
  {
   "cell_type": "markdown",
   "id": "4dcc5e70",
   "metadata": {},
   "source": [
    "### 5. Advanced Analytics - Seasonal Trends"
   ]
  },
  {
   "cell_type": "code",
   "execution_count": 43,
   "id": "ab5fe18b",
   "metadata": {},
   "outputs": [
    {
     "data": {
      "application/vnd.plotly.v1+json": {
       "config": {
        "plotlyServerURL": "https://plot.ly"
       },
       "data": [
        {
         "line": {
          "color": "blue",
          "width": 3
         },
         "mode": "lines+markers",
         "name": "Avg Goals",
         "type": "scatter",
         "x": [
          "2019/20",
          "2020/21",
          "2021/22",
          "2022/23",
          "2023/24",
          "2024/25"
         ],
         "xaxis": "x",
         "y": {
          "bdata": "+0T1oJF3BkDTQH1eGqgHQLvq3iFRRQhAfQ9HghmEB0DzGsprKC8HQI7jOI7jOAZA",
          "dtype": "f8"
         },
         "yaxis": "y"
        },
        {
         "line": {
          "color": "orange",
          "width": 3
         },
         "mode": "lines+markers",
         "name": "Draw Rate",
         "type": "scatter",
         "x": [
          "2019/20",
          "2020/21",
          "2021/22",
          "2022/23",
          "2023/24",
          "2024/25"
         ],
         "xaxis": "x2",
         "y": {
          "bdata": "KKoHjbzzN0CHPYjksAc1QHZiJ3ZiJzZAqw2ZGK2SM0ChvIbyGko8QGr9SoFavzhA",
          "dtype": "f8"
         },
         "yaxis": "y2"
        },
        {
         "line": {
          "color": "green",
          "width": 3
         },
         "mode": "lines+markers",
         "name": "Home Advantage",
         "type": "scatter",
         "x": [
          "2019/20",
          "2020/21",
          "2021/22",
          "2022/23",
          "2023/24",
          "2024/25"
         ],
         "xaxis": "x3",
         "y": {
          "bdata": "r8KXG2JASED7Y11zf6xFQAAAAAAAAERAkLKcdIBrRkBfQ3kN5bVFQI7jOI7jOEZA",
          "dtype": "f8"
         },
         "yaxis": "y3"
        },
        {
         "line": {
          "color": "red",
          "width": 3
         },
         "mode": "lines+markers",
         "name": "Competitiveness",
         "type": "scatter",
         "x": [
          "2019/20",
          "2020/21",
          "2021/22",
          "2022/23",
          "2023/24",
          "2024/25"
         ],
         "xaxis": "x4",
         "y": {
          "bdata": "DBT9fGp1UECAmLmLnSVSQAihK9572U9AYVIpnwqKTEAhDOquhetJQKa7puv19UpA",
          "dtype": "f8"
         },
         "yaxis": "y4"
        }
       ],
       "layout": {
        "annotations": [
         {
          "font": {
           "size": 16
          },
          "showarrow": false,
          "text": "Average Goals per Match",
          "x": 0.225,
          "xanchor": "center",
          "xref": "paper",
          "y": 1,
          "yanchor": "bottom",
          "yref": "paper"
         },
         {
          "font": {
           "size": 16
          },
          "showarrow": false,
          "text": "Draw Rate (%)",
          "x": 0.775,
          "xanchor": "center",
          "xref": "paper",
          "y": 1,
          "yanchor": "bottom",
          "yref": "paper"
         },
         {
          "font": {
           "size": 16
          },
          "showarrow": false,
          "text": "Home Advantage (%)",
          "x": 0.225,
          "xanchor": "center",
          "xref": "paper",
          "y": 0.375,
          "yanchor": "bottom",
          "yref": "paper"
         },
         {
          "font": {
           "size": 16
          },
          "showarrow": false,
          "text": "League Competitiveness",
          "x": 0.775,
          "xanchor": "center",
          "xref": "paper",
          "y": 0.375,
          "yanchor": "bottom",
          "yref": "paper"
         }
        ],
        "height": 600,
        "showlegend": false,
        "template": {
         "data": {
          "bar": [
           {
            "error_x": {
             "color": "#2a3f5f"
            },
            "error_y": {
             "color": "#2a3f5f"
            },
            "marker": {
             "line": {
              "color": "#E5ECF6",
              "width": 0.5
             },
             "pattern": {
              "fillmode": "overlay",
              "size": 10,
              "solidity": 0.2
             }
            },
            "type": "bar"
           }
          ],
          "barpolar": [
           {
            "marker": {
             "line": {
              "color": "#E5ECF6",
              "width": 0.5
             },
             "pattern": {
              "fillmode": "overlay",
              "size": 10,
              "solidity": 0.2
             }
            },
            "type": "barpolar"
           }
          ],
          "carpet": [
           {
            "aaxis": {
             "endlinecolor": "#2a3f5f",
             "gridcolor": "white",
             "linecolor": "white",
             "minorgridcolor": "white",
             "startlinecolor": "#2a3f5f"
            },
            "baxis": {
             "endlinecolor": "#2a3f5f",
             "gridcolor": "white",
             "linecolor": "white",
             "minorgridcolor": "white",
             "startlinecolor": "#2a3f5f"
            },
            "type": "carpet"
           }
          ],
          "choropleth": [
           {
            "colorbar": {
             "outlinewidth": 0,
             "ticks": ""
            },
            "type": "choropleth"
           }
          ],
          "contour": [
           {
            "colorbar": {
             "outlinewidth": 0,
             "ticks": ""
            },
            "colorscale": [
             [
              0,
              "#0d0887"
             ],
             [
              0.1111111111111111,
              "#46039f"
             ],
             [
              0.2222222222222222,
              "#7201a8"
             ],
             [
              0.3333333333333333,
              "#9c179e"
             ],
             [
              0.4444444444444444,
              "#bd3786"
             ],
             [
              0.5555555555555556,
              "#d8576b"
             ],
             [
              0.6666666666666666,
              "#ed7953"
             ],
             [
              0.7777777777777778,
              "#fb9f3a"
             ],
             [
              0.8888888888888888,
              "#fdca26"
             ],
             [
              1,
              "#f0f921"
             ]
            ],
            "type": "contour"
           }
          ],
          "contourcarpet": [
           {
            "colorbar": {
             "outlinewidth": 0,
             "ticks": ""
            },
            "type": "contourcarpet"
           }
          ],
          "heatmap": [
           {
            "colorbar": {
             "outlinewidth": 0,
             "ticks": ""
            },
            "colorscale": [
             [
              0,
              "#0d0887"
             ],
             [
              0.1111111111111111,
              "#46039f"
             ],
             [
              0.2222222222222222,
              "#7201a8"
             ],
             [
              0.3333333333333333,
              "#9c179e"
             ],
             [
              0.4444444444444444,
              "#bd3786"
             ],
             [
              0.5555555555555556,
              "#d8576b"
             ],
             [
              0.6666666666666666,
              "#ed7953"
             ],
             [
              0.7777777777777778,
              "#fb9f3a"
             ],
             [
              0.8888888888888888,
              "#fdca26"
             ],
             [
              1,
              "#f0f921"
             ]
            ],
            "type": "heatmap"
           }
          ],
          "histogram": [
           {
            "marker": {
             "pattern": {
              "fillmode": "overlay",
              "size": 10,
              "solidity": 0.2
             }
            },
            "type": "histogram"
           }
          ],
          "histogram2d": [
           {
            "colorbar": {
             "outlinewidth": 0,
             "ticks": ""
            },
            "colorscale": [
             [
              0,
              "#0d0887"
             ],
             [
              0.1111111111111111,
              "#46039f"
             ],
             [
              0.2222222222222222,
              "#7201a8"
             ],
             [
              0.3333333333333333,
              "#9c179e"
             ],
             [
              0.4444444444444444,
              "#bd3786"
             ],
             [
              0.5555555555555556,
              "#d8576b"
             ],
             [
              0.6666666666666666,
              "#ed7953"
             ],
             [
              0.7777777777777778,
              "#fb9f3a"
             ],
             [
              0.8888888888888888,
              "#fdca26"
             ],
             [
              1,
              "#f0f921"
             ]
            ],
            "type": "histogram2d"
           }
          ],
          "histogram2dcontour": [
           {
            "colorbar": {
             "outlinewidth": 0,
             "ticks": ""
            },
            "colorscale": [
             [
              0,
              "#0d0887"
             ],
             [
              0.1111111111111111,
              "#46039f"
             ],
             [
              0.2222222222222222,
              "#7201a8"
             ],
             [
              0.3333333333333333,
              "#9c179e"
             ],
             [
              0.4444444444444444,
              "#bd3786"
             ],
             [
              0.5555555555555556,
              "#d8576b"
             ],
             [
              0.6666666666666666,
              "#ed7953"
             ],
             [
              0.7777777777777778,
              "#fb9f3a"
             ],
             [
              0.8888888888888888,
              "#fdca26"
             ],
             [
              1,
              "#f0f921"
             ]
            ],
            "type": "histogram2dcontour"
           }
          ],
          "mesh3d": [
           {
            "colorbar": {
             "outlinewidth": 0,
             "ticks": ""
            },
            "type": "mesh3d"
           }
          ],
          "parcoords": [
           {
            "line": {
             "colorbar": {
              "outlinewidth": 0,
              "ticks": ""
             }
            },
            "type": "parcoords"
           }
          ],
          "pie": [
           {
            "automargin": true,
            "type": "pie"
           }
          ],
          "scatter": [
           {
            "fillpattern": {
             "fillmode": "overlay",
             "size": 10,
             "solidity": 0.2
            },
            "type": "scatter"
           }
          ],
          "scatter3d": [
           {
            "line": {
             "colorbar": {
              "outlinewidth": 0,
              "ticks": ""
             }
            },
            "marker": {
             "colorbar": {
              "outlinewidth": 0,
              "ticks": ""
             }
            },
            "type": "scatter3d"
           }
          ],
          "scattercarpet": [
           {
            "marker": {
             "colorbar": {
              "outlinewidth": 0,
              "ticks": ""
             }
            },
            "type": "scattercarpet"
           }
          ],
          "scattergeo": [
           {
            "marker": {
             "colorbar": {
              "outlinewidth": 0,
              "ticks": ""
             }
            },
            "type": "scattergeo"
           }
          ],
          "scattergl": [
           {
            "marker": {
             "colorbar": {
              "outlinewidth": 0,
              "ticks": ""
             }
            },
            "type": "scattergl"
           }
          ],
          "scattermap": [
           {
            "marker": {
             "colorbar": {
              "outlinewidth": 0,
              "ticks": ""
             }
            },
            "type": "scattermap"
           }
          ],
          "scattermapbox": [
           {
            "marker": {
             "colorbar": {
              "outlinewidth": 0,
              "ticks": ""
             }
            },
            "type": "scattermapbox"
           }
          ],
          "scatterpolar": [
           {
            "marker": {
             "colorbar": {
              "outlinewidth": 0,
              "ticks": ""
             }
            },
            "type": "scatterpolar"
           }
          ],
          "scatterpolargl": [
           {
            "marker": {
             "colorbar": {
              "outlinewidth": 0,
              "ticks": ""
             }
            },
            "type": "scatterpolargl"
           }
          ],
          "scatterternary": [
           {
            "marker": {
             "colorbar": {
              "outlinewidth": 0,
              "ticks": ""
             }
            },
            "type": "scatterternary"
           }
          ],
          "surface": [
           {
            "colorbar": {
             "outlinewidth": 0,
             "ticks": ""
            },
            "colorscale": [
             [
              0,
              "#0d0887"
             ],
             [
              0.1111111111111111,
              "#46039f"
             ],
             [
              0.2222222222222222,
              "#7201a8"
             ],
             [
              0.3333333333333333,
              "#9c179e"
             ],
             [
              0.4444444444444444,
              "#bd3786"
             ],
             [
              0.5555555555555556,
              "#d8576b"
             ],
             [
              0.6666666666666666,
              "#ed7953"
             ],
             [
              0.7777777777777778,
              "#fb9f3a"
             ],
             [
              0.8888888888888888,
              "#fdca26"
             ],
             [
              1,
              "#f0f921"
             ]
            ],
            "type": "surface"
           }
          ],
          "table": [
           {
            "cells": {
             "fill": {
              "color": "#EBF0F8"
             },
             "line": {
              "color": "white"
             }
            },
            "header": {
             "fill": {
              "color": "#C8D4E3"
             },
             "line": {
              "color": "white"
             }
            },
            "type": "table"
           }
          ]
         },
         "layout": {
          "annotationdefaults": {
           "arrowcolor": "#2a3f5f",
           "arrowhead": 0,
           "arrowwidth": 1
          },
          "autotypenumbers": "strict",
          "coloraxis": {
           "colorbar": {
            "outlinewidth": 0,
            "ticks": ""
           }
          },
          "colorscale": {
           "diverging": [
            [
             0,
             "#8e0152"
            ],
            [
             0.1,
             "#c51b7d"
            ],
            [
             0.2,
             "#de77ae"
            ],
            [
             0.3,
             "#f1b6da"
            ],
            [
             0.4,
             "#fde0ef"
            ],
            [
             0.5,
             "#f7f7f7"
            ],
            [
             0.6,
             "#e6f5d0"
            ],
            [
             0.7,
             "#b8e186"
            ],
            [
             0.8,
             "#7fbc41"
            ],
            [
             0.9,
             "#4d9221"
            ],
            [
             1,
             "#276419"
            ]
           ],
           "sequential": [
            [
             0,
             "#0d0887"
            ],
            [
             0.1111111111111111,
             "#46039f"
            ],
            [
             0.2222222222222222,
             "#7201a8"
            ],
            [
             0.3333333333333333,
             "#9c179e"
            ],
            [
             0.4444444444444444,
             "#bd3786"
            ],
            [
             0.5555555555555556,
             "#d8576b"
            ],
            [
             0.6666666666666666,
             "#ed7953"
            ],
            [
             0.7777777777777778,
             "#fb9f3a"
            ],
            [
             0.8888888888888888,
             "#fdca26"
            ],
            [
             1,
             "#f0f921"
            ]
           ],
           "sequentialminus": [
            [
             0,
             "#0d0887"
            ],
            [
             0.1111111111111111,
             "#46039f"
            ],
            [
             0.2222222222222222,
             "#7201a8"
            ],
            [
             0.3333333333333333,
             "#9c179e"
            ],
            [
             0.4444444444444444,
             "#bd3786"
            ],
            [
             0.5555555555555556,
             "#d8576b"
            ],
            [
             0.6666666666666666,
             "#ed7953"
            ],
            [
             0.7777777777777778,
             "#fb9f3a"
            ],
            [
             0.8888888888888888,
             "#fdca26"
            ],
            [
             1,
             "#f0f921"
            ]
           ]
          },
          "colorway": [
           "#636efa",
           "#EF553B",
           "#00cc96",
           "#ab63fa",
           "#FFA15A",
           "#19d3f3",
           "#FF6692",
           "#B6E880",
           "#FF97FF",
           "#FECB52"
          ],
          "font": {
           "color": "#2a3f5f"
          },
          "geo": {
           "bgcolor": "white",
           "lakecolor": "white",
           "landcolor": "#E5ECF6",
           "showlakes": true,
           "showland": true,
           "subunitcolor": "white"
          },
          "hoverlabel": {
           "align": "left"
          },
          "hovermode": "closest",
          "mapbox": {
           "style": "light"
          },
          "paper_bgcolor": "white",
          "plot_bgcolor": "#E5ECF6",
          "polar": {
           "angularaxis": {
            "gridcolor": "white",
            "linecolor": "white",
            "ticks": ""
           },
           "bgcolor": "#E5ECF6",
           "radialaxis": {
            "gridcolor": "white",
            "linecolor": "white",
            "ticks": ""
           }
          },
          "scene": {
           "xaxis": {
            "backgroundcolor": "#E5ECF6",
            "gridcolor": "white",
            "gridwidth": 2,
            "linecolor": "white",
            "showbackground": true,
            "ticks": "",
            "zerolinecolor": "white"
           },
           "yaxis": {
            "backgroundcolor": "#E5ECF6",
            "gridcolor": "white",
            "gridwidth": 2,
            "linecolor": "white",
            "showbackground": true,
            "ticks": "",
            "zerolinecolor": "white"
           },
           "zaxis": {
            "backgroundcolor": "#E5ECF6",
            "gridcolor": "white",
            "gridwidth": 2,
            "linecolor": "white",
            "showbackground": true,
            "ticks": "",
            "zerolinecolor": "white"
           }
          },
          "shapedefaults": {
           "line": {
            "color": "#2a3f5f"
           }
          },
          "ternary": {
           "aaxis": {
            "gridcolor": "white",
            "linecolor": "white",
            "ticks": ""
           },
           "baxis": {
            "gridcolor": "white",
            "linecolor": "white",
            "ticks": ""
           },
           "bgcolor": "#E5ECF6",
           "caxis": {
            "gridcolor": "white",
            "linecolor": "white",
            "ticks": ""
           }
          },
          "title": {
           "x": 0.05
          },
          "xaxis": {
           "automargin": true,
           "gridcolor": "white",
           "linecolor": "white",
           "ticks": "",
           "title": {
            "standoff": 15
           },
           "zerolinecolor": "white",
           "zerolinewidth": 2
          },
          "yaxis": {
           "automargin": true,
           "gridcolor": "white",
           "linecolor": "white",
           "ticks": "",
           "title": {
            "standoff": 15
           },
           "zerolinecolor": "white",
           "zerolinewidth": 2
          }
         }
        },
        "title": {
         "text": "⚽ League Evolution: How Football Has Changed Over Time"
        },
        "xaxis": {
         "anchor": "y",
         "domain": [
          0,
          0.45
         ],
         "tickangle": 45
        },
        "xaxis2": {
         "anchor": "y2",
         "domain": [
          0.55,
          1
         ],
         "tickangle": 45
        },
        "xaxis3": {
         "anchor": "y3",
         "domain": [
          0,
          0.45
         ],
         "tickangle": 45
        },
        "xaxis4": {
         "anchor": "y4",
         "domain": [
          0.55,
          1
         ],
         "tickangle": 45
        },
        "yaxis": {
         "anchor": "x",
         "domain": [
          0.625,
          1
         ]
        },
        "yaxis2": {
         "anchor": "x2",
         "domain": [
          0.625,
          1
         ]
        },
        "yaxis3": {
         "anchor": "x3",
         "domain": [
          0,
          0.375
         ]
        },
        "yaxis4": {
         "anchor": "x4",
         "domain": [
          0,
          0.375
         ]
        }
       }
      }
     },
     "metadata": {},
     "output_type": "display_data"
    }
   ],
   "source": [
    "# Analyze league competitiveness over seasons\n",
    "seasonal_stats = []\n",
    "\n",
    "for season in df['Season'].unique():\n",
    "    season_data = df[df['Season'] == season]\n",
    "    \n",
    "    # Calculate various metrics\n",
    "    avg_goals = season_data['TotalGoals'].mean()\n",
    "    goal_variance = season_data['TotalGoals'].var()\n",
    "    draw_rate = (season_data['FTR'] == 'D').mean() * 100\n",
    "    \n",
    "    # Home advantage strength\n",
    "    home_wins = (season_data['FTR'] == 'H').sum()\n",
    "    total_matches = len(season_data)\n",
    "    home_advantage = (home_wins / total_matches) * 100\n",
    "    \n",
    "    # League competitiveness (lower std of points = more competitive)\n",
    "    team_points = {}\n",
    "    for team in season_data['HomeTeam'].unique():\n",
    "        home_points = season_data[season_data['HomeTeam'] == team]['HomePoints'].sum()\n",
    "        away_points = season_data[season_data['AwayTeam'] == team].apply(\n",
    "            lambda x: 3 if x['FTR'] == 'A' else (1 if x['FTR'] == 'D' else 0), axis=1).sum()\n",
    "        team_points[team] = home_points + away_points\n",
    "    \n",
    "    if team_points:\n",
    "        competitiveness = 100 - (np.std(list(team_points.values())) / np.mean(list(team_points.values())) * 100)\n",
    "    else:\n",
    "        competitiveness = 0\n",
    "    \n",
    "    seasonal_stats.append({\n",
    "        'Season': season,\n",
    "        'Avg_Goals': avg_goals,\n",
    "        'Goal_Variance': goal_variance,\n",
    "        'Draw_Rate': draw_rate,\n",
    "        'Home_Advantage': home_advantage,\n",
    "        'Competitiveness': competitiveness,\n",
    "        'Total_Matches': total_matches\n",
    "    })\n",
    "\n",
    "seasonal_df = pd.DataFrame(seasonal_stats).sort_values('Season')\n",
    "\n",
    "# Create multi-metric seasonal analysis\n",
    "fig_seasonal = make_subplots(\n",
    "    rows=2, cols=2,\n",
    "    subplot_titles=('Average Goals per Match', 'Draw Rate (%)', \n",
    "                   'Home Advantage (%)', 'League Competitiveness'),\n",
    "    specs=[[{\"secondary_y\": False}, {\"secondary_y\": False}],\n",
    "           [{\"secondary_y\": False}, {\"secondary_y\": False}]]\n",
    ")\n",
    "\n",
    "# Goals per match trend\n",
    "fig_seasonal.add_trace(\n",
    "    go.Scatter(x=seasonal_df['Season'], y=seasonal_df['Avg_Goals'],\n",
    "               mode='lines+markers', name='Avg Goals',\n",
    "               line=dict(color='blue', width=3)),\n",
    "    row=1, col=1\n",
    ")\n",
    "\n",
    "# Draw rate trend\n",
    "fig_seasonal.add_trace(\n",
    "    go.Scatter(x=seasonal_df['Season'], y=seasonal_df['Draw_Rate'],\n",
    "               mode='lines+markers', name='Draw Rate',\n",
    "               line=dict(color='orange', width=3)),\n",
    "    row=1, col=2\n",
    ")\n",
    "\n",
    "# Home advantage trend\n",
    "fig_seasonal.add_trace(\n",
    "    go.Scatter(x=seasonal_df['Season'], y=seasonal_df['Home_Advantage'],\n",
    "               mode='lines+markers', name='Home Advantage',\n",
    "               line=dict(color='green', width=3)),\n",
    "    row=2, col=1\n",
    ")\n",
    "\n",
    "# Competitiveness trend\n",
    "fig_seasonal.add_trace(\n",
    "    go.Scatter(x=seasonal_df['Season'], y=seasonal_df['Competitiveness'],\n",
    "               mode='lines+markers', name='Competitiveness',\n",
    "               line=dict(color='red', width=3)),\n",
    "    row=2, col=2\n",
    ")\n",
    "\n",
    "fig_seasonal.update_layout(\n",
    "    height=600,\n",
    "    title_text=\"⚽ League Evolution: How Football Has Changed Over Time\",\n",
    "    showlegend=False\n",
    ")\n",
    "\n",
    "fig_seasonal.update_xaxes(tickangle=45)\n",
    "fig_seasonal.show()"
   ]
  },
  {
   "cell_type": "markdown",
   "id": "826c2046",
   "metadata": {},
   "source": [
    "### 6. Goal Scoring Patterns"
   ]
  },
  {
   "cell_type": "code",
   "execution_count": 44,
   "id": "a20da6c0",
   "metadata": {},
   "outputs": [
    {
     "data": {
      "application/vnd.plotly.v1+json": {
       "config": {
        "plotlyServerURL": "https://plot.ly"
       },
       "data": [
        {
         "marker": {
          "color": "lightblue"
         },
         "name": "Home Goals",
         "nbinsx": 8,
         "opacity": 0.7,
         "type": "histogram",
         "x": {
          "bdata": "AQABAwIBBQEBAQABAAEEAQEBAQMDAQQBBgMBBAQAAQEBAQEDAgMDAAAAAQAAAQADAAICAwEBAAEBAAECAQIAAgMCAQADAQQCAQIABAEAAwEDAQADBAAAAQEBAgACAwMBAgIBAwEDAwMAAwECAAAAAgEBAgECBQQFAQEBAgAEAQEDAQAAAAMDAQMABAACAAACAgEDAQEAAAQBAQAAAwIBAQEABAIBAQQBAAIAAQACAgQDAAECAwQDAgEBAQIAAQABAgQDAAEBAgMBAQMAAwMCAgEBAQQDAwQBAQIAAwECAQIBAAQBAQECAgACAQEAAQACAAEBAwIBAwEDAAEBBgMBAgEAAwABAQADAQIFAgACBAMCBAMBAQQAAQQCAwEDAgEBAwMAAQECAQIAAgEAAwABAQACAQIBBAACAAEBAgIBAQIDAgABAwIBBwACAgQAAQEBAAAABQEGAAAAAQECAAABAQMBAAECAgICBwECAwIAAQIBAQUAAwABAwUCAgABAwAEAgIAAAIBAAICAAMCAAACAQIBAQIBAgIABAMBAAIBBQICAwQAAwECAQIEAgMAAwACAgICAAECAgEAAwADAwECAAQCAgABAQIBAAEEAQMAAAIBAgMAAgAEAQMBAQEAAgMBAAICAQICAgEBAAIBAQIBAgMCAAEBAQIDAAEDAQABAAAAAgIAAAUGBQMAAQICAgECBAEBAQQEAQIAAwIFAgECAgAABAMDAwICBgACBAEAAwMABQIBAgIAAAEAAQICAgACAwADAQIAAAQDAQECAgAAAgIBAAIDAQABAQECAwIBAAIABAAEAAIAAQMBAgABBQEBAgIAAQEAAAACAAAEAQQDAgIDAQAEAQEAAgMBAgIBAQICAAMBAAIDAgMCBQIABQMBAAUEAgEAAwIAAQMBAAMBBQEBAQAAAAIBAgMCAQMCAAMCAAICAQEBAAIEAAIAAAIEAgIBAQAFAQIEAgIAAgEDAwAAAgACBAMBAAEBAQIAAAEAAQAAAwAAAAIAAQEBAQMAAgIAAwMBAQAEAQADAgUCAAIAAgAAAAICAQACAgMDAAAEBAEEAAIAAgMBAgIAAQECAQEAAwADAAIAAQMDAgIBAwICAQIBAgEBAQEBAgECAAIEAQABAQACAAIBAwEDAgQABAECAQIBAQICAAICAgIEAgMBBQEAAAECAwADAgIBAQIAAQEEAQACAQACAgMBAAECAAIHAgADAAECBgQAAQUCAwMCAAECAQABAgAEAgICAQEDAQIBAQEAAQACAQABAQEAAwACAQIDAAIBAQQBAQEAAwIDAgIBAgMEBAQDAAICAQICAQICAQIAAQQCAAIAAgABAQIBAwEEAQMAAgACAQECAgEDAAEDAAEBAQEDAQQAAQEBAwIBAQEBAAADAAMAAgMBAQAAAwIBAQEAAwEAAgADAAMBAQADAAECAQIDAAADAQMAAAAAAgECAgEBAwEBAQMDAQIBAQECAgIBAgEBAQEDAAABAAIAAQADAgACAwICAgABAAADAQIAAgIABAECAgIBAAMDAwAAAgABAQMBAgIEAAECAQEAAgEBAQEBAQUDAQEBAQIDBAQBAgMDAgECAgABAQYBBQMBBQMAAQIBBAIBAgECAgIDAQMCAwIAAgADAwUDAAICBAEAAgECAAEAAAEBAgABAAABAgEEAAEDAwACAQEBAAEBAQIBAgEBAAcCAQABAQIAAQIBAwICAAAEBgEEAAEBAAEBAQIAAAICAQABAgMDBQQBBQEBAAEBAQMAAgIBBAEAAgABAQMAAgECAAUABAIBAQECAQECAgEBAQIDAQQDBQEBAQACAQECAQAAAgMBAgEBAQEAAQIAAQECAwEAAgICAQEBAgMCAwMBAQIDAgECAAIBAAEAAQEDAgEAAAQDAgICAQACAgQEAwYAAQEBAAMBAgIAAgIDAwMBAAICAwEAAQEBAgMCAQEAAgACAgICAQABAwICBAADBAACAgIAAQEAAAQABgMBAwQGAQEBAQAAAAI=",
          "dtype": "i1"
         },
         "xaxis": "x",
         "yaxis": "y"
        },
        {
         "marker": {
          "color": "lightcoral"
         },
         "name": "Away Goals",
         "nbinsx": 8,
         "opacity": 0.7,
         "type": "histogram",
         "x": {
          "bdata": "AQABAAACAgAAAAACAQEBAAEAAwMEAAEAAQIBAwEAAgACAgQBBAEAAQEAAAAAAQEBAAAAAgIAAQIEAgECAgEBAQEAAAABAgEEAwIBAQEDAgEAAgMAAAIAAQACBAEBAQMAAQECAAECAQMDAQEDAQAAAwABAAADAQAAAAEBAQEAAAEBAAMAAQECAAADAgIDAQIBAgIAAAEBAgEDAQEAAQECAwEEAAIAAAEAAQEBAAMCAgECAQABAwIBAgABBAIAAQEBAQEAAQECAAEBAQACAAABAgACBgAAAAABAAAAAAIAAwIDAAABAwIBAAICAAEAAwMBAQEAAgABAAEBAAADAAMDAQEDAgIBAQMBAwEBAAIBAAIAAAIBAAEEAQEBAQACAQEBAwEAAgMBAQMAAQECAwACAAAAAQIDAgIBAwEBAgEBAAEAAQIBAQMDAQACAQABAQMBAQUBAQAAAQEBAAIAAQEAAQIABAECAAMCAAIEAgMBAQEAAQIAAQQFAQAAAQABAgABAAEDAQEDBQMAAgABAgECAgEAAQACBgACBAEAAQEAAAIAAQIBAAACAQACAgACAwECAAIEAAEAAgECAQEAAwEBAAADAgAAAQEBAgEAAgIAAQIBAAEDAgEBAAICAQEAAwIBAwADAQEAAQEAAgEBAgMDAAEAAQICAQADAQAAAQABAQQCAwIFAQUAAAEAAQAAAQICAQABAgICAQMDAQEAAQMCAQACAQIAAAAAAQECAgYBAAABAQEDAgEBBAMCAQUBAAEBBAEAAgADAgEAAgADAgMAAQACAgECAAIEAgMBAAIAAQMAAAECAQEBAgEBAQQDBAMDAQEBAwQDAQMBAAECAwIBAQAAAwACAQABAQEBAQAAAAAAAgIBAgABAgAAAAMCAAABAgAAAgMBAgICAwIAAQEAAAEBAQECAQEDAAACBAEBAAABBQMCAQAAAQABAAIAAAMAAAADAgMAAAABAQABAAIAAgEBAQAAAQICAgMBAwACAQIBAAEAAwEAAgECAQEBAQEBAQIAAQEBAgQBAQIAAAACBwADAAQAAQABAQQCAQICAgICAgQDAgACAAAAAAMFAAIBAAEDAgECAgEBAgABAAMDAQIAAwAHAQEAAwICAQEAAAIAAQEBAAICAQYCAAEABAEDAgEDAAIBAwAAAQICAQECAAIAAQEAAwECAQIAAgECAgIDAQECAAEBAgEAAQECAQEBAQMCBAEAAgACAQABAgICAQICAgQBAAQCAAEAAQMAAQAAAQUCAwMDAQECAgEBAQAABAEBAwICAwABAQIEAQIBAAcCAwMCAQQAAAIABAEEBAEDAQEBAgECAAECAgABAgQBAAABAAACAgMAAAICAwIAAAIAAAICAgECAQEBAAAAAgECAQICAQIBAQIBAwAAAQEDAQEAAgICAQEAAgECAwMCAwICAgIAAAEDAAEBBAIAAQEDAQEBAAUBAAEBAQIAAQACAgEABAADAQABAQIAAgAAAwECAQACAAMAAQEBBAIDAQICAQMBAAAAAQIBAgABAAIBAgICAQADAwAFAQECAAIBAQIBAAECAgMBAwECAQUDAQQAAAIAAgACAAACAQMCAQIDAQMCAgACAQAAAgEBAQIBAQECAwACAwACAQEGBAEBAQIAAgMAAQABAQAAAwIBAQMBAgABAQAAAwMBAAIBAQQBAAIBAQECAwICAQEAAQABBAEBAAQAAAACAQECAwMBAQAAAQEAAQIDAQADAQEDAQACAQECAgABAAAAAwAAAAEAAQICAQMBAQMCAgEBAAEDAAABAAEAAgAAAQEBAAIBAAEAAQEAAQACAAACAgIAAQQCAQICAAAAAAMAAQICAQIAAgICAQIBAwACAgEBAAEAAgADAgIAAgICAQMAAQABAAAAAwEBAAADAAEBAgAAAQACAgEBAAMCAAIFAgEAAQEBAwMAAAICAQEEAQIAAAEEAgICAAEBAAAAAQAAAQQBAgABAQECAwECAAEAAQEBAQAABAECAwECAgE=",
          "dtype": "i1"
         },
         "xaxis": "x2",
         "yaxis": "y2"
        },
        {
         "marker": {
          "color": "lightgreen"
         },
         "name": "Total Goals",
         "nbinsx": 10,
         "opacity": 0.7,
         "type": "histogram",
         "x": {
          "bdata": "AgACAwIDBwEBAQADAQIFAQIBBAYHAQUBBwUCBwUAAwEDAwUEBgQDAQEAAQAAAgEEAAICBQMBAQMFAgIEAwMBAwQCAQAEAwUGBAQBBQIDBQIDAwMDBAIAAgEDBgEDBAYBAwMDAwIFBAYDBAIFAQAABQECAgEFBgQFAQICAwEEAQIEAQMAAQQFAQMDBgIFAQIDBAMDAQIBAgUEAgEABAMDBAIEBAQBAQUBAQMBAQMEBAUFAQEDBgYEBAECBQQAAgECAwUDAQIDAgQCAgMCAwMDBAEDBwQDAwQCAQIAAwMCBAQEAAQCBAMDAgIEAQIABAMDAQIBBQICAwIEAAEEBgYEAwIDBQICAgMEBAMGAgIDBAUCBAUCAQUEAgUDBAEFAwICBgQAAwQDAgUAAwICBgADAQACAgQEBgIDAwICBAMCAQMDAwICBAUECAAEAwQBAgQCAQUBBgEGAQEBAQMCAQEBAgUBBAIEAgUEBwMGBQUBAgMBAgcABAQGBAUCAwACBQAFAgMDAQMEBQUCAgMDAgEEAwMBAgIDCAICCAQBAQMBBQQCBAYBAwEEAgIGBAMCBgEEAgQGAAICBAICBAEDBgIDAAQFBAABAgMCAgIEAwUAAQQCAgQDBAEFAQUDAgIABQUCAwIFAgMCAwIBAgMCAwUEAgQCAQMDAgIGAQEDAgACAQQCBQQFAQoGBQQAAgICAwMEBQECAwYGAgUDBAMFAwQEAwACBQUDAwICBwEEBgcBAwMBBgMEBAMBBAQCAgcDAgEDBwEDAwIDAgUDAwEFBAMAAwIDAgMFAQIFAwQDAwQBAQUABAEGAQMBAwQCAwQECQQEAwMBBAUDAQMDAAEGBAYEAwIDBAAGAgEBAwQCAwIBAQICAgUCAgIEBAMCBQUCBQMCAgUEBAQBBQQCBAUBAQQBBQICAgECAQMEAgMEBQQDAAMDBQUEAgEBAQIFAAQAAAUEAgIEAwMFAQIFAwIBAgMDBQEBAwACBQUDAgQCBAICAQMBAQEABgEAAgMCAgICAgQBAwQABAQCAwQFAgIDAgUEBwIDAgQAAQIDAgQEAwUFAgIGBgUHAgICAgMBAgUFAQMDAQIDBQEFAgMBAwMEAgUEBAQCBAIIAwIBBAMDAwICAAQEAgECAQIEAQgDAwIDBgUDBgIFAQQCBAICAQQEAwMGAgUBBgIAAwIEBAIDBAMDAwQDAgIGAQEDAwECAwQDAQIDAQUJBgEDAgEEBwQBAwcEBAUEAgUDAQQDAgEEAwUCAgEDAgcDBAQDAgEEAwECAgEABwEDBAQFAwICAgYFAgMBAwkFBQUDAwcEBAYDBAMGBQMFAgMDAwMCAQUEAgIBBAQCAQICAwEGAwYAAgIEBAMCAgMDAAMFAgIDAgIEAQQAAwIDBAQDAgMCAQIEAwMAAwQEAgEABQQDAgIABQICBQMFAwUDAwIDAAIFAQMEBAIDAgQDAQEBAgYDAgICBAMBAgMFAwMBBQEFAwICAwMBAwEDAwEDAQICAQMDAwEDBwQFAwIDAQMEAQIAAwQBBgEDAgQCAgUFBAADBQAGAgQDAgQFAQMDAQICBAQCBAIDAgoGAgUBAQQDBgQDAgMFAwQEAwIEAgkDBwMDBgMAAwMCBQQCAwIEBQIFBAMEBAMGBgEEBAcDAgUCBQEBAwECAwMBAQQCBAACAQABBQQFAAMEBAQDAQMCAQIDBAQDAwIBAQcDBQECAQYAAQIDBAMEAwMFBwEEAQIBAQMEAgIDAQMFAgADAwQFBwQCBQEBAwEBAQQAAwQDBQQBAwMDAwQBAgIFAAUBBAMBAwECAgIDAgMCAQMDAgUDBgEDAQAEAwMCAgQCAwUDAgEBAQQAAgQCAgMCBQMCAwQDBAEDBAQDAwQBAwIGBAMCAgQDAQQAAgEEAgEAAwUEAgIFAQEDBAQEBAYCAwICAAYDAgQFBAMDBAQCAwUCAwMCAgIFAwUCAQIEBAIEAgMDAQABBAICBQQEBgADAwMCBAICAAUABwQCBAQGBQIDBAECAgM=",
          "dtype": "i1"
         },
         "xaxis": "x3",
         "yaxis": "y3"
        },
        {
         "marker": {
          "color": "gold"
         },
         "name": "Goal Difference",
         "nbinsx": 15,
         "opacity": 0.7,
         "type": "histogram",
         "x": {
          "bdata": "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",
          "dtype": "i1"
         },
         "xaxis": "x4",
         "yaxis": "y4"
        }
       ],
       "layout": {
        "annotations": [
         {
          "font": {
           "size": 16
          },
          "showarrow": false,
          "text": "Home Goals Distribution",
          "x": 0.225,
          "xanchor": "center",
          "xref": "paper",
          "y": 1,
          "yanchor": "bottom",
          "yref": "paper"
         },
         {
          "font": {
           "size": 16
          },
          "showarrow": false,
          "text": "Away Goals Distribution",
          "x": 0.775,
          "xanchor": "center",
          "xref": "paper",
          "y": 1,
          "yanchor": "bottom",
          "yref": "paper"
         },
         {
          "font": {
           "size": 16
          },
          "showarrow": false,
          "text": "Total Goals Distribution",
          "x": 0.225,
          "xanchor": "center",
          "xref": "paper",
          "y": 0.375,
          "yanchor": "bottom",
          "yref": "paper"
         },
         {
          "font": {
           "size": 16
          },
          "showarrow": false,
          "text": "Goal Difference Distribution",
          "x": 0.775,
          "xanchor": "center",
          "xref": "paper",
          "y": 0.375,
          "yanchor": "bottom",
          "yref": "paper"
         },
         {
          "showarrow": false,
          "text": "μ=1.59",
          "x": 1.5948275862068966,
          "xanchor": "left",
          "xref": "x",
          "y": 1,
          "yanchor": "top",
          "yref": "y domain"
         },
         {
          "showarrow": false,
          "text": "μ=1.32",
          "x": 1.323607427055703,
          "xanchor": "left",
          "xref": "x2",
          "y": 1,
          "yanchor": "top",
          "yref": "y2 domain"
         },
         {
          "showarrow": false,
          "text": "μ=2.92",
          "x": 2.9184350132625996,
          "xanchor": "left",
          "xref": "x3",
          "y": 1,
          "yanchor": "top",
          "yref": "y3 domain"
         },
         {
          "showarrow": false,
          "text": "Even",
          "x": 0,
          "xanchor": "left",
          "xref": "x4",
          "y": 1,
          "yanchor": "top",
          "yref": "y4 domain"
         }
        ],
        "height": 600,
        "shapes": [
         {
          "line": {
           "color": "red",
           "dash": "dash"
          },
          "type": "line",
          "x0": 1.5948275862068966,
          "x1": 1.5948275862068966,
          "xref": "x",
          "y0": 0,
          "y1": 1,
          "yref": "y domain"
         },
         {
          "line": {
           "color": "red",
           "dash": "dash"
          },
          "type": "line",
          "x0": 1.323607427055703,
          "x1": 1.323607427055703,
          "xref": "x2",
          "y0": 0,
          "y1": 1,
          "yref": "y2 domain"
         },
         {
          "line": {
           "color": "red",
           "dash": "dash"
          },
          "type": "line",
          "x0": 2.9184350132625996,
          "x1": 2.9184350132625996,
          "xref": "x3",
          "y0": 0,
          "y1": 1,
          "yref": "y3 domain"
         },
         {
          "line": {
           "color": "red",
           "dash": "dash"
          },
          "type": "line",
          "x0": 0,
          "x1": 0,
          "xref": "x4",
          "y0": 0,
          "y1": 1,
          "yref": "y4 domain"
         }
        ],
        "showlegend": false,
        "template": {
         "data": {
          "bar": [
           {
            "error_x": {
             "color": "#2a3f5f"
            },
            "error_y": {
             "color": "#2a3f5f"
            },
            "marker": {
             "line": {
              "color": "#E5ECF6",
              "width": 0.5
             },
             "pattern": {
              "fillmode": "overlay",
              "size": 10,
              "solidity": 0.2
             }
            },
            "type": "bar"
           }
          ],
          "barpolar": [
           {
            "marker": {
             "line": {
              "color": "#E5ECF6",
              "width": 0.5
             },
             "pattern": {
              "fillmode": "overlay",
              "size": 10,
              "solidity": 0.2
             }
            },
            "type": "barpolar"
           }
          ],
          "carpet": [
           {
            "aaxis": {
             "endlinecolor": "#2a3f5f",
             "gridcolor": "white",
             "linecolor": "white",
             "minorgridcolor": "white",
             "startlinecolor": "#2a3f5f"
            },
            "baxis": {
             "endlinecolor": "#2a3f5f",
             "gridcolor": "white",
             "linecolor": "white",
             "minorgridcolor": "white",
             "startlinecolor": "#2a3f5f"
            },
            "type": "carpet"
           }
          ],
          "choropleth": [
           {
            "colorbar": {
             "outlinewidth": 0,
             "ticks": ""
            },
            "type": "choropleth"
           }
          ],
          "contour": [
           {
            "colorbar": {
             "outlinewidth": 0,
             "ticks": ""
            },
            "colorscale": [
             [
              0,
              "#0d0887"
             ],
             [
              0.1111111111111111,
              "#46039f"
             ],
             [
              0.2222222222222222,
              "#7201a8"
             ],
             [
              0.3333333333333333,
              "#9c179e"
             ],
             [
              0.4444444444444444,
              "#bd3786"
             ],
             [
              0.5555555555555556,
              "#d8576b"
             ],
             [
              0.6666666666666666,
              "#ed7953"
             ],
             [
              0.7777777777777778,
              "#fb9f3a"
             ],
             [
              0.8888888888888888,
              "#fdca26"
             ],
             [
              1,
              "#f0f921"
             ]
            ],
            "type": "contour"
           }
          ],
          "contourcarpet": [
           {
            "colorbar": {
             "outlinewidth": 0,
             "ticks": ""
            },
            "type": "contourcarpet"
           }
          ],
          "heatmap": [
           {
            "colorbar": {
             "outlinewidth": 0,
             "ticks": ""
            },
            "colorscale": [
             [
              0,
              "#0d0887"
             ],
             [
              0.1111111111111111,
              "#46039f"
             ],
             [
              0.2222222222222222,
              "#7201a8"
             ],
             [
              0.3333333333333333,
              "#9c179e"
             ],
             [
              0.4444444444444444,
              "#bd3786"
             ],
             [
              0.5555555555555556,
              "#d8576b"
             ],
             [
              0.6666666666666666,
              "#ed7953"
             ],
             [
              0.7777777777777778,
              "#fb9f3a"
             ],
             [
              0.8888888888888888,
              "#fdca26"
             ],
             [
              1,
              "#f0f921"
             ]
            ],
            "type": "heatmap"
           }
          ],
          "histogram": [
           {
            "marker": {
             "pattern": {
              "fillmode": "overlay",
              "size": 10,
              "solidity": 0.2
             }
            },
            "type": "histogram"
           }
          ],
          "histogram2d": [
           {
            "colorbar": {
             "outlinewidth": 0,
             "ticks": ""
            },
            "colorscale": [
             [
              0,
              "#0d0887"
             ],
             [
              0.1111111111111111,
              "#46039f"
             ],
             [
              0.2222222222222222,
              "#7201a8"
             ],
             [
              0.3333333333333333,
              "#9c179e"
             ],
             [
              0.4444444444444444,
              "#bd3786"
             ],
             [
              0.5555555555555556,
              "#d8576b"
             ],
             [
              0.6666666666666666,
              "#ed7953"
             ],
             [
              0.7777777777777778,
              "#fb9f3a"
             ],
             [
              0.8888888888888888,
              "#fdca26"
             ],
             [
              1,
              "#f0f921"
             ]
            ],
            "type": "histogram2d"
           }
          ],
          "histogram2dcontour": [
           {
            "colorbar": {
             "outlinewidth": 0,
             "ticks": ""
            },
            "colorscale": [
             [
              0,
              "#0d0887"
             ],
             [
              0.1111111111111111,
              "#46039f"
             ],
             [
              0.2222222222222222,
              "#7201a8"
             ],
             [
              0.3333333333333333,
              "#9c179e"
             ],
             [
              0.4444444444444444,
              "#bd3786"
             ],
             [
              0.5555555555555556,
              "#d8576b"
             ],
             [
              0.6666666666666666,
              "#ed7953"
             ],
             [
              0.7777777777777778,
              "#fb9f3a"
             ],
             [
              0.8888888888888888,
              "#fdca26"
             ],
             [
              1,
              "#f0f921"
             ]
            ],
            "type": "histogram2dcontour"
           }
          ],
          "mesh3d": [
           {
            "colorbar": {
             "outlinewidth": 0,
             "ticks": ""
            },
            "type": "mesh3d"
           }
          ],
          "parcoords": [
           {
            "line": {
             "colorbar": {
              "outlinewidth": 0,
              "ticks": ""
             }
            },
            "type": "parcoords"
           }
          ],
          "pie": [
           {
            "automargin": true,
            "type": "pie"
           }
          ],
          "scatter": [
           {
            "fillpattern": {
             "fillmode": "overlay",
             "size": 10,
             "solidity": 0.2
            },
            "type": "scatter"
           }
          ],
          "scatter3d": [
           {
            "line": {
             "colorbar": {
              "outlinewidth": 0,
              "ticks": ""
             }
            },
            "marker": {
             "colorbar": {
              "outlinewidth": 0,
              "ticks": ""
             }
            },
            "type": "scatter3d"
           }
          ],
          "scattercarpet": [
           {
            "marker": {
             "colorbar": {
              "outlinewidth": 0,
              "ticks": ""
             }
            },
            "type": "scattercarpet"
           }
          ],
          "scattergeo": [
           {
            "marker": {
             "colorbar": {
              "outlinewidth": 0,
              "ticks": ""
             }
            },
            "type": "scattergeo"
           }
          ],
          "scattergl": [
           {
            "marker": {
             "colorbar": {
              "outlinewidth": 0,
              "ticks": ""
             }
            },
            "type": "scattergl"
           }
          ],
          "scattermap": [
           {
            "marker": {
             "colorbar": {
              "outlinewidth": 0,
              "ticks": ""
             }
            },
            "type": "scattermap"
           }
          ],
          "scattermapbox": [
           {
            "marker": {
             "colorbar": {
              "outlinewidth": 0,
              "ticks": ""
             }
            },
            "type": "scattermapbox"
           }
          ],
          "scatterpolar": [
           {
            "marker": {
             "colorbar": {
              "outlinewidth": 0,
              "ticks": ""
             }
            },
            "type": "scatterpolar"
           }
          ],
          "scatterpolargl": [
           {
            "marker": {
             "colorbar": {
              "outlinewidth": 0,
              "ticks": ""
             }
            },
            "type": "scatterpolargl"
           }
          ],
          "scatterternary": [
           {
            "marker": {
             "colorbar": {
              "outlinewidth": 0,
              "ticks": ""
             }
            },
            "type": "scatterternary"
           }
          ],
          "surface": [
           {
            "colorbar": {
             "outlinewidth": 0,
             "ticks": ""
            },
            "colorscale": [
             [
              0,
              "#0d0887"
             ],
             [
              0.1111111111111111,
              "#46039f"
             ],
             [
              0.2222222222222222,
              "#7201a8"
             ],
             [
              0.3333333333333333,
              "#9c179e"
             ],
             [
              0.4444444444444444,
              "#bd3786"
             ],
             [
              0.5555555555555556,
              "#d8576b"
             ],
             [
              0.6666666666666666,
              "#ed7953"
             ],
             [
              0.7777777777777778,
              "#fb9f3a"
             ],
             [
              0.8888888888888888,
              "#fdca26"
             ],
             [
              1,
              "#f0f921"
             ]
            ],
            "type": "surface"
           }
          ],
          "table": [
           {
            "cells": {
             "fill": {
              "color": "#EBF0F8"
             },
             "line": {
              "color": "white"
             }
            },
            "header": {
             "fill": {
              "color": "#C8D4E3"
             },
             "line": {
              "color": "white"
             }
            },
            "type": "table"
           }
          ]
         },
         "layout": {
          "annotationdefaults": {
           "arrowcolor": "#2a3f5f",
           "arrowhead": 0,
           "arrowwidth": 1
          },
          "autotypenumbers": "strict",
          "coloraxis": {
           "colorbar": {
            "outlinewidth": 0,
            "ticks": ""
           }
          },
          "colorscale": {
           "diverging": [
            [
             0,
             "#8e0152"
            ],
            [
             0.1,
             "#c51b7d"
            ],
            [
             0.2,
             "#de77ae"
            ],
            [
             0.3,
             "#f1b6da"
            ],
            [
             0.4,
             "#fde0ef"
            ],
            [
             0.5,
             "#f7f7f7"
            ],
            [
             0.6,
             "#e6f5d0"
            ],
            [
             0.7,
             "#b8e186"
            ],
            [
             0.8,
             "#7fbc41"
            ],
            [
             0.9,
             "#4d9221"
            ],
            [
             1,
             "#276419"
            ]
           ],
           "sequential": [
            [
             0,
             "#0d0887"
            ],
            [
             0.1111111111111111,
             "#46039f"
            ],
            [
             0.2222222222222222,
             "#7201a8"
            ],
            [
             0.3333333333333333,
             "#9c179e"
            ],
            [
             0.4444444444444444,
             "#bd3786"
            ],
            [
             0.5555555555555556,
             "#d8576b"
            ],
            [
             0.6666666666666666,
             "#ed7953"
            ],
            [
             0.7777777777777778,
             "#fb9f3a"
            ],
            [
             0.8888888888888888,
             "#fdca26"
            ],
            [
             1,
             "#f0f921"
            ]
           ],
           "sequentialminus": [
            [
             0,
             "#0d0887"
            ],
            [
             0.1111111111111111,
             "#46039f"
            ],
            [
             0.2222222222222222,
             "#7201a8"
            ],
            [
             0.3333333333333333,
             "#9c179e"
            ],
            [
             0.4444444444444444,
             "#bd3786"
            ],
            [
             0.5555555555555556,
             "#d8576b"
            ],
            [
             0.6666666666666666,
             "#ed7953"
            ],
            [
             0.7777777777777778,
             "#fb9f3a"
            ],
            [
             0.8888888888888888,
             "#fdca26"
            ],
            [
             1,
             "#f0f921"
            ]
           ]
          },
          "colorway": [
           "#636efa",
           "#EF553B",
           "#00cc96",
           "#ab63fa",
           "#FFA15A",
           "#19d3f3",
           "#FF6692",
           "#B6E880",
           "#FF97FF",
           "#FECB52"
          ],
          "font": {
           "color": "#2a3f5f"
          },
          "geo": {
           "bgcolor": "white",
           "lakecolor": "white",
           "landcolor": "#E5ECF6",
           "showlakes": true,
           "showland": true,
           "subunitcolor": "white"
          },
          "hoverlabel": {
           "align": "left"
          },
          "hovermode": "closest",
          "mapbox": {
           "style": "light"
          },
          "paper_bgcolor": "white",
          "plot_bgcolor": "#E5ECF6",
          "polar": {
           "angularaxis": {
            "gridcolor": "white",
            "linecolor": "white",
            "ticks": ""
           },
           "bgcolor": "#E5ECF6",
           "radialaxis": {
            "gridcolor": "white",
            "linecolor": "white",
            "ticks": ""
           }
          },
          "scene": {
           "xaxis": {
            "backgroundcolor": "#E5ECF6",
            "gridcolor": "white",
            "gridwidth": 2,
            "linecolor": "white",
            "showbackground": true,
            "ticks": "",
            "zerolinecolor": "white"
           },
           "yaxis": {
            "backgroundcolor": "#E5ECF6",
            "gridcolor": "white",
            "gridwidth": 2,
            "linecolor": "white",
            "showbackground": true,
            "ticks": "",
            "zerolinecolor": "white"
           },
           "zaxis": {
            "backgroundcolor": "#E5ECF6",
            "gridcolor": "white",
            "gridwidth": 2,
            "linecolor": "white",
            "showbackground": true,
            "ticks": "",
            "zerolinecolor": "white"
           }
          },
          "shapedefaults": {
           "line": {
            "color": "#2a3f5f"
           }
          },
          "ternary": {
           "aaxis": {
            "gridcolor": "white",
            "linecolor": "white",
            "ticks": ""
           },
           "baxis": {
            "gridcolor": "white",
            "linecolor": "white",
            "ticks": ""
           },
           "bgcolor": "#E5ECF6",
           "caxis": {
            "gridcolor": "white",
            "linecolor": "white",
            "ticks": ""
           }
          },
          "title": {
           "x": 0.05
          },
          "xaxis": {
           "automargin": true,
           "gridcolor": "white",
           "linecolor": "white",
           "ticks": "",
           "title": {
            "standoff": 15
           },
           "zerolinecolor": "white",
           "zerolinewidth": 2
          },
          "yaxis": {
           "automargin": true,
           "gridcolor": "white",
           "linecolor": "white",
           "ticks": "",
           "title": {
            "standoff": 15
           },
           "zerolinecolor": "white",
           "zerolinewidth": 2
          }
         }
        },
        "title": {
         "text": "🥅 Goal Scoring Patterns Analysis"
        },
        "xaxis": {
         "anchor": "y",
         "domain": [
          0,
          0.45
         ]
        },
        "xaxis2": {
         "anchor": "y2",
         "domain": [
          0.55,
          1
         ]
        },
        "xaxis3": {
         "anchor": "y3",
         "domain": [
          0,
          0.45
         ]
        },
        "xaxis4": {
         "anchor": "y4",
         "domain": [
          0.55,
          1
         ]
        },
        "yaxis": {
         "anchor": "x",
         "domain": [
          0.625,
          1
         ]
        },
        "yaxis2": {
         "anchor": "x2",
         "domain": [
          0.625,
          1
         ]
        },
        "yaxis3": {
         "anchor": "x3",
         "domain": [
          0,
          0.375
         ]
        },
        "yaxis4": {
         "anchor": "x4",
         "domain": [
          0,
          0.375
         ]
        }
       }
      }
     },
     "metadata": {},
     "output_type": "display_data"
    },
    {
     "name": "stdout",
     "output_type": "stream",
     "text": [
      "📊 GOAL SCORING INSIGHTS:\n",
      "• Average goals per match: 2.92\n",
      "• Home advantage: 0.27 goals\n",
      "• Most common score: 2 goals\n",
      "• High-scoring matches (4+ goals): 34.0%\n",
      "• Low-scoring matches (0-1 goals): 20.6%\n"
     ]
    }
   ],
   "source": [
    "# Analyze goal scoring distributions and patterns\n",
    "from scipy import stats\n",
    "\n",
    "# Create goal distribution analysis\n",
    "fig_goals = make_subplots(\n",
    "    rows=2, cols=2,\n",
    "    subplot_titles=('Home Goals Distribution', 'Away Goals Distribution', \n",
    "                   'Total Goals Distribution', 'Goal Difference Distribution'),\n",
    "    specs=[[{\"secondary_y\": False}, {\"secondary_y\": False}],\n",
    "           [{\"secondary_y\": False}, {\"secondary_y\": False}]]\n",
    ")\n",
    "\n",
    "# Home goals histogram\n",
    "fig_goals.add_trace(\n",
    "    go.Histogram(x=df['FTHG'], nbinsx=8, name='Home Goals',\n",
    "                marker_color='lightblue', opacity=0.7),\n",
    "    row=1, col=1\n",
    ")\n",
    "\n",
    "# Away goals histogram  \n",
    "fig_goals.add_trace(\n",
    "    go.Histogram(x=df['FTAG'], nbinsx=8, name='Away Goals',\n",
    "                marker_color='lightcoral', opacity=0.7),\n",
    "    row=1, col=2\n",
    ")\n",
    "\n",
    "# Total goals histogram\n",
    "fig_goals.add_trace(\n",
    "    go.Histogram(x=df['TotalGoals'], nbinsx=10, name='Total Goals',\n",
    "                marker_color='lightgreen', opacity=0.7),\n",
    "    row=2, col=1\n",
    ")\n",
    "\n",
    "# Goal difference histogram\n",
    "fig_goals.add_trace(\n",
    "    go.Histogram(x=df['GoalDifference'], nbinsx=15, name='Goal Difference',\n",
    "                marker_color='gold', opacity=0.7),\n",
    "    row=2, col=2\n",
    ")\n",
    "\n",
    "# Add statistical annotations\n",
    "home_mean = df['FTHG'].mean()\n",
    "away_mean = df['FTAG'].mean()\n",
    "total_mean = df['TotalGoals'].mean()\n",
    "\n",
    "fig_goals.add_vline(x=home_mean, line_dash=\"dash\", line_color=\"red\", \n",
    "                   annotation_text=f\"μ={home_mean:.2f}\", row=1, col=1)\n",
    "fig_goals.add_vline(x=away_mean, line_dash=\"dash\", line_color=\"red\",\n",
    "                   annotation_text=f\"μ={away_mean:.2f}\", row=1, col=2)\n",
    "fig_goals.add_vline(x=total_mean, line_dash=\"dash\", line_color=\"red\",\n",
    "                   annotation_text=f\"μ={total_mean:.2f}\", row=2, col=1)\n",
    "fig_goals.add_vline(x=0, line_dash=\"dash\", line_color=\"red\",\n",
    "                   annotation_text=\"Even\", row=2, col=2)\n",
    "\n",
    "fig_goals.update_layout(\n",
    "    height=600,\n",
    "    title_text=\"🥅 Goal Scoring Patterns Analysis\",\n",
    "    showlegend=False\n",
    ")\n",
    "\n",
    "fig_goals.show()\n",
    "\n",
    "# Print some interesting stats\n",
    "print(f\"📊 GOAL SCORING INSIGHTS:\")\n",
    "print(f\"• Average goals per match: {df['TotalGoals'].mean():.2f}\")\n",
    "print(f\"• Home advantage: {df['FTHG'].mean() - df['FTAG'].mean():.2f} goals\")\n",
    "print(f\"• Most common score: {df['TotalGoals'].mode().iloc[0]} goals\")\n",
    "print(f\"• High-scoring matches (4+ goals): {(df['TotalGoals'] >= 4).mean()*100:.1f}%\")\n",
    "print(f\"• Low-scoring matches (0-1 goals): {(df['TotalGoals'] <= 1).mean()*100:.1f}%\")"
   ]
  },
  {
   "cell_type": "markdown",
   "id": "9db84273",
   "metadata": {},
   "source": [
    "### 7. Team Style Analysis - Defensive vs Offensive"
   ]
  },
  {
   "cell_type": "code",
   "execution_count": 45,
   "id": "32845330",
   "metadata": {},
   "outputs": [
    {
     "data": {
      "application/vnd.plotly.v1+json": {
       "config": {
        "plotlyServerURL": "https://plot.ly"
       },
       "data": [
        {
         "hovertemplate": "<b>%{hovertext}</b><br><br>Style=Balanced<br>Attacking Power (Goals/Game)=%{x}<br>Defensive Power (3 - Goals Conceded/Game)=%{y}<br>Win Rate (%)=%{marker.size}<extra></extra>",
         "hovertext": [
          "Kortrijk",
          "Beerschot VA",
          "Charleroi",
          "Standard",
          "St Truiden",
          "Cercle Brugge",
          "Eupen",
          "RWD Molenbeek",
          "Oostende",
          "Mouscron",
          "Waasland-Beveren"
         ],
         "legendgroup": "Balanced",
         "marker": {
          "color": "#44FF44",
          "size": {
           "bdata": "rBewzekqO0AxRT7rBlM4QFAyFtUwO0RAXXTRRRedQUAy7RysWWJAQHXRRRddVEFANdsnqgeNOEAdx3Ecx3EzQKTkWUb0AT1AWZZlWZZlOUAoiqIoiqI0QA==",
           "dtype": "f8"
          },
          "sizemode": "area",
          "sizeref": 0.07212475633528265,
          "symbol": "circle"
         },
         "mode": "markers",
         "name": "Balanced",
         "orientation": "v",
         "showlegend": true,
         "type": "scatter",
         "x": {
          "bdata": "H/fdUuhP8j+Rz7rBFPn0P/fdUuhPMvY/dNFFF1109T/5lGnnYM3yP9FFF1100fQ/k2BX4csN8T9VVVVVVVXxP6w4ISXPMvI/chzHcRzH8T8hCIIgCILwPw==",
          "dtype": "f8"
         },
         "xaxis": "x",
         "y": {
          "bdata": "a5gdHEGk9T981g2myGftP0nrBWxzuvo/o4suuuii+j+Hk7ovj634P+miiy666Pg/529xWrN98j8cx3Ecx3HsP8CKE1LyLPM/CIIgCIIg+D983/d93/ftPw==",
          "dtype": "f8"
         },
         "yaxis": "y"
        },
        {
         "hovertemplate": "<b>%{hovertext}</b><br><br>Style=Balanced Strong<br>Attacking Power (Goals/Game)=%{x}<br>Defensive Power (3 - Goals Conceded/Game)=%{y}<br>Win Rate (%)=%{marker.size}<extra></extra>",
         "hovertext": [
          "St. Gilloise",
          "Gent",
          "Club Brugge",
          "Antwerp",
          "Anderlecht"
         ],
         "legendgroup": "Balanced Strong",
         "marker": {
          "color": "#FFD700",
          "size": {
           "bdata": "prOYzmI6UEDMYyuChpNIQLVzsGaJ8U1AJBfwehv9SUCLLrrooktHQA==",
           "dtype": "f8"
          },
          "sizemode": "area",
          "sizeref": 0.07212475633528265,
          "symbol": "circle"
         },
         "mode": "markers",
         "name": "Balanced Strong",
         "orientation": "v",
         "showlegend": true,
         "type": "scatter",
         "x": {
          "bdata": "3EdwH8F9AEAoJBfwehv9P99GfygkFwBAMI+tCBpO+j+66KKLLrr6Pw==",
          "dtype": "f8"
         },
         "xaxis": "x",
         "y": {
          "bdata": "gvsI7iO4/z+Zdg7WLDH+PwKvt9EfCgFAVwQNJ3Vf/j+66KKLLrr+Pw==",
          "dtype": "f8"
         },
         "yaxis": "y"
        },
        {
         "hovertemplate": "<b>%{hovertext}</b><br><br>Style=Attacking<br>Attacking Power (Goals/Game)=%{x}<br>Defensive Power (3 - Goals Conceded/Game)=%{y}<br>Win Rate (%)=%{marker.size}<extra></extra>",
         "hovertext": [
          "Oud-Heverlee Leuven",
          "Mechelen",
          "Genk",
          "Westerlo",
          "Waregem"
         ],
         "legendgroup": "Attacking",
         "marker": {
          "color": "#FF4444",
          "size": {
           "bdata": "doMp8lk3QEDESd2Xx1ZEQFSmnYM1S0hAS0f2DESlP0Ck5FlG9AE9QA==",
           "dtype": "f8"
          },
          "sizemode": "area",
          "sizeref": 0.07212475633528265,
          "symbol": "circle"
         },
         "mode": "markers",
         "name": "Attacking",
         "orientation": "v",
         "showlegend": true,
         "type": "scatter",
         "x": {
          "bdata": "+awbTJHP9j9EIbmA19v4P+axFUHDSf0/2TMQlY7s+T9G9AHVsbf2Pw==",
          "dtype": "f8"
         },
         "xaxis": "x",
         "y": {
          "bdata": "n3WDKfJZ9z/Gp0w7B2v2PwQNJ3VfHvs/GohKR/YM9D9wQkqeZUTvPw==",
          "dtype": "f8"
         },
         "yaxis": "y"
        },
        {
         "hovertemplate": "<b>%{hovertext}</b><br><br>Style=Struggling<br>Attacking Power (Goals/Game)=%{x}<br>Defensive Power (3 - Goals Conceded/Game)=%{y}<br>Win Rate (%)=%{marker.size}<extra></extra>",
         "hovertext": [
          "Seraing"
         ],
         "legendgroup": "Struggling",
         "marker": {
          "color": "#888888",
          "size": {
           "bdata": "Hh4eHh4eM0A=",
           "dtype": "f8"
          },
          "sizemode": "area",
          "sizeref": 0.07212475633528265,
          "symbol": "circle"
         },
         "mode": "markers",
         "name": "Struggling",
         "orientation": "v",
         "showlegend": true,
         "type": "scatter",
         "x": {
          "bdata": "S0tLS0tL6z8=",
          "dtype": "f8"
         },
         "xaxis": "x",
         "y": {
          "bdata": "AAAAAAAA8D8=",
          "dtype": "f8"
         },
         "yaxis": "y"
        }
       ],
       "layout": {
        "annotations": [
         {
          "showarrow": false,
          "text": "Avg Defense",
          "x": 1,
          "xanchor": "right",
          "xref": "x domain",
          "y": 1.454428759503452,
          "yanchor": "bottom",
          "yref": "y"
         },
         {
          "showarrow": false,
          "text": "Avg Attack",
          "x": 1.4090265998611653,
          "xanchor": "left",
          "xref": "x",
          "y": 1,
          "yanchor": "top",
          "yref": "y domain"
         },
         {
          "bgcolor": "rgba(68,68,255,0.1)",
          "showarrow": false,
          "text": "🛡️ Defensive<br>Teams",
          "x": 0.7,
          "y": 2.3
         },
         {
          "bgcolor": "rgba(255,68,68,0.1)",
          "showarrow": false,
          "text": "⚔️ Attacking<br>Teams",
          "x": 1.8,
          "y": 1.2
         },
         {
          "bgcolor": "rgba(255,215,0,0.1)",
          "showarrow": false,
          "text": "👑 Elite<br>Teams",
          "x": 1.6,
          "y": 2.2
         }
        ],
        "height": 600,
        "legend": {
         "itemsizing": "constant",
         "title": {
          "text": "Playing Style"
         },
         "tracegroupgap": 0
        },
        "shapes": [
         {
          "line": {
           "color": "gray",
           "dash": "dot"
          },
          "type": "line",
          "x0": 0,
          "x1": 1,
          "xref": "x domain",
          "y0": 1.454428759503452,
          "y1": 1.454428759503452,
          "yref": "y"
         },
         {
          "line": {
           "color": "gray",
           "dash": "dot"
          },
          "type": "line",
          "x0": 1.4090265998611653,
          "x1": 1.4090265998611653,
          "xref": "x",
          "y0": 0,
          "y1": 1,
          "yref": "y domain"
         }
        ],
        "showlegend": true,
        "template": {
         "data": {
          "bar": [
           {
            "error_x": {
             "color": "#2a3f5f"
            },
            "error_y": {
             "color": "#2a3f5f"
            },
            "marker": {
             "line": {
              "color": "#E5ECF6",
              "width": 0.5
             },
             "pattern": {
              "fillmode": "overlay",
              "size": 10,
              "solidity": 0.2
             }
            },
            "type": "bar"
           }
          ],
          "barpolar": [
           {
            "marker": {
             "line": {
              "color": "#E5ECF6",
              "width": 0.5
             },
             "pattern": {
              "fillmode": "overlay",
              "size": 10,
              "solidity": 0.2
             }
            },
            "type": "barpolar"
           }
          ],
          "carpet": [
           {
            "aaxis": {
             "endlinecolor": "#2a3f5f",
             "gridcolor": "white",
             "linecolor": "white",
             "minorgridcolor": "white",
             "startlinecolor": "#2a3f5f"
            },
            "baxis": {
             "endlinecolor": "#2a3f5f",
             "gridcolor": "white",
             "linecolor": "white",
             "minorgridcolor": "white",
             "startlinecolor": "#2a3f5f"
            },
            "type": "carpet"
           }
          ],
          "choropleth": [
           {
            "colorbar": {
             "outlinewidth": 0,
             "ticks": ""
            },
            "type": "choropleth"
           }
          ],
          "contour": [
           {
            "colorbar": {
             "outlinewidth": 0,
             "ticks": ""
            },
            "colorscale": [
             [
              0,
              "#0d0887"
             ],
             [
              0.1111111111111111,
              "#46039f"
             ],
             [
              0.2222222222222222,
              "#7201a8"
             ],
             [
              0.3333333333333333,
              "#9c179e"
             ],
             [
              0.4444444444444444,
              "#bd3786"
             ],
             [
              0.5555555555555556,
              "#d8576b"
             ],
             [
              0.6666666666666666,
              "#ed7953"
             ],
             [
              0.7777777777777778,
              "#fb9f3a"
             ],
             [
              0.8888888888888888,
              "#fdca26"
             ],
             [
              1,
              "#f0f921"
             ]
            ],
            "type": "contour"
           }
          ],
          "contourcarpet": [
           {
            "colorbar": {
             "outlinewidth": 0,
             "ticks": ""
            },
            "type": "contourcarpet"
           }
          ],
          "heatmap": [
           {
            "colorbar": {
             "outlinewidth": 0,
             "ticks": ""
            },
            "colorscale": [
             [
              0,
              "#0d0887"
             ],
             [
              0.1111111111111111,
              "#46039f"
             ],
             [
              0.2222222222222222,
              "#7201a8"
             ],
             [
              0.3333333333333333,
              "#9c179e"
             ],
             [
              0.4444444444444444,
              "#bd3786"
             ],
             [
              0.5555555555555556,
              "#d8576b"
             ],
             [
              0.6666666666666666,
              "#ed7953"
             ],
             [
              0.7777777777777778,
              "#fb9f3a"
             ],
             [
              0.8888888888888888,
              "#fdca26"
             ],
             [
              1,
              "#f0f921"
             ]
            ],
            "type": "heatmap"
           }
          ],
          "histogram": [
           {
            "marker": {
             "pattern": {
              "fillmode": "overlay",
              "size": 10,
              "solidity": 0.2
             }
            },
            "type": "histogram"
           }
          ],
          "histogram2d": [
           {
            "colorbar": {
             "outlinewidth": 0,
             "ticks": ""
            },
            "colorscale": [
             [
              0,
              "#0d0887"
             ],
             [
              0.1111111111111111,
              "#46039f"
             ],
             [
              0.2222222222222222,
              "#7201a8"
             ],
             [
              0.3333333333333333,
              "#9c179e"
             ],
             [
              0.4444444444444444,
              "#bd3786"
             ],
             [
              0.5555555555555556,
              "#d8576b"
             ],
             [
              0.6666666666666666,
              "#ed7953"
             ],
             [
              0.7777777777777778,
              "#fb9f3a"
             ],
             [
              0.8888888888888888,
              "#fdca26"
             ],
             [
              1,
              "#f0f921"
             ]
            ],
            "type": "histogram2d"
           }
          ],
          "histogram2dcontour": [
           {
            "colorbar": {
             "outlinewidth": 0,
             "ticks": ""
            },
            "colorscale": [
             [
              0,
              "#0d0887"
             ],
             [
              0.1111111111111111,
              "#46039f"
             ],
             [
              0.2222222222222222,
              "#7201a8"
             ],
             [
              0.3333333333333333,
              "#9c179e"
             ],
             [
              0.4444444444444444,
              "#bd3786"
             ],
             [
              0.5555555555555556,
              "#d8576b"
             ],
             [
              0.6666666666666666,
              "#ed7953"
             ],
             [
              0.7777777777777778,
              "#fb9f3a"
             ],
             [
              0.8888888888888888,
              "#fdca26"
             ],
             [
              1,
              "#f0f921"
             ]
            ],
            "type": "histogram2dcontour"
           }
          ],
          "mesh3d": [
           {
            "colorbar": {
             "outlinewidth": 0,
             "ticks": ""
            },
            "type": "mesh3d"
           }
          ],
          "parcoords": [
           {
            "line": {
             "colorbar": {
              "outlinewidth": 0,
              "ticks": ""
             }
            },
            "type": "parcoords"
           }
          ],
          "pie": [
           {
            "automargin": true,
            "type": "pie"
           }
          ],
          "scatter": [
           {
            "fillpattern": {
             "fillmode": "overlay",
             "size": 10,
             "solidity": 0.2
            },
            "type": "scatter"
           }
          ],
          "scatter3d": [
           {
            "line": {
             "colorbar": {
              "outlinewidth": 0,
              "ticks": ""
             }
            },
            "marker": {
             "colorbar": {
              "outlinewidth": 0,
              "ticks": ""
             }
            },
            "type": "scatter3d"
           }
          ],
          "scattercarpet": [
           {
            "marker": {
             "colorbar": {
              "outlinewidth": 0,
              "ticks": ""
             }
            },
            "type": "scattercarpet"
           }
          ],
          "scattergeo": [
           {
            "marker": {
             "colorbar": {
              "outlinewidth": 0,
              "ticks": ""
             }
            },
            "type": "scattergeo"
           }
          ],
          "scattergl": [
           {
            "marker": {
             "colorbar": {
              "outlinewidth": 0,
              "ticks": ""
             }
            },
            "type": "scattergl"
           }
          ],
          "scattermap": [
           {
            "marker": {
             "colorbar": {
              "outlinewidth": 0,
              "ticks": ""
             }
            },
            "type": "scattermap"
           }
          ],
          "scattermapbox": [
           {
            "marker": {
             "colorbar": {
              "outlinewidth": 0,
              "ticks": ""
             }
            },
            "type": "scattermapbox"
           }
          ],
          "scatterpolar": [
           {
            "marker": {
             "colorbar": {
              "outlinewidth": 0,
              "ticks": ""
             }
            },
            "type": "scatterpolar"
           }
          ],
          "scatterpolargl": [
           {
            "marker": {
             "colorbar": {
              "outlinewidth": 0,
              "ticks": ""
             }
            },
            "type": "scatterpolargl"
           }
          ],
          "scatterternary": [
           {
            "marker": {
             "colorbar": {
              "outlinewidth": 0,
              "ticks": ""
             }
            },
            "type": "scatterternary"
           }
          ],
          "surface": [
           {
            "colorbar": {
             "outlinewidth": 0,
             "ticks": ""
            },
            "colorscale": [
             [
              0,
              "#0d0887"
             ],
             [
              0.1111111111111111,
              "#46039f"
             ],
             [
              0.2222222222222222,
              "#7201a8"
             ],
             [
              0.3333333333333333,
              "#9c179e"
             ],
             [
              0.4444444444444444,
              "#bd3786"
             ],
             [
              0.5555555555555556,
              "#d8576b"
             ],
             [
              0.6666666666666666,
              "#ed7953"
             ],
             [
              0.7777777777777778,
              "#fb9f3a"
             ],
             [
              0.8888888888888888,
              "#fdca26"
             ],
             [
              1,
              "#f0f921"
             ]
            ],
            "type": "surface"
           }
          ],
          "table": [
           {
            "cells": {
             "fill": {
              "color": "#EBF0F8"
             },
             "line": {
              "color": "white"
             }
            },
            "header": {
             "fill": {
              "color": "#C8D4E3"
             },
             "line": {
              "color": "white"
             }
            },
            "type": "table"
           }
          ]
         },
         "layout": {
          "annotationdefaults": {
           "arrowcolor": "#2a3f5f",
           "arrowhead": 0,
           "arrowwidth": 1
          },
          "autotypenumbers": "strict",
          "coloraxis": {
           "colorbar": {
            "outlinewidth": 0,
            "ticks": ""
           }
          },
          "colorscale": {
           "diverging": [
            [
             0,
             "#8e0152"
            ],
            [
             0.1,
             "#c51b7d"
            ],
            [
             0.2,
             "#de77ae"
            ],
            [
             0.3,
             "#f1b6da"
            ],
            [
             0.4,
             "#fde0ef"
            ],
            [
             0.5,
             "#f7f7f7"
            ],
            [
             0.6,
             "#e6f5d0"
            ],
            [
             0.7,
             "#b8e186"
            ],
            [
             0.8,
             "#7fbc41"
            ],
            [
             0.9,
             "#4d9221"
            ],
            [
             1,
             "#276419"
            ]
           ],
           "sequential": [
            [
             0,
             "#0d0887"
            ],
            [
             0.1111111111111111,
             "#46039f"
            ],
            [
             0.2222222222222222,
             "#7201a8"
            ],
            [
             0.3333333333333333,
             "#9c179e"
            ],
            [
             0.4444444444444444,
             "#bd3786"
            ],
            [
             0.5555555555555556,
             "#d8576b"
            ],
            [
             0.6666666666666666,
             "#ed7953"
            ],
            [
             0.7777777777777778,
             "#fb9f3a"
            ],
            [
             0.8888888888888888,
             "#fdca26"
            ],
            [
             1,
             "#f0f921"
            ]
           ],
           "sequentialminus": [
            [
             0,
             "#0d0887"
            ],
            [
             0.1111111111111111,
             "#46039f"
            ],
            [
             0.2222222222222222,
             "#7201a8"
            ],
            [
             0.3333333333333333,
             "#9c179e"
            ],
            [
             0.4444444444444444,
             "#bd3786"
            ],
            [
             0.5555555555555556,
             "#d8576b"
            ],
            [
             0.6666666666666666,
             "#ed7953"
            ],
            [
             0.7777777777777778,
             "#fb9f3a"
            ],
            [
             0.8888888888888888,
             "#fdca26"
            ],
            [
             1,
             "#f0f921"
            ]
           ]
          },
          "colorway": [
           "#636efa",
           "#EF553B",
           "#00cc96",
           "#ab63fa",
           "#FFA15A",
           "#19d3f3",
           "#FF6692",
           "#B6E880",
           "#FF97FF",
           "#FECB52"
          ],
          "font": {
           "color": "#2a3f5f"
          },
          "geo": {
           "bgcolor": "white",
           "lakecolor": "white",
           "landcolor": "#E5ECF6",
           "showlakes": true,
           "showland": true,
           "subunitcolor": "white"
          },
          "hoverlabel": {
           "align": "left"
          },
          "hovermode": "closest",
          "mapbox": {
           "style": "light"
          },
          "paper_bgcolor": "white",
          "plot_bgcolor": "#E5ECF6",
          "polar": {
           "angularaxis": {
            "gridcolor": "white",
            "linecolor": "white",
            "ticks": ""
           },
           "bgcolor": "#E5ECF6",
           "radialaxis": {
            "gridcolor": "white",
            "linecolor": "white",
            "ticks": ""
           }
          },
          "scene": {
           "xaxis": {
            "backgroundcolor": "#E5ECF6",
            "gridcolor": "white",
            "gridwidth": 2,
            "linecolor": "white",
            "showbackground": true,
            "ticks": "",
            "zerolinecolor": "white"
           },
           "yaxis": {
            "backgroundcolor": "#E5ECF6",
            "gridcolor": "white",
            "gridwidth": 2,
            "linecolor": "white",
            "showbackground": true,
            "ticks": "",
            "zerolinecolor": "white"
           },
           "zaxis": {
            "backgroundcolor": "#E5ECF6",
            "gridcolor": "white",
            "gridwidth": 2,
            "linecolor": "white",
            "showbackground": true,
            "ticks": "",
            "zerolinecolor": "white"
           }
          },
          "shapedefaults": {
           "line": {
            "color": "#2a3f5f"
           }
          },
          "ternary": {
           "aaxis": {
            "gridcolor": "white",
            "linecolor": "white",
            "ticks": ""
           },
           "baxis": {
            "gridcolor": "white",
            "linecolor": "white",
            "ticks": ""
           },
           "bgcolor": "#E5ECF6",
           "caxis": {
            "gridcolor": "white",
            "linecolor": "white",
            "ticks": ""
           }
          },
          "title": {
           "x": 0.05
          },
          "xaxis": {
           "automargin": true,
           "gridcolor": "white",
           "linecolor": "white",
           "ticks": "",
           "title": {
            "standoff": 15
           },
           "zerolinecolor": "white",
           "zerolinewidth": 2
          },
          "yaxis": {
           "automargin": true,
           "gridcolor": "white",
           "linecolor": "white",
           "ticks": "",
           "title": {
            "standoff": 15
           },
           "zerolinecolor": "white",
           "zerolinewidth": 2
          }
         }
        },
        "title": {
         "text": "⚔️ Team Playing Styles: Attack vs Defense"
        },
        "xaxis": {
         "anchor": "y",
         "domain": [
          0,
          1
         ],
         "title": {
          "text": "Attacking Power (Goals/Game)"
         }
        },
        "yaxis": {
         "anchor": "x",
         "domain": [
          0,
          1
         ],
         "title": {
          "text": "Defensive Power (3 - Goals Conceded/Game)"
         }
        }
       }
      }
     },
     "metadata": {},
     "output_type": "display_data"
    },
    {
     "name": "stdout",
     "output_type": "stream",
     "text": [
      "🎯 TEAM STYLE BREAKDOWN:\n",
      "• Balanced: 11 teams (avg 28.5% win rate)\n",
      "• Balanced Strong: 5 teams (avg 54.5% win rate)\n",
      "• Attacking: 5 teams (avg 36.5% win rate)\n",
      "• Struggling: 1 teams (avg 19.1% win rate)\n"
     ]
    }
   ],
   "source": [
    "# Classify teams by playing style\n",
    "team_styles = []\n",
    "\n",
    "for team in df['HomeTeam'].unique():\n",
    "    # Home matches\n",
    "    home_matches = df[df['HomeTeam'] == team]\n",
    "    home_goals_scored = home_matches['FTHG'].sum()\n",
    "    home_goals_conceded = home_matches['FTAG'].sum()\n",
    "    home_matches_count = len(home_matches)\n",
    "    \n",
    "    # Away matches\n",
    "    away_matches = df[df['AwayTeam'] == team]\n",
    "    away_goals_scored = away_matches['FTAG'].sum()\n",
    "    away_goals_conceded = away_matches['FTHG'].sum()\n",
    "    away_matches_count = len(away_matches)\n",
    "    \n",
    "    total_matches = home_matches_count + away_matches_count\n",
    "    \n",
    "    if total_matches >= 30:  # Minimum matches for reliable analysis\n",
    "        # Calculate averages\n",
    "        goals_scored_per_game = (home_goals_scored + away_goals_scored) / total_matches\n",
    "        goals_conceded_per_game = (home_goals_conceded + away_goals_conceded) / total_matches\n",
    "        \n",
    "        # Calculate style metrics\n",
    "        attacking_power = goals_scored_per_game\n",
    "        defensive_power = 3.0 - goals_conceded_per_game  # Higher is better defense\n",
    "        \n",
    "        # Calculate win rate for bubble size\n",
    "        home_wins = len(home_matches[home_matches['FTR'] == 'H'])\n",
    "        away_wins = len(away_matches[away_matches['FTR'] == 'A'])\n",
    "        win_rate = (home_wins + away_wins) / total_matches * 100\n",
    "        \n",
    "        # Classify style\n",
    "        if attacking_power > 1.3 and defensive_power > 1.7:\n",
    "            style = \"Balanced Strong\"\n",
    "        elif attacking_power > 1.4:\n",
    "            style = \"Attacking\"\n",
    "        elif defensive_power > 2.0:\n",
    "            style = \"Defensive\"\n",
    "        elif attacking_power < 1.0 and defensive_power < 1.5:\n",
    "            style = \"Struggling\"\n",
    "        else:\n",
    "            style = \"Balanced\"\n",
    "        \n",
    "        team_styles.append({\n",
    "            'Team': team,\n",
    "            'Goals_Scored_Per_Game': goals_scored_per_game,\n",
    "            'Goals_Conceded_Per_Game': goals_conceded_per_game,\n",
    "            'Attacking_Power': attacking_power,\n",
    "            'Defensive_Power': defensive_power,\n",
    "            'Win_Rate': win_rate,\n",
    "            'Total_Matches': total_matches,\n",
    "            'Style': style\n",
    "        })\n",
    "\n",
    "style_df = pd.DataFrame(team_styles)\n",
    "\n",
    "# Create team style scatter plot\n",
    "fig_style = px.scatter(\n",
    "    style_df,\n",
    "    x='Attacking_Power',\n",
    "    y='Defensive_Power',\n",
    "    color='Style',\n",
    "    size='Win_Rate',\n",
    "    hover_name='Team',\n",
    "    title='⚔️ Team Playing Styles: Attack vs Defense',\n",
    "    labels={\n",
    "        'Attacking_Power': 'Attacking Power (Goals/Game)',\n",
    "        'Defensive_Power': 'Defensive Power (3 - Goals Conceded/Game)',\n",
    "        'Win_Rate': 'Win Rate (%)'\n",
    "    },\n",
    "    color_discrete_map={\n",
    "        'Attacking': '#FF4444',\n",
    "        'Defensive': '#4444FF', \n",
    "        'Balanced': '#44FF44',\n",
    "        'Balanced Strong': '#FFD700',\n",
    "        'Struggling': '#888888'\n",
    "    },\n",
    "    size_max=30\n",
    ")\n",
    "\n",
    "# Add quadrant lines\n",
    "fig_style.add_hline(y=style_df['Defensive_Power'].mean(), line_dash=\"dot\", \n",
    "                   line_color=\"gray\", annotation_text=\"Avg Defense\")\n",
    "fig_style.add_vline(x=style_df['Attacking_Power'].mean(), line_dash=\"dot\", \n",
    "                   line_color=\"gray\", annotation_text=\"Avg Attack\")\n",
    "\n",
    "# Add style zone annotations\n",
    "fig_style.add_annotation(x=0.7, y=2.3, text=\"🛡️ Defensive<br>Teams\", \n",
    "                        showarrow=False, bgcolor=\"rgba(68,68,255,0.1)\")\n",
    "fig_style.add_annotation(x=1.8, y=1.2, text=\"⚔️ Attacking<br>Teams\", \n",
    "                        showarrow=False, bgcolor=\"rgba(255,68,68,0.1)\")\n",
    "fig_style.add_annotation(x=1.6, y=2.2, text=\"👑 Elite<br>Teams\", \n",
    "                        showarrow=False, bgcolor=\"rgba(255,215,0,0.1)\")\n",
    "\n",
    "fig_style.update_layout(\n",
    "    height=600,\n",
    "    showlegend=True,\n",
    "    legend=dict(title=\"Playing Style\")\n",
    ")\n",
    "\n",
    "fig_style.show()\n",
    "\n",
    "# Print style summary\n",
    "print(\"🎯 TEAM STYLE BREAKDOWN:\")\n",
    "for style in style_df['Style'].unique():\n",
    "    count = len(style_df[style_df['Style'] == style])\n",
    "    avg_wins = style_df[style_df['Style'] == style]['Win_Rate'].mean()\n",
    "    print(f\"• {style}: {count} teams (avg {avg_wins:.1f}% win rate)\")"
   ]
  },
  {
   "cell_type": "markdown",
   "id": "e99eb7a0",
   "metadata": {},
   "source": [
    "### 8. Upset Analysis - David vs Goliath"
   ]
  },
  {
   "cell_type": "code",
   "execution_count": 46,
   "id": "baf96178",
   "metadata": {},
   "outputs": [
    {
     "data": {
      "application/vnd.plotly.v1+json": {
       "config": {
        "plotlyServerURL": "https://plot.ly"
       },
       "data": [
        {
         "customdata": [
          [
           "Club Brugge",
           "Beerschot VA",
           "0-1"
          ],
          [
           "St. Gilloise",
           "Cercle Brugge",
           "2-3"
          ],
          [
           "St. Gilloise",
           "St Truiden",
           "0-1"
          ],
          [
           "St. Gilloise",
           "Oud-Heverlee Leuven",
           "1-3"
          ],
          [
           "Club Brugge",
           "Westerlo",
           "0-2"
          ],
          [
           "Genk",
           "Beerschot VA",
           "1-2"
          ],
          [
           "St. Gilloise",
           "Standard",
           "2-4"
          ],
          [
           "Antwerp",
           "Kortrijk",
           "0-1"
          ],
          [
           "Mechelen",
           "Seraing",
           "2-3"
          ],
          [
           "Genk",
           "Eupen",
           "0-1"
          ],
          [
           "Antwerp",
           "Oostende",
           "1-2"
          ],
          [
           "Antwerp",
           "Waregem",
           "0-1"
          ],
          [
           "Gent",
           "Kortrijk",
           "1-2"
          ],
          [
           "Anderlecht",
           "Kortrijk",
           "0-2"
          ],
          [
           "Anderlecht",
           "Kortrijk",
           "0-1"
          ],
          [
           "Gent",
           "Oostende",
           "1-2"
          ]
         ],
         "hovertemplate": "Upset_Type=Away Upset<br>Date=%{x}<br>Upset Magnitude (Strength Difference)=%{marker.size}<br>HomeTeam=%{customdata[0]}<br>AwayTeam=%{customdata[1]}<br>Score=%{customdata[2]}<extra></extra>",
         "legendgroup": "Away Upset",
         "marker": {
          "color": "#DC143C",
          "size": {
           "bdata": "jlmZuaTi8j+2wDh3tCLtP4R9pZZ3/+w/+MHqWo8f7D9W3wduuifqP0IokpGk1uk/QO/yX1eu6T9og+Kyp6nnP6l9+3ThJuc/Ve+bbfCp5j+AqFatJKLmP3h/3RYTJeY/AvrwiNTa5T8eq3jxU3DlPx6rePFTcOU/Gh9lg1HT5D8=",
           "dtype": "f8"
          },
          "sizemode": "area",
          "sizeref": 0.0029508321881203236,
          "symbol": "circle"
         },
         "mode": "markers",
         "name": "Away Upset",
         "orientation": "v",
         "showlegend": true,
         "type": "scatter",
         "x": [
          "2020-08-23T00:00:00.000000000",
          "2024-04-07T00:00:00.000000000",
          "2022-02-13T00:00:00.000000000",
          "2021-11-26T00:00:00.000000000",
          "2022-10-08T00:00:00.000000000",
          "2021-02-21T00:00:00.000000000",
          "2023-02-18T00:00:00.000000000",
          "2021-08-01T00:00:00.000000000",
          "2022-09-03T00:00:00.000000000",
          "2023-08-05T00:00:00.000000000",
          "2021-01-23T00:00:00.000000000",
          "2020-12-16T00:00:00.000000000",
          "2020-08-15T00:00:00.000000000",
          "2021-02-21T00:00:00.000000000",
          "2024-03-16T00:00:00.000000000",
          "2023-04-23T00:00:00.000000000"
         ],
         "xaxis": "x",
         "y": {
          "bdata": "jlmZuaTi8j+2wDh3tCLtP4R9pZZ3/+w/+MHqWo8f7D9W3wduuifqP0IokpGk1uk/QO/yX1eu6T9og+Kyp6nnP6l9+3ThJuc/Ve+bbfCp5j+AqFatJKLmP3h/3RYTJeY/AvrwiNTa5T8eq3jxU3DlPx6rePFTcOU/Gh9lg1HT5D8=",
          "dtype": "f8"
         },
         "yaxis": "y"
        },
        {
         "customdata": [
          [
           "Eupen",
           "Club Brugge",
           "2-1"
          ],
          [
           "Kortrijk",
           "Club Brugge",
           "1-0"
          ],
          [
           "Kortrijk",
           "Club Brugge",
           "1-0"
          ],
          [
           "Oostende",
           "Club Brugge",
           "3-0"
          ],
          [
           "Westerlo",
           "St. Gilloise",
           "4-3"
          ],
          [
           "Westerlo",
           "St. Gilloise",
           "4-2"
          ],
          [
           "Beerschot VA",
           "Anderlecht",
           "2-1"
          ],
          [
           "Beerschot VA",
           "Genk",
           "2-0"
          ],
          [
           "Beerschot VA",
           "Genk",
           "5-2"
          ],
          [
           "Cercle Brugge",
           "Club Brugge",
           "2-0"
          ],
          [
           "Eupen",
           "Antwerp",
           "1-0"
          ],
          [
           "St Truiden",
           "Club Brugge",
           "2-1"
          ],
          [
           "Oud-Heverlee Leuven",
           "Club Brugge",
           "2-1"
          ],
          [
           "Eupen",
           "Gent",
           "2-1"
          ],
          [
           "Kortrijk",
           "Antwerp",
           "2-1"
          ],
          [
           "Eupen",
           "Anderlecht",
           "2-0"
          ],
          [
           "Seraing",
           "Mechelen",
           "1-0"
          ],
          [
           "Mechelen",
           "St. Gilloise",
           "3-0"
          ],
          [
           "Mechelen",
           "St. Gilloise",
           "3-1"
          ],
          [
           "Mechelen",
           "St. Gilloise",
           "4-0"
          ],
          [
           "Eupen",
           "Genk",
           "2-0"
          ],
          [
           "Eupen",
           "Genk",
           "3-2"
          ],
          [
           "Mouscron",
           "Antwerp",
           "3-1"
          ],
          [
           "Standard",
           "Club Brugge",
           "3-0"
          ],
          [
           "Standard",
           "Club Brugge",
           "2-1"
          ],
          [
           "Standard",
           "Club Brugge",
           "1-0"
          ],
          [
           "Waregem",
           "Antwerp",
           "2-1"
          ],
          [
           "Waregem",
           "Antwerp",
           "2-0"
          ],
          [
           "Kortrijk",
           "Gent",
           "1-0"
          ],
          [
           "Kortrijk",
           "Gent",
           "1-0"
          ],
          [
           "Kortrijk",
           "Anderlecht",
           "4-2"
          ],
          [
           "Oostende",
           "Gent",
           "1-0"
          ],
          [
           "Oostende",
           "Gent",
           "2-1"
          ],
          [
           "Oostende",
           "Gent",
           "2-1"
          ]
         ],
         "hovertemplate": "Upset_Type=Home Upset<br>Date=%{x}<br>Upset Magnitude (Strength Difference)=%{marker.size}<br>HomeTeam=%{customdata[0]}<br>AwayTeam=%{customdata[1]}<br>Score=%{customdata[2]}<extra></extra>",
         "legendgroup": "Home Upset",
         "marker": {
          "color": "#2E8B57",
          "size": {
           "bdata": "GD2ep0pM8T9W0s2Zv0LwP1bSzZm/QvA/xMkPLvx97z/CvXoXFXvtP8K9ehcVe+0/jrkPMR6w6j9CKJKRpNbpP0IokpGk1uk/SuLFzVnP6T/rWIPOvbzpPxifMu0crOk/jON3sTTM6D+Fz5Gk6u3nP2iD4rKnqec/oYAZDWqD5z+pfft04SbnPxg41SUlCOc/GDjVJSUI5z8YONUlJQjnP1Xvm23wqeY/Ve+bbfCp5j8mLDOFSo7mP9QQgLb8WuY/1BCAtvxa5j/UEIC2/FrmP3h/3RYTJeY/eH/dFhMl5j8C+vCI1NrlPwL68IjU2uU/Hqt48VNw5T8aH2WDUdPkPxofZYNR0+Q/Gh9lg1HT5D8=",
           "dtype": "f8"
          },
          "sizemode": "area",
          "sizeref": 0.0029508321881203236,
          "symbol": "circle"
         },
         "mode": "markers",
         "name": "Home Upset",
         "orientation": "v",
         "showlegend": true,
         "type": "scatter",
         "x": [
          "2022-07-31T00:00:00.000000000",
          "2023-10-21T00:00:00.000000000",
          "2023-03-18T00:00:00.000000000",
          "2023-03-03T00:00:00.000000000",
          "2024-08-10T00:00:00.000000000",
          "2023-02-25T00:00:00.000000000",
          "2020-11-22T00:00:00.000000000",
          "2021-11-21T00:00:00.000000000",
          "2020-09-14T00:00:00.000000000",
          "2021-12-26T00:00:00.000000000",
          "2024-01-28T00:00:00.000000000",
          "2024-03-17T00:00:00.000000000",
          "2020-10-24T00:00:00.000000000",
          "2020-09-11T00:00:00.000000000",
          "2022-10-02T00:00:00.000000000",
          "2021-01-15T00:00:00.000000000",
          "2021-07-31T00:00:00.000000000",
          "2022-08-06T00:00:00.000000000",
          "2021-08-22T00:00:00.000000000",
          "2023-08-19T00:00:00.000000000",
          "2019-11-02T00:00:00.000000000",
          "2021-10-03T00:00:00.000000000",
          "2019-11-02T00:00:00.000000000",
          "2022-09-18T00:00:00.000000000",
          "2023-10-08T00:00:00.000000000",
          "2024-08-04T00:00:00.000000000",
          "2021-10-16T00:00:00.000000000",
          "2019-09-01T00:00:00.000000000",
          "2021-09-19T00:00:00.000000000",
          "2020-12-26T00:00:00.000000000",
          "2019-08-17T00:00:00.000000000",
          "2021-08-08T00:00:00.000000000",
          "2020-12-06T00:00:00.000000000",
          "2019-12-15T00:00:00.000000000"
         ],
         "xaxis": "x",
         "y": {
          "bdata": "GD2ep0pM8T9W0s2Zv0LwP1bSzZm/QvA/xMkPLvx97z/CvXoXFXvtP8K9ehcVe+0/jrkPMR6w6j9CKJKRpNbpP0IokpGk1uk/SuLFzVnP6T/rWIPOvbzpPxifMu0crOk/jON3sTTM6D+Fz5Gk6u3nP2iD4rKnqec/oYAZDWqD5z+pfft04SbnPxg41SUlCOc/GDjVJSUI5z8YONUlJQjnP1Xvm23wqeY/Ve+bbfCp5j8mLDOFSo7mP9QQgLb8WuY/1BCAtvxa5j/UEIC2/FrmP3h/3RYTJeY/eH/dFhMl5j8C+vCI1NrlPwL68IjU2uU/Hqt48VNw5T8aH2WDUdPkPxofZYNR0+Q/Gh9lg1HT5D8=",
          "dtype": "f8"
         },
         "yaxis": "y"
        }
       ],
       "layout": {
        "height": 500,
        "legend": {
         "itemsizing": "constant",
         "title": {
          "text": "Upset_Type"
         },
         "tracegroupgap": 0
        },
        "showlegend": true,
        "template": {
         "data": {
          "bar": [
           {
            "error_x": {
             "color": "#2a3f5f"
            },
            "error_y": {
             "color": "#2a3f5f"
            },
            "marker": {
             "line": {
              "color": "#E5ECF6",
              "width": 0.5
             },
             "pattern": {
              "fillmode": "overlay",
              "size": 10,
              "solidity": 0.2
             }
            },
            "type": "bar"
           }
          ],
          "barpolar": [
           {
            "marker": {
             "line": {
              "color": "#E5ECF6",
              "width": 0.5
             },
             "pattern": {
              "fillmode": "overlay",
              "size": 10,
              "solidity": 0.2
             }
            },
            "type": "barpolar"
           }
          ],
          "carpet": [
           {
            "aaxis": {
             "endlinecolor": "#2a3f5f",
             "gridcolor": "white",
             "linecolor": "white",
             "minorgridcolor": "white",
             "startlinecolor": "#2a3f5f"
            },
            "baxis": {
             "endlinecolor": "#2a3f5f",
             "gridcolor": "white",
             "linecolor": "white",
             "minorgridcolor": "white",
             "startlinecolor": "#2a3f5f"
            },
            "type": "carpet"
           }
          ],
          "choropleth": [
           {
            "colorbar": {
             "outlinewidth": 0,
             "ticks": ""
            },
            "type": "choropleth"
           }
          ],
          "contour": [
           {
            "colorbar": {
             "outlinewidth": 0,
             "ticks": ""
            },
            "colorscale": [
             [
              0,
              "#0d0887"
             ],
             [
              0.1111111111111111,
              "#46039f"
             ],
             [
              0.2222222222222222,
              "#7201a8"
             ],
             [
              0.3333333333333333,
              "#9c179e"
             ],
             [
              0.4444444444444444,
              "#bd3786"
             ],
             [
              0.5555555555555556,
              "#d8576b"
             ],
             [
              0.6666666666666666,
              "#ed7953"
             ],
             [
              0.7777777777777778,
              "#fb9f3a"
             ],
             [
              0.8888888888888888,
              "#fdca26"
             ],
             [
              1,
              "#f0f921"
             ]
            ],
            "type": "contour"
           }
          ],
          "contourcarpet": [
           {
            "colorbar": {
             "outlinewidth": 0,
             "ticks": ""
            },
            "type": "contourcarpet"
           }
          ],
          "heatmap": [
           {
            "colorbar": {
             "outlinewidth": 0,
             "ticks": ""
            },
            "colorscale": [
             [
              0,
              "#0d0887"
             ],
             [
              0.1111111111111111,
              "#46039f"
             ],
             [
              0.2222222222222222,
              "#7201a8"
             ],
             [
              0.3333333333333333,
              "#9c179e"
             ],
             [
              0.4444444444444444,
              "#bd3786"
             ],
             [
              0.5555555555555556,
              "#d8576b"
             ],
             [
              0.6666666666666666,
              "#ed7953"
             ],
             [
              0.7777777777777778,
              "#fb9f3a"
             ],
             [
              0.8888888888888888,
              "#fdca26"
             ],
             [
              1,
              "#f0f921"
             ]
            ],
            "type": "heatmap"
           }
          ],
          "histogram": [
           {
            "marker": {
             "pattern": {
              "fillmode": "overlay",
              "size": 10,
              "solidity": 0.2
             }
            },
            "type": "histogram"
           }
          ],
          "histogram2d": [
           {
            "colorbar": {
             "outlinewidth": 0,
             "ticks": ""
            },
            "colorscale": [
             [
              0,
              "#0d0887"
             ],
             [
              0.1111111111111111,
              "#46039f"
             ],
             [
              0.2222222222222222,
              "#7201a8"
             ],
             [
              0.3333333333333333,
              "#9c179e"
             ],
             [
              0.4444444444444444,
              "#bd3786"
             ],
             [
              0.5555555555555556,
              "#d8576b"
             ],
             [
              0.6666666666666666,
              "#ed7953"
             ],
             [
              0.7777777777777778,
              "#fb9f3a"
             ],
             [
              0.8888888888888888,
              "#fdca26"
             ],
             [
              1,
              "#f0f921"
             ]
            ],
            "type": "histogram2d"
           }
          ],
          "histogram2dcontour": [
           {
            "colorbar": {
             "outlinewidth": 0,
             "ticks": ""
            },
            "colorscale": [
             [
              0,
              "#0d0887"
             ],
             [
              0.1111111111111111,
              "#46039f"
             ],
             [
              0.2222222222222222,
              "#7201a8"
             ],
             [
              0.3333333333333333,
              "#9c179e"
             ],
             [
              0.4444444444444444,
              "#bd3786"
             ],
             [
              0.5555555555555556,
              "#d8576b"
             ],
             [
              0.6666666666666666,
              "#ed7953"
             ],
             [
              0.7777777777777778,
              "#fb9f3a"
             ],
             [
              0.8888888888888888,
              "#fdca26"
             ],
             [
              1,
              "#f0f921"
             ]
            ],
            "type": "histogram2dcontour"
           }
          ],
          "mesh3d": [
           {
            "colorbar": {
             "outlinewidth": 0,
             "ticks": ""
            },
            "type": "mesh3d"
           }
          ],
          "parcoords": [
           {
            "line": {
             "colorbar": {
              "outlinewidth": 0,
              "ticks": ""
             }
            },
            "type": "parcoords"
           }
          ],
          "pie": [
           {
            "automargin": true,
            "type": "pie"
           }
          ],
          "scatter": [
           {
            "fillpattern": {
             "fillmode": "overlay",
             "size": 10,
             "solidity": 0.2
            },
            "type": "scatter"
           }
          ],
          "scatter3d": [
           {
            "line": {
             "colorbar": {
              "outlinewidth": 0,
              "ticks": ""
             }
            },
            "marker": {
             "colorbar": {
              "outlinewidth": 0,
              "ticks": ""
             }
            },
            "type": "scatter3d"
           }
          ],
          "scattercarpet": [
           {
            "marker": {
             "colorbar": {
              "outlinewidth": 0,
              "ticks": ""
             }
            },
            "type": "scattercarpet"
           }
          ],
          "scattergeo": [
           {
            "marker": {
             "colorbar": {
              "outlinewidth": 0,
              "ticks": ""
             }
            },
            "type": "scattergeo"
           }
          ],
          "scattergl": [
           {
            "marker": {
             "colorbar": {
              "outlinewidth": 0,
              "ticks": ""
             }
            },
            "type": "scattergl"
           }
          ],
          "scattermap": [
           {
            "marker": {
             "colorbar": {
              "outlinewidth": 0,
              "ticks": ""
             }
            },
            "type": "scattermap"
           }
          ],
          "scattermapbox": [
           {
            "marker": {
             "colorbar": {
              "outlinewidth": 0,
              "ticks": ""
             }
            },
            "type": "scattermapbox"
           }
          ],
          "scatterpolar": [
           {
            "marker": {
             "colorbar": {
              "outlinewidth": 0,
              "ticks": ""
             }
            },
            "type": "scatterpolar"
           }
          ],
          "scatterpolargl": [
           {
            "marker": {
             "colorbar": {
              "outlinewidth": 0,
              "ticks": ""
             }
            },
            "type": "scatterpolargl"
           }
          ],
          "scatterternary": [
           {
            "marker": {
             "colorbar": {
              "outlinewidth": 0,
              "ticks": ""
             }
            },
            "type": "scatterternary"
           }
          ],
          "surface": [
           {
            "colorbar": {
             "outlinewidth": 0,
             "ticks": ""
            },
            "colorscale": [
             [
              0,
              "#0d0887"
             ],
             [
              0.1111111111111111,
              "#46039f"
             ],
             [
              0.2222222222222222,
              "#7201a8"
             ],
             [
              0.3333333333333333,
              "#9c179e"
             ],
             [
              0.4444444444444444,
              "#bd3786"
             ],
             [
              0.5555555555555556,
              "#d8576b"
             ],
             [
              0.6666666666666666,
              "#ed7953"
             ],
             [
              0.7777777777777778,
              "#fb9f3a"
             ],
             [
              0.8888888888888888,
              "#fdca26"
             ],
             [
              1,
              "#f0f921"
             ]
            ],
            "type": "surface"
           }
          ],
          "table": [
           {
            "cells": {
             "fill": {
              "color": "#EBF0F8"
             },
             "line": {
              "color": "white"
             }
            },
            "header": {
             "fill": {
              "color": "#C8D4E3"
             },
             "line": {
              "color": "white"
             }
            },
            "type": "table"
           }
          ]
         },
         "layout": {
          "annotationdefaults": {
           "arrowcolor": "#2a3f5f",
           "arrowhead": 0,
           "arrowwidth": 1
          },
          "autotypenumbers": "strict",
          "coloraxis": {
           "colorbar": {
            "outlinewidth": 0,
            "ticks": ""
           }
          },
          "colorscale": {
           "diverging": [
            [
             0,
             "#8e0152"
            ],
            [
             0.1,
             "#c51b7d"
            ],
            [
             0.2,
             "#de77ae"
            ],
            [
             0.3,
             "#f1b6da"
            ],
            [
             0.4,
             "#fde0ef"
            ],
            [
             0.5,
             "#f7f7f7"
            ],
            [
             0.6,
             "#e6f5d0"
            ],
            [
             0.7,
             "#b8e186"
            ],
            [
             0.8,
             "#7fbc41"
            ],
            [
             0.9,
             "#4d9221"
            ],
            [
             1,
             "#276419"
            ]
           ],
           "sequential": [
            [
             0,
             "#0d0887"
            ],
            [
             0.1111111111111111,
             "#46039f"
            ],
            [
             0.2222222222222222,
             "#7201a8"
            ],
            [
             0.3333333333333333,
             "#9c179e"
            ],
            [
             0.4444444444444444,
             "#bd3786"
            ],
            [
             0.5555555555555556,
             "#d8576b"
            ],
            [
             0.6666666666666666,
             "#ed7953"
            ],
            [
             0.7777777777777778,
             "#fb9f3a"
            ],
            [
             0.8888888888888888,
             "#fdca26"
            ],
            [
             1,
             "#f0f921"
            ]
           ],
           "sequentialminus": [
            [
             0,
             "#0d0887"
            ],
            [
             0.1111111111111111,
             "#46039f"
            ],
            [
             0.2222222222222222,
             "#7201a8"
            ],
            [
             0.3333333333333333,
             "#9c179e"
            ],
            [
             0.4444444444444444,
             "#bd3786"
            ],
            [
             0.5555555555555556,
             "#d8576b"
            ],
            [
             0.6666666666666666,
             "#ed7953"
            ],
            [
             0.7777777777777778,
             "#fb9f3a"
            ],
            [
             0.8888888888888888,
             "#fdca26"
            ],
            [
             1,
             "#f0f921"
            ]
           ]
          },
          "colorway": [
           "#636efa",
           "#EF553B",
           "#00cc96",
           "#ab63fa",
           "#FFA15A",
           "#19d3f3",
           "#FF6692",
           "#B6E880",
           "#FF97FF",
           "#FECB52"
          ],
          "font": {
           "color": "#2a3f5f"
          },
          "geo": {
           "bgcolor": "white",
           "lakecolor": "white",
           "landcolor": "#E5ECF6",
           "showlakes": true,
           "showland": true,
           "subunitcolor": "white"
          },
          "hoverlabel": {
           "align": "left"
          },
          "hovermode": "closest",
          "mapbox": {
           "style": "light"
          },
          "paper_bgcolor": "white",
          "plot_bgcolor": "#E5ECF6",
          "polar": {
           "angularaxis": {
            "gridcolor": "white",
            "linecolor": "white",
            "ticks": ""
           },
           "bgcolor": "#E5ECF6",
           "radialaxis": {
            "gridcolor": "white",
            "linecolor": "white",
            "ticks": ""
           }
          },
          "scene": {
           "xaxis": {
            "backgroundcolor": "#E5ECF6",
            "gridcolor": "white",
            "gridwidth": 2,
            "linecolor": "white",
            "showbackground": true,
            "ticks": "",
            "zerolinecolor": "white"
           },
           "yaxis": {
            "backgroundcolor": "#E5ECF6",
            "gridcolor": "white",
            "gridwidth": 2,
            "linecolor": "white",
            "showbackground": true,
            "ticks": "",
            "zerolinecolor": "white"
           },
           "zaxis": {
            "backgroundcolor": "#E5ECF6",
            "gridcolor": "white",
            "gridwidth": 2,
            "linecolor": "white",
            "showbackground": true,
            "ticks": "",
            "zerolinecolor": "white"
           }
          },
          "shapedefaults": {
           "line": {
            "color": "#2a3f5f"
           }
          },
          "ternary": {
           "aaxis": {
            "gridcolor": "white",
            "linecolor": "white",
            "ticks": ""
           },
           "baxis": {
            "gridcolor": "white",
            "linecolor": "white",
            "ticks": ""
           },
           "bgcolor": "#E5ECF6",
           "caxis": {
            "gridcolor": "white",
            "linecolor": "white",
            "ticks": ""
           }
          },
          "title": {
           "x": 0.05
          },
          "xaxis": {
           "automargin": true,
           "gridcolor": "white",
           "linecolor": "white",
           "ticks": "",
           "title": {
            "standoff": 15
           },
           "zerolinecolor": "white",
           "zerolinewidth": 2
          },
          "yaxis": {
           "automargin": true,
           "gridcolor": "white",
           "linecolor": "white",
           "ticks": "",
           "title": {
            "standoff": 15
           },
           "zerolinecolor": "white",
           "zerolinewidth": 2
          }
         }
        },
        "title": {
         "text": "🎯 Major Upsets Timeline - When David Beat Goliath"
        },
        "xaxis": {
         "anchor": "y",
         "domain": [
          0,
          1
         ],
         "title": {
          "text": "Date"
         }
        },
        "yaxis": {
         "anchor": "x",
         "domain": [
          0,
          1
         ],
         "title": {
          "text": "Upset Magnitude (Strength Difference)"
         }
        }
       }
      }
     },
     "metadata": {},
     "output_type": "display_data"
    },
    {
     "data": {
      "application/vnd.plotly.v1+json": {
       "config": {
        "plotlyServerURL": "https://plot.ly"
       },
       "data": [
        {
         "hovertemplate": "Net Upsets (Caused - Suffered)=%{marker.color}<br>Team=%{y}<extra></extra>",
         "legendgroup": "",
         "marker": {
          "color": {
           "bdata": "DAoIBwcHAwMDAwIBAQD/",
           "dtype": "i1"
          },
          "coloraxis": "coloraxis",
          "pattern": {
           "shape": ""
          }
         },
         "name": "",
         "orientation": "h",
         "showlegend": false,
         "textposition": "auto",
         "type": "bar",
         "x": {
          "bdata": "DAoIBwcHAwMDAwIBAQD/",
          "dtype": "i1"
         },
         "xaxis": "x",
         "y": [
          "Kortrijk",
          "Oostende",
          "Seraing",
          "Waregem",
          "Eupen",
          "Beerschot VA",
          "Westerlo",
          "Cercle Brugge",
          "Waasland-Beveren",
          "Mouscron",
          "St Truiden",
          "Standard",
          "RWD Molenbeek",
          "Oud-Heverlee Leuven",
          "Charleroi"
         ],
         "yaxis": "y"
        }
       ],
       "layout": {
        "barmode": "relative",
        "coloraxis": {
         "colorbar": {
          "title": {
           "text": "Net Upsets (Caused - Suffered)"
          }
         },
         "colorscale": [
          [
           0,
           "rgb(165,0,38)"
          ],
          [
           0.1,
           "rgb(215,48,39)"
          ],
          [
           0.2,
           "rgb(244,109,67)"
          ],
          [
           0.3,
           "rgb(253,174,97)"
          ],
          [
           0.4,
           "rgb(254,224,139)"
          ],
          [
           0.5,
           "rgb(255,255,191)"
          ],
          [
           0.6,
           "rgb(217,239,139)"
          ],
          [
           0.7,
           "rgb(166,217,106)"
          ],
          [
           0.8,
           "rgb(102,189,99)"
          ],
          [
           0.9,
           "rgb(26,152,80)"
          ],
          [
           1,
           "rgb(0,104,55)"
          ]
         ]
        },
        "height": 500,
        "legend": {
         "tracegroupgap": 0
        },
        "template": {
         "data": {
          "bar": [
           {
            "error_x": {
             "color": "#2a3f5f"
            },
            "error_y": {
             "color": "#2a3f5f"
            },
            "marker": {
             "line": {
              "color": "#E5ECF6",
              "width": 0.5
             },
             "pattern": {
              "fillmode": "overlay",
              "size": 10,
              "solidity": 0.2
             }
            },
            "type": "bar"
           }
          ],
          "barpolar": [
           {
            "marker": {
             "line": {
              "color": "#E5ECF6",
              "width": 0.5
             },
             "pattern": {
              "fillmode": "overlay",
              "size": 10,
              "solidity": 0.2
             }
            },
            "type": "barpolar"
           }
          ],
          "carpet": [
           {
            "aaxis": {
             "endlinecolor": "#2a3f5f",
             "gridcolor": "white",
             "linecolor": "white",
             "minorgridcolor": "white",
             "startlinecolor": "#2a3f5f"
            },
            "baxis": {
             "endlinecolor": "#2a3f5f",
             "gridcolor": "white",
             "linecolor": "white",
             "minorgridcolor": "white",
             "startlinecolor": "#2a3f5f"
            },
            "type": "carpet"
           }
          ],
          "choropleth": [
           {
            "colorbar": {
             "outlinewidth": 0,
             "ticks": ""
            },
            "type": "choropleth"
           }
          ],
          "contour": [
           {
            "colorbar": {
             "outlinewidth": 0,
             "ticks": ""
            },
            "colorscale": [
             [
              0,
              "#0d0887"
             ],
             [
              0.1111111111111111,
              "#46039f"
             ],
             [
              0.2222222222222222,
              "#7201a8"
             ],
             [
              0.3333333333333333,
              "#9c179e"
             ],
             [
              0.4444444444444444,
              "#bd3786"
             ],
             [
              0.5555555555555556,
              "#d8576b"
             ],
             [
              0.6666666666666666,
              "#ed7953"
             ],
             [
              0.7777777777777778,
              "#fb9f3a"
             ],
             [
              0.8888888888888888,
              "#fdca26"
             ],
             [
              1,
              "#f0f921"
             ]
            ],
            "type": "contour"
           }
          ],
          "contourcarpet": [
           {
            "colorbar": {
             "outlinewidth": 0,
             "ticks": ""
            },
            "type": "contourcarpet"
           }
          ],
          "heatmap": [
           {
            "colorbar": {
             "outlinewidth": 0,
             "ticks": ""
            },
            "colorscale": [
             [
              0,
              "#0d0887"
             ],
             [
              0.1111111111111111,
              "#46039f"
             ],
             [
              0.2222222222222222,
              "#7201a8"
             ],
             [
              0.3333333333333333,
              "#9c179e"
             ],
             [
              0.4444444444444444,
              "#bd3786"
             ],
             [
              0.5555555555555556,
              "#d8576b"
             ],
             [
              0.6666666666666666,
              "#ed7953"
             ],
             [
              0.7777777777777778,
              "#fb9f3a"
             ],
             [
              0.8888888888888888,
              "#fdca26"
             ],
             [
              1,
              "#f0f921"
             ]
            ],
            "type": "heatmap"
           }
          ],
          "histogram": [
           {
            "marker": {
             "pattern": {
              "fillmode": "overlay",
              "size": 10,
              "solidity": 0.2
             }
            },
            "type": "histogram"
           }
          ],
          "histogram2d": [
           {
            "colorbar": {
             "outlinewidth": 0,
             "ticks": ""
            },
            "colorscale": [
             [
              0,
              "#0d0887"
             ],
             [
              0.1111111111111111,
              "#46039f"
             ],
             [
              0.2222222222222222,
              "#7201a8"
             ],
             [
              0.3333333333333333,
              "#9c179e"
             ],
             [
              0.4444444444444444,
              "#bd3786"
             ],
             [
              0.5555555555555556,
              "#d8576b"
             ],
             [
              0.6666666666666666,
              "#ed7953"
             ],
             [
              0.7777777777777778,
              "#fb9f3a"
             ],
             [
              0.8888888888888888,
              "#fdca26"
             ],
             [
              1,
              "#f0f921"
             ]
            ],
            "type": "histogram2d"
           }
          ],
          "histogram2dcontour": [
           {
            "colorbar": {
             "outlinewidth": 0,
             "ticks": ""
            },
            "colorscale": [
             [
              0,
              "#0d0887"
             ],
             [
              0.1111111111111111,
              "#46039f"
             ],
             [
              0.2222222222222222,
              "#7201a8"
             ],
             [
              0.3333333333333333,
              "#9c179e"
             ],
             [
              0.4444444444444444,
              "#bd3786"
             ],
             [
              0.5555555555555556,
              "#d8576b"
             ],
             [
              0.6666666666666666,
              "#ed7953"
             ],
             [
              0.7777777777777778,
              "#fb9f3a"
             ],
             [
              0.8888888888888888,
              "#fdca26"
             ],
             [
              1,
              "#f0f921"
             ]
            ],
            "type": "histogram2dcontour"
           }
          ],
          "mesh3d": [
           {
            "colorbar": {
             "outlinewidth": 0,
             "ticks": ""
            },
            "type": "mesh3d"
           }
          ],
          "parcoords": [
           {
            "line": {
             "colorbar": {
              "outlinewidth": 0,
              "ticks": ""
             }
            },
            "type": "parcoords"
           }
          ],
          "pie": [
           {
            "automargin": true,
            "type": "pie"
           }
          ],
          "scatter": [
           {
            "fillpattern": {
             "fillmode": "overlay",
             "size": 10,
             "solidity": 0.2
            },
            "type": "scatter"
           }
          ],
          "scatter3d": [
           {
            "line": {
             "colorbar": {
              "outlinewidth": 0,
              "ticks": ""
             }
            },
            "marker": {
             "colorbar": {
              "outlinewidth": 0,
              "ticks": ""
             }
            },
            "type": "scatter3d"
           }
          ],
          "scattercarpet": [
           {
            "marker": {
             "colorbar": {
              "outlinewidth": 0,
              "ticks": ""
             }
            },
            "type": "scattercarpet"
           }
          ],
          "scattergeo": [
           {
            "marker": {
             "colorbar": {
              "outlinewidth": 0,
              "ticks": ""
             }
            },
            "type": "scattergeo"
           }
          ],
          "scattergl": [
           {
            "marker": {
             "colorbar": {
              "outlinewidth": 0,
              "ticks": ""
             }
            },
            "type": "scattergl"
           }
          ],
          "scattermap": [
           {
            "marker": {
             "colorbar": {
              "outlinewidth": 0,
              "ticks": ""
             }
            },
            "type": "scattermap"
           }
          ],
          "scattermapbox": [
           {
            "marker": {
             "colorbar": {
              "outlinewidth": 0,
              "ticks": ""
             }
            },
            "type": "scattermapbox"
           }
          ],
          "scatterpolar": [
           {
            "marker": {
             "colorbar": {
              "outlinewidth": 0,
              "ticks": ""
             }
            },
            "type": "scatterpolar"
           }
          ],
          "scatterpolargl": [
           {
            "marker": {
             "colorbar": {
              "outlinewidth": 0,
              "ticks": ""
             }
            },
            "type": "scatterpolargl"
           }
          ],
          "scatterternary": [
           {
            "marker": {
             "colorbar": {
              "outlinewidth": 0,
              "ticks": ""
             }
            },
            "type": "scatterternary"
           }
          ],
          "surface": [
           {
            "colorbar": {
             "outlinewidth": 0,
             "ticks": ""
            },
            "colorscale": [
             [
              0,
              "#0d0887"
             ],
             [
              0.1111111111111111,
              "#46039f"
             ],
             [
              0.2222222222222222,
              "#7201a8"
             ],
             [
              0.3333333333333333,
              "#9c179e"
             ],
             [
              0.4444444444444444,
              "#bd3786"
             ],
             [
              0.5555555555555556,
              "#d8576b"
             ],
             [
              0.6666666666666666,
              "#ed7953"
             ],
             [
              0.7777777777777778,
              "#fb9f3a"
             ],
             [
              0.8888888888888888,
              "#fdca26"
             ],
             [
              1,
              "#f0f921"
             ]
            ],
            "type": "surface"
           }
          ],
          "table": [
           {
            "cells": {
             "fill": {
              "color": "#EBF0F8"
             },
             "line": {
              "color": "white"
             }
            },
            "header": {
             "fill": {
              "color": "#C8D4E3"
             },
             "line": {
              "color": "white"
             }
            },
            "type": "table"
           }
          ]
         },
         "layout": {
          "annotationdefaults": {
           "arrowcolor": "#2a3f5f",
           "arrowhead": 0,
           "arrowwidth": 1
          },
          "autotypenumbers": "strict",
          "coloraxis": {
           "colorbar": {
            "outlinewidth": 0,
            "ticks": ""
           }
          },
          "colorscale": {
           "diverging": [
            [
             0,
             "#8e0152"
            ],
            [
             0.1,
             "#c51b7d"
            ],
            [
             0.2,
             "#de77ae"
            ],
            [
             0.3,
             "#f1b6da"
            ],
            [
             0.4,
             "#fde0ef"
            ],
            [
             0.5,
             "#f7f7f7"
            ],
            [
             0.6,
             "#e6f5d0"
            ],
            [
             0.7,
             "#b8e186"
            ],
            [
             0.8,
             "#7fbc41"
            ],
            [
             0.9,
             "#4d9221"
            ],
            [
             1,
             "#276419"
            ]
           ],
           "sequential": [
            [
             0,
             "#0d0887"
            ],
            [
             0.1111111111111111,
             "#46039f"
            ],
            [
             0.2222222222222222,
             "#7201a8"
            ],
            [
             0.3333333333333333,
             "#9c179e"
            ],
            [
             0.4444444444444444,
             "#bd3786"
            ],
            [
             0.5555555555555556,
             "#d8576b"
            ],
            [
             0.6666666666666666,
             "#ed7953"
            ],
            [
             0.7777777777777778,
             "#fb9f3a"
            ],
            [
             0.8888888888888888,
             "#fdca26"
            ],
            [
             1,
             "#f0f921"
            ]
           ],
           "sequentialminus": [
            [
             0,
             "#0d0887"
            ],
            [
             0.1111111111111111,
             "#46039f"
            ],
            [
             0.2222222222222222,
             "#7201a8"
            ],
            [
             0.3333333333333333,
             "#9c179e"
            ],
            [
             0.4444444444444444,
             "#bd3786"
            ],
            [
             0.5555555555555556,
             "#d8576b"
            ],
            [
             0.6666666666666666,
             "#ed7953"
            ],
            [
             0.7777777777777778,
             "#fb9f3a"
            ],
            [
             0.8888888888888888,
             "#fdca26"
            ],
            [
             1,
             "#f0f921"
            ]
           ]
          },
          "colorway": [
           "#636efa",
           "#EF553B",
           "#00cc96",
           "#ab63fa",
           "#FFA15A",
           "#19d3f3",
           "#FF6692",
           "#B6E880",
           "#FF97FF",
           "#FECB52"
          ],
          "font": {
           "color": "#2a3f5f"
          },
          "geo": {
           "bgcolor": "white",
           "lakecolor": "white",
           "landcolor": "#E5ECF6",
           "showlakes": true,
           "showland": true,
           "subunitcolor": "white"
          },
          "hoverlabel": {
           "align": "left"
          },
          "hovermode": "closest",
          "mapbox": {
           "style": "light"
          },
          "paper_bgcolor": "white",
          "plot_bgcolor": "#E5ECF6",
          "polar": {
           "angularaxis": {
            "gridcolor": "white",
            "linecolor": "white",
            "ticks": ""
           },
           "bgcolor": "#E5ECF6",
           "radialaxis": {
            "gridcolor": "white",
            "linecolor": "white",
            "ticks": ""
           }
          },
          "scene": {
           "xaxis": {
            "backgroundcolor": "#E5ECF6",
            "gridcolor": "white",
            "gridwidth": 2,
            "linecolor": "white",
            "showbackground": true,
            "ticks": "",
            "zerolinecolor": "white"
           },
           "yaxis": {
            "backgroundcolor": "#E5ECF6",
            "gridcolor": "white",
            "gridwidth": 2,
            "linecolor": "white",
            "showbackground": true,
            "ticks": "",
            "zerolinecolor": "white"
           },
           "zaxis": {
            "backgroundcolor": "#E5ECF6",
            "gridcolor": "white",
            "gridwidth": 2,
            "linecolor": "white",
            "showbackground": true,
            "ticks": "",
            "zerolinecolor": "white"
           }
          },
          "shapedefaults": {
           "line": {
            "color": "#2a3f5f"
           }
          },
          "ternary": {
           "aaxis": {
            "gridcolor": "white",
            "linecolor": "white",
            "ticks": ""
           },
           "baxis": {
            "gridcolor": "white",
            "linecolor": "white",
            "ticks": ""
           },
           "bgcolor": "#E5ECF6",
           "caxis": {
            "gridcolor": "white",
            "linecolor": "white",
            "ticks": ""
           }
          },
          "title": {
           "x": 0.05
          },
          "xaxis": {
           "automargin": true,
           "gridcolor": "white",
           "linecolor": "white",
           "ticks": "",
           "title": {
            "standoff": 15
           },
           "zerolinecolor": "white",
           "zerolinewidth": 2
          },
          "yaxis": {
           "automargin": true,
           "gridcolor": "white",
           "linecolor": "white",
           "ticks": "",
           "title": {
            "standoff": 15
           },
           "zerolinecolor": "white",
           "zerolinewidth": 2
          }
         }
        },
        "title": {
         "text": "🎭 Giant Killers vs Upset Victims"
        },
        "xaxis": {
         "anchor": "y",
         "domain": [
          0,
          1
         ],
         "title": {
          "text": "Net Upsets (Caused - Suffered)"
         }
        },
        "yaxis": {
         "anchor": "x",
         "domain": [
          0,
          1
         ],
         "title": {
          "text": "Team"
         }
        }
       }
      }
     },
     "metadata": {},
     "output_type": "display_data"
    },
    {
     "name": "stdout",
     "output_type": "stream",
     "text": [
      "📈 UPSET ANALYSIS:\n",
      "• Total major upsets identified: 79\n",
      "• Biggest upset magnitude: 1.18\n",
      "• Most upset-prone team: Club Brugge (14 suffered)\n",
      "• Best giant killer: Kortrijk (12 caused)\n"
     ]
    }
   ],
   "source": [
    "# Calculate team strength based on overall performance\n",
    "team_strength = {}\n",
    "\n",
    "for team in df['HomeTeam'].unique():\n",
    "    home_matches = df[df['HomeTeam'] == team]\n",
    "    away_matches = df[df['AwayTeam'] == team]\n",
    "    \n",
    "    # Calculate total points\n",
    "    home_points = home_matches['HomePoints'].sum()\n",
    "    away_points = away_matches.apply(\n",
    "        lambda x: 3 if x['FTR'] == 'A' else (1 if x['FTR'] == 'D' else 0), axis=1).sum()\n",
    "    \n",
    "    total_matches = len(home_matches) + len(away_matches)\n",
    "    if total_matches > 0:\n",
    "        points_per_game = (home_points + away_points) / total_matches\n",
    "        team_strength[team] = points_per_game\n",
    "\n",
    "# Find upsets (weak team beats strong team)\n",
    "upsets = []\n",
    "for _, match in df.iterrows():\n",
    "    home_team = match['HomeTeam']\n",
    "    away_team = match['AwayTeam']\n",
    "    \n",
    "    if home_team in team_strength and away_team in team_strength:\n",
    "        home_strength = team_strength[home_team]\n",
    "        away_strength = team_strength[away_team]\n",
    "        strength_diff = abs(home_strength - away_strength)\n",
    "        \n",
    "        # Define upset conditions\n",
    "        is_upset = False\n",
    "        upset_type = \"\"\n",
    "        \n",
    "        if match['FTR'] == 'H' and away_strength > home_strength + 0.5:\n",
    "            is_upset = True\n",
    "            upset_type = \"Home Upset\"\n",
    "        elif match['FTR'] == 'A' and home_strength > away_strength + 0.5:\n",
    "            is_upset = True\n",
    "            upset_type = \"Away Upset\"\n",
    "        \n",
    "        upsets.append({\n",
    "            'Date': match['Date'],\n",
    "            'HomeTeam': home_team,\n",
    "            'AwayTeam': away_team,\n",
    "            'Score': f\"{match['FTHG']}-{match['FTAG']}\",\n",
    "            'Result': match['FTR'],\n",
    "            'Home_Strength': home_strength,\n",
    "            'Away_Strength': away_strength,\n",
    "            'Strength_Difference': strength_diff,\n",
    "            'Is_Upset': is_upset,\n",
    "            'Upset_Type': upset_type,\n",
    "            'Upset_Magnitude': strength_diff if is_upset else 0\n",
    "        })\n",
    "\n",
    "upset_df = pd.DataFrame(upsets)\n",
    "major_upsets = upset_df[upset_df['Is_Upset'] == True].sort_values('Upset_Magnitude', ascending=False)\n",
    "\n",
    "# Create upset timeline\n",
    "fig_upsets = px.scatter(\n",
    "    major_upsets.head(50),  # Top 50 biggest upsets\n",
    "    x='Date',\n",
    "    y='Upset_Magnitude',\n",
    "    color='Upset_Type',\n",
    "    size='Upset_Magnitude',\n",
    "    hover_data=['HomeTeam', 'AwayTeam', 'Score'],\n",
    "    title='🎯 Major Upsets Timeline - When David Beat Goliath',\n",
    "    labels={\n",
    "        'Upset_Magnitude': 'Upset Magnitude (Strength Difference)',\n",
    "        'Date': 'Date'\n",
    "    },\n",
    "    color_discrete_map={\n",
    "        'Home Upset': '#2E8B57',\n",
    "        'Away Upset': '#DC143C'\n",
    "    }\n",
    ")\n",
    "\n",
    "fig_upsets.update_layout(\n",
    "    height=500,\n",
    "    showlegend=True\n",
    ")\n",
    "\n",
    "fig_upsets.show()\n",
    "\n",
    "# Create upset frequency by team\n",
    "upset_victims = major_upsets['HomeTeam'].value_counts() + major_upsets['AwayTeam'].value_counts()\n",
    "upset_causers = []\n",
    "\n",
    "for team in df['HomeTeam'].unique():\n",
    "    home_upsets = len(major_upsets[(major_upsets['HomeTeam'] == team) & (major_upsets['Result'] == 'H')])\n",
    "    away_upsets = len(major_upsets[(major_upsets['AwayTeam'] == team) & (major_upsets['Result'] == 'A')])\n",
    "    total_upsets = home_upsets + away_upsets\n",
    "    \n",
    "    upsets_suffered = len(major_upsets[(major_upsets['HomeTeam'] == team) & (major_upsets['Result'] == 'A')]) + len(major_upsets[(major_upsets['AwayTeam'] == team) & (major_upsets['Result'] == 'H')])\n",
    "    \n",
    "    if total_upsets > 0 or upsets_suffered > 0:\n",
    "        upset_causers.append({\n",
    "            'Team': team,\n",
    "            'Upsets_Caused': total_upsets,\n",
    "            'Upsets_Suffered': upsets_suffered,\n",
    "            'Net_Upsets': total_upsets - upsets_suffered,\n",
    "            'Team_Strength': team_strength.get(team, 0)\n",
    "        })\n",
    "\n",
    "upset_teams_df = pd.DataFrame(upset_causers).sort_values('Net_Upsets', ascending=False)\n",
    "\n",
    "# Top upset causers and victims\n",
    "fig_upset_teams = px.bar(\n",
    "    upset_teams_df.head(15),\n",
    "    x='Net_Upsets',\n",
    "    y='Team',\n",
    "    orientation='h',\n",
    "    color='Net_Upsets',\n",
    "    color_continuous_scale='RdYlGn',\n",
    "    title='🎭 Giant Killers vs Upset Victims',\n",
    "    labels={'Net_Upsets': 'Net Upsets (Caused - Suffered)'}\n",
    ")\n",
    "\n",
    "fig_upset_teams.update_layout(height=500)\n",
    "fig_upset_teams.show()\n",
    "\n",
    "print(f\"📈 UPSET ANALYSIS:\")\n",
    "print(f\"• Total major upsets identified: {len(major_upsets)}\")\n",
    "print(f\"• Biggest upset magnitude: {major_upsets['Upset_Magnitude'].max():.2f}\")\n",
    "print(f\"• Most upset-prone team: {upset_teams_df.tail(1)['Team'].iloc[0]} ({upset_teams_df.tail(1)['Upsets_Suffered'].iloc[0]} suffered)\")\n",
    "print(f\"• Best giant killer: {upset_teams_df.head(1)['Team'].iloc[0]} ({upset_teams_df.head(1)['Upsets_Caused'].iloc[0]} caused)\")"
   ]
  },
  {
   "cell_type": "markdown",
   "id": "8d643f9f",
   "metadata": {},
   "source": [
    "### 9. Match Intensity Heatmap"
   ]
  },
  {
   "cell_type": "code",
   "execution_count": 47,
   "id": "d3aaf171",
   "metadata": {},
   "outputs": [
    {
     "data": {
      "application/vnd.plotly.v1+json": {
       "config": {
        "plotlyServerURL": "https://plot.ly"
       },
       "data": [
        {
         "coloraxis": "coloraxis",
         "hovertemplate": "Month: %{x}<br>Day of Week: %{y}<br>Match Intensity: %{z}<extra></extra>",
         "name": "0",
         "type": "heatmap",
         "x": {
          "bdata": "AQAAAAIAAAADAAAABAAAAAUAAAAGAAAABwAAAAgAAAAJAAAACgAAAAsAAAAMAAAA",
          "dtype": "i4"
         },
         "xaxis": "x",
         "y": [
          "Monday",
          "Tuesday",
          "Wednesday",
          "Thursday",
          "Friday",
          "Saturday",
          "Sunday"
         ],
         "yaxis": "y",
         "z": {
          "bdata": "AAAAAACAM0AAAAAAAIAxQKuqqqqqKjBAVVVVVVUVMUAAAAAAAIAuQAAAAAAAAPh/AAAAAAAA+H+amZmZmRk1QAAAAAAAQDdAAAAAAAAAMUAAAAAAAAA2QOQ4juM4ji9Aq6qqqqoqMUAAAAAAAAAxQAAAAAAAAPh/AAAAAAAALUAAAAAAAAD4fwAAAAAAAPh/AAAAAAAAAEAAAAAAAAD4fwAAAAAAAPh/SZIkSZKkNEAAAAAAAAAvQAAAAAAAIDFA4XoUrkfhMEDNzMzMzIwwQAAAAAAAgDRAq6qqqqoqMUAAAAAAAAD4fwAAAAAAAPh/AAAAAAAA+H8AAAAAAIA0QAAAAAAAADBAJUmSJEmSMUAAAAAAAIAxQIqd2Imd2C9AJUmSJEmSL0CrqqqqqqovQAAAAAAAAPh/AAAAAACANEAAAAAAAAD4fwAAAAAAAPh/AAAAAAAA+H8AAAAAAAD4fwAAAAAAIDBAq6qqqqqqOEAAAAAAAAA5QAAAAAAAAC5AAAAAAACAL0BmZmZmZgYxQCd2Yid2Yi5At23btm3bMEAAAAAAAIArQAAAAAAAAPh/btu2bds2MEBOb3rTm94wQAAAAAAAIDJApqWlpaUlMkBiJ3ZiJ3YwQHIcx3EcxzBA9xLaS2jvMEAjn3WDKfIwQLKQhSxkYTBAZmZmZmZWMECjiy666KIuQAAAAAAAAPh/uB6F61E4MUBiGIZhGOYxQKgEeUqQJzJAAAAAAACAMUCSJEmSJJkxQKuqqqqqqjFA7iO4j+C+MUC0wuZAohUxQEZGRkZGRjBA1tHmfYrLMEAAAAAAAIAvQAAAAAAAgDRAOL3pTW/6MECVUkoppZQxQLuFX42J9DFAAAAAAABwMUAlSZIkSfIxQIe1b1j7BjFA",
          "dtype": "f8",
          "shape": "7, 12"
         }
        }
       ],
       "layout": {
        "coloraxis": {
         "colorbar": {
          "title": {
           "text": "Match Intensity"
          }
         },
         "colorscale": [
          [
           0,
           "rgb(255,245,240)"
          ],
          [
           0.125,
           "rgb(254,224,210)"
          ],
          [
           0.25,
           "rgb(252,187,161)"
          ],
          [
           0.375,
           "rgb(252,146,114)"
          ],
          [
           0.5,
           "rgb(251,106,74)"
          ],
          [
           0.625,
           "rgb(239,59,44)"
          ],
          [
           0.75,
           "rgb(203,24,29)"
          ],
          [
           0.875,
           "rgb(165,15,21)"
          ],
          [
           1,
           "rgb(103,0,13)"
          ]
         ]
        },
        "height": 400,
        "template": {
         "data": {
          "bar": [
           {
            "error_x": {
             "color": "#2a3f5f"
            },
            "error_y": {
             "color": "#2a3f5f"
            },
            "marker": {
             "line": {
              "color": "#E5ECF6",
              "width": 0.5
             },
             "pattern": {
              "fillmode": "overlay",
              "size": 10,
              "solidity": 0.2
             }
            },
            "type": "bar"
           }
          ],
          "barpolar": [
           {
            "marker": {
             "line": {
              "color": "#E5ECF6",
              "width": 0.5
             },
             "pattern": {
              "fillmode": "overlay",
              "size": 10,
              "solidity": 0.2
             }
            },
            "type": "barpolar"
           }
          ],
          "carpet": [
           {
            "aaxis": {
             "endlinecolor": "#2a3f5f",
             "gridcolor": "white",
             "linecolor": "white",
             "minorgridcolor": "white",
             "startlinecolor": "#2a3f5f"
            },
            "baxis": {
             "endlinecolor": "#2a3f5f",
             "gridcolor": "white",
             "linecolor": "white",
             "minorgridcolor": "white",
             "startlinecolor": "#2a3f5f"
            },
            "type": "carpet"
           }
          ],
          "choropleth": [
           {
            "colorbar": {
             "outlinewidth": 0,
             "ticks": ""
            },
            "type": "choropleth"
           }
          ],
          "contour": [
           {
            "colorbar": {
             "outlinewidth": 0,
             "ticks": ""
            },
            "colorscale": [
             [
              0,
              "#0d0887"
             ],
             [
              0.1111111111111111,
              "#46039f"
             ],
             [
              0.2222222222222222,
              "#7201a8"
             ],
             [
              0.3333333333333333,
              "#9c179e"
             ],
             [
              0.4444444444444444,
              "#bd3786"
             ],
             [
              0.5555555555555556,
              "#d8576b"
             ],
             [
              0.6666666666666666,
              "#ed7953"
             ],
             [
              0.7777777777777778,
              "#fb9f3a"
             ],
             [
              0.8888888888888888,
              "#fdca26"
             ],
             [
              1,
              "#f0f921"
             ]
            ],
            "type": "contour"
           }
          ],
          "contourcarpet": [
           {
            "colorbar": {
             "outlinewidth": 0,
             "ticks": ""
            },
            "type": "contourcarpet"
           }
          ],
          "heatmap": [
           {
            "colorbar": {
             "outlinewidth": 0,
             "ticks": ""
            },
            "colorscale": [
             [
              0,
              "#0d0887"
             ],
             [
              0.1111111111111111,
              "#46039f"
             ],
             [
              0.2222222222222222,
              "#7201a8"
             ],
             [
              0.3333333333333333,
              "#9c179e"
             ],
             [
              0.4444444444444444,
              "#bd3786"
             ],
             [
              0.5555555555555556,
              "#d8576b"
             ],
             [
              0.6666666666666666,
              "#ed7953"
             ],
             [
              0.7777777777777778,
              "#fb9f3a"
             ],
             [
              0.8888888888888888,
              "#fdca26"
             ],
             [
              1,
              "#f0f921"
             ]
            ],
            "type": "heatmap"
           }
          ],
          "histogram": [
           {
            "marker": {
             "pattern": {
              "fillmode": "overlay",
              "size": 10,
              "solidity": 0.2
             }
            },
            "type": "histogram"
           }
          ],
          "histogram2d": [
           {
            "colorbar": {
             "outlinewidth": 0,
             "ticks": ""
            },
            "colorscale": [
             [
              0,
              "#0d0887"
             ],
             [
              0.1111111111111111,
              "#46039f"
             ],
             [
              0.2222222222222222,
              "#7201a8"
             ],
             [
              0.3333333333333333,
              "#9c179e"
             ],
             [
              0.4444444444444444,
              "#bd3786"
             ],
             [
              0.5555555555555556,
              "#d8576b"
             ],
             [
              0.6666666666666666,
              "#ed7953"
             ],
             [
              0.7777777777777778,
              "#fb9f3a"
             ],
             [
              0.8888888888888888,
              "#fdca26"
             ],
             [
              1,
              "#f0f921"
             ]
            ],
            "type": "histogram2d"
           }
          ],
          "histogram2dcontour": [
           {
            "colorbar": {
             "outlinewidth": 0,
             "ticks": ""
            },
            "colorscale": [
             [
              0,
              "#0d0887"
             ],
             [
              0.1111111111111111,
              "#46039f"
             ],
             [
              0.2222222222222222,
              "#7201a8"
             ],
             [
              0.3333333333333333,
              "#9c179e"
             ],
             [
              0.4444444444444444,
              "#bd3786"
             ],
             [
              0.5555555555555556,
              "#d8576b"
             ],
             [
              0.6666666666666666,
              "#ed7953"
             ],
             [
              0.7777777777777778,
              "#fb9f3a"
             ],
             [
              0.8888888888888888,
              "#fdca26"
             ],
             [
              1,
              "#f0f921"
             ]
            ],
            "type": "histogram2dcontour"
           }
          ],
          "mesh3d": [
           {
            "colorbar": {
             "outlinewidth": 0,
             "ticks": ""
            },
            "type": "mesh3d"
           }
          ],
          "parcoords": [
           {
            "line": {
             "colorbar": {
              "outlinewidth": 0,
              "ticks": ""
             }
            },
            "type": "parcoords"
           }
          ],
          "pie": [
           {
            "automargin": true,
            "type": "pie"
           }
          ],
          "scatter": [
           {
            "fillpattern": {
             "fillmode": "overlay",
             "size": 10,
             "solidity": 0.2
            },
            "type": "scatter"
           }
          ],
          "scatter3d": [
           {
            "line": {
             "colorbar": {
              "outlinewidth": 0,
              "ticks": ""
             }
            },
            "marker": {
             "colorbar": {
              "outlinewidth": 0,
              "ticks": ""
             }
            },
            "type": "scatter3d"
           }
          ],
          "scattercarpet": [
           {
            "marker": {
             "colorbar": {
              "outlinewidth": 0,
              "ticks": ""
             }
            },
            "type": "scattercarpet"
           }
          ],
          "scattergeo": [
           {
            "marker": {
             "colorbar": {
              "outlinewidth": 0,
              "ticks": ""
             }
            },
            "type": "scattergeo"
           }
          ],
          "scattergl": [
           {
            "marker": {
             "colorbar": {
              "outlinewidth": 0,
              "ticks": ""
             }
            },
            "type": "scattergl"
           }
          ],
          "scattermap": [
           {
            "marker": {
             "colorbar": {
              "outlinewidth": 0,
              "ticks": ""
             }
            },
            "type": "scattermap"
           }
          ],
          "scattermapbox": [
           {
            "marker": {
             "colorbar": {
              "outlinewidth": 0,
              "ticks": ""
             }
            },
            "type": "scattermapbox"
           }
          ],
          "scatterpolar": [
           {
            "marker": {
             "colorbar": {
              "outlinewidth": 0,
              "ticks": ""
             }
            },
            "type": "scatterpolar"
           }
          ],
          "scatterpolargl": [
           {
            "marker": {
             "colorbar": {
              "outlinewidth": 0,
              "ticks": ""
             }
            },
            "type": "scatterpolargl"
           }
          ],
          "scatterternary": [
           {
            "marker": {
             "colorbar": {
              "outlinewidth": 0,
              "ticks": ""
             }
            },
            "type": "scatterternary"
           }
          ],
          "surface": [
           {
            "colorbar": {
             "outlinewidth": 0,
             "ticks": ""
            },
            "colorscale": [
             [
              0,
              "#0d0887"
             ],
             [
              0.1111111111111111,
              "#46039f"
             ],
             [
              0.2222222222222222,
              "#7201a8"
             ],
             [
              0.3333333333333333,
              "#9c179e"
             ],
             [
              0.4444444444444444,
              "#bd3786"
             ],
             [
              0.5555555555555556,
              "#d8576b"
             ],
             [
              0.6666666666666666,
              "#ed7953"
             ],
             [
              0.7777777777777778,
              "#fb9f3a"
             ],
             [
              0.8888888888888888,
              "#fdca26"
             ],
             [
              1,
              "#f0f921"
             ]
            ],
            "type": "surface"
           }
          ],
          "table": [
           {
            "cells": {
             "fill": {
              "color": "#EBF0F8"
             },
             "line": {
              "color": "white"
             }
            },
            "header": {
             "fill": {
              "color": "#C8D4E3"
             },
             "line": {
              "color": "white"
             }
            },
            "type": "table"
           }
          ]
         },
         "layout": {
          "annotationdefaults": {
           "arrowcolor": "#2a3f5f",
           "arrowhead": 0,
           "arrowwidth": 1
          },
          "autotypenumbers": "strict",
          "coloraxis": {
           "colorbar": {
            "outlinewidth": 0,
            "ticks": ""
           }
          },
          "colorscale": {
           "diverging": [
            [
             0,
             "#8e0152"
            ],
            [
             0.1,
             "#c51b7d"
            ],
            [
             0.2,
             "#de77ae"
            ],
            [
             0.3,
             "#f1b6da"
            ],
            [
             0.4,
             "#fde0ef"
            ],
            [
             0.5,
             "#f7f7f7"
            ],
            [
             0.6,
             "#e6f5d0"
            ],
            [
             0.7,
             "#b8e186"
            ],
            [
             0.8,
             "#7fbc41"
            ],
            [
             0.9,
             "#4d9221"
            ],
            [
             1,
             "#276419"
            ]
           ],
           "sequential": [
            [
             0,
             "#0d0887"
            ],
            [
             0.1111111111111111,
             "#46039f"
            ],
            [
             0.2222222222222222,
             "#7201a8"
            ],
            [
             0.3333333333333333,
             "#9c179e"
            ],
            [
             0.4444444444444444,
             "#bd3786"
            ],
            [
             0.5555555555555556,
             "#d8576b"
            ],
            [
             0.6666666666666666,
             "#ed7953"
            ],
            [
             0.7777777777777778,
             "#fb9f3a"
            ],
            [
             0.8888888888888888,
             "#fdca26"
            ],
            [
             1,
             "#f0f921"
            ]
           ],
           "sequentialminus": [
            [
             0,
             "#0d0887"
            ],
            [
             0.1111111111111111,
             "#46039f"
            ],
            [
             0.2222222222222222,
             "#7201a8"
            ],
            [
             0.3333333333333333,
             "#9c179e"
            ],
            [
             0.4444444444444444,
             "#bd3786"
            ],
            [
             0.5555555555555556,
             "#d8576b"
            ],
            [
             0.6666666666666666,
             "#ed7953"
            ],
            [
             0.7777777777777778,
             "#fb9f3a"
            ],
            [
             0.8888888888888888,
             "#fdca26"
            ],
            [
             1,
             "#f0f921"
            ]
           ]
          },
          "colorway": [
           "#636efa",
           "#EF553B",
           "#00cc96",
           "#ab63fa",
           "#FFA15A",
           "#19d3f3",
           "#FF6692",
           "#B6E880",
           "#FF97FF",
           "#FECB52"
          ],
          "font": {
           "color": "#2a3f5f"
          },
          "geo": {
           "bgcolor": "white",
           "lakecolor": "white",
           "landcolor": "#E5ECF6",
           "showlakes": true,
           "showland": true,
           "subunitcolor": "white"
          },
          "hoverlabel": {
           "align": "left"
          },
          "hovermode": "closest",
          "mapbox": {
           "style": "light"
          },
          "paper_bgcolor": "white",
          "plot_bgcolor": "#E5ECF6",
          "polar": {
           "angularaxis": {
            "gridcolor": "white",
            "linecolor": "white",
            "ticks": ""
           },
           "bgcolor": "#E5ECF6",
           "radialaxis": {
            "gridcolor": "white",
            "linecolor": "white",
            "ticks": ""
           }
          },
          "scene": {
           "xaxis": {
            "backgroundcolor": "#E5ECF6",
            "gridcolor": "white",
            "gridwidth": 2,
            "linecolor": "white",
            "showbackground": true,
            "ticks": "",
            "zerolinecolor": "white"
           },
           "yaxis": {
            "backgroundcolor": "#E5ECF6",
            "gridcolor": "white",
            "gridwidth": 2,
            "linecolor": "white",
            "showbackground": true,
            "ticks": "",
            "zerolinecolor": "white"
           },
           "zaxis": {
            "backgroundcolor": "#E5ECF6",
            "gridcolor": "white",
            "gridwidth": 2,
            "linecolor": "white",
            "showbackground": true,
            "ticks": "",
            "zerolinecolor": "white"
           }
          },
          "shapedefaults": {
           "line": {
            "color": "#2a3f5f"
           }
          },
          "ternary": {
           "aaxis": {
            "gridcolor": "white",
            "linecolor": "white",
            "ticks": ""
           },
           "baxis": {
            "gridcolor": "white",
            "linecolor": "white",
            "ticks": ""
           },
           "bgcolor": "#E5ECF6",
           "caxis": {
            "gridcolor": "white",
            "linecolor": "white",
            "ticks": ""
           }
          },
          "title": {
           "x": 0.05
          },
          "xaxis": {
           "automargin": true,
           "gridcolor": "white",
           "linecolor": "white",
           "ticks": "",
           "title": {
            "standoff": 15
           },
           "zerolinecolor": "white",
           "zerolinewidth": 2
          },
          "yaxis": {
           "automargin": true,
           "gridcolor": "white",
           "linecolor": "white",
           "ticks": "",
           "title": {
            "standoff": 15
           },
           "zerolinecolor": "white",
           "zerolinewidth": 2
          }
         }
        },
        "title": {
         "text": "🔥 Match Intensity Heatmap - When Football Gets Heated"
        },
        "xaxis": {
         "anchor": "y",
         "domain": [
          0,
          1
         ],
         "title": {
          "text": "Month"
         }
        },
        "yaxis": {
         "anchor": "x",
         "autorange": "reversed",
         "domain": [
          0,
          1
         ],
         "title": {
          "text": "Day of Week"
         }
        }
       }
      }
     },
     "metadata": {},
     "output_type": "display_data"
    },
    {
     "name": "stdout",
     "output_type": "stream",
     "text": [
      "📅 SEASONAL TIMING EFFECTS:\n",
      "              TotalGoals  Match_Intensity  HomePoints    HY    AY\n",
      "Season_Phase                                                     \n",
      "Early Season        2.77            17.21        1.53  1.61  2.06\n",
      "Mid Season          3.14            16.99        1.53  1.69  1.91\n",
      "Late Season         2.38            18.19        1.79  1.72  1.98\n",
      "Season End          2.98            17.28        1.53  1.92  2.26\n"
     ]
    },
    {
     "name": "stderr",
     "output_type": "stream",
     "text": [
      "C:\\Users\\ImJus\\AppData\\Local\\Temp\\ipykernel_12808\\3686010833.py:46: FutureWarning:\n",
      "\n",
      "The default of observed=False is deprecated and will be changed to True in a future version of pandas. Pass observed=False to retain current behavior or observed=True to adopt the future default and silence this warning.\n",
      "\n"
     ]
    }
   ],
   "source": [
    "# Create match intensity analysis based on cards, fouls, and goals\n",
    "df['Match_Intensity'] = (\n",
    "    df['HY'] + df['AY'] +           # Yellow cards\n",
    "    (df['HR'] + df['AR']) * 3 +     # Red cards (weighted more)\n",
    "    df['HF'] + df['AF'] +           # Fouls\n",
    "    df['TotalGoals'] * 2            # Goals (exciting factor)\n",
    ") / 2  # Normalize\n",
    "\n",
    "# Create intensity by day of week and month\n",
    "df['Month'] = df['Date'].dt.month\n",
    "df['DayOfWeek'] = df['Date'].dt.day_name()\n",
    "\n",
    "# Create intensity heatmap\n",
    "intensity_pivot = df.groupby(['Month', 'DayOfWeek'])['Match_Intensity'].mean().reset_index()\n",
    "intensity_matrix = intensity_pivot.pivot(index='DayOfWeek', columns='Month', values='Match_Intensity')\n",
    "\n",
    "# Reorder days of week\n",
    "day_order = ['Monday', 'Tuesday', 'Wednesday', 'Thursday', 'Friday', 'Saturday', 'Sunday']\n",
    "intensity_matrix = intensity_matrix.reindex(day_order)\n",
    "\n",
    "fig_intensity = px.imshow(\n",
    "    intensity_matrix,\n",
    "    labels=dict(x=\"Month\", y=\"Day of Week\", color=\"Match Intensity\"),\n",
    "    title=\"🔥 Match Intensity Heatmap - When Football Gets Heated\",\n",
    "    color_continuous_scale='Reds',\n",
    "    aspect=\"auto\"\n",
    ")\n",
    "\n",
    "fig_intensity.update_layout(height=400)\n",
    "fig_intensity.show()\n",
    "\n",
    "# Season timing analysis\n",
    "df['Days_From_Season_Start'] = df.groupby('Season')['Date'].transform(\n",
    "    lambda x: (x - x.min()).dt.days\n",
    ")\n",
    "\n",
    "# Divide into season phases\n",
    "df['Season_Phase'] = pd.cut(\n",
    "    df['Days_From_Season_Start'], \n",
    "    bins=[0, 60, 120, 180, 365], \n",
    "    labels=['Early Season', 'Mid Season', 'Late Season', 'Season End'],\n",
    "    include_lowest=True\n",
    ")\n",
    "\n",
    "# Analyze performance by season phase\n",
    "phase_stats = df.groupby('Season_Phase').agg({\n",
    "    'TotalGoals': 'mean',\n",
    "    'Match_Intensity': 'mean',\n",
    "    'HomePoints': 'mean',\n",
    "    'HY': 'mean',\n",
    "    'AY': 'mean'\n",
    "}).round(2)\n",
    "\n",
    "print(\"📅 SEASONAL TIMING EFFECTS:\")\n",
    "print(phase_stats)"
   ]
  }
 ],
 "metadata": {
  "kernelspec": {
   "display_name": "venv",
   "language": "python",
   "name": "python3"
  },
  "language_info": {
   "codemirror_mode": {
    "name": "ipython",
    "version": 3
   },
   "file_extension": ".py",
   "mimetype": "text/x-python",
   "name": "python",
   "nbconvert_exporter": "python",
   "pygments_lexer": "ipython3",
   "version": "3.11.2"
  }
 },
 "nbformat": 4,
 "nbformat_minor": 5
}
