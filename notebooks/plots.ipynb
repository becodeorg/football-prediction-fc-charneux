{
 "cells": [
  {
   "cell_type": "markdown",
   "id": "ed5deee3",
   "metadata": {},
   "source": [
    "## Charts to display in flask frontend"
   ]
  },
  {
   "cell_type": "markdown",
   "id": "76aa74cf",
   "metadata": {},
   "source": [
    "### 0. Imports"
   ]
  },
  {
   "cell_type": "code",
   "execution_count": 2,
   "id": "5bf6e5ca",
   "metadata": {},
   "outputs": [],
   "source": [
    "import os\n",
    "\n",
    "import sqlite3\n",
    "\n",
    "import pandas as pd\n",
    "from pandas.io.sql import DatabaseError\n",
    "\n",
    "import numpy as np\n",
    "\n",
    "import plotly.express as px\n",
    "\n",
    "from sklearn.model_selection import train_test_split\n",
    "from sklearn.preprocessing import OneHotEncoder, StandardScaler\n",
    "from sklearn.impute import SimpleImputer\n",
    "from sklearn.compose import ColumnTransformer\n",
    "from sklearn.pipeline import Pipeline"
   ]
  },
  {
   "cell_type": "markdown",
   "id": "f6ef7b91",
   "metadata": {},
   "source": [
    "### 1. Setup and load"
   ]
  },
  {
   "cell_type": "code",
   "execution_count": 3,
   "id": "7ffd3292",
   "metadata": {},
   "outputs": [
    {
     "name": "stdout",
     "output_type": "stream",
     "text": [
      "✅ Loaded 1508 rows from 'matches' table\n"
     ]
    }
   ],
   "source": [
    "# Path to database\n",
    "db_path = '../football.db'\n",
    "\n",
    "if not os.path.exists(db_path):\n",
    "    raise FileNotFoundError(f\"Database '{db_path}' not found. Run db_setup.py first.\")\n",
    "\n",
    "conn = sqlite3.connect(db_path)\n",
    "\n",
    "try:\n",
    "    df = pd.read_sql_query(\"SELECT * FROM matches\", conn)\n",
    "    print(f\"✅ Loaded {len(df)} rows from 'matches' table\")\n",
    "except DatabaseError as e:\n",
    "    df = pd.DataFrame()\n",
    "    print(f\"❌ Error loading data: {e}\")\n",
    "finally:\n",
    "    conn.close()"
   ]
  },
  {
   "cell_type": "markdown",
   "id": "d00f9bf7",
   "metadata": {},
   "source": [
    "### 2. Data preprocessing"
   ]
  },
  {
   "cell_type": "code",
   "execution_count": 4,
   "id": "530ae619",
   "metadata": {},
   "outputs": [
    {
     "name": "stdout",
     "output_type": "stream",
     "text": [
      "✅ Data preprocessing pipeline with imputers is ready.\n"
     ]
    }
   ],
   "source": [
    "# Nettoyage de base et définition des features\n",
    "df = df.dropna(subset=['HomeTeam', 'AwayTeam', 'FTR'])  # cible et équipes présentes\n",
    "X = df[['HomeTeam', 'AwayTeam', 'HS', 'AS']]             # sélection de features\n",
    "y = df['FTR']                                            # cible : résultat final\n",
    "\n",
    "# Définition des colonnes\n",
    "categorical_features = ['HomeTeam', 'AwayTeam']\n",
    "numerical_features = ['HS', 'AS']\n",
    "\n",
    "# Pipelines\n",
    "numeric_pipeline = Pipeline([\n",
    "    ('imputer', SimpleImputer(strategy='mean')),\n",
    "    ('scaler', StandardScaler())\n",
    "])\n",
    "\n",
    "categorical_pipeline = Pipeline([\n",
    "    ('imputer', SimpleImputer(strategy='constant', fill_value='missing')),\n",
    "    ('onehot', OneHotEncoder(handle_unknown='ignore'))\n",
    "])\n",
    "\n",
    "# Fusion des pipelines\n",
    "preprocessor = ColumnTransformer([\n",
    "    ('num', numeric_pipeline, numerical_features),\n",
    "    ('cat', categorical_pipeline, categorical_features)\n",
    "])\n",
    "\n",
    "# Split\n",
    "X_train, X_test, y_train, y_test = train_test_split(X, y, test_size=0.2, random_state=42)\n",
    "\n",
    "print(\"✅ Data preprocessing pipeline with imputers is ready.\")\n"
   ]
  },
  {
   "cell_type": "markdown",
   "id": "3fd151ec",
   "metadata": {},
   "source": [
    "### 3. Extra Stats"
   ]
  },
  {
   "cell_type": "code",
   "execution_count": 5,
   "id": "4869330d",
   "metadata": {},
   "outputs": [],
   "source": [
    "# Add derived columns\n",
    "df['TotalGoals'] = df['FTHG'] + df['FTAG']\n",
    "df['GoalDifference'] = df['FTHG'] - df['FTAG']\n",
    "df['IsDraw'] = df['FTR'] == 'D'\n",
    "\n",
    "# Points earned by Home Team\n",
    "def home_points(row):\n",
    "    if row['FTR'] == 'H':\n",
    "        return 3\n",
    "    elif row['FTR'] == 'D':\n",
    "        return 1\n",
    "    else:\n",
    "        return 0\n",
    "\n",
    "df['HomePoints'] = df.apply(home_points, axis=1)\n",
    "\n",
    "# Convert Date column\n",
    "df['Date'] = pd.to_datetime(df['Date'])\n"
   ]
  },
  {
   "cell_type": "markdown",
   "id": "5ceba125",
   "metadata": {},
   "source": [
    "### 4. Charts"
   ]
  },
  {
   "cell_type": "code",
   "execution_count": 6,
   "id": "7ca45b00",
   "metadata": {},
   "outputs": [
    {
     "data": {
      "application/vnd.plotly.v1+json": {
       "config": {
        "plotlyServerURL": "https://plot.ly"
       },
       "data": [
        {
         "hovertemplate": "Date=%{x}<br>Avg Home Goals=%{y}<extra></extra>",
         "legendgroup": "",
         "line": {
          "color": "#636efa",
          "dash": "solid"
         },
         "marker": {
          "symbol": "circle"
         },
         "mode": "lines",
         "name": "",
         "orientation": "v",
         "showlegend": false,
         "type": "scatter",
         "x": [
          "2019-07-26T00:00:00.000000000",
          "2019-07-27T00:00:00.000000000",
          "2019-07-28T00:00:00.000000000",
          "2019-08-02T00:00:00.000000000",
          "2019-08-03T00:00:00.000000000",
          "2019-08-04T00:00:00.000000000",
          "2019-08-09T00:00:00.000000000",
          "2019-08-10T00:00:00.000000000",
          "2019-08-11T00:00:00.000000000",
          "2019-08-16T00:00:00.000000000",
          "2019-08-17T00:00:00.000000000",
          "2019-08-18T00:00:00.000000000",
          "2019-08-19T00:00:00.000000000",
          "2019-08-23T00:00:00.000000000",
          "2019-08-24T00:00:00.000000000",
          "2019-08-25T00:00:00.000000000",
          "2019-08-30T00:00:00.000000000",
          "2019-08-31T00:00:00.000000000",
          "2019-09-01T00:00:00.000000000",
          "2019-09-13T00:00:00.000000000",
          "2019-09-14T00:00:00.000000000",
          "2019-09-15T00:00:00.000000000",
          "2019-09-20T00:00:00.000000000",
          "2019-09-21T00:00:00.000000000",
          "2019-09-22T00:00:00.000000000",
          "2019-09-28T00:00:00.000000000",
          "2019-09-29T00:00:00.000000000",
          "2019-10-04T00:00:00.000000000",
          "2019-10-05T00:00:00.000000000",
          "2019-10-06T00:00:00.000000000",
          "2019-10-18T00:00:00.000000000",
          "2019-10-19T00:00:00.000000000",
          "2019-10-20T00:00:00.000000000",
          "2019-10-25T00:00:00.000000000",
          "2019-10-26T00:00:00.000000000",
          "2019-10-27T00:00:00.000000000",
          "2019-10-29T00:00:00.000000000",
          "2019-10-30T00:00:00.000000000",
          "2019-10-31T00:00:00.000000000",
          "2019-11-02T00:00:00.000000000",
          "2019-11-03T00:00:00.000000000",
          "2019-11-08T00:00:00.000000000",
          "2019-11-09T00:00:00.000000000",
          "2019-11-10T00:00:00.000000000",
          "2019-11-21T00:00:00.000000000",
          "2019-11-22T00:00:00.000000000",
          "2019-11-23T00:00:00.000000000",
          "2019-11-24T00:00:00.000000000",
          "2019-11-29T00:00:00.000000000",
          "2019-11-30T00:00:00.000000000",
          "2019-12-01T00:00:00.000000000",
          "2019-12-06T00:00:00.000000000",
          "2019-12-07T00:00:00.000000000",
          "2019-12-08T00:00:00.000000000",
          "2019-12-13T00:00:00.000000000",
          "2019-12-14T00:00:00.000000000",
          "2019-12-15T00:00:00.000000000",
          "2019-12-20T00:00:00.000000000",
          "2019-12-21T00:00:00.000000000",
          "2019-12-22T00:00:00.000000000",
          "2019-12-26T00:00:00.000000000",
          "2019-12-27T00:00:00.000000000",
          "2020-01-17T00:00:00.000000000",
          "2020-01-18T00:00:00.000000000",
          "2020-01-19T00:00:00.000000000",
          "2020-01-24T00:00:00.000000000",
          "2020-01-25T00:00:00.000000000",
          "2020-01-26T00:00:00.000000000",
          "2020-01-29T00:00:00.000000000",
          "2020-01-31T00:00:00.000000000",
          "2020-02-01T00:00:00.000000000",
          "2020-02-02T00:00:00.000000000",
          "2020-02-07T00:00:00.000000000",
          "2020-02-08T00:00:00.000000000",
          "2020-02-11T00:00:00.000000000",
          "2020-02-12T00:00:00.000000000",
          "2020-02-13T00:00:00.000000000",
          "2020-02-14T00:00:00.000000000",
          "2020-02-15T00:00:00.000000000",
          "2020-02-16T00:00:00.000000000",
          "2020-02-21T00:00:00.000000000",
          "2020-02-22T00:00:00.000000000",
          "2020-02-23T00:00:00.000000000",
          "2020-02-28T00:00:00.000000000",
          "2020-02-29T00:00:00.000000000",
          "2020-03-01T00:00:00.000000000",
          "2020-03-07T00:00:00.000000000",
          "2020-08-08T00:00:00.000000000",
          "2020-08-09T00:00:00.000000000",
          "2020-08-10T00:00:00.000000000",
          "2020-08-14T00:00:00.000000000",
          "2020-08-15T00:00:00.000000000",
          "2020-08-16T00:00:00.000000000",
          "2020-08-17T00:00:00.000000000",
          "2020-08-21T00:00:00.000000000",
          "2020-08-22T00:00:00.000000000",
          "2020-08-23T00:00:00.000000000",
          "2020-08-24T00:00:00.000000000",
          "2020-08-28T00:00:00.000000000",
          "2020-08-29T00:00:00.000000000",
          "2020-08-30T00:00:00.000000000",
          "2020-09-11T00:00:00.000000000",
          "2020-09-12T00:00:00.000000000",
          "2020-09-13T00:00:00.000000000",
          "2020-09-14T00:00:00.000000000",
          "2020-09-18T00:00:00.000000000",
          "2020-09-19T00:00:00.000000000",
          "2020-09-20T00:00:00.000000000",
          "2020-09-21T00:00:00.000000000",
          "2020-09-25T00:00:00.000000000",
          "2020-09-26T00:00:00.000000000",
          "2020-09-27T00:00:00.000000000",
          "2020-09-28T00:00:00.000000000",
          "2020-10-02T00:00:00.000000000",
          "2020-10-03T00:00:00.000000000",
          "2020-10-04T00:00:00.000000000",
          "2020-10-17T00:00:00.000000000",
          "2020-10-18T00:00:00.000000000",
          "2020-10-23T00:00:00.000000000",
          "2020-10-24T00:00:00.000000000",
          "2020-10-25T00:00:00.000000000",
          "2020-10-26T00:00:00.000000000",
          "2020-10-30T00:00:00.000000000",
          "2020-10-31T00:00:00.000000000",
          "2020-11-01T00:00:00.000000000",
          "2020-11-02T00:00:00.000000000",
          "2020-11-06T00:00:00.000000000",
          "2020-11-07T00:00:00.000000000",
          "2020-11-08T00:00:00.000000000",
          "2020-11-21T00:00:00.000000000",
          "2020-11-22T00:00:00.000000000",
          "2020-11-23T00:00:00.000000000",
          "2020-11-24T00:00:00.000000000",
          "2020-11-25T00:00:00.000000000",
          "2020-11-27T00:00:00.000000000",
          "2020-11-28T00:00:00.000000000",
          "2020-11-29T00:00:00.000000000",
          "2020-11-30T00:00:00.000000000",
          "2020-12-01T00:00:00.000000000",
          "2020-12-02T00:00:00.000000000",
          "2020-12-03T00:00:00.000000000",
          "2020-12-04T00:00:00.000000000",
          "2020-12-05T00:00:00.000000000",
          "2020-12-06T00:00:00.000000000",
          "2020-12-07T00:00:00.000000000",
          "2020-12-08T00:00:00.000000000",
          "2020-12-11T00:00:00.000000000",
          "2020-12-12T00:00:00.000000000",
          "2020-12-13T00:00:00.000000000",
          "2020-12-15T00:00:00.000000000",
          "2020-12-16T00:00:00.000000000",
          "2020-12-17T00:00:00.000000000",
          "2020-12-18T00:00:00.000000000",
          "2020-12-19T00:00:00.000000000",
          "2020-12-20T00:00:00.000000000",
          "2020-12-26T00:00:00.000000000",
          "2020-12-27T00:00:00.000000000",
          "2020-12-29T00:00:00.000000000",
          "2020-12-30T00:00:00.000000000",
          "2021-01-06T00:00:00.000000000",
          "2021-01-09T00:00:00.000000000",
          "2021-01-10T00:00:00.000000000",
          "2021-01-11T00:00:00.000000000",
          "2021-01-12T00:00:00.000000000",
          "2021-01-13T00:00:00.000000000",
          "2021-01-15T00:00:00.000000000",
          "2021-01-16T00:00:00.000000000",
          "2021-01-17T00:00:00.000000000",
          "2021-01-19T00:00:00.000000000",
          "2021-01-20T00:00:00.000000000",
          "2021-01-21T00:00:00.000000000",
          "2021-01-22T00:00:00.000000000",
          "2021-01-23T00:00:00.000000000",
          "2021-01-24T00:00:00.000000000",
          "2021-01-26T00:00:00.000000000",
          "2021-01-27T00:00:00.000000000",
          "2021-01-28T00:00:00.000000000",
          "2021-01-29T00:00:00.000000000",
          "2021-01-30T00:00:00.000000000",
          "2021-01-31T00:00:00.000000000",
          "2021-02-05T00:00:00.000000000",
          "2021-02-06T00:00:00.000000000",
          "2021-02-07T00:00:00.000000000",
          "2021-02-12T00:00:00.000000000",
          "2021-02-13T00:00:00.000000000",
          "2021-02-14T00:00:00.000000000",
          "2021-02-15T00:00:00.000000000",
          "2021-02-17T00:00:00.000000000",
          "2021-02-19T00:00:00.000000000",
          "2021-02-20T00:00:00.000000000",
          "2021-02-21T00:00:00.000000000",
          "2021-02-22T00:00:00.000000000",
          "2021-02-26T00:00:00.000000000",
          "2021-02-27T00:00:00.000000000",
          "2021-02-28T00:00:00.000000000",
          "2021-03-01T00:00:00.000000000",
          "2021-03-05T00:00:00.000000000",
          "2021-03-06T00:00:00.000000000",
          "2021-03-07T00:00:00.000000000",
          "2021-03-08T00:00:00.000000000",
          "2021-03-12T00:00:00.000000000",
          "2021-03-15T00:00:00.000000000",
          "2021-03-19T00:00:00.000000000",
          "2021-03-20T00:00:00.000000000",
          "2021-03-21T00:00:00.000000000",
          "2021-04-03T00:00:00.000000000",
          "2021-04-04T00:00:00.000000000",
          "2021-04-05T00:00:00.000000000",
          "2021-04-06T00:00:00.000000000",
          "2021-04-07T00:00:00.000000000",
          "2021-04-09T00:00:00.000000000",
          "2021-04-10T00:00:00.000000000",
          "2021-04-11T00:00:00.000000000",
          "2021-04-12T00:00:00.000000000",
          "2021-04-17T00:00:00.000000000",
          "2021-04-18T00:00:00.000000000",
          "2021-07-23T00:00:00.000000000",
          "2021-07-24T00:00:00.000000000",
          "2021-07-25T00:00:00.000000000",
          "2021-07-27T00:00:00.000000000",
          "2021-07-30T00:00:00.000000000",
          "2021-07-31T00:00:00.000000000",
          "2021-08-01T00:00:00.000000000",
          "2021-08-06T00:00:00.000000000",
          "2021-08-07T00:00:00.000000000",
          "2021-08-08T00:00:00.000000000",
          "2021-08-13T00:00:00.000000000",
          "2021-08-14T00:00:00.000000000",
          "2021-08-15T00:00:00.000000000",
          "2021-08-20T00:00:00.000000000",
          "2021-08-21T00:00:00.000000000",
          "2021-08-22T00:00:00.000000000",
          "2021-08-27T00:00:00.000000000",
          "2021-08-28T00:00:00.000000000",
          "2021-08-29T00:00:00.000000000",
          "2021-09-10T00:00:00.000000000",
          "2021-09-11T00:00:00.000000000",
          "2021-09-12T00:00:00.000000000",
          "2021-09-13T00:00:00.000000000",
          "2021-09-17T00:00:00.000000000",
          "2021-09-18T00:00:00.000000000",
          "2021-09-19T00:00:00.000000000",
          "2021-09-22T00:00:00.000000000",
          "2021-09-23T00:00:00.000000000",
          "2021-09-24T00:00:00.000000000",
          "2021-09-25T00:00:00.000000000",
          "2021-09-26T00:00:00.000000000",
          "2021-10-01T00:00:00.000000000",
          "2021-10-02T00:00:00.000000000",
          "2021-10-03T00:00:00.000000000",
          "2021-10-15T00:00:00.000000000",
          "2021-10-16T00:00:00.000000000",
          "2021-10-17T00:00:00.000000000",
          "2021-10-22T00:00:00.000000000",
          "2021-10-23T00:00:00.000000000",
          "2021-10-24T00:00:00.000000000",
          "2021-10-29T00:00:00.000000000",
          "2021-10-30T00:00:00.000000000",
          "2021-10-31T00:00:00.000000000",
          "2021-11-05T00:00:00.000000000",
          "2021-11-06T00:00:00.000000000",
          "2021-11-07T00:00:00.000000000",
          "2021-11-19T00:00:00.000000000",
          "2021-11-20T00:00:00.000000000",
          "2021-11-21T00:00:00.000000000",
          "2021-11-26T00:00:00.000000000",
          "2021-11-27T00:00:00.000000000",
          "2021-11-28T00:00:00.000000000",
          "2021-12-03T00:00:00.000000000",
          "2021-12-04T00:00:00.000000000",
          "2021-12-05T00:00:00.000000000",
          "2021-12-10T00:00:00.000000000",
          "2021-12-11T00:00:00.000000000",
          "2021-12-12T00:00:00.000000000",
          "2021-12-14T00:00:00.000000000",
          "2021-12-15T00:00:00.000000000",
          "2021-12-16T00:00:00.000000000",
          "2021-12-17T00:00:00.000000000",
          "2021-12-18T00:00:00.000000000",
          "2021-12-19T00:00:00.000000000",
          "2021-12-26T00:00:00.000000000",
          "2021-12-27T00:00:00.000000000",
          "2022-01-14T00:00:00.000000000",
          "2022-01-15T00:00:00.000000000",
          "2022-01-16T00:00:00.000000000",
          "2022-01-18T00:00:00.000000000",
          "2022-01-21T00:00:00.000000000",
          "2022-01-22T00:00:00.000000000",
          "2022-01-23T00:00:00.000000000",
          "2022-01-25T00:00:00.000000000",
          "2022-01-26T00:00:00.000000000",
          "2022-01-27T00:00:00.000000000",
          "2022-01-28T00:00:00.000000000",
          "2022-01-29T00:00:00.000000000",
          "2022-01-30T00:00:00.000000000",
          "2022-02-02T00:00:00.000000000",
          "2022-02-04T00:00:00.000000000",
          "2022-02-05T00:00:00.000000000",
          "2022-02-06T00:00:00.000000000",
          "2022-02-09T00:00:00.000000000",
          "2022-02-11T00:00:00.000000000",
          "2022-02-12T00:00:00.000000000",
          "2022-02-13T00:00:00.000000000",
          "2022-02-16T00:00:00.000000000",
          "2022-02-19T00:00:00.000000000",
          "2022-02-20T00:00:00.000000000",
          "2022-02-23T00:00:00.000000000",
          "2022-02-25T00:00:00.000000000",
          "2022-02-26T00:00:00.000000000",
          "2022-02-27T00:00:00.000000000",
          "2022-03-02T00:00:00.000000000",
          "2022-03-04T00:00:00.000000000",
          "2022-03-05T00:00:00.000000000",
          "2022-03-06T00:00:00.000000000",
          "2022-03-11T00:00:00.000000000",
          "2022-03-12T00:00:00.000000000",
          "2022-03-13T00:00:00.000000000",
          "2022-03-18T00:00:00.000000000",
          "2022-03-19T00:00:00.000000000",
          "2022-03-20T00:00:00.000000000",
          "2022-04-01T00:00:00.000000000",
          "2022-04-02T00:00:00.000000000",
          "2022-04-03T00:00:00.000000000",
          "2022-04-09T00:00:00.000000000",
          "2022-04-10T00:00:00.000000000",
          "2022-07-22T00:00:00.000000000",
          "2022-07-23T00:00:00.000000000",
          "2022-07-24T00:00:00.000000000",
          "2022-07-29T00:00:00.000000000",
          "2022-07-30T00:00:00.000000000",
          "2022-07-31T00:00:00.000000000",
          "2022-08-05T00:00:00.000000000",
          "2022-08-06T00:00:00.000000000",
          "2022-08-07T00:00:00.000000000",
          "2022-08-12T00:00:00.000000000",
          "2022-08-13T00:00:00.000000000",
          "2022-08-14T00:00:00.000000000",
          "2022-08-19T00:00:00.000000000",
          "2022-08-20T00:00:00.000000000",
          "2022-08-21T00:00:00.000000000",
          "2022-08-26T00:00:00.000000000",
          "2022-08-27T00:00:00.000000000",
          "2022-08-28T00:00:00.000000000",
          "2022-08-31T00:00:00.000000000",
          "2022-09-01T00:00:00.000000000",
          "2022-09-02T00:00:00.000000000",
          "2022-09-03T00:00:00.000000000",
          "2022-09-04T00:00:00.000000000",
          "2022-09-09T00:00:00.000000000",
          "2022-09-10T00:00:00.000000000",
          "2022-09-11T00:00:00.000000000",
          "2022-09-16T00:00:00.000000000",
          "2022-09-17T00:00:00.000000000",
          "2022-09-18T00:00:00.000000000",
          "2022-09-30T00:00:00.000000000",
          "2022-10-01T00:00:00.000000000",
          "2022-10-02T00:00:00.000000000",
          "2022-10-07T00:00:00.000000000",
          "2022-10-08T00:00:00.000000000",
          "2022-10-09T00:00:00.000000000",
          "2022-10-14T00:00:00.000000000",
          "2022-10-15T00:00:00.000000000",
          "2022-10-16T00:00:00.000000000",
          "2022-10-18T00:00:00.000000000",
          "2022-10-19T00:00:00.000000000",
          "2022-10-20T00:00:00.000000000",
          "2022-10-21T00:00:00.000000000",
          "2022-10-22T00:00:00.000000000",
          "2022-10-23T00:00:00.000000000",
          "2022-10-28T00:00:00.000000000",
          "2022-10-29T00:00:00.000000000",
          "2022-10-30T00:00:00.000000000",
          "2022-11-04T00:00:00.000000000",
          "2022-11-05T00:00:00.000000000",
          "2022-11-06T00:00:00.000000000",
          "2022-11-11T00:00:00.000000000",
          "2022-11-12T00:00:00.000000000",
          "2022-11-13T00:00:00.000000000",
          "2022-12-23T00:00:00.000000000",
          "2022-12-26T00:00:00.000000000",
          "2022-12-27T00:00:00.000000000",
          "2023-01-06T00:00:00.000000000",
          "2023-01-07T00:00:00.000000000",
          "2023-01-08T00:00:00.000000000",
          "2023-01-13T00:00:00.000000000",
          "2023-01-14T00:00:00.000000000",
          "2023-01-15T00:00:00.000000000",
          "2023-01-17T00:00:00.000000000",
          "2023-01-18T00:00:00.000000000",
          "2023-01-19T00:00:00.000000000",
          "2023-01-21T00:00:00.000000000",
          "2023-01-22T00:00:00.000000000",
          "2023-01-27T00:00:00.000000000",
          "2023-01-28T00:00:00.000000000",
          "2023-01-29T00:00:00.000000000",
          "2023-02-01T00:00:00.000000000",
          "2023-02-03T00:00:00.000000000",
          "2023-02-04T00:00:00.000000000",
          "2023-02-05T00:00:00.000000000",
          "2023-02-10T00:00:00.000000000",
          "2023-02-11T00:00:00.000000000",
          "2023-02-12T00:00:00.000000000",
          "2023-02-17T00:00:00.000000000",
          "2023-02-18T00:00:00.000000000",
          "2023-02-19T00:00:00.000000000",
          "2023-02-24T00:00:00.000000000",
          "2023-02-25T00:00:00.000000000",
          "2023-02-26T00:00:00.000000000",
          "2023-03-03T00:00:00.000000000",
          "2023-03-04T00:00:00.000000000",
          "2023-03-05T00:00:00.000000000",
          "2023-03-10T00:00:00.000000000",
          "2023-03-11T00:00:00.000000000",
          "2023-03-12T00:00:00.000000000",
          "2023-03-17T00:00:00.000000000",
          "2023-03-18T00:00:00.000000000",
          "2023-03-19T00:00:00.000000000",
          "2023-03-31T00:00:00.000000000",
          "2023-04-01T00:00:00.000000000",
          "2023-04-02T00:00:00.000000000",
          "2023-04-07T00:00:00.000000000",
          "2023-04-08T00:00:00.000000000",
          "2023-04-09T00:00:00.000000000",
          "2023-04-14T00:00:00.000000000",
          "2023-04-15T00:00:00.000000000",
          "2023-04-16T00:00:00.000000000",
          "2023-04-22T00:00:00.000000000",
          "2023-04-23T00:00:00.000000000",
          "2023-07-28T00:00:00.000000000",
          "2023-07-29T00:00:00.000000000",
          "2023-07-30T00:00:00.000000000",
          "2023-08-04T00:00:00.000000000",
          "2023-08-05T00:00:00.000000000",
          "2023-08-06T00:00:00.000000000",
          "2023-08-11T00:00:00.000000000",
          "2023-08-12T00:00:00.000000000",
          "2023-08-13T00:00:00.000000000",
          "2023-08-18T00:00:00.000000000",
          "2023-08-19T00:00:00.000000000",
          "2023-08-20T00:00:00.000000000",
          "2023-08-26T00:00:00.000000000",
          "2023-08-27T00:00:00.000000000",
          "2023-09-01T00:00:00.000000000",
          "2023-09-02T00:00:00.000000000",
          "2023-09-03T00:00:00.000000000",
          "2023-09-15T00:00:00.000000000",
          "2023-09-16T00:00:00.000000000",
          "2023-09-17T00:00:00.000000000",
          "2023-09-22T00:00:00.000000000",
          "2023-09-23T00:00:00.000000000",
          "2023-09-24T00:00:00.000000000",
          "2023-09-27T00:00:00.000000000",
          "2023-09-28T00:00:00.000000000",
          "2023-09-29T00:00:00.000000000",
          "2023-09-30T00:00:00.000000000",
          "2023-10-01T00:00:00.000000000",
          "2023-10-06T00:00:00.000000000",
          "2023-10-07T00:00:00.000000000",
          "2023-10-08T00:00:00.000000000",
          "2023-10-20T00:00:00.000000000",
          "2023-10-21T00:00:00.000000000",
          "2023-10-22T00:00:00.000000000",
          "2023-10-27T00:00:00.000000000",
          "2023-10-28T00:00:00.000000000",
          "2023-10-29T00:00:00.000000000",
          "2023-11-03T00:00:00.000000000",
          "2023-11-04T00:00:00.000000000",
          "2023-11-05T00:00:00.000000000",
          "2023-11-10T00:00:00.000000000",
          "2023-11-11T00:00:00.000000000",
          "2023-11-12T00:00:00.000000000",
          "2023-11-24T00:00:00.000000000",
          "2023-11-25T00:00:00.000000000",
          "2023-11-26T00:00:00.000000000",
          "2023-12-01T00:00:00.000000000",
          "2023-12-02T00:00:00.000000000",
          "2023-12-03T00:00:00.000000000",
          "2023-12-08T00:00:00.000000000",
          "2023-12-09T00:00:00.000000000",
          "2023-12-10T00:00:00.000000000",
          "2023-12-15T00:00:00.000000000",
          "2023-12-16T00:00:00.000000000",
          "2023-12-17T00:00:00.000000000",
          "2023-12-20T00:00:00.000000000",
          "2023-12-21T00:00:00.000000000",
          "2023-12-22T00:00:00.000000000",
          "2023-12-23T00:00:00.000000000",
          "2023-12-26T00:00:00.000000000",
          "2023-12-27T00:00:00.000000000",
          "2024-01-19T00:00:00.000000000",
          "2024-01-20T00:00:00.000000000",
          "2024-01-21T00:00:00.000000000",
          "2024-01-24T00:00:00.000000000",
          "2024-01-26T00:00:00.000000000",
          "2024-01-27T00:00:00.000000000",
          "2024-01-28T00:00:00.000000000",
          "2024-01-30T00:00:00.000000000",
          "2024-01-31T00:00:00.000000000",
          "2024-02-01T00:00:00.000000000",
          "2024-02-03T00:00:00.000000000",
          "2024-02-04T00:00:00.000000000",
          "2024-02-09T00:00:00.000000000",
          "2024-02-10T00:00:00.000000000",
          "2024-02-11T00:00:00.000000000",
          "2024-02-16T00:00:00.000000000",
          "2024-02-17T00:00:00.000000000",
          "2024-02-18T00:00:00.000000000",
          "2024-02-23T00:00:00.000000000",
          "2024-02-24T00:00:00.000000000",
          "2024-02-25T00:00:00.000000000",
          "2024-03-01T00:00:00.000000000",
          "2024-03-02T00:00:00.000000000",
          "2024-03-03T00:00:00.000000000",
          "2024-03-08T00:00:00.000000000",
          "2024-03-09T00:00:00.000000000",
          "2024-03-10T00:00:00.000000000",
          "2024-03-16T00:00:00.000000000",
          "2024-03-17T00:00:00.000000000",
          "2024-03-29T00:00:00.000000000",
          "2024-03-30T00:00:00.000000000",
          "2024-03-31T00:00:00.000000000",
          "2024-04-01T00:00:00.000000000",
          "2024-04-05T00:00:00.000000000",
          "2024-04-06T00:00:00.000000000",
          "2024-04-07T00:00:00.000000000",
          "2024-04-12T00:00:00.000000000",
          "2024-04-13T00:00:00.000000000",
          "2024-04-14T00:00:00.000000000",
          "2024-04-20T00:00:00.000000000",
          "2024-04-21T00:00:00.000000000",
          "2024-04-23T00:00:00.000000000",
          "2024-04-24T00:00:00.000000000",
          "2024-04-25T00:00:00.000000000",
          "2024-04-26T00:00:00.000000000",
          "2024-04-27T00:00:00.000000000",
          "2024-04-28T00:00:00.000000000",
          "2024-05-03T00:00:00.000000000",
          "2024-05-04T00:00:00.000000000",
          "2024-05-05T00:00:00.000000000",
          "2024-05-11T00:00:00.000000000",
          "2024-05-12T00:00:00.000000000",
          "2024-05-13T00:00:00.000000000",
          "2024-05-17T00:00:00.000000000",
          "2024-05-18T00:00:00.000000000",
          "2024-05-19T00:00:00.000000000",
          "2024-05-20T00:00:00.000000000",
          "2024-05-25T00:00:00.000000000",
          "2024-05-26T00:00:00.000000000",
          "2024-06-02T00:00:00.000000000",
          "2024-07-26T00:00:00.000000000",
          "2024-07-27T00:00:00.000000000",
          "2024-07-28T00:00:00.000000000",
          "2024-08-02T00:00:00.000000000",
          "2024-08-03T00:00:00.000000000",
          "2024-08-04T00:00:00.000000000",
          "2024-08-09T00:00:00.000000000",
          "2024-08-10T00:00:00.000000000",
          "2024-08-11T00:00:00.000000000",
          "2024-08-16T00:00:00.000000000",
          "2024-08-17T00:00:00.000000000",
          "2024-08-18T00:00:00.000000000",
          "2024-08-24T00:00:00.000000000",
          "2024-08-25T00:00:00.000000000",
          "2024-08-30T00:00:00.000000000",
          "2024-08-31T00:00:00.000000000",
          "2024-09-01T00:00:00.000000000"
         ],
         "xaxis": "x",
         "y": {
          "bdata": "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",
          "dtype": "f8"
         },
         "yaxis": "y"
        }
       ],
       "layout": {
        "legend": {
         "tracegroupgap": 0
        },
        "template": {
         "data": {
          "bar": [
           {
            "error_x": {
             "color": "#2a3f5f"
            },
            "error_y": {
             "color": "#2a3f5f"
            },
            "marker": {
             "line": {
              "color": "#E5ECF6",
              "width": 0.5
             },
             "pattern": {
              "fillmode": "overlay",
              "size": 10,
              "solidity": 0.2
             }
            },
            "type": "bar"
           }
          ],
          "barpolar": [
           {
            "marker": {
             "line": {
              "color": "#E5ECF6",
              "width": 0.5
             },
             "pattern": {
              "fillmode": "overlay",
              "size": 10,
              "solidity": 0.2
             }
            },
            "type": "barpolar"
           }
          ],
          "carpet": [
           {
            "aaxis": {
             "endlinecolor": "#2a3f5f",
             "gridcolor": "white",
             "linecolor": "white",
             "minorgridcolor": "white",
             "startlinecolor": "#2a3f5f"
            },
            "baxis": {
             "endlinecolor": "#2a3f5f",
             "gridcolor": "white",
             "linecolor": "white",
             "minorgridcolor": "white",
             "startlinecolor": "#2a3f5f"
            },
            "type": "carpet"
           }
          ],
          "choropleth": [
           {
            "colorbar": {
             "outlinewidth": 0,
             "ticks": ""
            },
            "type": "choropleth"
           }
          ],
          "contour": [
           {
            "colorbar": {
             "outlinewidth": 0,
             "ticks": ""
            },
            "colorscale": [
             [
              0,
              "#0d0887"
             ],
             [
              0.1111111111111111,
              "#46039f"
             ],
             [
              0.2222222222222222,
              "#7201a8"
             ],
             [
              0.3333333333333333,
              "#9c179e"
             ],
             [
              0.4444444444444444,
              "#bd3786"
             ],
             [
              0.5555555555555556,
              "#d8576b"
             ],
             [
              0.6666666666666666,
              "#ed7953"
             ],
             [
              0.7777777777777778,
              "#fb9f3a"
             ],
             [
              0.8888888888888888,
              "#fdca26"
             ],
             [
              1,
              "#f0f921"
             ]
            ],
            "type": "contour"
           }
          ],
          "contourcarpet": [
           {
            "colorbar": {
             "outlinewidth": 0,
             "ticks": ""
            },
            "type": "contourcarpet"
           }
          ],
          "heatmap": [
           {
            "colorbar": {
             "outlinewidth": 0,
             "ticks": ""
            },
            "colorscale": [
             [
              0,
              "#0d0887"
             ],
             [
              0.1111111111111111,
              "#46039f"
             ],
             [
              0.2222222222222222,
              "#7201a8"
             ],
             [
              0.3333333333333333,
              "#9c179e"
             ],
             [
              0.4444444444444444,
              "#bd3786"
             ],
             [
              0.5555555555555556,
              "#d8576b"
             ],
             [
              0.6666666666666666,
              "#ed7953"
             ],
             [
              0.7777777777777778,
              "#fb9f3a"
             ],
             [
              0.8888888888888888,
              "#fdca26"
             ],
             [
              1,
              "#f0f921"
             ]
            ],
            "type": "heatmap"
           }
          ],
          "histogram": [
           {
            "marker": {
             "pattern": {
              "fillmode": "overlay",
              "size": 10,
              "solidity": 0.2
             }
            },
            "type": "histogram"
           }
          ],
          "histogram2d": [
           {
            "colorbar": {
             "outlinewidth": 0,
             "ticks": ""
            },
            "colorscale": [
             [
              0,
              "#0d0887"
             ],
             [
              0.1111111111111111,
              "#46039f"
             ],
             [
              0.2222222222222222,
              "#7201a8"
             ],
             [
              0.3333333333333333,
              "#9c179e"
             ],
             [
              0.4444444444444444,
              "#bd3786"
             ],
             [
              0.5555555555555556,
              "#d8576b"
             ],
             [
              0.6666666666666666,
              "#ed7953"
             ],
             [
              0.7777777777777778,
              "#fb9f3a"
             ],
             [
              0.8888888888888888,
              "#fdca26"
             ],
             [
              1,
              "#f0f921"
             ]
            ],
            "type": "histogram2d"
           }
          ],
          "histogram2dcontour": [
           {
            "colorbar": {
             "outlinewidth": 0,
             "ticks": ""
            },
            "colorscale": [
             [
              0,
              "#0d0887"
             ],
             [
              0.1111111111111111,
              "#46039f"
             ],
             [
              0.2222222222222222,
              "#7201a8"
             ],
             [
              0.3333333333333333,
              "#9c179e"
             ],
             [
              0.4444444444444444,
              "#bd3786"
             ],
             [
              0.5555555555555556,
              "#d8576b"
             ],
             [
              0.6666666666666666,
              "#ed7953"
             ],
             [
              0.7777777777777778,
              "#fb9f3a"
             ],
             [
              0.8888888888888888,
              "#fdca26"
             ],
             [
              1,
              "#f0f921"
             ]
            ],
            "type": "histogram2dcontour"
           }
          ],
          "mesh3d": [
           {
            "colorbar": {
             "outlinewidth": 0,
             "ticks": ""
            },
            "type": "mesh3d"
           }
          ],
          "parcoords": [
           {
            "line": {
             "colorbar": {
              "outlinewidth": 0,
              "ticks": ""
             }
            },
            "type": "parcoords"
           }
          ],
          "pie": [
           {
            "automargin": true,
            "type": "pie"
           }
          ],
          "scatter": [
           {
            "fillpattern": {
             "fillmode": "overlay",
             "size": 10,
             "solidity": 0.2
            },
            "type": "scatter"
           }
          ],
          "scatter3d": [
           {
            "line": {
             "colorbar": {
              "outlinewidth": 0,
              "ticks": ""
             }
            },
            "marker": {
             "colorbar": {
              "outlinewidth": 0,
              "ticks": ""
             }
            },
            "type": "scatter3d"
           }
          ],
          "scattercarpet": [
           {
            "marker": {
             "colorbar": {
              "outlinewidth": 0,
              "ticks": ""
             }
            },
            "type": "scattercarpet"
           }
          ],
          "scattergeo": [
           {
            "marker": {
             "colorbar": {
              "outlinewidth": 0,
              "ticks": ""
             }
            },
            "type": "scattergeo"
           }
          ],
          "scattergl": [
           {
            "marker": {
             "colorbar": {
              "outlinewidth": 0,
              "ticks": ""
             }
            },
            "type": "scattergl"
           }
          ],
          "scattermap": [
           {
            "marker": {
             "colorbar": {
              "outlinewidth": 0,
              "ticks": ""
             }
            },
            "type": "scattermap"
           }
          ],
          "scattermapbox": [
           {
            "marker": {
             "colorbar": {
              "outlinewidth": 0,
              "ticks": ""
             }
            },
            "type": "scattermapbox"
           }
          ],
          "scatterpolar": [
           {
            "marker": {
             "colorbar": {
              "outlinewidth": 0,
              "ticks": ""
             }
            },
            "type": "scatterpolar"
           }
          ],
          "scatterpolargl": [
           {
            "marker": {
             "colorbar": {
              "outlinewidth": 0,
              "ticks": ""
             }
            },
            "type": "scatterpolargl"
           }
          ],
          "scatterternary": [
           {
            "marker": {
             "colorbar": {
              "outlinewidth": 0,
              "ticks": ""
             }
            },
            "type": "scatterternary"
           }
          ],
          "surface": [
           {
            "colorbar": {
             "outlinewidth": 0,
             "ticks": ""
            },
            "colorscale": [
             [
              0,
              "#0d0887"
             ],
             [
              0.1111111111111111,
              "#46039f"
             ],
             [
              0.2222222222222222,
              "#7201a8"
             ],
             [
              0.3333333333333333,
              "#9c179e"
             ],
             [
              0.4444444444444444,
              "#bd3786"
             ],
             [
              0.5555555555555556,
              "#d8576b"
             ],
             [
              0.6666666666666666,
              "#ed7953"
             ],
             [
              0.7777777777777778,
              "#fb9f3a"
             ],
             [
              0.8888888888888888,
              "#fdca26"
             ],
             [
              1,
              "#f0f921"
             ]
            ],
            "type": "surface"
           }
          ],
          "table": [
           {
            "cells": {
             "fill": {
              "color": "#EBF0F8"
             },
             "line": {
              "color": "white"
             }
            },
            "header": {
             "fill": {
              "color": "#C8D4E3"
             },
             "line": {
              "color": "white"
             }
            },
            "type": "table"
           }
          ]
         },
         "layout": {
          "annotationdefaults": {
           "arrowcolor": "#2a3f5f",
           "arrowhead": 0,
           "arrowwidth": 1
          },
          "autotypenumbers": "strict",
          "coloraxis": {
           "colorbar": {
            "outlinewidth": 0,
            "ticks": ""
           }
          },
          "colorscale": {
           "diverging": [
            [
             0,
             "#8e0152"
            ],
            [
             0.1,
             "#c51b7d"
            ],
            [
             0.2,
             "#de77ae"
            ],
            [
             0.3,
             "#f1b6da"
            ],
            [
             0.4,
             "#fde0ef"
            ],
            [
             0.5,
             "#f7f7f7"
            ],
            [
             0.6,
             "#e6f5d0"
            ],
            [
             0.7,
             "#b8e186"
            ],
            [
             0.8,
             "#7fbc41"
            ],
            [
             0.9,
             "#4d9221"
            ],
            [
             1,
             "#276419"
            ]
           ],
           "sequential": [
            [
             0,
             "#0d0887"
            ],
            [
             0.1111111111111111,
             "#46039f"
            ],
            [
             0.2222222222222222,
             "#7201a8"
            ],
            [
             0.3333333333333333,
             "#9c179e"
            ],
            [
             0.4444444444444444,
             "#bd3786"
            ],
            [
             0.5555555555555556,
             "#d8576b"
            ],
            [
             0.6666666666666666,
             "#ed7953"
            ],
            [
             0.7777777777777778,
             "#fb9f3a"
            ],
            [
             0.8888888888888888,
             "#fdca26"
            ],
            [
             1,
             "#f0f921"
            ]
           ],
           "sequentialminus": [
            [
             0,
             "#0d0887"
            ],
            [
             0.1111111111111111,
             "#46039f"
            ],
            [
             0.2222222222222222,
             "#7201a8"
            ],
            [
             0.3333333333333333,
             "#9c179e"
            ],
            [
             0.4444444444444444,
             "#bd3786"
            ],
            [
             0.5555555555555556,
             "#d8576b"
            ],
            [
             0.6666666666666666,
             "#ed7953"
            ],
            [
             0.7777777777777778,
             "#fb9f3a"
            ],
            [
             0.8888888888888888,
             "#fdca26"
            ],
            [
             1,
             "#f0f921"
            ]
           ]
          },
          "colorway": [
           "#636efa",
           "#EF553B",
           "#00cc96",
           "#ab63fa",
           "#FFA15A",
           "#19d3f3",
           "#FF6692",
           "#B6E880",
           "#FF97FF",
           "#FECB52"
          ],
          "font": {
           "color": "#2a3f5f"
          },
          "geo": {
           "bgcolor": "white",
           "lakecolor": "white",
           "landcolor": "#E5ECF6",
           "showlakes": true,
           "showland": true,
           "subunitcolor": "white"
          },
          "hoverlabel": {
           "align": "left"
          },
          "hovermode": "closest",
          "mapbox": {
           "style": "light"
          },
          "paper_bgcolor": "white",
          "plot_bgcolor": "#E5ECF6",
          "polar": {
           "angularaxis": {
            "gridcolor": "white",
            "linecolor": "white",
            "ticks": ""
           },
           "bgcolor": "#E5ECF6",
           "radialaxis": {
            "gridcolor": "white",
            "linecolor": "white",
            "ticks": ""
           }
          },
          "scene": {
           "xaxis": {
            "backgroundcolor": "#E5ECF6",
            "gridcolor": "white",
            "gridwidth": 2,
            "linecolor": "white",
            "showbackground": true,
            "ticks": "",
            "zerolinecolor": "white"
           },
           "yaxis": {
            "backgroundcolor": "#E5ECF6",
            "gridcolor": "white",
            "gridwidth": 2,
            "linecolor": "white",
            "showbackground": true,
            "ticks": "",
            "zerolinecolor": "white"
           },
           "zaxis": {
            "backgroundcolor": "#E5ECF6",
            "gridcolor": "white",
            "gridwidth": 2,
            "linecolor": "white",
            "showbackground": true,
            "ticks": "",
            "zerolinecolor": "white"
           }
          },
          "shapedefaults": {
           "line": {
            "color": "#2a3f5f"
           }
          },
          "ternary": {
           "aaxis": {
            "gridcolor": "white",
            "linecolor": "white",
            "ticks": ""
           },
           "baxis": {
            "gridcolor": "white",
            "linecolor": "white",
            "ticks": ""
           },
           "bgcolor": "#E5ECF6",
           "caxis": {
            "gridcolor": "white",
            "linecolor": "white",
            "ticks": ""
           }
          },
          "title": {
           "x": 0.05
          },
          "xaxis": {
           "automargin": true,
           "gridcolor": "white",
           "linecolor": "white",
           "ticks": "",
           "title": {
            "standoff": 15
           },
           "zerolinecolor": "white",
           "zerolinewidth": 2
          },
          "yaxis": {
           "automargin": true,
           "gridcolor": "white",
           "linecolor": "white",
           "ticks": "",
           "title": {
            "standoff": 15
           },
           "zerolinecolor": "white",
           "zerolinewidth": 2
          }
         }
        },
        "title": {
         "text": "Avg Home Goals Over Time (With Season Gaps)"
        },
        "xaxis": {
         "anchor": "y",
         "domain": [
          0,
          1
         ],
         "title": {
          "text": "Date"
         }
        },
        "yaxis": {
         "anchor": "x",
         "domain": [
          0,
          1
         ],
         "title": {
          "text": "Avg Home Goals"
         }
        }
       }
      }
     },
     "metadata": {},
     "output_type": "display_data"
    }
   ],
   "source": [
    "# Group by date to show average goals scored by home teams per matchday\n",
    "daily_goals = df.groupby('Date')['FTHG'].mean().reset_index()\n",
    "\n",
    "\n",
    "# Calculate time gaps between rows\n",
    "daily_goals['PrevDate'] = daily_goals['Date'].shift(1)\n",
    "daily_goals['Gap'] = (daily_goals['Date'] - daily_goals['PrevDate']).dt.days\n",
    "\n",
    "# Insert NaN for big gaps\n",
    "daily_goals['FTHG_clean'] = np.where(daily_goals['Gap'] > 30, np.nan, daily_goals['FTHG'])\n",
    "\n",
    "# Plot the cleaned series\n",
    "fig = px.line(\n",
    "    daily_goals,\n",
    "    x='Date',\n",
    "    y='FTHG_clean',\n",
    "    title='Avg Home Goals Over Time (With Season Gaps)',\n",
    "    labels={'FTHG_clean': 'Avg Home Goals'}\n",
    ")\n",
    "fig.show()\n"
   ]
  },
  {
   "cell_type": "code",
   "execution_count": 7,
   "id": "02c5cd9f",
   "metadata": {},
   "outputs": [
    {
     "data": {
      "application/vnd.plotly.v1+json": {
       "config": {
        "plotlyServerURL": "https://plot.ly"
       },
       "data": [
        {
         "name": "Home Teams",
         "type": "bar",
         "visible": true,
         "x": [
          "Club Brugge",
          "Gent",
          "Genk",
          "St. Gilloise",
          "Antwerp",
          "Westerlo",
          "Anderlecht",
          "Mechelen",
          "Dender",
          "Waregem"
         ],
         "y": {
          "bdata": "mMMc5jCHAUCKUIQiFKEAQIELXOACFwBABPcR3Edw/z/poosuuuj+PwAAAAAAAP4/dNFFF110/T/Sj370ox/9P6uqqqqqqvo/qZVaqZVa+T8=",
          "dtype": "f8"
         }
        },
        {
         "name": "Away Teams",
         "type": "bar",
         "visible": false,
         "x": [
          "Dender",
          "St. Gilloise",
          "Club Brugge",
          "Genk",
          "Gent",
          "Anderlecht",
          "Charleroi",
          "Antwerp",
          "Westerlo",
          "Oud-Heverlee Leuven"
         ],
         "y": {
          "bdata": "q6qqqqqqAkA2lNdQXkMBQEYXXXTRRf0/XXTRRRdd+j/poosuuuj4PwAAAAAAAPg/WO5phOWe9j9c4AIXuMD1P+ZbvuVbvvU/fdYNpshn9T8=",
          "dtype": "f8"
         }
        }
       ],
       "layout": {
        "height": 500,
        "template": {
         "data": {
          "bar": [
           {
            "error_x": {
             "color": "#2a3f5f"
            },
            "error_y": {
             "color": "#2a3f5f"
            },
            "marker": {
             "line": {
              "color": "#E5ECF6",
              "width": 0.5
             },
             "pattern": {
              "fillmode": "overlay",
              "size": 10,
              "solidity": 0.2
             }
            },
            "type": "bar"
           }
          ],
          "barpolar": [
           {
            "marker": {
             "line": {
              "color": "#E5ECF6",
              "width": 0.5
             },
             "pattern": {
              "fillmode": "overlay",
              "size": 10,
              "solidity": 0.2
             }
            },
            "type": "barpolar"
           }
          ],
          "carpet": [
           {
            "aaxis": {
             "endlinecolor": "#2a3f5f",
             "gridcolor": "white",
             "linecolor": "white",
             "minorgridcolor": "white",
             "startlinecolor": "#2a3f5f"
            },
            "baxis": {
             "endlinecolor": "#2a3f5f",
             "gridcolor": "white",
             "linecolor": "white",
             "minorgridcolor": "white",
             "startlinecolor": "#2a3f5f"
            },
            "type": "carpet"
           }
          ],
          "choropleth": [
           {
            "colorbar": {
             "outlinewidth": 0,
             "ticks": ""
            },
            "type": "choropleth"
           }
          ],
          "contour": [
           {
            "colorbar": {
             "outlinewidth": 0,
             "ticks": ""
            },
            "colorscale": [
             [
              0,
              "#0d0887"
             ],
             [
              0.1111111111111111,
              "#46039f"
             ],
             [
              0.2222222222222222,
              "#7201a8"
             ],
             [
              0.3333333333333333,
              "#9c179e"
             ],
             [
              0.4444444444444444,
              "#bd3786"
             ],
             [
              0.5555555555555556,
              "#d8576b"
             ],
             [
              0.6666666666666666,
              "#ed7953"
             ],
             [
              0.7777777777777778,
              "#fb9f3a"
             ],
             [
              0.8888888888888888,
              "#fdca26"
             ],
             [
              1,
              "#f0f921"
             ]
            ],
            "type": "contour"
           }
          ],
          "contourcarpet": [
           {
            "colorbar": {
             "outlinewidth": 0,
             "ticks": ""
            },
            "type": "contourcarpet"
           }
          ],
          "heatmap": [
           {
            "colorbar": {
             "outlinewidth": 0,
             "ticks": ""
            },
            "colorscale": [
             [
              0,
              "#0d0887"
             ],
             [
              0.1111111111111111,
              "#46039f"
             ],
             [
              0.2222222222222222,
              "#7201a8"
             ],
             [
              0.3333333333333333,
              "#9c179e"
             ],
             [
              0.4444444444444444,
              "#bd3786"
             ],
             [
              0.5555555555555556,
              "#d8576b"
             ],
             [
              0.6666666666666666,
              "#ed7953"
             ],
             [
              0.7777777777777778,
              "#fb9f3a"
             ],
             [
              0.8888888888888888,
              "#fdca26"
             ],
             [
              1,
              "#f0f921"
             ]
            ],
            "type": "heatmap"
           }
          ],
          "histogram": [
           {
            "marker": {
             "pattern": {
              "fillmode": "overlay",
              "size": 10,
              "solidity": 0.2
             }
            },
            "type": "histogram"
           }
          ],
          "histogram2d": [
           {
            "colorbar": {
             "outlinewidth": 0,
             "ticks": ""
            },
            "colorscale": [
             [
              0,
              "#0d0887"
             ],
             [
              0.1111111111111111,
              "#46039f"
             ],
             [
              0.2222222222222222,
              "#7201a8"
             ],
             [
              0.3333333333333333,
              "#9c179e"
             ],
             [
              0.4444444444444444,
              "#bd3786"
             ],
             [
              0.5555555555555556,
              "#d8576b"
             ],
             [
              0.6666666666666666,
              "#ed7953"
             ],
             [
              0.7777777777777778,
              "#fb9f3a"
             ],
             [
              0.8888888888888888,
              "#fdca26"
             ],
             [
              1,
              "#f0f921"
             ]
            ],
            "type": "histogram2d"
           }
          ],
          "histogram2dcontour": [
           {
            "colorbar": {
             "outlinewidth": 0,
             "ticks": ""
            },
            "colorscale": [
             [
              0,
              "#0d0887"
             ],
             [
              0.1111111111111111,
              "#46039f"
             ],
             [
              0.2222222222222222,
              "#7201a8"
             ],
             [
              0.3333333333333333,
              "#9c179e"
             ],
             [
              0.4444444444444444,
              "#bd3786"
             ],
             [
              0.5555555555555556,
              "#d8576b"
             ],
             [
              0.6666666666666666,
              "#ed7953"
             ],
             [
              0.7777777777777778,
              "#fb9f3a"
             ],
             [
              0.8888888888888888,
              "#fdca26"
             ],
             [
              1,
              "#f0f921"
             ]
            ],
            "type": "histogram2dcontour"
           }
          ],
          "mesh3d": [
           {
            "colorbar": {
             "outlinewidth": 0,
             "ticks": ""
            },
            "type": "mesh3d"
           }
          ],
          "parcoords": [
           {
            "line": {
             "colorbar": {
              "outlinewidth": 0,
              "ticks": ""
             }
            },
            "type": "parcoords"
           }
          ],
          "pie": [
           {
            "automargin": true,
            "type": "pie"
           }
          ],
          "scatter": [
           {
            "fillpattern": {
             "fillmode": "overlay",
             "size": 10,
             "solidity": 0.2
            },
            "type": "scatter"
           }
          ],
          "scatter3d": [
           {
            "line": {
             "colorbar": {
              "outlinewidth": 0,
              "ticks": ""
             }
            },
            "marker": {
             "colorbar": {
              "outlinewidth": 0,
              "ticks": ""
             }
            },
            "type": "scatter3d"
           }
          ],
          "scattercarpet": [
           {
            "marker": {
             "colorbar": {
              "outlinewidth": 0,
              "ticks": ""
             }
            },
            "type": "scattercarpet"
           }
          ],
          "scattergeo": [
           {
            "marker": {
             "colorbar": {
              "outlinewidth": 0,
              "ticks": ""
             }
            },
            "type": "scattergeo"
           }
          ],
          "scattergl": [
           {
            "marker": {
             "colorbar": {
              "outlinewidth": 0,
              "ticks": ""
             }
            },
            "type": "scattergl"
           }
          ],
          "scattermap": [
           {
            "marker": {
             "colorbar": {
              "outlinewidth": 0,
              "ticks": ""
             }
            },
            "type": "scattermap"
           }
          ],
          "scattermapbox": [
           {
            "marker": {
             "colorbar": {
              "outlinewidth": 0,
              "ticks": ""
             }
            },
            "type": "scattermapbox"
           }
          ],
          "scatterpolar": [
           {
            "marker": {
             "colorbar": {
              "outlinewidth": 0,
              "ticks": ""
             }
            },
            "type": "scatterpolar"
           }
          ],
          "scatterpolargl": [
           {
            "marker": {
             "colorbar": {
              "outlinewidth": 0,
              "ticks": ""
             }
            },
            "type": "scatterpolargl"
           }
          ],
          "scatterternary": [
           {
            "marker": {
             "colorbar": {
              "outlinewidth": 0,
              "ticks": ""
             }
            },
            "type": "scatterternary"
           }
          ],
          "surface": [
           {
            "colorbar": {
             "outlinewidth": 0,
             "ticks": ""
            },
            "colorscale": [
             [
              0,
              "#0d0887"
             ],
             [
              0.1111111111111111,
              "#46039f"
             ],
             [
              0.2222222222222222,
              "#7201a8"
             ],
             [
              0.3333333333333333,
              "#9c179e"
             ],
             [
              0.4444444444444444,
              "#bd3786"
             ],
             [
              0.5555555555555556,
              "#d8576b"
             ],
             [
              0.6666666666666666,
              "#ed7953"
             ],
             [
              0.7777777777777778,
              "#fb9f3a"
             ],
             [
              0.8888888888888888,
              "#fdca26"
             ],
             [
              1,
              "#f0f921"
             ]
            ],
            "type": "surface"
           }
          ],
          "table": [
           {
            "cells": {
             "fill": {
              "color": "#EBF0F8"
             },
             "line": {
              "color": "white"
             }
            },
            "header": {
             "fill": {
              "color": "#C8D4E3"
             },
             "line": {
              "color": "white"
             }
            },
            "type": "table"
           }
          ]
         },
         "layout": {
          "annotationdefaults": {
           "arrowcolor": "#2a3f5f",
           "arrowhead": 0,
           "arrowwidth": 1
          },
          "autotypenumbers": "strict",
          "coloraxis": {
           "colorbar": {
            "outlinewidth": 0,
            "ticks": ""
           }
          },
          "colorscale": {
           "diverging": [
            [
             0,
             "#8e0152"
            ],
            [
             0.1,
             "#c51b7d"
            ],
            [
             0.2,
             "#de77ae"
            ],
            [
             0.3,
             "#f1b6da"
            ],
            [
             0.4,
             "#fde0ef"
            ],
            [
             0.5,
             "#f7f7f7"
            ],
            [
             0.6,
             "#e6f5d0"
            ],
            [
             0.7,
             "#b8e186"
            ],
            [
             0.8,
             "#7fbc41"
            ],
            [
             0.9,
             "#4d9221"
            ],
            [
             1,
             "#276419"
            ]
           ],
           "sequential": [
            [
             0,
             "#0d0887"
            ],
            [
             0.1111111111111111,
             "#46039f"
            ],
            [
             0.2222222222222222,
             "#7201a8"
            ],
            [
             0.3333333333333333,
             "#9c179e"
            ],
            [
             0.4444444444444444,
             "#bd3786"
            ],
            [
             0.5555555555555556,
             "#d8576b"
            ],
            [
             0.6666666666666666,
             "#ed7953"
            ],
            [
             0.7777777777777778,
             "#fb9f3a"
            ],
            [
             0.8888888888888888,
             "#fdca26"
            ],
            [
             1,
             "#f0f921"
            ]
           ],
           "sequentialminus": [
            [
             0,
             "#0d0887"
            ],
            [
             0.1111111111111111,
             "#46039f"
            ],
            [
             0.2222222222222222,
             "#7201a8"
            ],
            [
             0.3333333333333333,
             "#9c179e"
            ],
            [
             0.4444444444444444,
             "#bd3786"
            ],
            [
             0.5555555555555556,
             "#d8576b"
            ],
            [
             0.6666666666666666,
             "#ed7953"
            ],
            [
             0.7777777777777778,
             "#fb9f3a"
            ],
            [
             0.8888888888888888,
             "#fdca26"
            ],
            [
             1,
             "#f0f921"
            ]
           ]
          },
          "colorway": [
           "#636efa",
           "#EF553B",
           "#00cc96",
           "#ab63fa",
           "#FFA15A",
           "#19d3f3",
           "#FF6692",
           "#B6E880",
           "#FF97FF",
           "#FECB52"
          ],
          "font": {
           "color": "#2a3f5f"
          },
          "geo": {
           "bgcolor": "white",
           "lakecolor": "white",
           "landcolor": "#E5ECF6",
           "showlakes": true,
           "showland": true,
           "subunitcolor": "white"
          },
          "hoverlabel": {
           "align": "left"
          },
          "hovermode": "closest",
          "mapbox": {
           "style": "light"
          },
          "paper_bgcolor": "white",
          "plot_bgcolor": "#E5ECF6",
          "polar": {
           "angularaxis": {
            "gridcolor": "white",
            "linecolor": "white",
            "ticks": ""
           },
           "bgcolor": "#E5ECF6",
           "radialaxis": {
            "gridcolor": "white",
            "linecolor": "white",
            "ticks": ""
           }
          },
          "scene": {
           "xaxis": {
            "backgroundcolor": "#E5ECF6",
            "gridcolor": "white",
            "gridwidth": 2,
            "linecolor": "white",
            "showbackground": true,
            "ticks": "",
            "zerolinecolor": "white"
           },
           "yaxis": {
            "backgroundcolor": "#E5ECF6",
            "gridcolor": "white",
            "gridwidth": 2,
            "linecolor": "white",
            "showbackground": true,
            "ticks": "",
            "zerolinecolor": "white"
           },
           "zaxis": {
            "backgroundcolor": "#E5ECF6",
            "gridcolor": "white",
            "gridwidth": 2,
            "linecolor": "white",
            "showbackground": true,
            "ticks": "",
            "zerolinecolor": "white"
           }
          },
          "shapedefaults": {
           "line": {
            "color": "#2a3f5f"
           }
          },
          "ternary": {
           "aaxis": {
            "gridcolor": "white",
            "linecolor": "white",
            "ticks": ""
           },
           "baxis": {
            "gridcolor": "white",
            "linecolor": "white",
            "ticks": ""
           },
           "bgcolor": "#E5ECF6",
           "caxis": {
            "gridcolor": "white",
            "linecolor": "white",
            "ticks": ""
           }
          },
          "title": {
           "x": 0.05
          },
          "xaxis": {
           "automargin": true,
           "gridcolor": "white",
           "linecolor": "white",
           "ticks": "",
           "title": {
            "standoff": 15
           },
           "zerolinecolor": "white",
           "zerolinewidth": 2
          },
          "yaxis": {
           "automargin": true,
           "gridcolor": "white",
           "linecolor": "white",
           "ticks": "",
           "title": {
            "standoff": 15
           },
           "zerolinecolor": "white",
           "zerolinewidth": 2
          }
         }
        },
        "title": {
         "text": "Top 10 Teams by Average Goals"
        },
        "updatemenus": [
         {
          "buttons": [
           {
            "args": [
             {
              "visible": [
               true,
               false
              ]
             },
             {
              "title": "Top 10 Home Teams by Avg Goals",
              "yaxis": {
               "title": "Avg Home Goals"
              }
             }
            ],
            "label": "Top Home Teams",
            "method": "update"
           },
           {
            "args": [
             {
              "visible": [
               false,
               true
              ]
             },
             {
              "title": "Top 10 Away Teams by Avg Goals",
              "yaxis": {
               "title": "Avg Away Goals"
              }
             }
            ],
            "label": "Top Away Teams",
            "method": "update"
           }
          ],
          "direction": "down",
          "showactive": true,
          "type": "dropdown",
          "x": 0.1,
          "xanchor": "left",
          "y": 1.15,
          "yanchor": "top"
         }
        ]
       }
      }
     },
     "metadata": {},
     "output_type": "display_data"
    }
   ],
   "source": [
    "import plotly.graph_objects as go\n",
    "\n",
    "# Compute top 10 home teams\n",
    "home_goals = df.groupby('HomeTeam')['FTHG'].mean().reset_index()\n",
    "top_home = home_goals.sort_values(by='FTHG', ascending=False).head(10)\n",
    "\n",
    "# Compute top 10 away teams\n",
    "away_goals = df.groupby('AwayTeam')['FTAG'].mean().reset_index()\n",
    "top_away = away_goals.sort_values(by='FTAG', ascending=False).head(10)\n",
    "\n",
    "# Create the figure\n",
    "fig = go.Figure()\n",
    "\n",
    "# Add home team bar chart\n",
    "fig.add_trace(go.Bar(\n",
    "    x=top_home['HomeTeam'],\n",
    "    y=top_home['FTHG'],\n",
    "    name='Home Teams',\n",
    "    visible=True\n",
    "))\n",
    "\n",
    "# Add away team bar chart\n",
    "fig.add_trace(go.Bar(\n",
    "    x=top_away['AwayTeam'],\n",
    "    y=top_away['FTAG'],\n",
    "    name='Away Teams',\n",
    "    visible=False\n",
    "))\n",
    "\n",
    "# Add dropdown to toggle visibility\n",
    "fig.update_layout(\n",
    "    title='Top 10 Teams by Average Goals',\n",
    "    updatemenus=[\n",
    "        dict(\n",
    "            type='dropdown',\n",
    "            direction='down',\n",
    "            buttons=[\n",
    "                dict(label='Top Home Teams',\n",
    "                     method='update',\n",
    "                     args=[{'visible': [True, False]},\n",
    "                           {'title': 'Top 10 Home Teams by Avg Goals',\n",
    "                            'yaxis': {'title': 'Avg Home Goals'}}]),\n",
    "                dict(label='Top Away Teams',\n",
    "                     method='update',\n",
    "                     args=[{'visible': [False, True]},\n",
    "                           {'title': 'Top 10 Away Teams by Avg Goals',\n",
    "                            'yaxis': {'title': 'Avg Away Goals'}}]),\n",
    "            ],\n",
    "            showactive=True,\n",
    "            x=0.1,\n",
    "            xanchor=\"left\",\n",
    "            y=1.15,\n",
    "            yanchor=\"top\"\n",
    "        ),\n",
    "    ]\n",
    ")\n",
    "\n",
    "fig.update_layout(height=500)\n",
    "\n",
    "fig.show()\n"
   ]
  },
  {
   "cell_type": "code",
   "execution_count": 9,
   "id": "416a14e4",
   "metadata": {},
   "outputs": [
    {
     "data": {
      "application/vnd.plotly.v1+json": {
       "config": {
        "plotlyServerURL": "https://plot.ly"
       },
       "data": [
        {
         "hovertemplate": "Result=Wins<br>Number of Matches=%{x}<br>Team=%{y}<extra></extra>",
         "legendgroup": "Wins",
         "marker": {
          "color": "#2E8B57",
          "pattern": {
           "shape": ""
          }
         },
         "name": "Wins",
         "orientation": "h",
         "showlegend": true,
         "textposition": "auto",
         "type": "bar",
         "x": {
          "bdata": "DQcNEikQLyYmGTA6PT5GSFJWVwNcako=",
          "dtype": "i1"
         },
         "xaxis": "x",
         "y": [
          "Seraing",
          "RWD Molenbeek",
          "Waasland-Beveren",
          "Beerschot VA",
          "Eupen",
          "Mouscron",
          "Kortrijk",
          "Oostende",
          "Waregem",
          "Westerlo",
          "Oud-Heverlee Leuven",
          "St Truiden",
          "Cercle Brugge",
          "Standard",
          "Charleroi",
          "Mechelen",
          "Anderlecht",
          "Genk",
          "Gent",
          "Dender",
          "Antwerp",
          "Club Brugge",
          "St. Gilloise"
         ],
         "yaxis": "y"
        },
        {
         "hovertemplate": "Result=Draws<br>Number of Matches=%{x}<br>Team=%{y}<extra></extra>",
         "legendgroup": "Draws",
         "marker": {
          "color": "#FFD700",
          "pattern": {
           "shape": ""
          }
         },
         "name": "Draws",
         "orientation": "h",
         "showlegend": true,
         "textposition": "auto",
         "type": "bar",
         "x": {
          "bdata": "CQkMCiYTJRkbFiwuIzMqJTUmKgIlLBc=",
          "dtype": "i1"
         },
         "xaxis": "x",
         "y": [
          "Seraing",
          "RWD Molenbeek",
          "Waasland-Beveren",
          "Beerschot VA",
          "Eupen",
          "Mouscron",
          "Kortrijk",
          "Oostende",
          "Waregem",
          "Westerlo",
          "Oud-Heverlee Leuven",
          "St Truiden",
          "Cercle Brugge",
          "Standard",
          "Charleroi",
          "Mechelen",
          "Anderlecht",
          "Genk",
          "Gent",
          "Dender",
          "Antwerp",
          "Club Brugge",
          "St. Gilloise"
         ],
         "yaxis": "y"
        },
        {
         "hovertemplate": "Result=Losses<br>Number of Matches=%{x}<br>Team=%{y}<extra></extra>",
         "legendgroup": "Losses",
         "marker": {
          "color": "#DC143C",
          "pattern": {
           "shape": ""
          }
         },
         "name": "Losses",
         "orientation": "h",
         "showlegend": true,
         "textposition": "auto",
         "type": "bar",
         "x": {
          "bdata": "LhQmLlgcWURCIDhJUD89RCk1MAEwGxE=",
          "dtype": "i1"
         },
         "xaxis": "x",
         "y": [
          "Seraing",
          "RWD Molenbeek",
          "Waasland-Beveren",
          "Beerschot VA",
          "Eupen",
          "Mouscron",
          "Kortrijk",
          "Oostende",
          "Waregem",
          "Westerlo",
          "Oud-Heverlee Leuven",
          "St Truiden",
          "Cercle Brugge",
          "Standard",
          "Charleroi",
          "Mechelen",
          "Anderlecht",
          "Genk",
          "Gent",
          "Dender",
          "Antwerp",
          "Club Brugge",
          "St. Gilloise"
         ],
         "yaxis": "y"
        }
       ],
       "layout": {
        "barmode": "relative",
        "height": 600,
        "legend": {
         "title": {
          "text": "Match Result"
         },
         "tracegroupgap": 0
        },
        "template": {
         "data": {
          "bar": [
           {
            "error_x": {
             "color": "#2a3f5f"
            },
            "error_y": {
             "color": "#2a3f5f"
            },
            "marker": {
             "line": {
              "color": "#E5ECF6",
              "width": 0.5
             },
             "pattern": {
              "fillmode": "overlay",
              "size": 10,
              "solidity": 0.2
             }
            },
            "type": "bar"
           }
          ],
          "barpolar": [
           {
            "marker": {
             "line": {
              "color": "#E5ECF6",
              "width": 0.5
             },
             "pattern": {
              "fillmode": "overlay",
              "size": 10,
              "solidity": 0.2
             }
            },
            "type": "barpolar"
           }
          ],
          "carpet": [
           {
            "aaxis": {
             "endlinecolor": "#2a3f5f",
             "gridcolor": "white",
             "linecolor": "white",
             "minorgridcolor": "white",
             "startlinecolor": "#2a3f5f"
            },
            "baxis": {
             "endlinecolor": "#2a3f5f",
             "gridcolor": "white",
             "linecolor": "white",
             "minorgridcolor": "white",
             "startlinecolor": "#2a3f5f"
            },
            "type": "carpet"
           }
          ],
          "choropleth": [
           {
            "colorbar": {
             "outlinewidth": 0,
             "ticks": ""
            },
            "type": "choropleth"
           }
          ],
          "contour": [
           {
            "colorbar": {
             "outlinewidth": 0,
             "ticks": ""
            },
            "colorscale": [
             [
              0,
              "#0d0887"
             ],
             [
              0.1111111111111111,
              "#46039f"
             ],
             [
              0.2222222222222222,
              "#7201a8"
             ],
             [
              0.3333333333333333,
              "#9c179e"
             ],
             [
              0.4444444444444444,
              "#bd3786"
             ],
             [
              0.5555555555555556,
              "#d8576b"
             ],
             [
              0.6666666666666666,
              "#ed7953"
             ],
             [
              0.7777777777777778,
              "#fb9f3a"
             ],
             [
              0.8888888888888888,
              "#fdca26"
             ],
             [
              1,
              "#f0f921"
             ]
            ],
            "type": "contour"
           }
          ],
          "contourcarpet": [
           {
            "colorbar": {
             "outlinewidth": 0,
             "ticks": ""
            },
            "type": "contourcarpet"
           }
          ],
          "heatmap": [
           {
            "colorbar": {
             "outlinewidth": 0,
             "ticks": ""
            },
            "colorscale": [
             [
              0,
              "#0d0887"
             ],
             [
              0.1111111111111111,
              "#46039f"
             ],
             [
              0.2222222222222222,
              "#7201a8"
             ],
             [
              0.3333333333333333,
              "#9c179e"
             ],
             [
              0.4444444444444444,
              "#bd3786"
             ],
             [
              0.5555555555555556,
              "#d8576b"
             ],
             [
              0.6666666666666666,
              "#ed7953"
             ],
             [
              0.7777777777777778,
              "#fb9f3a"
             ],
             [
              0.8888888888888888,
              "#fdca26"
             ],
             [
              1,
              "#f0f921"
             ]
            ],
            "type": "heatmap"
           }
          ],
          "histogram": [
           {
            "marker": {
             "pattern": {
              "fillmode": "overlay",
              "size": 10,
              "solidity": 0.2
             }
            },
            "type": "histogram"
           }
          ],
          "histogram2d": [
           {
            "colorbar": {
             "outlinewidth": 0,
             "ticks": ""
            },
            "colorscale": [
             [
              0,
              "#0d0887"
             ],
             [
              0.1111111111111111,
              "#46039f"
             ],
             [
              0.2222222222222222,
              "#7201a8"
             ],
             [
              0.3333333333333333,
              "#9c179e"
             ],
             [
              0.4444444444444444,
              "#bd3786"
             ],
             [
              0.5555555555555556,
              "#d8576b"
             ],
             [
              0.6666666666666666,
              "#ed7953"
             ],
             [
              0.7777777777777778,
              "#fb9f3a"
             ],
             [
              0.8888888888888888,
              "#fdca26"
             ],
             [
              1,
              "#f0f921"
             ]
            ],
            "type": "histogram2d"
           }
          ],
          "histogram2dcontour": [
           {
            "colorbar": {
             "outlinewidth": 0,
             "ticks": ""
            },
            "colorscale": [
             [
              0,
              "#0d0887"
             ],
             [
              0.1111111111111111,
              "#46039f"
             ],
             [
              0.2222222222222222,
              "#7201a8"
             ],
             [
              0.3333333333333333,
              "#9c179e"
             ],
             [
              0.4444444444444444,
              "#bd3786"
             ],
             [
              0.5555555555555556,
              "#d8576b"
             ],
             [
              0.6666666666666666,
              "#ed7953"
             ],
             [
              0.7777777777777778,
              "#fb9f3a"
             ],
             [
              0.8888888888888888,
              "#fdca26"
             ],
             [
              1,
              "#f0f921"
             ]
            ],
            "type": "histogram2dcontour"
           }
          ],
          "mesh3d": [
           {
            "colorbar": {
             "outlinewidth": 0,
             "ticks": ""
            },
            "type": "mesh3d"
           }
          ],
          "parcoords": [
           {
            "line": {
             "colorbar": {
              "outlinewidth": 0,
              "ticks": ""
             }
            },
            "type": "parcoords"
           }
          ],
          "pie": [
           {
            "automargin": true,
            "type": "pie"
           }
          ],
          "scatter": [
           {
            "fillpattern": {
             "fillmode": "overlay",
             "size": 10,
             "solidity": 0.2
            },
            "type": "scatter"
           }
          ],
          "scatter3d": [
           {
            "line": {
             "colorbar": {
              "outlinewidth": 0,
              "ticks": ""
             }
            },
            "marker": {
             "colorbar": {
              "outlinewidth": 0,
              "ticks": ""
             }
            },
            "type": "scatter3d"
           }
          ],
          "scattercarpet": [
           {
            "marker": {
             "colorbar": {
              "outlinewidth": 0,
              "ticks": ""
             }
            },
            "type": "scattercarpet"
           }
          ],
          "scattergeo": [
           {
            "marker": {
             "colorbar": {
              "outlinewidth": 0,
              "ticks": ""
             }
            },
            "type": "scattergeo"
           }
          ],
          "scattergl": [
           {
            "marker": {
             "colorbar": {
              "outlinewidth": 0,
              "ticks": ""
             }
            },
            "type": "scattergl"
           }
          ],
          "scattermap": [
           {
            "marker": {
             "colorbar": {
              "outlinewidth": 0,
              "ticks": ""
             }
            },
            "type": "scattermap"
           }
          ],
          "scattermapbox": [
           {
            "marker": {
             "colorbar": {
              "outlinewidth": 0,
              "ticks": ""
             }
            },
            "type": "scattermapbox"
           }
          ],
          "scatterpolar": [
           {
            "marker": {
             "colorbar": {
              "outlinewidth": 0,
              "ticks": ""
             }
            },
            "type": "scatterpolar"
           }
          ],
          "scatterpolargl": [
           {
            "marker": {
             "colorbar": {
              "outlinewidth": 0,
              "ticks": ""
             }
            },
            "type": "scatterpolargl"
           }
          ],
          "scatterternary": [
           {
            "marker": {
             "colorbar": {
              "outlinewidth": 0,
              "ticks": ""
             }
            },
            "type": "scatterternary"
           }
          ],
          "surface": [
           {
            "colorbar": {
             "outlinewidth": 0,
             "ticks": ""
            },
            "colorscale": [
             [
              0,
              "#0d0887"
             ],
             [
              0.1111111111111111,
              "#46039f"
             ],
             [
              0.2222222222222222,
              "#7201a8"
             ],
             [
              0.3333333333333333,
              "#9c179e"
             ],
             [
              0.4444444444444444,
              "#bd3786"
             ],
             [
              0.5555555555555556,
              "#d8576b"
             ],
             [
              0.6666666666666666,
              "#ed7953"
             ],
             [
              0.7777777777777778,
              "#fb9f3a"
             ],
             [
              0.8888888888888888,
              "#fdca26"
             ],
             [
              1,
              "#f0f921"
             ]
            ],
            "type": "surface"
           }
          ],
          "table": [
           {
            "cells": {
             "fill": {
              "color": "#EBF0F8"
             },
             "line": {
              "color": "white"
             }
            },
            "header": {
             "fill": {
              "color": "#C8D4E3"
             },
             "line": {
              "color": "white"
             }
            },
            "type": "table"
           }
          ]
         },
         "layout": {
          "annotationdefaults": {
           "arrowcolor": "#2a3f5f",
           "arrowhead": 0,
           "arrowwidth": 1
          },
          "autotypenumbers": "strict",
          "coloraxis": {
           "colorbar": {
            "outlinewidth": 0,
            "ticks": ""
           }
          },
          "colorscale": {
           "diverging": [
            [
             0,
             "#8e0152"
            ],
            [
             0.1,
             "#c51b7d"
            ],
            [
             0.2,
             "#de77ae"
            ],
            [
             0.3,
             "#f1b6da"
            ],
            [
             0.4,
             "#fde0ef"
            ],
            [
             0.5,
             "#f7f7f7"
            ],
            [
             0.6,
             "#e6f5d0"
            ],
            [
             0.7,
             "#b8e186"
            ],
            [
             0.8,
             "#7fbc41"
            ],
            [
             0.9,
             "#4d9221"
            ],
            [
             1,
             "#276419"
            ]
           ],
           "sequential": [
            [
             0,
             "#0d0887"
            ],
            [
             0.1111111111111111,
             "#46039f"
            ],
            [
             0.2222222222222222,
             "#7201a8"
            ],
            [
             0.3333333333333333,
             "#9c179e"
            ],
            [
             0.4444444444444444,
             "#bd3786"
            ],
            [
             0.5555555555555556,
             "#d8576b"
            ],
            [
             0.6666666666666666,
             "#ed7953"
            ],
            [
             0.7777777777777778,
             "#fb9f3a"
            ],
            [
             0.8888888888888888,
             "#fdca26"
            ],
            [
             1,
             "#f0f921"
            ]
           ],
           "sequentialminus": [
            [
             0,
             "#0d0887"
            ],
            [
             0.1111111111111111,
             "#46039f"
            ],
            [
             0.2222222222222222,
             "#7201a8"
            ],
            [
             0.3333333333333333,
             "#9c179e"
            ],
            [
             0.4444444444444444,
             "#bd3786"
            ],
            [
             0.5555555555555556,
             "#d8576b"
            ],
            [
             0.6666666666666666,
             "#ed7953"
            ],
            [
             0.7777777777777778,
             "#fb9f3a"
            ],
            [
             0.8888888888888888,
             "#fdca26"
            ],
            [
             1,
             "#f0f921"
            ]
           ]
          },
          "colorway": [
           "#636efa",
           "#EF553B",
           "#00cc96",
           "#ab63fa",
           "#FFA15A",
           "#19d3f3",
           "#FF6692",
           "#B6E880",
           "#FF97FF",
           "#FECB52"
          ],
          "font": {
           "color": "#2a3f5f"
          },
          "geo": {
           "bgcolor": "white",
           "lakecolor": "white",
           "landcolor": "#E5ECF6",
           "showlakes": true,
           "showland": true,
           "subunitcolor": "white"
          },
          "hoverlabel": {
           "align": "left"
          },
          "hovermode": "closest",
          "mapbox": {
           "style": "light"
          },
          "paper_bgcolor": "white",
          "plot_bgcolor": "#E5ECF6",
          "polar": {
           "angularaxis": {
            "gridcolor": "white",
            "linecolor": "white",
            "ticks": ""
           },
           "bgcolor": "#E5ECF6",
           "radialaxis": {
            "gridcolor": "white",
            "linecolor": "white",
            "ticks": ""
           }
          },
          "scene": {
           "xaxis": {
            "backgroundcolor": "#E5ECF6",
            "gridcolor": "white",
            "gridwidth": 2,
            "linecolor": "white",
            "showbackground": true,
            "ticks": "",
            "zerolinecolor": "white"
           },
           "yaxis": {
            "backgroundcolor": "#E5ECF6",
            "gridcolor": "white",
            "gridwidth": 2,
            "linecolor": "white",
            "showbackground": true,
            "ticks": "",
            "zerolinecolor": "white"
           },
           "zaxis": {
            "backgroundcolor": "#E5ECF6",
            "gridcolor": "white",
            "gridwidth": 2,
            "linecolor": "white",
            "showbackground": true,
            "ticks": "",
            "zerolinecolor": "white"
           }
          },
          "shapedefaults": {
           "line": {
            "color": "#2a3f5f"
           }
          },
          "ternary": {
           "aaxis": {
            "gridcolor": "white",
            "linecolor": "white",
            "ticks": ""
           },
           "baxis": {
            "gridcolor": "white",
            "linecolor": "white",
            "ticks": ""
           },
           "bgcolor": "#E5ECF6",
           "caxis": {
            "gridcolor": "white",
            "linecolor": "white",
            "ticks": ""
           }
          },
          "title": {
           "x": 0.05
          },
          "xaxis": {
           "automargin": true,
           "gridcolor": "white",
           "linecolor": "white",
           "ticks": "",
           "title": {
            "standoff": 15
           },
           "zerolinecolor": "white",
           "zerolinewidth": 2
          },
          "yaxis": {
           "automargin": true,
           "gridcolor": "white",
           "linecolor": "white",
           "ticks": "",
           "title": {
            "standoff": 15
           },
           "zerolinecolor": "white",
           "zerolinewidth": 2
          }
         }
        },
        "title": {
         "text": "Win/Draw/Loss Record by Team"
        },
        "xaxis": {
         "anchor": "y",
         "domain": [
          0,
          1
         ],
         "title": {
          "text": "Number of Matches"
         }
        },
        "yaxis": {
         "anchor": "x",
         "domain": [
          0,
          1
         ],
         "title": {
          "text": "Teams"
         }
        }
       }
      }
     },
     "metadata": {},
     "output_type": "display_data"
    }
   ],
   "source": [
    "# Calculate win/loss/draw statistics for all teams\n",
    "team_stats = []\n",
    "\n",
    "# Get all unique teams\n",
    "all_teams = set(df['HomeTeam'].unique()) | set(df['AwayTeam'].unique())\n",
    "\n",
    "for team in all_teams:\n",
    "    # Home matches\n",
    "    home_matches = df[df['HomeTeam'] == team]\n",
    "    home_wins = len(home_matches[home_matches['FTR'] == 'H'])\n",
    "    home_draws = len(home_matches[home_matches['FTR'] == 'D'])\n",
    "    home_losses = len(home_matches[home_matches['FTR'] == 'A'])\n",
    "    \n",
    "    # Away matches\n",
    "    away_matches = df[df['AwayTeam'] == team]\n",
    "    away_wins = len(away_matches[away_matches['FTR'] == 'A'])\n",
    "    away_draws = len(away_matches[away_matches['FTR'] == 'D'])\n",
    "    away_losses = len(away_matches[away_matches['FTR'] == 'H'])\n",
    "    \n",
    "    # Total stats\n",
    "    total_wins = home_wins + away_wins\n",
    "    total_draws = home_draws + away_draws\n",
    "    total_losses = home_losses + away_losses\n",
    "    total_matches = total_wins + total_draws + total_losses\n",
    "    \n",
    "    team_stats.append({\n",
    "        'Team': team,\n",
    "        'Wins': total_wins,\n",
    "        'Draws': total_draws,\n",
    "        'Losses': total_losses,\n",
    "        'Total': total_matches,\n",
    "        'Win_Pct': total_wins / total_matches * 100 if total_matches > 0 else 0\n",
    "    })\n",
    "\n",
    "# Convert to DataFrame and sort by win percentage\n",
    "stats_df = pd.DataFrame(team_stats)\n",
    "stats_df = stats_df.sort_values('Win_Pct', ascending=True)\n",
    "\n",
    "# Create stacked horizontal bar chart\n",
    "fig_wld = px.bar(\n",
    "    stats_df,\n",
    "    x=['Wins', 'Draws', 'Losses'],\n",
    "    y='Team',\n",
    "    orientation='h',\n",
    "    title='Win/Draw/Loss Record by Team',\n",
    "    color_discrete_map={\n",
    "        'Wins': '#2E8B57',     # Sea Green\n",
    "        'Draws': '#FFD700',    # Gold\n",
    "        'Losses': '#DC143C'    # Crimson\n",
    "    },\n",
    "    labels={'value': 'Number of Matches', 'variable': 'Result'}\n",
    ")\n",
    "\n",
    "fig_wld.update_layout(\n",
    "    height=600,\n",
    "    xaxis_title='Number of Matches',\n",
    "    yaxis_title='Teams',\n",
    "    legend_title='Match Result'\n",
    ")\n",
    "\n",
    "fig_wld.show()"
   ]
  },
  {
   "cell_type": "code",
   "execution_count": 10,
   "id": "f286c8c0",
   "metadata": {},
   "outputs": [
    {
     "data": {
      "application/vnd.plotly.v1+json": {
       "config": {
        "plotlyServerURL": "https://plot.ly"
       },
       "data": [
        {
         "hovertemplate": "Result=Win_Pct<br>Percentage (%)=%{x}<br>Team=%{y}<extra></extra>",
         "legendgroup": "Win_Pct",
         "marker": {
          "color": "#2E8B57",
          "pattern": {
           "shape": ""
          }
         },
         "name": "Win_Pct",
         "orientation": "h",
         "showlegend": true,
         "textposition": "auto",
         "type": "bar",
         "x": {
          "bdata": "Hh4eHh4eM0Adx3Ecx3EzQCiKoiiKojRAMUU+6wZTOEA12yeqB404QFmWZVmWZTlArBewzekqO0Ck5FlG9AE9QKTkWUb0AT1AS0f2DESlP0B2gynyWTdAQDLtHKxZYkBAddFFF11UQUBddNFFF51BQFAyFtUwO0RAxEndl8dWRECLLrrooktHQFSmnYM1S0hAzGMrgoaTSEAAAAAAAABJQCQX8Hob/UlAtXOwZonxTUCms5jOYjpQQA==",
          "dtype": "f8"
         },
         "xaxis": "x",
         "y": [
          "Seraing",
          "RWD Molenbeek",
          "Waasland-Beveren",
          "Beerschot VA",
          "Eupen",
          "Mouscron",
          "Kortrijk",
          "Oostende",
          "Waregem",
          "Westerlo",
          "Oud-Heverlee Leuven",
          "St Truiden",
          "Cercle Brugge",
          "Standard",
          "Charleroi",
          "Mechelen",
          "Anderlecht",
          "Genk",
          "Gent",
          "Dender",
          "Antwerp",
          "Club Brugge",
          "St. Gilloise"
         ],
         "yaxis": "y"
        },
        {
         "hovertemplate": "Result=Draw_Pct<br>Percentage (%)=%{x}<br>Team=%{y}<extra></extra>",
         "legendgroup": "Draw_Pct",
         "marker": {
          "color": "#FFD700",
          "pattern": {
           "shape": ""
          }
         },
         "name": "Draw_Pct",
         "orientation": "h",
         "showlegend": true,
         "textposition": "auto",
         "type": "bar",
         "x": {
          "bdata": "eXh4eHh4KkAAAAAAAAA5QMMwDMMwDDNAbzBFPusGK0AMSMdSJsE2QIqiKIqiKD5A4C2F/iRjNUAO09wFfxUzQExzF/xVnDRAsmcgKh3ZO0CtG0yRz7o9QCQX8Hob/TlAo4suuujiM0C76KKLLvo8QMaiGmYHRzhAs8T4lGnnNEBddNFFFx0+QKM/FJILeDVAZCuChpO6N0CqqqqqqqpAQLPE+JRp5zRARCG5gNfbOEDOYjqL6Sw0QA==",
          "dtype": "f8"
         },
         "xaxis": "x",
         "y": [
          "Seraing",
          "RWD Molenbeek",
          "Waasland-Beveren",
          "Beerschot VA",
          "Eupen",
          "Mouscron",
          "Kortrijk",
          "Oostende",
          "Waregem",
          "Westerlo",
          "Oud-Heverlee Leuven",
          "St Truiden",
          "Cercle Brugge",
          "Standard",
          "Charleroi",
          "Mechelen",
          "Anderlecht",
          "Genk",
          "Gent",
          "Dender",
          "Antwerp",
          "Club Brugge",
          "St. Gilloise"
         ],
         "yaxis": "y"
        },
        {
         "hovertemplate": "Result=Loss_Pct<br>Percentage (%)=%{x}<br>Team=%{y}<extra></extra>",
         "legendgroup": "Loss_Pct",
         "marker": {
          "color": "#DC143C",
          "pattern": {
           "shape": ""
          }
         },
         "name": "Loss_Pct",
         "orientation": "h",
         "showlegend": true,
         "textposition": "auto",
         "type": "bar",
         "x": {
          "bdata": "amlpaWnpUEByHMdxHMdLQIqiKIqiKE5ATJHPusEUT0BgbogB6VhKQI7jOI7jOEZAOl3lmfi4SUAnpORZRvRJQAdUx97aMElAgqh0ZM9AREC0bjBFPutCQDsHa5YYn0RAuuiiiy66RkBGF1100eVBQE183HdLoUFA41OmnYM1Q0CLLrrooks3QLVzsGaJ8T1ABA0ndV8eO0CqqqqqqqowQAQNJ3VfHjtApe7LYyuCLkAxncV0FtMtQA==",
          "dtype": "f8"
         },
         "xaxis": "x",
         "y": [
          "Seraing",
          "RWD Molenbeek",
          "Waasland-Beveren",
          "Beerschot VA",
          "Eupen",
          "Mouscron",
          "Kortrijk",
          "Oostende",
          "Waregem",
          "Westerlo",
          "Oud-Heverlee Leuven",
          "St Truiden",
          "Cercle Brugge",
          "Standard",
          "Charleroi",
          "Mechelen",
          "Anderlecht",
          "Genk",
          "Gent",
          "Dender",
          "Antwerp",
          "Club Brugge",
          "St. Gilloise"
         ],
         "yaxis": "y"
        }
       ],
       "layout": {
        "barmode": "relative",
        "height": 600,
        "legend": {
         "title": {
          "text": "Match Result"
         },
         "tracegroupgap": 0
        },
        "template": {
         "data": {
          "bar": [
           {
            "error_x": {
             "color": "#2a3f5f"
            },
            "error_y": {
             "color": "#2a3f5f"
            },
            "marker": {
             "line": {
              "color": "#E5ECF6",
              "width": 0.5
             },
             "pattern": {
              "fillmode": "overlay",
              "size": 10,
              "solidity": 0.2
             }
            },
            "type": "bar"
           }
          ],
          "barpolar": [
           {
            "marker": {
             "line": {
              "color": "#E5ECF6",
              "width": 0.5
             },
             "pattern": {
              "fillmode": "overlay",
              "size": 10,
              "solidity": 0.2
             }
            },
            "type": "barpolar"
           }
          ],
          "carpet": [
           {
            "aaxis": {
             "endlinecolor": "#2a3f5f",
             "gridcolor": "white",
             "linecolor": "white",
             "minorgridcolor": "white",
             "startlinecolor": "#2a3f5f"
            },
            "baxis": {
             "endlinecolor": "#2a3f5f",
             "gridcolor": "white",
             "linecolor": "white",
             "minorgridcolor": "white",
             "startlinecolor": "#2a3f5f"
            },
            "type": "carpet"
           }
          ],
          "choropleth": [
           {
            "colorbar": {
             "outlinewidth": 0,
             "ticks": ""
            },
            "type": "choropleth"
           }
          ],
          "contour": [
           {
            "colorbar": {
             "outlinewidth": 0,
             "ticks": ""
            },
            "colorscale": [
             [
              0,
              "#0d0887"
             ],
             [
              0.1111111111111111,
              "#46039f"
             ],
             [
              0.2222222222222222,
              "#7201a8"
             ],
             [
              0.3333333333333333,
              "#9c179e"
             ],
             [
              0.4444444444444444,
              "#bd3786"
             ],
             [
              0.5555555555555556,
              "#d8576b"
             ],
             [
              0.6666666666666666,
              "#ed7953"
             ],
             [
              0.7777777777777778,
              "#fb9f3a"
             ],
             [
              0.8888888888888888,
              "#fdca26"
             ],
             [
              1,
              "#f0f921"
             ]
            ],
            "type": "contour"
           }
          ],
          "contourcarpet": [
           {
            "colorbar": {
             "outlinewidth": 0,
             "ticks": ""
            },
            "type": "contourcarpet"
           }
          ],
          "heatmap": [
           {
            "colorbar": {
             "outlinewidth": 0,
             "ticks": ""
            },
            "colorscale": [
             [
              0,
              "#0d0887"
             ],
             [
              0.1111111111111111,
              "#46039f"
             ],
             [
              0.2222222222222222,
              "#7201a8"
             ],
             [
              0.3333333333333333,
              "#9c179e"
             ],
             [
              0.4444444444444444,
              "#bd3786"
             ],
             [
              0.5555555555555556,
              "#d8576b"
             ],
             [
              0.6666666666666666,
              "#ed7953"
             ],
             [
              0.7777777777777778,
              "#fb9f3a"
             ],
             [
              0.8888888888888888,
              "#fdca26"
             ],
             [
              1,
              "#f0f921"
             ]
            ],
            "type": "heatmap"
           }
          ],
          "histogram": [
           {
            "marker": {
             "pattern": {
              "fillmode": "overlay",
              "size": 10,
              "solidity": 0.2
             }
            },
            "type": "histogram"
           }
          ],
          "histogram2d": [
           {
            "colorbar": {
             "outlinewidth": 0,
             "ticks": ""
            },
            "colorscale": [
             [
              0,
              "#0d0887"
             ],
             [
              0.1111111111111111,
              "#46039f"
             ],
             [
              0.2222222222222222,
              "#7201a8"
             ],
             [
              0.3333333333333333,
              "#9c179e"
             ],
             [
              0.4444444444444444,
              "#bd3786"
             ],
             [
              0.5555555555555556,
              "#d8576b"
             ],
             [
              0.6666666666666666,
              "#ed7953"
             ],
             [
              0.7777777777777778,
              "#fb9f3a"
             ],
             [
              0.8888888888888888,
              "#fdca26"
             ],
             [
              1,
              "#f0f921"
             ]
            ],
            "type": "histogram2d"
           }
          ],
          "histogram2dcontour": [
           {
            "colorbar": {
             "outlinewidth": 0,
             "ticks": ""
            },
            "colorscale": [
             [
              0,
              "#0d0887"
             ],
             [
              0.1111111111111111,
              "#46039f"
             ],
             [
              0.2222222222222222,
              "#7201a8"
             ],
             [
              0.3333333333333333,
              "#9c179e"
             ],
             [
              0.4444444444444444,
              "#bd3786"
             ],
             [
              0.5555555555555556,
              "#d8576b"
             ],
             [
              0.6666666666666666,
              "#ed7953"
             ],
             [
              0.7777777777777778,
              "#fb9f3a"
             ],
             [
              0.8888888888888888,
              "#fdca26"
             ],
             [
              1,
              "#f0f921"
             ]
            ],
            "type": "histogram2dcontour"
           }
          ],
          "mesh3d": [
           {
            "colorbar": {
             "outlinewidth": 0,
             "ticks": ""
            },
            "type": "mesh3d"
           }
          ],
          "parcoords": [
           {
            "line": {
             "colorbar": {
              "outlinewidth": 0,
              "ticks": ""
             }
            },
            "type": "parcoords"
           }
          ],
          "pie": [
           {
            "automargin": true,
            "type": "pie"
           }
          ],
          "scatter": [
           {
            "fillpattern": {
             "fillmode": "overlay",
             "size": 10,
             "solidity": 0.2
            },
            "type": "scatter"
           }
          ],
          "scatter3d": [
           {
            "line": {
             "colorbar": {
              "outlinewidth": 0,
              "ticks": ""
             }
            },
            "marker": {
             "colorbar": {
              "outlinewidth": 0,
              "ticks": ""
             }
            },
            "type": "scatter3d"
           }
          ],
          "scattercarpet": [
           {
            "marker": {
             "colorbar": {
              "outlinewidth": 0,
              "ticks": ""
             }
            },
            "type": "scattercarpet"
           }
          ],
          "scattergeo": [
           {
            "marker": {
             "colorbar": {
              "outlinewidth": 0,
              "ticks": ""
             }
            },
            "type": "scattergeo"
           }
          ],
          "scattergl": [
           {
            "marker": {
             "colorbar": {
              "outlinewidth": 0,
              "ticks": ""
             }
            },
            "type": "scattergl"
           }
          ],
          "scattermap": [
           {
            "marker": {
             "colorbar": {
              "outlinewidth": 0,
              "ticks": ""
             }
            },
            "type": "scattermap"
           }
          ],
          "scattermapbox": [
           {
            "marker": {
             "colorbar": {
              "outlinewidth": 0,
              "ticks": ""
             }
            },
            "type": "scattermapbox"
           }
          ],
          "scatterpolar": [
           {
            "marker": {
             "colorbar": {
              "outlinewidth": 0,
              "ticks": ""
             }
            },
            "type": "scatterpolar"
           }
          ],
          "scatterpolargl": [
           {
            "marker": {
             "colorbar": {
              "outlinewidth": 0,
              "ticks": ""
             }
            },
            "type": "scatterpolargl"
           }
          ],
          "scatterternary": [
           {
            "marker": {
             "colorbar": {
              "outlinewidth": 0,
              "ticks": ""
             }
            },
            "type": "scatterternary"
           }
          ],
          "surface": [
           {
            "colorbar": {
             "outlinewidth": 0,
             "ticks": ""
            },
            "colorscale": [
             [
              0,
              "#0d0887"
             ],
             [
              0.1111111111111111,
              "#46039f"
             ],
             [
              0.2222222222222222,
              "#7201a8"
             ],
             [
              0.3333333333333333,
              "#9c179e"
             ],
             [
              0.4444444444444444,
              "#bd3786"
             ],
             [
              0.5555555555555556,
              "#d8576b"
             ],
             [
              0.6666666666666666,
              "#ed7953"
             ],
             [
              0.7777777777777778,
              "#fb9f3a"
             ],
             [
              0.8888888888888888,
              "#fdca26"
             ],
             [
              1,
              "#f0f921"
             ]
            ],
            "type": "surface"
           }
          ],
          "table": [
           {
            "cells": {
             "fill": {
              "color": "#EBF0F8"
             },
             "line": {
              "color": "white"
             }
            },
            "header": {
             "fill": {
              "color": "#C8D4E3"
             },
             "line": {
              "color": "white"
             }
            },
            "type": "table"
           }
          ]
         },
         "layout": {
          "annotationdefaults": {
           "arrowcolor": "#2a3f5f",
           "arrowhead": 0,
           "arrowwidth": 1
          },
          "autotypenumbers": "strict",
          "coloraxis": {
           "colorbar": {
            "outlinewidth": 0,
            "ticks": ""
           }
          },
          "colorscale": {
           "diverging": [
            [
             0,
             "#8e0152"
            ],
            [
             0.1,
             "#c51b7d"
            ],
            [
             0.2,
             "#de77ae"
            ],
            [
             0.3,
             "#f1b6da"
            ],
            [
             0.4,
             "#fde0ef"
            ],
            [
             0.5,
             "#f7f7f7"
            ],
            [
             0.6,
             "#e6f5d0"
            ],
            [
             0.7,
             "#b8e186"
            ],
            [
             0.8,
             "#7fbc41"
            ],
            [
             0.9,
             "#4d9221"
            ],
            [
             1,
             "#276419"
            ]
           ],
           "sequential": [
            [
             0,
             "#0d0887"
            ],
            [
             0.1111111111111111,
             "#46039f"
            ],
            [
             0.2222222222222222,
             "#7201a8"
            ],
            [
             0.3333333333333333,
             "#9c179e"
            ],
            [
             0.4444444444444444,
             "#bd3786"
            ],
            [
             0.5555555555555556,
             "#d8576b"
            ],
            [
             0.6666666666666666,
             "#ed7953"
            ],
            [
             0.7777777777777778,
             "#fb9f3a"
            ],
            [
             0.8888888888888888,
             "#fdca26"
            ],
            [
             1,
             "#f0f921"
            ]
           ],
           "sequentialminus": [
            [
             0,
             "#0d0887"
            ],
            [
             0.1111111111111111,
             "#46039f"
            ],
            [
             0.2222222222222222,
             "#7201a8"
            ],
            [
             0.3333333333333333,
             "#9c179e"
            ],
            [
             0.4444444444444444,
             "#bd3786"
            ],
            [
             0.5555555555555556,
             "#d8576b"
            ],
            [
             0.6666666666666666,
             "#ed7953"
            ],
            [
             0.7777777777777778,
             "#fb9f3a"
            ],
            [
             0.8888888888888888,
             "#fdca26"
            ],
            [
             1,
             "#f0f921"
            ]
           ]
          },
          "colorway": [
           "#636efa",
           "#EF553B",
           "#00cc96",
           "#ab63fa",
           "#FFA15A",
           "#19d3f3",
           "#FF6692",
           "#B6E880",
           "#FF97FF",
           "#FECB52"
          ],
          "font": {
           "color": "#2a3f5f"
          },
          "geo": {
           "bgcolor": "white",
           "lakecolor": "white",
           "landcolor": "#E5ECF6",
           "showlakes": true,
           "showland": true,
           "subunitcolor": "white"
          },
          "hoverlabel": {
           "align": "left"
          },
          "hovermode": "closest",
          "mapbox": {
           "style": "light"
          },
          "paper_bgcolor": "white",
          "plot_bgcolor": "#E5ECF6",
          "polar": {
           "angularaxis": {
            "gridcolor": "white",
            "linecolor": "white",
            "ticks": ""
           },
           "bgcolor": "#E5ECF6",
           "radialaxis": {
            "gridcolor": "white",
            "linecolor": "white",
            "ticks": ""
           }
          },
          "scene": {
           "xaxis": {
            "backgroundcolor": "#E5ECF6",
            "gridcolor": "white",
            "gridwidth": 2,
            "linecolor": "white",
            "showbackground": true,
            "ticks": "",
            "zerolinecolor": "white"
           },
           "yaxis": {
            "backgroundcolor": "#E5ECF6",
            "gridcolor": "white",
            "gridwidth": 2,
            "linecolor": "white",
            "showbackground": true,
            "ticks": "",
            "zerolinecolor": "white"
           },
           "zaxis": {
            "backgroundcolor": "#E5ECF6",
            "gridcolor": "white",
            "gridwidth": 2,
            "linecolor": "white",
            "showbackground": true,
            "ticks": "",
            "zerolinecolor": "white"
           }
          },
          "shapedefaults": {
           "line": {
            "color": "#2a3f5f"
           }
          },
          "ternary": {
           "aaxis": {
            "gridcolor": "white",
            "linecolor": "white",
            "ticks": ""
           },
           "baxis": {
            "gridcolor": "white",
            "linecolor": "white",
            "ticks": ""
           },
           "bgcolor": "#E5ECF6",
           "caxis": {
            "gridcolor": "white",
            "linecolor": "white",
            "ticks": ""
           }
          },
          "title": {
           "x": 0.05
          },
          "xaxis": {
           "automargin": true,
           "gridcolor": "white",
           "linecolor": "white",
           "ticks": "",
           "title": {
            "standoff": 15
           },
           "zerolinecolor": "white",
           "zerolinewidth": 2
          },
          "yaxis": {
           "automargin": true,
           "gridcolor": "white",
           "linecolor": "white",
           "ticks": "",
           "title": {
            "standoff": 15
           },
           "zerolinecolor": "white",
           "zerolinewidth": 2
          }
         }
        },
        "title": {
         "text": "Win/Draw/Loss Percentage by Team - All Seasons"
        },
        "updatemenus": [
         {
          "buttons": [
           {
            "args": [
             {
              "x": [
               [
                19.11764705882353,
                19.444444444444446,
                20.634920634920633,
                24.324324324324326,
                24.550898203592812,
                25.396825396825395,
                27.167630057803464,
                29.00763358778626,
                29.00763358778626,
                31.645569620253166,
                32.432432432432435,
                32.7683615819209,
                34.659090909090914,
                35.22727272727273,
                40.46242774566474,
                40.67796610169492,
                46.590909090909086,
                48.58757062146893,
                49.152542372881356,
                50,
                51.9774011299435,
                59.887005649717516,
                64.91228070175438
               ],
               [
                13.23529411764706,
                25,
                19.047619047619047,
                13.513513513513514,
                22.75449101796407,
                30.158730158730158,
                21.38728323699422,
                19.083969465648856,
                20.610687022900763,
                27.848101265822784,
                29.72972972972973,
                25.98870056497175,
                19.886363636363637,
                28.97727272727273,
                24.277456647398843,
                20.903954802259886,
                30.113636363636363,
                21.468926553672315,
                23.728813559322035,
                33.33333333333333,
                20.903954802259886,
                24.858757062146893,
                20.175438596491226
               ],
               [
                67.64705882352942,
                55.55555555555556,
                60.317460317460316,
                62.16216216216216,
                52.69461077844312,
                44.44444444444444,
                51.445086705202314,
                51.908396946564885,
                50.38167938931297,
                40.50632911392405,
                37.83783783783784,
                41.24293785310734,
                45.45454545454545,
                35.79545454545455,
                35.26011560693642,
                38.4180790960452,
                23.295454545454543,
                29.943502824858758,
                27.11864406779661,
                16.666666666666664,
                27.11864406779661,
                15.254237288135593,
                14.912280701754385
               ]
              ],
              "y": [
               [
                "Seraing",
                "RWD Molenbeek",
                "Waasland-Beveren",
                "Beerschot VA",
                "Eupen",
                "Mouscron",
                "Kortrijk",
                "Oostende",
                "Waregem",
                "Westerlo",
                "Oud-Heverlee Leuven",
                "St Truiden",
                "Cercle Brugge",
                "Standard",
                "Charleroi",
                "Mechelen",
                "Anderlecht",
                "Genk",
                "Gent",
                "Dender",
                "Antwerp",
                "Club Brugge",
                "St. Gilloise"
               ],
               [
                "Seraing",
                "RWD Molenbeek",
                "Waasland-Beveren",
                "Beerschot VA",
                "Eupen",
                "Mouscron",
                "Kortrijk",
                "Oostende",
                "Waregem",
                "Westerlo",
                "Oud-Heverlee Leuven",
                "St Truiden",
                "Cercle Brugge",
                "Standard",
                "Charleroi",
                "Mechelen",
                "Anderlecht",
                "Genk",
                "Gent",
                "Dender",
                "Antwerp",
                "Club Brugge",
                "St. Gilloise"
               ],
               [
                "Seraing",
                "RWD Molenbeek",
                "Waasland-Beveren",
                "Beerschot VA",
                "Eupen",
                "Mouscron",
                "Kortrijk",
                "Oostende",
                "Waregem",
                "Westerlo",
                "Oud-Heverlee Leuven",
                "St Truiden",
                "Cercle Brugge",
                "Standard",
                "Charleroi",
                "Mechelen",
                "Anderlecht",
                "Genk",
                "Gent",
                "Dender",
                "Antwerp",
                "Club Brugge",
                "St. Gilloise"
               ]
              ]
             }
            ],
            "args2": [
             {
              "title": "Win/Draw/Loss Percentage by Team - All Seasons"
             }
            ],
            "label": "All Seasons",
            "method": "restyle"
           },
           {
            "args": [
             {
              "x": [
               [
                14.285714285714285,
                19.047619047619047,
                23.809523809523807,
                23.809523809523807,
                28.57142857142857,
                28.57142857142857,
                28.57142857142857,
                28.57142857142857,
                42.857142857142854,
                42.857142857142854,
                47.61904761904761,
                47.61904761904761,
                52.38095238095239,
                52.38095238095239,
                55.00000000000001,
                75
               ],
               [
                9.523809523809524,
                23.809523809523807,
                19.047619047619047,
                14.285714285714285,
                42.857142857142854,
                42.857142857142854,
                23.809523809523807,
                19.047619047619047,
                19.047619047619047,
                19.047619047619047,
                19.047619047619047,
                23.809523809523807,
                28.57142857142857,
                28.57142857142857,
                30,
                20
               ],
               [
                76.19047619047619,
                57.14285714285714,
                57.14285714285714,
                61.904761904761905,
                28.57142857142857,
                28.57142857142857,
                47.61904761904761,
                52.38095238095239,
                38.095238095238095,
                38.095238095238095,
                33.33333333333333,
                28.57142857142857,
                19.047619047619047,
                19.047619047619047,
                15,
                5
               ]
              ],
              "y": [
               [
                "Cercle Brugge",
                "Waasland-Beveren",
                "Eupen",
                "Oostende",
                "Anderlecht",
                "Mouscron",
                "St Truiden",
                "Kortrijk",
                "Genk",
                "Waregem",
                "Mechelen",
                "Standard",
                "Gent",
                "Antwerp",
                "Charleroi",
                "Club Brugge"
               ],
               [
                "Cercle Brugge",
                "Waasland-Beveren",
                "Eupen",
                "Oostende",
                "Anderlecht",
                "Mouscron",
                "St Truiden",
                "Kortrijk",
                "Genk",
                "Waregem",
                "Mechelen",
                "Standard",
                "Gent",
                "Antwerp",
                "Charleroi",
                "Club Brugge"
               ],
               [
                "Cercle Brugge",
                "Waasland-Beveren",
                "Eupen",
                "Oostende",
                "Anderlecht",
                "Mouscron",
                "St Truiden",
                "Kortrijk",
                "Genk",
                "Waregem",
                "Mechelen",
                "Standard",
                "Gent",
                "Antwerp",
                "Charleroi",
                "Club Brugge"
               ]
              ]
             }
            ],
            "args2": [
             {
              "title": "Win/Draw/Loss Percentage by Team - 2019/20"
             }
            ],
            "label": "2019/20",
            "method": "restyle"
           },
           {
            "args": [
             {
              "x": [
               [
                22.22222222222222,
                25.925925925925924,
                28.000000000000004,
                29.629629629629626,
                29.629629629629626,
                29.629629629629626,
                30.76923076923077,
                37.03703703703704,
                37.03703703703704,
                38.46153846153847,
                42.10526315789473,
                48.148148148148145,
                48.148148148148145,
                48.148148148148145,
                50,
                50,
                53.84615384615385,
                64.28571428571429
               ],
               [
                14.814814814814813,
                18.51851851851852,
                40,
                22.22222222222222,
                18.51851851851852,
                22.22222222222222,
                19.230769230769234,
                33.33333333333333,
                25.925925925925924,
                0,
                26.31578947368421,
                22.22222222222222,
                7.4074074074074066,
                33.33333333333333,
                21.428571428571427,
                5.555555555555555,
                23.076923076923077,
                21.428571428571427
               ],
               [
                62.96296296296296,
                55.55555555555556,
                32,
                48.148148148148145,
                51.85185185185185,
                48.148148148148145,
                50,
                29.629629629629626,
                37.03703703703704,
                61.53846153846154,
                31.57894736842105,
                29.629629629629626,
                44.44444444444444,
                18.51851851851852,
                28.57142857142857,
                44.44444444444444,
                23.076923076923077,
                14.285714285714285
               ]
              ],
              "y": [
               [
                "Waasland-Beveren",
                "Mouscron",
                "Eupen",
                "St Truiden",
                "Waregem",
                "Mechelen",
                "Oostende",
                "Standard",
                "Kortrijk",
                "Cercle Brugge",
                "Oud-Heverlee Leuven",
                "Antwerp",
                "Gent",
                "Anderlecht",
                "Charleroi",
                "Beerschot VA",
                "Genk",
                "Club Brugge"
               ],
               [
                "Waasland-Beveren",
                "Mouscron",
                "Eupen",
                "St Truiden",
                "Waregem",
                "Mechelen",
                "Oostende",
                "Standard",
                "Kortrijk",
                "Cercle Brugge",
                "Oud-Heverlee Leuven",
                "Antwerp",
                "Gent",
                "Anderlecht",
                "Charleroi",
                "Beerschot VA",
                "Genk",
                "Club Brugge"
               ],
               [
                "Waasland-Beveren",
                "Mouscron",
                "Eupen",
                "St Truiden",
                "Waregem",
                "Mechelen",
                "Oostende",
                "Standard",
                "Kortrijk",
                "Cercle Brugge",
                "Oud-Heverlee Leuven",
                "Antwerp",
                "Gent",
                "Anderlecht",
                "Charleroi",
                "Beerschot VA",
                "Genk",
                "Club Brugge"
               ]
              ]
             }
            ],
            "args2": [
             {
              "title": "Win/Draw/Loss Percentage by Team - 2020/21"
             }
            ],
            "label": "2020/21",
            "method": "restyle"
           },
           {
            "args": [
             {
              "x": [
               [
                19.444444444444446,
                20,
                20,
                27.77777777777778,
                28.57142857142857,
                30.555555555555557,
                32.432432432432435,
                33.33333333333333,
                34.21052631578947,
                34.285714285714285,
                36.11111111111111,
                37.142857142857146,
                37.83783783783784,
                40.54054054054054,
                44.44444444444444,
                47.22222222222222,
                50,
                57.14285714285714,
                63.888888888888886,
                71.42857142857143
               ],
               [
                19.444444444444446,
                20,
                33.33333333333333,
                33.33333333333333,
                4.761904761904762,
                30.555555555555557,
                18.91891891891892,
                16.666666666666664,
                23.684210526315788,
                22.857142857142858,
                16.666666666666664,
                25.71428571428571,
                21.62162162162162,
                16.216216216216218,
                27.77777777777778,
                36.11111111111111,
                19.444444444444446,
                17.142857142857142,
                22.22222222222222,
                9.523809523809524
               ],
               [
                61.111111111111114,
                60,
                46.666666666666664,
                38.88888888888889,
                66.66666666666666,
                38.88888888888889,
                48.64864864864865,
                50,
                42.10526315789473,
                42.857142857142854,
                47.22222222222222,
                37.142857142857146,
                40.54054054054054,
                43.24324324324324,
                27.77777777777778,
                16.666666666666664,
                30.555555555555557,
                25.71428571428571,
                13.88888888888889,
                19.047619047619047
               ]
              ],
              "y": [
               [
                "Beerschot VA",
                "Waasland-Beveren",
                "Mouscron",
                "Oud-Heverlee Leuven",
                "Seraing",
                "Charleroi",
                "Cercle Brugge",
                "St Truiden",
                "Eupen",
                "Kortrijk",
                "Waregem",
                "Standard",
                "Genk",
                "Oostende",
                "Gent",
                "Anderlecht",
                "Mechelen",
                "Antwerp",
                "Club Brugge",
                "St. Gilloise"
               ],
               [
                "Beerschot VA",
                "Waasland-Beveren",
                "Mouscron",
                "Oud-Heverlee Leuven",
                "Seraing",
                "Charleroi",
                "Cercle Brugge",
                "St Truiden",
                "Eupen",
                "Kortrijk",
                "Waregem",
                "Standard",
                "Genk",
                "Oostende",
                "Gent",
                "Anderlecht",
                "Mechelen",
                "Antwerp",
                "Club Brugge",
                "St. Gilloise"
               ],
               [
                "Beerschot VA",
                "Waasland-Beveren",
                "Mouscron",
                "Oud-Heverlee Leuven",
                "Seraing",
                "Charleroi",
                "Cercle Brugge",
                "St Truiden",
                "Eupen",
                "Kortrijk",
                "Waregem",
                "Standard",
                "Genk",
                "Oostende",
                "Gent",
                "Anderlecht",
                "Mechelen",
                "Antwerp",
                "Club Brugge",
                "St. Gilloise"
               ]
              ]
             }
            ],
            "args2": [
             {
              "title": "Win/Draw/Loss Percentage by Team - 2021/22"
             }
            ],
            "label": "2021/22",
            "method": "restyle"
           },
           {
            "args": [
             {
              "x": [
               [
                14.285714285714285,
                15.625,
                16.129032258064516,
                16.129032258064516,
                22.58064516129032,
                25.806451612903224,
                35.483870967741936,
                35.483870967741936,
                35.483870967741936,
                37.5,
                38.70967741935484,
                44.44444444444444,
                48.38709677419355,
                48.38709677419355,
                54.83870967741935,
                59.375,
                64.51612903225806,
                67.74193548387096,
                70.96774193548387
               ],
               [
                7.142857142857142,
                18.75,
                22.58064516129032,
                16.129032258064516,
                16.129032258064516,
                22.58064516129032,
                25.806451612903224,
                16.129032258064516,
                25.806451612903224,
                18.75,
                32.25806451612903,
                16.666666666666664,
                25.806451612903224,
                12.903225806451612,
                25.806451612903224,
                15.625,
                19.35483870967742,
                19.35483870967742,
                6.451612903225806
               ],
               [
                78.57142857142857,
                65.625,
                61.29032258064516,
                67.74193548387096,
                61.29032258064516,
                51.61290322580645,
                38.70967741935484,
                48.38709677419355,
                38.70967741935484,
                43.75,
                29.03225806451613,
                38.88888888888889,
                25.806451612903224,
                38.70967741935484,
                19.35483870967742,
                25,
                16.129032258064516,
                12.903225806451612,
                22.58064516129032
               ]
              ],
              "y": [
               [
                "Beerschot VA",
                "Kortrijk",
                "Waregem",
                "Seraing",
                "Eupen",
                "Oostende",
                "Oud-Heverlee Leuven",
                "Charleroi",
                "Mechelen",
                "Standard",
                "Cercle Brugge",
                "Westerlo",
                "St Truiden",
                "Anderlecht",
                "Gent",
                "Antwerp",
                "Club Brugge",
                "St. Gilloise",
                "Genk"
               ],
               [
                "Beerschot VA",
                "Kortrijk",
                "Waregem",
                "Seraing",
                "Eupen",
                "Oostende",
                "Oud-Heverlee Leuven",
                "Charleroi",
                "Mechelen",
                "Standard",
                "Cercle Brugge",
                "Westerlo",
                "St Truiden",
                "Anderlecht",
                "Gent",
                "Antwerp",
                "Club Brugge",
                "St. Gilloise",
                "Genk"
               ],
               [
                "Beerschot VA",
                "Kortrijk",
                "Waregem",
                "Seraing",
                "Eupen",
                "Oostende",
                "Oud-Heverlee Leuven",
                "Charleroi",
                "Mechelen",
                "Standard",
                "Cercle Brugge",
                "Westerlo",
                "St Truiden",
                "Anderlecht",
                "Gent",
                "Antwerp",
                "Club Brugge",
                "St. Gilloise",
                "Genk"
               ]
              ]
             }
            ],
            "args2": [
             {
              "title": "Win/Draw/Loss Percentage by Team - 2022/23"
             }
            ],
            "label": "2022/23",
            "method": "restyle"
           },
           {
            "args": [
             {
              "x": [
               [
                12.5,
                12.5,
                13.88888888888889,
                16.666666666666664,
                18.75,
                25,
                27.77777777777778,
                27.77777777777778,
                30.555555555555557,
                30.555555555555557,
                33.33333333333333,
                36.11111111111111,
                41.66666666666667,
                44.44444444444444,
                47.22222222222222,
                47.22222222222222,
                50,
                52.77777777777778,
                72.22222222222221
               ],
               [
                25,
                18.75,
                25,
                22.22222222222222,
                31.25,
                30,
                22.22222222222222,
                36.11111111111111,
                33.33333333333333,
                19.444444444444446,
                36.11111111111111,
                30.555555555555557,
                38.88888888888889,
                19.444444444444446,
                33.33333333333333,
                33.33333333333333,
                30.555555555555557,
                30.555555555555557,
                16.666666666666664
               ],
               [
                62.5,
                68.75,
                61.111111111111114,
                61.111111111111114,
                50,
                45,
                50,
                36.11111111111111,
                36.11111111111111,
                50,
                30.555555555555557,
                33.33333333333333,
                19.444444444444446,
                36.11111111111111,
                19.444444444444446,
                19.444444444444446,
                19.444444444444446,
                16.666666666666664,
                11.11111111111111
               ]
              ],
              "y": [
               [
                "Oostende",
                "Seraing",
                "Eupen",
                "Kortrijk",
                "Waregem",
                "RWD Molenbeek",
                "Oud-Heverlee Leuven",
                "St Truiden",
                "Westerlo",
                "Mechelen",
                "Standard",
                "Charleroi",
                "Club Brugge",
                "Cercle Brugge",
                "Gent",
                "Genk",
                "Anderlecht",
                "Antwerp",
                "St. Gilloise"
               ],
               [
                "Oostende",
                "Seraing",
                "Eupen",
                "Kortrijk",
                "Waregem",
                "RWD Molenbeek",
                "Oud-Heverlee Leuven",
                "St Truiden",
                "Westerlo",
                "Mechelen",
                "Standard",
                "Charleroi",
                "Club Brugge",
                "Cercle Brugge",
                "Gent",
                "Genk",
                "Anderlecht",
                "Antwerp",
                "St. Gilloise"
               ],
               [
                "Oostende",
                "Seraing",
                "Eupen",
                "Kortrijk",
                "Waregem",
                "RWD Molenbeek",
                "Oud-Heverlee Leuven",
                "St Truiden",
                "Westerlo",
                "Mechelen",
                "Standard",
                "Charleroi",
                "Club Brugge",
                "Cercle Brugge",
                "Gent",
                "Genk",
                "Anderlecht",
                "Antwerp",
                "St. Gilloise"
               ]
              ]
             }
            ],
            "args2": [
             {
              "title": "Win/Draw/Loss Percentage by Team - 2023/24"
             }
            ],
            "label": "2023/24",
            "method": "restyle"
           },
           {
            "args": [
             {
              "x": [
               [
                0,
                12.5,
                20,
                24,
                25,
                26.923076923076923,
                32,
                34.61538461538461,
                36.36363636363637,
                38.46153846153847,
                38.46153846153847,
                45.45454545454545,
                46.15384615384615,
                50,
                50,
                52,
                53.84615384615385,
                57.692307692307686
               ],
               [
                16.666666666666664,
                18.75,
                36,
                28.000000000000004,
                6.25,
                30.76923076923077,
                36,
                42.30769230769231,
                18.181818181818183,
                11.538461538461538,
                23.076923076923077,
                13.636363636363635,
                34.61538461538461,
                15.384615384615385,
                33.33333333333333,
                28.000000000000004,
                19.230769230769234,
                23.076923076923077
               ],
               [
                83.33333333333334,
                68.75,
                44,
                48,
                68.75,
                42.30769230769231,
                32,
                23.076923076923077,
                45.45454545454545,
                50,
                38.46153846153847,
                40.909090909090914,
                19.230769230769234,
                34.61538461538461,
                16.666666666666664,
                20,
                26.923076923076923,
                19.230769230769234
               ]
              ],
              "y": [
               [
                "Beerschot VA",
                "RWD Molenbeek",
                "Standard",
                "Westerlo",
                "Eupen",
                "St Truiden",
                "Cercle Brugge",
                "Oud-Heverlee Leuven",
                "Kortrijk",
                "Antwerp",
                "Genk",
                "Charleroi",
                "St. Gilloise",
                "Gent",
                "Dender",
                "Anderlecht",
                "Mechelen",
                "Club Brugge"
               ],
               [
                "Beerschot VA",
                "RWD Molenbeek",
                "Standard",
                "Westerlo",
                "Eupen",
                "St Truiden",
                "Cercle Brugge",
                "Oud-Heverlee Leuven",
                "Kortrijk",
                "Antwerp",
                "Genk",
                "Charleroi",
                "St. Gilloise",
                "Gent",
                "Dender",
                "Anderlecht",
                "Mechelen",
                "Club Brugge"
               ],
               [
                "Beerschot VA",
                "RWD Molenbeek",
                "Standard",
                "Westerlo",
                "Eupen",
                "St Truiden",
                "Cercle Brugge",
                "Oud-Heverlee Leuven",
                "Kortrijk",
                "Antwerp",
                "Genk",
                "Charleroi",
                "St. Gilloise",
                "Gent",
                "Dender",
                "Anderlecht",
                "Mechelen",
                "Club Brugge"
               ]
              ]
             }
            ],
            "args2": [
             {
              "title": "Win/Draw/Loss Percentage by Team - 2024/25"
             }
            ],
            "label": "2024/25",
            "method": "restyle"
           }
          ],
          "direction": "down",
          "showactive": true,
          "type": "dropdown",
          "x": 0.1,
          "xanchor": "left",
          "y": 1.15,
          "yanchor": "top"
         }
        ],
        "xaxis": {
         "anchor": "y",
         "domain": [
          0,
          1
         ],
         "range": [
          0,
          100
         ],
         "title": {
          "text": "Percentage (%)"
         }
        },
        "yaxis": {
         "anchor": "x",
         "domain": [
          0,
          1
         ],
         "title": {
          "text": "Teams"
         }
        }
       }
      }
     },
     "metadata": {},
     "output_type": "display_data"
    }
   ],
   "source": [
    "# Extract season information from dates\n",
    "df['Season'] = df['Date'].dt.year.astype(str) + '/' + (df['Date'].dt.year + 1).astype(str).str[-2:]\n",
    "\n",
    "# Get unique seasons for dropdown options\n",
    "seasons = ['All Seasons'] + sorted(df['Season'].unique().tolist())\n",
    "\n",
    "# Calculate win/loss/draw statistics as percentages with season filter\n",
    "def calculate_team_stats_by_season(selected_season):\n",
    "    if selected_season == 'All Seasons':\n",
    "        filtered_df = df\n",
    "    else:\n",
    "        filtered_df = df[df['Season'] == selected_season]\n",
    "    \n",
    "    team_stats_pct = []\n",
    "    all_teams = set(filtered_df['HomeTeam'].unique()) | set(filtered_df['AwayTeam'].unique())\n",
    "    \n",
    "    for team in all_teams:\n",
    "        # Home matches\n",
    "        home_matches = filtered_df[filtered_df['HomeTeam'] == team]\n",
    "        home_wins = len(home_matches[home_matches['FTR'] == 'H'])\n",
    "        home_draws = len(home_matches[home_matches['FTR'] == 'D'])\n",
    "        home_losses = len(home_matches[home_matches['FTR'] == 'A'])\n",
    "        \n",
    "        # Away matches\n",
    "        away_matches = filtered_df[filtered_df['AwayTeam'] == team]\n",
    "        away_wins = len(away_matches[away_matches['FTR'] == 'A'])\n",
    "        away_draws = len(away_matches[away_matches['FTR'] == 'D'])\n",
    "        away_losses = len(away_matches[away_matches['FTR'] == 'H'])\n",
    "        \n",
    "        # Total stats\n",
    "        total_wins = home_wins + away_wins\n",
    "        total_draws = home_draws + away_draws\n",
    "        total_losses = home_losses + away_losses\n",
    "        total_matches = total_wins + total_draws + total_losses\n",
    "        \n",
    "        if total_matches > 0:  # Only include teams with matches in the season\n",
    "            # Calculate percentages\n",
    "            win_pct = (total_wins / total_matches * 100)\n",
    "            draw_pct = (total_draws / total_matches * 100)\n",
    "            loss_pct = (total_losses / total_matches * 100)\n",
    "            \n",
    "            team_stats_pct.append({\n",
    "                'Team': team,\n",
    "                'Win_Pct': win_pct,\n",
    "                'Draw_Pct': draw_pct,\n",
    "                'Loss_Pct': loss_pct,\n",
    "                'Total': total_matches\n",
    "            })\n",
    "    \n",
    "    return pd.DataFrame(team_stats_pct).sort_values('Win_Pct', ascending=True)\n",
    "\n",
    "# Create initial data for all seasons\n",
    "initial_stats = calculate_team_stats_by_season('All Seasons')\n",
    "\n",
    "# Create the figure with initial data\n",
    "fig_pct = px.bar(\n",
    "    initial_stats,\n",
    "    x=['Win_Pct', 'Draw_Pct', 'Loss_Pct'],\n",
    "    y='Team',\n",
    "    orientation='h',\n",
    "    title='Win/Draw/Loss Percentage by Team - All Seasons',\n",
    "    color_discrete_map={\n",
    "        'Win_Pct': '#2E8B57',     # Sea Green\n",
    "        'Draw_Pct': '#FFD700',    # Gold\n",
    "        'Loss_Pct': '#DC143C'     # Crimson\n",
    "    },\n",
    "    labels={'value': 'Percentage (%)', 'variable': 'Result'}\n",
    ")\n",
    "\n",
    "# Add dropdown menu for season selection\n",
    "buttons = []\n",
    "for season in seasons:\n",
    "    season_stats = calculate_team_stats_by_season(season)\n",
    "    \n",
    "    # Create button for each season\n",
    "    button = dict(\n",
    "        label=season,\n",
    "        method='restyle',\n",
    "        args=[{\n",
    "            'x': [season_stats['Win_Pct'].tolist(), \n",
    "                  season_stats['Draw_Pct'].tolist(), \n",
    "                  season_stats['Loss_Pct'].tolist()],\n",
    "            'y': [season_stats['Team'].tolist()] * 3\n",
    "        }],\n",
    "        args2=[{\n",
    "            'title': f'Win/Draw/Loss Percentage by Team - {season}'\n",
    "        }]\n",
    "    )\n",
    "    buttons.append(button)\n",
    "\n",
    "# Add the dropdown to the layout\n",
    "fig_pct.update_layout(\n",
    "    height=600,\n",
    "    xaxis_title='Percentage (%)',\n",
    "    yaxis_title='Teams',\n",
    "    legend_title='Match Result',\n",
    "    xaxis=dict(range=[0, 100]),  # Set x-axis range to 0-100%\n",
    "    updatemenus=[\n",
    "        dict(\n",
    "            type='dropdown',\n",
    "            direction='down',\n",
    "            buttons=buttons,\n",
    "            showactive=True,\n",
    "            x=0.1,\n",
    "            xanchor=\"left\",\n",
    "            y=1.15,\n",
    "            yanchor=\"top\"\n",
    "        )\n",
    "    ]\n",
    ")\n",
    "\n",
    "fig_pct.show()"
   ]
  },
  {
   "cell_type": "code",
   "execution_count": 20,
   "id": "9ca37192",
   "metadata": {},
   "outputs": [
    {
     "data": {
      "application/vnd.plotly.v1+json": {
       "config": {
        "plotlyServerURL": "https://plot.ly"
       },
       "data": [
        {
         "customdata": {
          "bdata": "AgEBAgECBAICAQUIAwcLAwMKAgIEEAkIEQYDBAgKBw8EAQUMBwoLCQEHAgECAgQBBAcFAQEMAwICBgIBAQUDAgMEBQECAgMBAQMCAQIBAQEBAQE=",
          "dtype": "i1",
          "shape": "83, 1"
         },
         "hovertemplate": "Match Result=D<br>Home Shots=%{x}<br>Home Goals=%{y}<br>Number of matches=%{customdata[0]}<extra></extra>",
         "legendgroup": "D",
         "marker": {
          "color": "#FFD700",
          "size": {
           "bdata": "AgEBAgECBAICAQUIAwcLAwMKAgIEEAkIEQYDBAgKBw8EAQUMBwoLCQEHAgECAgQBBAcFAQEMAwICBgIBAQUDAgMEBQECAgMBAQMCAQIBAQEBAQE=",
           "dtype": "i1"
          },
          "sizemode": "area",
          "sizeref": 0.075,
          "symbol": "circle"
         },
         "mode": "markers",
         "name": "D",
         "orientation": "v",
         "showlegend": true,
         "type": "scatter",
         "x": {
          "bdata": "AAAAAAAA8D8AAAAAAAAAQAAAAAAAAAhAAAAAAAAACEAAAAAAAAAIQAAAAAAAABBAAAAAAAAAEEAAAAAAAAAUQAAAAAAAABRAAAAAAAAAFEAAAAAAAAAYQAAAAAAAABhAAAAAAAAAGEAAAAAAAAAcQAAAAAAAABxAAAAAAAAAHEAAAAAAAAAgQAAAAAAAACBAAAAAAAAAIEAAAAAAAAAgQAAAAAAAACJAAAAAAAAAIkAAAAAAAAAiQAAAAAAAACRAAAAAAAAAJEAAAAAAAAAkQAAAAAAAACRAAAAAAAAAJkAAAAAAAAAmQAAAAAAAACZAAAAAAAAAKEAAAAAAAAAoQAAAAAAAAChAAAAAAAAAKEAAAAAAAAAqQAAAAAAAACpAAAAAAAAAKkAAAAAAAAAsQAAAAAAAACxAAAAAAAAALEAAAAAAAAAuQAAAAAAAAC5AAAAAAAAALkAAAAAAAAAuQAAAAAAAADBAAAAAAAAAMEAAAAAAAAAwQAAAAAAAADBAAAAAAAAAMUAAAAAAAAAxQAAAAAAAADFAAAAAAAAAMUAAAAAAAAAyQAAAAAAAADJAAAAAAAAAMkAAAAAAAAAyQAAAAAAAADNAAAAAAAAAM0AAAAAAAAAzQAAAAAAAADNAAAAAAAAAM0AAAAAAAAA0QAAAAAAAADRAAAAAAAAANEAAAAAAAAA1QAAAAAAAADVAAAAAAAAANUAAAAAAAAA2QAAAAAAAADZAAAAAAAAAN0AAAAAAAAA3QAAAAAAAADdAAAAAAAAAOEAAAAAAAAA4QAAAAAAAADlAAAAAAAAAOkAAAAAAAAA6QAAAAAAAADtAAAAAAAAAPEAAAAAAAAA8QAAAAAAAAD1AAAAAAAAAP0AAAAAAAABAQA==",
          "dtype": "f8"
         },
         "xaxis": "x",
         "y": {
          "bdata": "AAEAAQIAAQABAgABAgABAgABAgMAAQIAAQIDAAECAAECAwABAgABAgABAgMAAQIDAAECAwABAgMAAQIDBQECAwABAgACAAEFAQIBAAECAQIEAwE=",
          "dtype": "i1"
         },
         "yaxis": "y"
        },
        {
         "customdata": {
          "bdata": "AQIFAQkCAQoGDgYCDgoBEBACGBMDHgsIAhATCBMSBAEUCwINDAUIDgMBCgoCCAYDBQUBCAMCBAYCAgEEAwMEAQMCAQIBAQMC",
          "dtype": "i1",
          "shape": "72, 1"
         },
         "hovertemplate": "Match Result=A<br>Home Shots=%{x}<br>Home Goals=%{y}<br>Number of matches=%{customdata[0]}<extra></extra>",
         "legendgroup": "A",
         "marker": {
          "color": "#DC143C",
          "size": {
           "bdata": "AQIFAQkCAQoGDgYCDgoBEBACGBMDHgsIAhATCBMSBAEUCwINDAUIDgMBCgoCCAYDBQUBCAMCBAYCAgEEAwMEAQMCAQIBAQMC",
           "dtype": "i1"
          },
          "sizemode": "area",
          "sizeref": 0.075,
          "symbol": "circle"
         },
         "mode": "markers",
         "name": "A",
         "orientation": "v",
         "showlegend": true,
         "type": "scatter",
         "x": {
          "bdata": "AAAAAAAA8D8AAAAAAAAAQAAAAAAAAAhAAAAAAAAACEAAAAAAAAAQQAAAAAAAABBAAAAAAAAAEEAAAAAAAAAUQAAAAAAAABRAAAAAAAAAGEAAAAAAAAAYQAAAAAAAABhAAAAAAAAAHEAAAAAAAAAcQAAAAAAAABxAAAAAAAAAIEAAAAAAAAAgQAAAAAAAACBAAAAAAAAAIkAAAAAAAAAiQAAAAAAAACJAAAAAAAAAJEAAAAAAAAAkQAAAAAAAACRAAAAAAAAAJEAAAAAAAAAmQAAAAAAAACZAAAAAAAAAJkAAAAAAAAAoQAAAAAAAAChAAAAAAAAAKEAAAAAAAAAoQAAAAAAAACpAAAAAAAAAKkAAAAAAAAAqQAAAAAAAACxAAAAAAAAALEAAAAAAAAAsQAAAAAAAAC5AAAAAAAAALkAAAAAAAAAuQAAAAAAAAC5AAAAAAAAAMEAAAAAAAAAwQAAAAAAAADBAAAAAAAAAMUAAAAAAAAAxQAAAAAAAADFAAAAAAAAAMkAAAAAAAAAyQAAAAAAAADJAAAAAAAAAM0AAAAAAAAAzQAAAAAAAADNAAAAAAAAANEAAAAAAAAA0QAAAAAAAADRAAAAAAAAANUAAAAAAAAA1QAAAAAAAADVAAAAAAAAANkAAAAAAAAA2QAAAAAAAADdAAAAAAAAAN0AAAAAAAAA4QAAAAAAAADhAAAAAAAAAOEAAAAAAAAA5QAAAAAAAADlAAAAAAAAAOUAAAAAAAAA8QAAAAAAAAD1A",
          "dtype": "f8"
         },
         "xaxis": "x",
         "y": {
          "bdata": "AQAAAQABAgABAAECAAECAAECAAECAAECAwABAgABAgMAAQIAAQIAAQIDAAECAAECAAECAAECAAECAAECAAEBAgABAgABAwAA",
          "dtype": "i1"
         },
         "yaxis": "y"
        },
        {
         "customdata": {
          "bdata": "AQQCAQYGAwwIBAUMBAULCgUDDRUPBAwYDQQBAwEFGhQGBAcYDgQBCgwOBQQBCRMPBQECAQQJCQYCAgYPDggBBgYNAgMBBAYKCAECBQYHAQQJBgEBBgIDAQMBAgEBAQMDAgECAQIBAQMBAgEBAgEBAgEBAQE=",
          "dtype": "i1",
          "shape": "116, 1"
         },
         "hovertemplate": "Match Result=H<br>Home Shots=%{x}<br>Home Goals=%{y}<br>Number of matches=%{customdata[0]}<extra></extra>",
         "legendgroup": "H",
         "marker": {
          "color": "#2E8B57",
          "size": {
           "bdata": "AQQCAQYGAwwIBAUMBAULCgUDDRUPBAwYDQQBAwEFGhQGBAcYDgQBCgwOBQQBCRMPBQECAQQJCQYCAgYPDggBBgYNAgMBBAYKCAECBQYHAQQJBgEBBgIDAQMBAgEBAQMDAgECAQIBAQMBAgEBAgEBAgEBAQE=",
           "dtype": "i1"
          },
          "sizemode": "area",
          "sizeref": 0.075,
          "symbol": "circle"
         },
         "mode": "markers",
         "name": "H",
         "orientation": "v",
         "showlegend": true,
         "type": "scatter",
         "x": {
          "bdata": "AAAAAAAACEAAAAAAAAAUQAAAAAAAABRAAAAAAAAAFEAAAAAAAAAYQAAAAAAAABhAAAAAAAAAGEAAAAAAAAAcQAAAAAAAABxAAAAAAAAAHEAAAAAAAAAgQAAAAAAAACBAAAAAAAAAIEAAAAAAAAAgQAAAAAAAACJAAAAAAAAAIkAAAAAAAAAiQAAAAAAAACJAAAAAAAAAJEAAAAAAAAAkQAAAAAAAACRAAAAAAAAAJEAAAAAAAAAmQAAAAAAAACZAAAAAAAAAJkAAAAAAAAAmQAAAAAAAACZAAAAAAAAAJkAAAAAAAAAmQAAAAAAAAChAAAAAAAAAKEAAAAAAAAAoQAAAAAAAAChAAAAAAAAAKEAAAAAAAAAqQAAAAAAAACpAAAAAAAAAKkAAAAAAAAAqQAAAAAAAACpAAAAAAAAALEAAAAAAAAAsQAAAAAAAACxAAAAAAAAALEAAAAAAAAAsQAAAAAAAACxAAAAAAAAALkAAAAAAAAAuQAAAAAAAAC5AAAAAAAAALkAAAAAAAAAuQAAAAAAAAC5AAAAAAAAALkAAAAAAAAAwQAAAAAAAADBAAAAAAAAAMEAAAAAAAAAwQAAAAAAAADBAAAAAAAAAMEAAAAAAAAAxQAAAAAAAADFAAAAAAAAAMUAAAAAAAAAxQAAAAAAAADFAAAAAAAAAMkAAAAAAAAAyQAAAAAAAADJAAAAAAAAAMkAAAAAAAAAyQAAAAAAAADJAAAAAAAAAM0AAAAAAAAAzQAAAAAAAADNAAAAAAAAAM0AAAAAAAAAzQAAAAAAAADRAAAAAAAAANEAAAAAAAAA0QAAAAAAAADRAAAAAAAAANUAAAAAAAAA1QAAAAAAAADVAAAAAAAAANUAAAAAAAAA1QAAAAAAAADZAAAAAAAAANkAAAAAAAAA2QAAAAAAAADZAAAAAAAAANkAAAAAAAAA3QAAAAAAAADdAAAAAAAAAN0AAAAAAAAA3QAAAAAAAADdAAAAAAAAAOEAAAAAAAAA4QAAAAAAAADhAAAAAAAAAOEAAAAAAAAA4QAAAAAAAADlAAAAAAAAAOUAAAAAAAAA5QAAAAAAAADlAAAAAAAAAOUAAAAAAAAA6QAAAAAAAADpAAAAAAAAAOkAAAAAAAAA7QAAAAAAAADtAAAAAAAAAO0AAAAAAAAA8QAAAAAAAADxAAAAAAAAAPUAAAAAAAAA9QAAAAAAAAD5AAAAAAAAAP0AAAAAAAIBAQA==",
          "dtype": "f8"
         },
         "xaxis": "x",
         "y": {
          "bdata": "AgECAwECAwECAwECAwQBAgMEAQIDBAECAwQFBgcBAgMEBQECAwQFAQIDBAUGAQIDBAUGBwECAwQFBgECAwQFAQIDBAUGAQIDBAUBAgMEAQIDBAUBAgMEBQIDBAYHAQIDBAUCAwQFBgIEBQIDBAIDAgMCAwc=",
          "dtype": "i1"
         },
         "yaxis": "y"
        }
       ],
       "layout": {
        "height": 500,
        "legend": {
         "itemsizing": "constant",
         "title": {
          "text": "Match Result"
         },
         "tracegroupgap": 0
        },
        "showlegend": true,
        "template": {
         "data": {
          "bar": [
           {
            "error_x": {
             "color": "#2a3f5f"
            },
            "error_y": {
             "color": "#2a3f5f"
            },
            "marker": {
             "line": {
              "color": "#E5ECF6",
              "width": 0.5
             },
             "pattern": {
              "fillmode": "overlay",
              "size": 10,
              "solidity": 0.2
             }
            },
            "type": "bar"
           }
          ],
          "barpolar": [
           {
            "marker": {
             "line": {
              "color": "#E5ECF6",
              "width": 0.5
             },
             "pattern": {
              "fillmode": "overlay",
              "size": 10,
              "solidity": 0.2
             }
            },
            "type": "barpolar"
           }
          ],
          "carpet": [
           {
            "aaxis": {
             "endlinecolor": "#2a3f5f",
             "gridcolor": "white",
             "linecolor": "white",
             "minorgridcolor": "white",
             "startlinecolor": "#2a3f5f"
            },
            "baxis": {
             "endlinecolor": "#2a3f5f",
             "gridcolor": "white",
             "linecolor": "white",
             "minorgridcolor": "white",
             "startlinecolor": "#2a3f5f"
            },
            "type": "carpet"
           }
          ],
          "choropleth": [
           {
            "colorbar": {
             "outlinewidth": 0,
             "ticks": ""
            },
            "type": "choropleth"
           }
          ],
          "contour": [
           {
            "colorbar": {
             "outlinewidth": 0,
             "ticks": ""
            },
            "colorscale": [
             [
              0,
              "#0d0887"
             ],
             [
              0.1111111111111111,
              "#46039f"
             ],
             [
              0.2222222222222222,
              "#7201a8"
             ],
             [
              0.3333333333333333,
              "#9c179e"
             ],
             [
              0.4444444444444444,
              "#bd3786"
             ],
             [
              0.5555555555555556,
              "#d8576b"
             ],
             [
              0.6666666666666666,
              "#ed7953"
             ],
             [
              0.7777777777777778,
              "#fb9f3a"
             ],
             [
              0.8888888888888888,
              "#fdca26"
             ],
             [
              1,
              "#f0f921"
             ]
            ],
            "type": "contour"
           }
          ],
          "contourcarpet": [
           {
            "colorbar": {
             "outlinewidth": 0,
             "ticks": ""
            },
            "type": "contourcarpet"
           }
          ],
          "heatmap": [
           {
            "colorbar": {
             "outlinewidth": 0,
             "ticks": ""
            },
            "colorscale": [
             [
              0,
              "#0d0887"
             ],
             [
              0.1111111111111111,
              "#46039f"
             ],
             [
              0.2222222222222222,
              "#7201a8"
             ],
             [
              0.3333333333333333,
              "#9c179e"
             ],
             [
              0.4444444444444444,
              "#bd3786"
             ],
             [
              0.5555555555555556,
              "#d8576b"
             ],
             [
              0.6666666666666666,
              "#ed7953"
             ],
             [
              0.7777777777777778,
              "#fb9f3a"
             ],
             [
              0.8888888888888888,
              "#fdca26"
             ],
             [
              1,
              "#f0f921"
             ]
            ],
            "type": "heatmap"
           }
          ],
          "histogram": [
           {
            "marker": {
             "pattern": {
              "fillmode": "overlay",
              "size": 10,
              "solidity": 0.2
             }
            },
            "type": "histogram"
           }
          ],
          "histogram2d": [
           {
            "colorbar": {
             "outlinewidth": 0,
             "ticks": ""
            },
            "colorscale": [
             [
              0,
              "#0d0887"
             ],
             [
              0.1111111111111111,
              "#46039f"
             ],
             [
              0.2222222222222222,
              "#7201a8"
             ],
             [
              0.3333333333333333,
              "#9c179e"
             ],
             [
              0.4444444444444444,
              "#bd3786"
             ],
             [
              0.5555555555555556,
              "#d8576b"
             ],
             [
              0.6666666666666666,
              "#ed7953"
             ],
             [
              0.7777777777777778,
              "#fb9f3a"
             ],
             [
              0.8888888888888888,
              "#fdca26"
             ],
             [
              1,
              "#f0f921"
             ]
            ],
            "type": "histogram2d"
           }
          ],
          "histogram2dcontour": [
           {
            "colorbar": {
             "outlinewidth": 0,
             "ticks": ""
            },
            "colorscale": [
             [
              0,
              "#0d0887"
             ],
             [
              0.1111111111111111,
              "#46039f"
             ],
             [
              0.2222222222222222,
              "#7201a8"
             ],
             [
              0.3333333333333333,
              "#9c179e"
             ],
             [
              0.4444444444444444,
              "#bd3786"
             ],
             [
              0.5555555555555556,
              "#d8576b"
             ],
             [
              0.6666666666666666,
              "#ed7953"
             ],
             [
              0.7777777777777778,
              "#fb9f3a"
             ],
             [
              0.8888888888888888,
              "#fdca26"
             ],
             [
              1,
              "#f0f921"
             ]
            ],
            "type": "histogram2dcontour"
           }
          ],
          "mesh3d": [
           {
            "colorbar": {
             "outlinewidth": 0,
             "ticks": ""
            },
            "type": "mesh3d"
           }
          ],
          "parcoords": [
           {
            "line": {
             "colorbar": {
              "outlinewidth": 0,
              "ticks": ""
             }
            },
            "type": "parcoords"
           }
          ],
          "pie": [
           {
            "automargin": true,
            "type": "pie"
           }
          ],
          "scatter": [
           {
            "fillpattern": {
             "fillmode": "overlay",
             "size": 10,
             "solidity": 0.2
            },
            "type": "scatter"
           }
          ],
          "scatter3d": [
           {
            "line": {
             "colorbar": {
              "outlinewidth": 0,
              "ticks": ""
             }
            },
            "marker": {
             "colorbar": {
              "outlinewidth": 0,
              "ticks": ""
             }
            },
            "type": "scatter3d"
           }
          ],
          "scattercarpet": [
           {
            "marker": {
             "colorbar": {
              "outlinewidth": 0,
              "ticks": ""
             }
            },
            "type": "scattercarpet"
           }
          ],
          "scattergeo": [
           {
            "marker": {
             "colorbar": {
              "outlinewidth": 0,
              "ticks": ""
             }
            },
            "type": "scattergeo"
           }
          ],
          "scattergl": [
           {
            "marker": {
             "colorbar": {
              "outlinewidth": 0,
              "ticks": ""
             }
            },
            "type": "scattergl"
           }
          ],
          "scattermap": [
           {
            "marker": {
             "colorbar": {
              "outlinewidth": 0,
              "ticks": ""
             }
            },
            "type": "scattermap"
           }
          ],
          "scattermapbox": [
           {
            "marker": {
             "colorbar": {
              "outlinewidth": 0,
              "ticks": ""
             }
            },
            "type": "scattermapbox"
           }
          ],
          "scatterpolar": [
           {
            "marker": {
             "colorbar": {
              "outlinewidth": 0,
              "ticks": ""
             }
            },
            "type": "scatterpolar"
           }
          ],
          "scatterpolargl": [
           {
            "marker": {
             "colorbar": {
              "outlinewidth": 0,
              "ticks": ""
             }
            },
            "type": "scatterpolargl"
           }
          ],
          "scatterternary": [
           {
            "marker": {
             "colorbar": {
              "outlinewidth": 0,
              "ticks": ""
             }
            },
            "type": "scatterternary"
           }
          ],
          "surface": [
           {
            "colorbar": {
             "outlinewidth": 0,
             "ticks": ""
            },
            "colorscale": [
             [
              0,
              "#0d0887"
             ],
             [
              0.1111111111111111,
              "#46039f"
             ],
             [
              0.2222222222222222,
              "#7201a8"
             ],
             [
              0.3333333333333333,
              "#9c179e"
             ],
             [
              0.4444444444444444,
              "#bd3786"
             ],
             [
              0.5555555555555556,
              "#d8576b"
             ],
             [
              0.6666666666666666,
              "#ed7953"
             ],
             [
              0.7777777777777778,
              "#fb9f3a"
             ],
             [
              0.8888888888888888,
              "#fdca26"
             ],
             [
              1,
              "#f0f921"
             ]
            ],
            "type": "surface"
           }
          ],
          "table": [
           {
            "cells": {
             "fill": {
              "color": "#EBF0F8"
             },
             "line": {
              "color": "white"
             }
            },
            "header": {
             "fill": {
              "color": "#C8D4E3"
             },
             "line": {
              "color": "white"
             }
            },
            "type": "table"
           }
          ]
         },
         "layout": {
          "annotationdefaults": {
           "arrowcolor": "#2a3f5f",
           "arrowhead": 0,
           "arrowwidth": 1
          },
          "autotypenumbers": "strict",
          "coloraxis": {
           "colorbar": {
            "outlinewidth": 0,
            "ticks": ""
           }
          },
          "colorscale": {
           "diverging": [
            [
             0,
             "#8e0152"
            ],
            [
             0.1,
             "#c51b7d"
            ],
            [
             0.2,
             "#de77ae"
            ],
            [
             0.3,
             "#f1b6da"
            ],
            [
             0.4,
             "#fde0ef"
            ],
            [
             0.5,
             "#f7f7f7"
            ],
            [
             0.6,
             "#e6f5d0"
            ],
            [
             0.7,
             "#b8e186"
            ],
            [
             0.8,
             "#7fbc41"
            ],
            [
             0.9,
             "#4d9221"
            ],
            [
             1,
             "#276419"
            ]
           ],
           "sequential": [
            [
             0,
             "#0d0887"
            ],
            [
             0.1111111111111111,
             "#46039f"
            ],
            [
             0.2222222222222222,
             "#7201a8"
            ],
            [
             0.3333333333333333,
             "#9c179e"
            ],
            [
             0.4444444444444444,
             "#bd3786"
            ],
            [
             0.5555555555555556,
             "#d8576b"
            ],
            [
             0.6666666666666666,
             "#ed7953"
            ],
            [
             0.7777777777777778,
             "#fb9f3a"
            ],
            [
             0.8888888888888888,
             "#fdca26"
            ],
            [
             1,
             "#f0f921"
            ]
           ],
           "sequentialminus": [
            [
             0,
             "#0d0887"
            ],
            [
             0.1111111111111111,
             "#46039f"
            ],
            [
             0.2222222222222222,
             "#7201a8"
            ],
            [
             0.3333333333333333,
             "#9c179e"
            ],
            [
             0.4444444444444444,
             "#bd3786"
            ],
            [
             0.5555555555555556,
             "#d8576b"
            ],
            [
             0.6666666666666666,
             "#ed7953"
            ],
            [
             0.7777777777777778,
             "#fb9f3a"
            ],
            [
             0.8888888888888888,
             "#fdca26"
            ],
            [
             1,
             "#f0f921"
            ]
           ]
          },
          "colorway": [
           "#636efa",
           "#EF553B",
           "#00cc96",
           "#ab63fa",
           "#FFA15A",
           "#19d3f3",
           "#FF6692",
           "#B6E880",
           "#FF97FF",
           "#FECB52"
          ],
          "font": {
           "color": "#2a3f5f"
          },
          "geo": {
           "bgcolor": "white",
           "lakecolor": "white",
           "landcolor": "#E5ECF6",
           "showlakes": true,
           "showland": true,
           "subunitcolor": "white"
          },
          "hoverlabel": {
           "align": "left"
          },
          "hovermode": "closest",
          "mapbox": {
           "style": "light"
          },
          "paper_bgcolor": "white",
          "plot_bgcolor": "#E5ECF6",
          "polar": {
           "angularaxis": {
            "gridcolor": "white",
            "linecolor": "white",
            "ticks": ""
           },
           "bgcolor": "#E5ECF6",
           "radialaxis": {
            "gridcolor": "white",
            "linecolor": "white",
            "ticks": ""
           }
          },
          "scene": {
           "xaxis": {
            "backgroundcolor": "#E5ECF6",
            "gridcolor": "white",
            "gridwidth": 2,
            "linecolor": "white",
            "showbackground": true,
            "ticks": "",
            "zerolinecolor": "white"
           },
           "yaxis": {
            "backgroundcolor": "#E5ECF6",
            "gridcolor": "white",
            "gridwidth": 2,
            "linecolor": "white",
            "showbackground": true,
            "ticks": "",
            "zerolinecolor": "white"
           },
           "zaxis": {
            "backgroundcolor": "#E5ECF6",
            "gridcolor": "white",
            "gridwidth": 2,
            "linecolor": "white",
            "showbackground": true,
            "ticks": "",
            "zerolinecolor": "white"
           }
          },
          "shapedefaults": {
           "line": {
            "color": "#2a3f5f"
           }
          },
          "ternary": {
           "aaxis": {
            "gridcolor": "white",
            "linecolor": "white",
            "ticks": ""
           },
           "baxis": {
            "gridcolor": "white",
            "linecolor": "white",
            "ticks": ""
           },
           "bgcolor": "#E5ECF6",
           "caxis": {
            "gridcolor": "white",
            "linecolor": "white",
            "ticks": ""
           }
          },
          "title": {
           "x": 0.05
          },
          "xaxis": {
           "automargin": true,
           "gridcolor": "white",
           "linecolor": "white",
           "ticks": "",
           "title": {
            "standoff": 15
           },
           "zerolinecolor": "white",
           "zerolinewidth": 2
          },
          "yaxis": {
           "automargin": true,
           "gridcolor": "white",
           "linecolor": "white",
           "ticks": "",
           "title": {
            "standoff": 15
           },
           "zerolinecolor": "white",
           "zerolinewidth": 2
          }
         }
        },
        "title": {
         "text": "Home Team: Shots vs Goals Scored (Dot size = frequency)"
        },
        "xaxis": {
         "anchor": "y",
         "domain": [
          0,
          1
         ],
         "title": {
          "text": "Home Shots"
         }
        },
        "yaxis": {
         "anchor": "x",
         "domain": [
          0,
          1
         ],
         "title": {
          "text": "Home Goals"
         }
        }
       }
      }
     },
     "metadata": {},
     "output_type": "display_data"
    }
   ],
   "source": [
    "# Create a scatter plot showing relationship between shots and goals with sized markers\n",
    "# First, count occurrences of each (HS, FTHG) combination\n",
    "df_counts = df.groupby(['HS', 'FTHG', 'FTR']).size().reset_index(name='count')\n",
    "\n",
    "fig_shots_goals = px.scatter(\n",
    "    df_counts, \n",
    "    x='HS', \n",
    "    y='FTHG',\n",
    "    color='FTR',\n",
    "    size='count',  # Size dots based on count of overlapping points\n",
    "    title='Home Team: Shots vs Goals Scored (Dot size = frequency)',\n",
    "    labels={\n",
    "        'HS': 'Home Shots',\n",
    "        'FTHG': 'Home Goals',\n",
    "        'FTR': 'Match Result',\n",
    "        'count': 'Number of matches'\n",
    "    },\n",
    "    color_discrete_map={\n",
    "        'H': '#2E8B57',  # Green for home wins\n",
    "        'D': '#FFD700',  # Gold for draws\n",
    "        'A': '#DC143C'   # Red for home losses\n",
    "    },\n",
    "    size_max=20,  # Maximum dot size\n",
    "    hover_data=['count']\n",
    ")\n",
    "\n",
    "fig_shots_goals.update_layout(\n",
    "    height=500,\n",
    "    showlegend=True\n",
    ")\n",
    "\n",
    "fig_shots_goals.show()\n"
   ]
  },
  {
   "cell_type": "code",
   "execution_count": 26,
   "id": "102ec1fb",
   "metadata": {},
   "outputs": [
    {
     "data": {
      "application/vnd.plotly.v1+json": {
       "config": {
        "plotlyServerURL": "https://plot.ly"
       },
       "data": [
        {
         "hovertemplate": "<b>%{hovertext}</b><br>Correlation: %{x:.3f}<br><extra></extra>",
         "hovertext": [
          "Home Goals - Away Goals<br>Correlation: 0.853",
          "Full Time Home Goals<br>Correlation: 0.666",
          "Full Time Away Goals<br>Correlation: -0.609",
          "Half Time Home Goals<br>Correlation: 0.448",
          "Home Shots on Target<br>Correlation: 0.418",
          "Half Time Away Goals<br>Correlation: -0.392",
          "Away Shots on Target<br>Correlation: -0.371",
          "Away Shots<br>Correlation: -0.230",
          "Home Shots<br>Correlation: 0.186",
          "Home Yellow Cards<br>Correlation: -0.175"
         ],
         "legendgroup": "",
         "marker": {
          "color": {
           "bdata": "dM3nretJ6z8Yb0uEzE7lPxI4loPEfuO/E7UmSXWy3D+JAAwpXMPaP3y19u3TFdm/6QZWK2vB17+oQ2HY+2/Nv0douSvXxMc/kf5kdox2xr8=",
           "dtype": "f8"
          },
          "coloraxis": "coloraxis",
          "pattern": {
           "shape": ""
          }
         },
         "name": "",
         "orientation": "h",
         "showlegend": false,
         "text": [
          "0.853",
          "0.666",
          "-0.609",
          "0.448",
          "0.418",
          "-0.392",
          "-0.371",
          "-0.230",
          "0.186",
          "-0.175"
         ],
         "textposition": "outside",
         "type": "bar",
         "x": {
          "bdata": "dM3nretJ6z8Yb0uEzE7lPxI4loPEfuO/E7UmSXWy3D+JAAwpXMPaP3y19u3TFdm/6QZWK2vB17+oQ2HY+2/Nv0douSvXxMc/kf5kdox2xr8=",
          "dtype": "f8"
         },
         "xaxis": "x",
         "y": [
          "GoalDifference",
          "FTHG",
          "FTAG",
          "HTHG",
          "HST",
          "HTAG",
          "AST",
          "AS",
          "HS",
          "HY"
         ],
         "yaxis": "y"
        }
       ],
       "layout": {
        "barmode": "relative",
        "coloraxis": {
         "cmid": 0,
         "colorbar": {
          "title": {
           "text": "Correlation"
          }
         },
         "colorscale": [
          [
           0,
           "rgb(5,48,97)"
          ],
          [
           0.1,
           "rgb(33,102,172)"
          ],
          [
           0.2,
           "rgb(67,147,195)"
          ],
          [
           0.3,
           "rgb(146,197,222)"
          ],
          [
           0.4,
           "rgb(209,229,240)"
          ],
          [
           0.5,
           "rgb(247,247,247)"
          ],
          [
           0.6,
           "rgb(253,219,199)"
          ],
          [
           0.7,
           "rgb(244,165,130)"
          ],
          [
           0.8,
           "rgb(214,96,77)"
          ],
          [
           0.9,
           "rgb(178,24,43)"
          ],
          [
           1,
           "rgb(103,0,31)"
          ]
         ],
         "showscale": true
        },
        "height": 500,
        "legend": {
         "tracegroupgap": 0
        },
        "showlegend": false,
        "template": {
         "data": {
          "bar": [
           {
            "error_x": {
             "color": "#2a3f5f"
            },
            "error_y": {
             "color": "#2a3f5f"
            },
            "marker": {
             "line": {
              "color": "#E5ECF6",
              "width": 0.5
             },
             "pattern": {
              "fillmode": "overlay",
              "size": 10,
              "solidity": 0.2
             }
            },
            "type": "bar"
           }
          ],
          "barpolar": [
           {
            "marker": {
             "line": {
              "color": "#E5ECF6",
              "width": 0.5
             },
             "pattern": {
              "fillmode": "overlay",
              "size": 10,
              "solidity": 0.2
             }
            },
            "type": "barpolar"
           }
          ],
          "carpet": [
           {
            "aaxis": {
             "endlinecolor": "#2a3f5f",
             "gridcolor": "white",
             "linecolor": "white",
             "minorgridcolor": "white",
             "startlinecolor": "#2a3f5f"
            },
            "baxis": {
             "endlinecolor": "#2a3f5f",
             "gridcolor": "white",
             "linecolor": "white",
             "minorgridcolor": "white",
             "startlinecolor": "#2a3f5f"
            },
            "type": "carpet"
           }
          ],
          "choropleth": [
           {
            "colorbar": {
             "outlinewidth": 0,
             "ticks": ""
            },
            "type": "choropleth"
           }
          ],
          "contour": [
           {
            "colorbar": {
             "outlinewidth": 0,
             "ticks": ""
            },
            "colorscale": [
             [
              0,
              "#0d0887"
             ],
             [
              0.1111111111111111,
              "#46039f"
             ],
             [
              0.2222222222222222,
              "#7201a8"
             ],
             [
              0.3333333333333333,
              "#9c179e"
             ],
             [
              0.4444444444444444,
              "#bd3786"
             ],
             [
              0.5555555555555556,
              "#d8576b"
             ],
             [
              0.6666666666666666,
              "#ed7953"
             ],
             [
              0.7777777777777778,
              "#fb9f3a"
             ],
             [
              0.8888888888888888,
              "#fdca26"
             ],
             [
              1,
              "#f0f921"
             ]
            ],
            "type": "contour"
           }
          ],
          "contourcarpet": [
           {
            "colorbar": {
             "outlinewidth": 0,
             "ticks": ""
            },
            "type": "contourcarpet"
           }
          ],
          "heatmap": [
           {
            "colorbar": {
             "outlinewidth": 0,
             "ticks": ""
            },
            "colorscale": [
             [
              0,
              "#0d0887"
             ],
             [
              0.1111111111111111,
              "#46039f"
             ],
             [
              0.2222222222222222,
              "#7201a8"
             ],
             [
              0.3333333333333333,
              "#9c179e"
             ],
             [
              0.4444444444444444,
              "#bd3786"
             ],
             [
              0.5555555555555556,
              "#d8576b"
             ],
             [
              0.6666666666666666,
              "#ed7953"
             ],
             [
              0.7777777777777778,
              "#fb9f3a"
             ],
             [
              0.8888888888888888,
              "#fdca26"
             ],
             [
              1,
              "#f0f921"
             ]
            ],
            "type": "heatmap"
           }
          ],
          "histogram": [
           {
            "marker": {
             "pattern": {
              "fillmode": "overlay",
              "size": 10,
              "solidity": 0.2
             }
            },
            "type": "histogram"
           }
          ],
          "histogram2d": [
           {
            "colorbar": {
             "outlinewidth": 0,
             "ticks": ""
            },
            "colorscale": [
             [
              0,
              "#0d0887"
             ],
             [
              0.1111111111111111,
              "#46039f"
             ],
             [
              0.2222222222222222,
              "#7201a8"
             ],
             [
              0.3333333333333333,
              "#9c179e"
             ],
             [
              0.4444444444444444,
              "#bd3786"
             ],
             [
              0.5555555555555556,
              "#d8576b"
             ],
             [
              0.6666666666666666,
              "#ed7953"
             ],
             [
              0.7777777777777778,
              "#fb9f3a"
             ],
             [
              0.8888888888888888,
              "#fdca26"
             ],
             [
              1,
              "#f0f921"
             ]
            ],
            "type": "histogram2d"
           }
          ],
          "histogram2dcontour": [
           {
            "colorbar": {
             "outlinewidth": 0,
             "ticks": ""
            },
            "colorscale": [
             [
              0,
              "#0d0887"
             ],
             [
              0.1111111111111111,
              "#46039f"
             ],
             [
              0.2222222222222222,
              "#7201a8"
             ],
             [
              0.3333333333333333,
              "#9c179e"
             ],
             [
              0.4444444444444444,
              "#bd3786"
             ],
             [
              0.5555555555555556,
              "#d8576b"
             ],
             [
              0.6666666666666666,
              "#ed7953"
             ],
             [
              0.7777777777777778,
              "#fb9f3a"
             ],
             [
              0.8888888888888888,
              "#fdca26"
             ],
             [
              1,
              "#f0f921"
             ]
            ],
            "type": "histogram2dcontour"
           }
          ],
          "mesh3d": [
           {
            "colorbar": {
             "outlinewidth": 0,
             "ticks": ""
            },
            "type": "mesh3d"
           }
          ],
          "parcoords": [
           {
            "line": {
             "colorbar": {
              "outlinewidth": 0,
              "ticks": ""
             }
            },
            "type": "parcoords"
           }
          ],
          "pie": [
           {
            "automargin": true,
            "type": "pie"
           }
          ],
          "scatter": [
           {
            "fillpattern": {
             "fillmode": "overlay",
             "size": 10,
             "solidity": 0.2
            },
            "type": "scatter"
           }
          ],
          "scatter3d": [
           {
            "line": {
             "colorbar": {
              "outlinewidth": 0,
              "ticks": ""
             }
            },
            "marker": {
             "colorbar": {
              "outlinewidth": 0,
              "ticks": ""
             }
            },
            "type": "scatter3d"
           }
          ],
          "scattercarpet": [
           {
            "marker": {
             "colorbar": {
              "outlinewidth": 0,
              "ticks": ""
             }
            },
            "type": "scattercarpet"
           }
          ],
          "scattergeo": [
           {
            "marker": {
             "colorbar": {
              "outlinewidth": 0,
              "ticks": ""
             }
            },
            "type": "scattergeo"
           }
          ],
          "scattergl": [
           {
            "marker": {
             "colorbar": {
              "outlinewidth": 0,
              "ticks": ""
             }
            },
            "type": "scattergl"
           }
          ],
          "scattermap": [
           {
            "marker": {
             "colorbar": {
              "outlinewidth": 0,
              "ticks": ""
             }
            },
            "type": "scattermap"
           }
          ],
          "scattermapbox": [
           {
            "marker": {
             "colorbar": {
              "outlinewidth": 0,
              "ticks": ""
             }
            },
            "type": "scattermapbox"
           }
          ],
          "scatterpolar": [
           {
            "marker": {
             "colorbar": {
              "outlinewidth": 0,
              "ticks": ""
             }
            },
            "type": "scatterpolar"
           }
          ],
          "scatterpolargl": [
           {
            "marker": {
             "colorbar": {
              "outlinewidth": 0,
              "ticks": ""
             }
            },
            "type": "scatterpolargl"
           }
          ],
          "scatterternary": [
           {
            "marker": {
             "colorbar": {
              "outlinewidth": 0,
              "ticks": ""
             }
            },
            "type": "scatterternary"
           }
          ],
          "surface": [
           {
            "colorbar": {
             "outlinewidth": 0,
             "ticks": ""
            },
            "colorscale": [
             [
              0,
              "#0d0887"
             ],
             [
              0.1111111111111111,
              "#46039f"
             ],
             [
              0.2222222222222222,
              "#7201a8"
             ],
             [
              0.3333333333333333,
              "#9c179e"
             ],
             [
              0.4444444444444444,
              "#bd3786"
             ],
             [
              0.5555555555555556,
              "#d8576b"
             ],
             [
              0.6666666666666666,
              "#ed7953"
             ],
             [
              0.7777777777777778,
              "#fb9f3a"
             ],
             [
              0.8888888888888888,
              "#fdca26"
             ],
             [
              1,
              "#f0f921"
             ]
            ],
            "type": "surface"
           }
          ],
          "table": [
           {
            "cells": {
             "fill": {
              "color": "#EBF0F8"
             },
             "line": {
              "color": "white"
             }
            },
            "header": {
             "fill": {
              "color": "#C8D4E3"
             },
             "line": {
              "color": "white"
             }
            },
            "type": "table"
           }
          ]
         },
         "layout": {
          "annotationdefaults": {
           "arrowcolor": "#2a3f5f",
           "arrowhead": 0,
           "arrowwidth": 1
          },
          "autotypenumbers": "strict",
          "coloraxis": {
           "colorbar": {
            "outlinewidth": 0,
            "ticks": ""
           }
          },
          "colorscale": {
           "diverging": [
            [
             0,
             "#8e0152"
            ],
            [
             0.1,
             "#c51b7d"
            ],
            [
             0.2,
             "#de77ae"
            ],
            [
             0.3,
             "#f1b6da"
            ],
            [
             0.4,
             "#fde0ef"
            ],
            [
             0.5,
             "#f7f7f7"
            ],
            [
             0.6,
             "#e6f5d0"
            ],
            [
             0.7,
             "#b8e186"
            ],
            [
             0.8,
             "#7fbc41"
            ],
            [
             0.9,
             "#4d9221"
            ],
            [
             1,
             "#276419"
            ]
           ],
           "sequential": [
            [
             0,
             "#0d0887"
            ],
            [
             0.1111111111111111,
             "#46039f"
            ],
            [
             0.2222222222222222,
             "#7201a8"
            ],
            [
             0.3333333333333333,
             "#9c179e"
            ],
            [
             0.4444444444444444,
             "#bd3786"
            ],
            [
             0.5555555555555556,
             "#d8576b"
            ],
            [
             0.6666666666666666,
             "#ed7953"
            ],
            [
             0.7777777777777778,
             "#fb9f3a"
            ],
            [
             0.8888888888888888,
             "#fdca26"
            ],
            [
             1,
             "#f0f921"
            ]
           ],
           "sequentialminus": [
            [
             0,
             "#0d0887"
            ],
            [
             0.1111111111111111,
             "#46039f"
            ],
            [
             0.2222222222222222,
             "#7201a8"
            ],
            [
             0.3333333333333333,
             "#9c179e"
            ],
            [
             0.4444444444444444,
             "#bd3786"
            ],
            [
             0.5555555555555556,
             "#d8576b"
            ],
            [
             0.6666666666666666,
             "#ed7953"
            ],
            [
             0.7777777777777778,
             "#fb9f3a"
            ],
            [
             0.8888888888888888,
             "#fdca26"
            ],
            [
             1,
             "#f0f921"
            ]
           ]
          },
          "colorway": [
           "#636efa",
           "#EF553B",
           "#00cc96",
           "#ab63fa",
           "#FFA15A",
           "#19d3f3",
           "#FF6692",
           "#B6E880",
           "#FF97FF",
           "#FECB52"
          ],
          "font": {
           "color": "#2a3f5f"
          },
          "geo": {
           "bgcolor": "white",
           "lakecolor": "white",
           "landcolor": "#E5ECF6",
           "showlakes": true,
           "showland": true,
           "subunitcolor": "white"
          },
          "hoverlabel": {
           "align": "left"
          },
          "hovermode": "closest",
          "mapbox": {
           "style": "light"
          },
          "paper_bgcolor": "white",
          "plot_bgcolor": "#E5ECF6",
          "polar": {
           "angularaxis": {
            "gridcolor": "white",
            "linecolor": "white",
            "ticks": ""
           },
           "bgcolor": "#E5ECF6",
           "radialaxis": {
            "gridcolor": "white",
            "linecolor": "white",
            "ticks": ""
           }
          },
          "scene": {
           "xaxis": {
            "backgroundcolor": "#E5ECF6",
            "gridcolor": "white",
            "gridwidth": 2,
            "linecolor": "white",
            "showbackground": true,
            "ticks": "",
            "zerolinecolor": "white"
           },
           "yaxis": {
            "backgroundcolor": "#E5ECF6",
            "gridcolor": "white",
            "gridwidth": 2,
            "linecolor": "white",
            "showbackground": true,
            "ticks": "",
            "zerolinecolor": "white"
           },
           "zaxis": {
            "backgroundcolor": "#E5ECF6",
            "gridcolor": "white",
            "gridwidth": 2,
            "linecolor": "white",
            "showbackground": true,
            "ticks": "",
            "zerolinecolor": "white"
           }
          },
          "shapedefaults": {
           "line": {
            "color": "#2a3f5f"
           }
          },
          "ternary": {
           "aaxis": {
            "gridcolor": "white",
            "linecolor": "white",
            "ticks": ""
           },
           "baxis": {
            "gridcolor": "white",
            "linecolor": "white",
            "ticks": ""
           },
           "bgcolor": "#E5ECF6",
           "caxis": {
            "gridcolor": "white",
            "linecolor": "white",
            "ticks": ""
           }
          },
          "title": {
           "x": 0.05
          },
          "xaxis": {
           "automargin": true,
           "gridcolor": "white",
           "linecolor": "white",
           "ticks": "",
           "title": {
            "standoff": 15
           },
           "zerolinecolor": "white",
           "zerolinewidth": 2
          },
          "yaxis": {
           "automargin": true,
           "gridcolor": "white",
           "linecolor": "white",
           "ticks": "",
           "title": {
            "standoff": 15
           },
           "zerolinecolor": "white",
           "zerolinewidth": 2
          }
         }
        },
        "title": {
         "text": "Top 10 Features Most Correlated with Home Points"
        },
        "xaxis": {
         "anchor": "y",
         "domain": [
          0,
          1
         ],
         "title": {
          "text": "Correlation Coefficient"
         }
        },
        "yaxis": {
         "anchor": "x",
         "domain": [
          0,
          1
         ],
         "title": {
          "text": "Features"
         }
        }
       }
      }
     },
     "metadata": {},
     "output_type": "display_data"
    }
   ],
   "source": [
    "# First, create the correlation matrix for numerical columns\n",
    "numerical_cols = ['FTHG', 'FTAG', 'HTHG', 'HTAG', 'HS', 'AS', 'HST', 'AST', \n",
    "                  'HF', 'AF', 'HC', 'AC', 'HY', 'AY', 'HR', 'AR', \n",
    "                  'TotalGoals', 'GoalDifference', 'HomePoints']\n",
    "\n",
    "correlation_matrix = df[numerical_cols].corr()\n",
    "\n",
    "# Create a dictionary to explain abbreviations\n",
    "abbreviation_explanations = {\n",
    "    'FTHG': 'Full Time Home Goals',\n",
    "    'FTAG': 'Full Time Away Goals', \n",
    "    'HTHG': 'Half Time Home Goals',\n",
    "    'HTAG': 'Half Time Away Goals',\n",
    "    'HS': 'Home Shots',\n",
    "    'AS': 'Away Shots',\n",
    "    'HST': 'Home Shots on Target',\n",
    "    'AST': 'Away Shots on Target',\n",
    "    'HF': 'Home Fouls',\n",
    "    'AF': 'Away Fouls',\n",
    "    'HC': 'Home Corners',\n",
    "    'AC': 'Away Corners',\n",
    "    'HY': 'Home Yellow Cards',\n",
    "    'AY': 'Away Yellow Cards',\n",
    "    'HR': 'Home Red Cards',\n",
    "    'AR': 'Away Red Cards',\n",
    "    'TotalGoals': 'Total Goals in Match',\n",
    "    'GoalDifference': 'Home Goals - Away Goals',\n",
    "    'HomePoints': 'Points Earned by Home Team'\n",
    "}\n",
    "\n",
    "# Extract correlations with HomePoints\n",
    "homepoints_corr = correlation_matrix['HomePoints'].drop('HomePoints')\n",
    "homepoints_corr_sorted = homepoints_corr.abs().sort_values(ascending=False)\n",
    "\n",
    "# Get top 10 most correlated features\n",
    "top_correlations = homepoints_corr_sorted.head(10)\n",
    "top_corr_values = homepoints_corr[top_correlations.index]\n",
    "\n",
    "# Create hover text with explanations\n",
    "hover_text = [f\"{abbreviation_explanations.get(feature, feature)}<br>Correlation: {corr:.3f}\" \n",
    "              for feature, corr in top_corr_values.items()]\n",
    "\n",
    "# Create bar chart with enhanced hover information\n",
    "fig_homepoints = px.bar(\n",
    "    x=top_corr_values.values,\n",
    "    y=top_corr_values.index,\n",
    "    orientation='h',\n",
    "    title='Top 10 Features Most Correlated with Home Points',\n",
    "    labels={'x': 'Correlation Coefficient', 'y': 'Features'},\n",
    "    color=top_corr_values.values,\n",
    "    color_continuous_scale='RdBu_r',\n",
    "    color_continuous_midpoint=0,\n",
    "    hover_name=[abbreviation_explanations.get(feature, feature) for feature in top_corr_values.index]\n",
    ")\n",
    "\n",
    "# Update hover template for better formatting\n",
    "fig_homepoints.update_traces(\n",
    "    text=[f'{val:.3f}' for val in top_corr_values.values],\n",
    "    textposition='outside',\n",
    "    hovertemplate='<b>%{hovertext}</b><br>' +\n",
    "                  'Correlation: %{x:.3f}<br>' +\n",
    "                  '<extra></extra>',\n",
    "    hovertext=hover_text\n",
    ")\n",
    "\n",
    "fig_homepoints.update_layout(\n",
    "    height=500,\n",
    "    showlegend=False,\n",
    "    coloraxis_showscale=True,\n",
    "    coloraxis_colorbar_title=\"Correlation\"\n",
    ")\n",
    "\n",
    "fig_homepoints.show()\n"
   ]
  },
  {
   "cell_type": "code",
   "execution_count": 30,
   "id": "75b77f78",
   "metadata": {},
   "outputs": [
    {
     "data": {
      "application/vnd.plotly.v1+json": {
       "config": {
        "plotlyServerURL": "https://plot.ly"
       },
       "data": [
        {
         "hovertemplate": "<b>%{hovertext}</b><br>Win Rate: %{y:.1f}%<br>Cards per Match: %{x:.2f}<br>Total Matches: %{marker.size}<br>Discipline Score: %{marker.color:.2f}<br><extra></extra>",
         "hovertext": [
          "Kortrijk",
          "St. Gilloise",
          "Gent",
          "Club Brugge",
          "Oud-Heverlee Leuven",
          "Beerschot VA",
          "Mechelen",
          "Genk",
          "Charleroi",
          "Standard",
          "St Truiden",
          "Antwerp",
          "Westerlo",
          "Cercle Brugge",
          "Anderlecht",
          "Eupen",
          "RWD Molenbeek",
          "Waregem",
          "Seraing",
          "Oostende",
          "Mouscron",
          "Waasland-Beveren"
         ],
         "legendgroup": "",
         "marker": {
          "color": {
           "bdata": "oT/JWFTDBEBsKK+hvIYGQHsb/aGQXABARCG5gNfbAEAOpshn3WAEQJ91gynyWQdAA15voz8UAkA6WLPE+JQBQKbQn2QsqgFAo4suuuiiCEBVVVVVVVUFQLYiaDip+wJAfleLmzC/A0BddNFFF90FQBdddNFFlwJACI2887c4BUByHMdxHMcHQJYRfUB17AVA8fDw8PDwCEDsrQ3T3AUHQPy+7/u+7wNAJUmSJEmSBEA=",
           "dtype": "f8"
          },
          "coloraxis": "coloraxis",
          "size": {
           "bdata": "rQByALEAsQCUAEoAsQCxAK0AsACxALEATwCwALAApwAkAIMARACDAD8APwA=",
           "dtype": "i2"
          },
          "sizemode": "area",
          "sizeref": 0.2832,
          "symbol": "circle"
         },
         "mode": "markers",
         "name": "",
         "orientation": "v",
         "showlegend": false,
         "type": "scatter",
         "x": {
          "bdata": "byn0JxmLAkBeQ3kN5TUEQPpDIbmA1/s/xfiUaedg/T/yWTeYIp8BQIp81g2myANAQ3IBr7fR/z9AFJILeL39Pzpd5Zn4uP8/RhdddNFFBEC1c7BmifEBQIeTui+PrQBAPgNR6cieAUCjiy666CIDQHTRRRdddP8/+HJDDEjHAkByHMdxHMcDQDHNXfBXcQJAWlpaWlpaBEDAihNS8iwDQJqmaZqmaQJAq6qqqqqqAkA=",
          "dtype": "f8"
         },
         "xaxis": "x",
         "y": {
          "bdata": "rBewzekqO0Cms5jOYjpQQMxjK4KGk0hAtXOwZonxTUB2gynyWTdAQDFFPusGUzhAxEndl8dWREBUpp2DNUtIQFAyFtUwO0RAXXTRRRedQUAy7RysWWJAQCQX8Hob/UlAS0f2DESlP0B10UUXXVRBQIsuuuiiS0dANdsnqgeNOEAdx3Ecx3EzQKTkWUb0AT1AHh4eHh4eM0Ck5FlG9AE9QFmWZVmWZTlAKIqiKIqiNEA=",
          "dtype": "f8"
         },
         "yaxis": "y"
        },
        {
         "hovertemplate": "Correlation: %{text}<extra></extra>",
         "line": {
          "color": "darkblue",
          "dash": "dash",
          "width": 2
         },
         "mode": "lines",
         "name": "",
         "text": [
          "R² = 0.327",
          "R² = 0.327",
          "R² = 0.327",
          "R² = 0.327",
          "R² = 0.327",
          "R² = 0.327",
          "R² = 0.327",
          "R² = 0.327",
          "R² = 0.327",
          "R² = 0.327",
          "R² = 0.327",
          "R² = 0.327",
          "R² = 0.327",
          "R² = 0.327",
          "R² = 0.327",
          "R² = 0.327",
          "R² = 0.327",
          "R² = 0.327",
          "R² = 0.327",
          "R² = 0.327",
          "R² = 0.327",
          "R² = 0.327",
          "R² = 0.327",
          "R² = 0.327",
          "R² = 0.327",
          "R² = 0.327",
          "R² = 0.327",
          "R² = 0.327",
          "R² = 0.327",
          "R² = 0.327",
          "R² = 0.327",
          "R² = 0.327",
          "R² = 0.327",
          "R² = 0.327",
          "R² = 0.327",
          "R² = 0.327",
          "R² = 0.327",
          "R² = 0.327",
          "R² = 0.327",
          "R² = 0.327",
          "R² = 0.327",
          "R² = 0.327",
          "R² = 0.327",
          "R² = 0.327",
          "R² = 0.327",
          "R² = 0.327",
          "R² = 0.327",
          "R² = 0.327",
          "R² = 0.327",
          "R² = 0.327",
          "R² = 0.327",
          "R² = 0.327",
          "R² = 0.327",
          "R² = 0.327",
          "R² = 0.327",
          "R² = 0.327",
          "R² = 0.327",
          "R² = 0.327",
          "R² = 0.327",
          "R² = 0.327",
          "R² = 0.327",
          "R² = 0.327",
          "R² = 0.327",
          "R² = 0.327",
          "R² = 0.327",
          "R² = 0.327",
          "R² = 0.327",
          "R² = 0.327",
          "R² = 0.327",
          "R² = 0.327",
          "R² = 0.327",
          "R² = 0.327",
          "R² = 0.327",
          "R² = 0.327",
          "R² = 0.327",
          "R² = 0.327",
          "R² = 0.327",
          "R² = 0.327",
          "R² = 0.327",
          "R² = 0.327",
          "R² = 0.327",
          "R² = 0.327",
          "R² = 0.327",
          "R² = 0.327",
          "R² = 0.327",
          "R² = 0.327",
          "R² = 0.327",
          "R² = 0.327",
          "R² = 0.327",
          "R² = 0.327",
          "R² = 0.327",
          "R² = 0.327",
          "R² = 0.327",
          "R² = 0.327",
          "R² = 0.327",
          "R² = 0.327",
          "R² = 0.327",
          "R² = 0.327",
          "R² = 0.327",
          "R² = 0.327"
         ],
         "type": "scatter",
         "x": {
          "bdata": "+kMhuYDX+z91TwZ7xPj7P/Fa6zwIGvw/bGbQ/ks7/D/ocbXAj1z8P2N9moLTffw/3oh/RBef/D9alGQGW8D8P9WfScie4fw/UasuiuIC/T/MthNMJiT9P0jC+A1qRf0/w83dz61m/T8+2cKR8Yf9P7rkp1M1qf0/NfCMFXnK/T+x+3HXvOv9PywHV5kADf4/qBI8W0Qu/j8jHiEdiE/+P54pBt/LcP4/GjXroA+S/j+VQNBiU7P+PxBMtSSX1P4/jFea5tr1/j8HY3+oHhf/P4NuZGpiOP8//nlJLKZZ/z96hS7u6Xr/P/WQE7AtnP8/cJz4cXG9/z/sp90ztd7/P2ezwvX4//8/cd/TW54QAEAvZcY8QCEAQO3quB3iMQBAqnCr/oNCAEBo9p3fJVMAQCZ8kMDHYwBA5AGDoWl0AEChh3WCC4UAQF8NaGOtlQBAHZNaRE+mAEDaGE0l8bYAQJiePwaTxwBAViQy5zTYAEAUqiTI1ugAQNEvF6l4+QBAj7UJihoKAUBNO/xqvBoBQArB7kteKwFAyEbhLAA8AUCGzNMNokwBQERSxu5DXQFAAdi4z+VtAUC/Xauwh34BQH3jnZEpjwFAOmmQcsufAUD47oJTbbABQLZ0dTQPwQFAc/pnFbHRAUAxgFr2UuIBQO8FTdf08gFArIs/uJYDAkBqETKZOBQCQCiXJHraJAJA5hwXW3w1AkCjogk8HkYCQGEo/BzAVgJAH67u/WFnAkDcM+HeA3gCQJq507+liAJAWD/GoEeZAkAWxbiB6akCQNNKq2KLugJAkdCdQy3LAkBPVpAkz9sCQAzcggVx7AJAymF15hL9AkCI52fHtA0DQEZtWqhWHgNAA/NMifguA0DBeD9qmj8DQH/+MUs8UANAPIQkLN5gA0D6CRcNgHEDQLiPCe4hggNAdhX8zsOSA0Azm+6vZaMDQPEg4ZAHtANAr6bTcanEA0BsLMZSS9UDQCqyuDPt5QNA6DerFI/2A0CmvZ31MAcEQGNDkNbSFwRAIcmCt3QoBEDeTnWYFjkEQJzUZ3m4SQRAWlpaWlpaBEA=",
          "dtype": "f8"
         },
         "y": {
          "bdata": "4nq8Ik9jSUCQhTO8gENJQD6QqlWyI0lA7Zoh7+MDSUCapZiIFeRIQEmwDyJHxEhA97qGu3ikSEClxf1UqoRIQFTQdO7bZEhAAdvrhw1FSECw5WIhPyVIQF7w2bpwBUhADPtQVKLlR0C7Bcjt08VHQGgQP4cFpkdAFxu2IDeGR0DFJS26aGZHQHMwpFOaRkdAITsb7csmR0DPRZKG/QZHQH5QCSAv50ZALFuAuWDHRkDaZfdSkqdGQIlwbuzDh0ZAN3vlhfVnRkDlhVwfJ0hGQJOQ07hYKEZAQZtKUooIRkDvpcHru+hFQJ6wOIXtyEVATLuvHh+pRUD6xSa4UIlFQKjQnVGCaUVAV9sU67NJRUAF5ouE5SlFQLLwAh4XCkVAYvt5t0jqREAQBvFQespEQL0QaOqrqkRAaxvfg92KREAaJlYdD2tEQMgwzbZAS0RAdjtEUHIrREAlRrvpowtEQNJQMoPV60NAgFupHAfMQ0AuZiC2OKxDQN5wl09qjENAjHsO6ZtsQ0A4hoWCzUxDQOiQ/Bv/LENAlptztTANQ0BEpupOYu1CQPKwYeiTzUJAoLvYgcWtQkBOxk8b941CQPzQxrQobkJArNs9TlpOQkBa5rTniy5CQAjxK4G9DkJAtvuiGu/uQUBkBhq0IM9BQBIRkU1Sr0FAwhsI54OPQUBwJn+AtW9BQBwx9hnnT0FAyjttsxgwQUB6RuRMShBBQChRW+Z78EBA1lvSf63QQECEZkkZ37BAQDJxwLIQkUBA4Hs3TEJxQECOhq7lc1FAQD6RJX+lMUBA6pucGNcRQEAwTSdkEeQ/QJBiFZd0pD9A7HcDytdkP0BIjfH8OiU/QKCi3y+e5T5AALjNYgGmPkBczbuVZGY+QLjiqcjHJj5AGPiX+yrnPUBwDYYujqc9QMwidGHxZz1AKDhilFQoPUCITVDHt+g8QORiPvoaqTxAQHgsLX5pPECcjRpg4Sk8QPiiCJNE6jtAVLj2xaeqO0CwzeT4Cms7QBDj0ituKztAaPjAXtHrOkDIDa+RNKw6QCQjncSXbDpAgDiL9/osOkA=",
          "dtype": "f8"
         }
        }
       ],
       "layout": {
        "annotations": [
         {
          "bgcolor": "rgba(255,255,255,0.8)",
          "bordercolor": "gray",
          "borderwidth": 1,
          "font": {
           "size": 10
          },
          "showarrow": false,
          "text": "💡 Bubble size = Total matches played<br>🔴 Color intensity = Disciplinary issues",
          "x": 0.02,
          "xref": "paper",
          "y": 0.98,
          "yref": "paper"
         },
         {
          "showarrow": false,
          "text": "Avg Win Rate: 35.8%",
          "x": 1,
          "xanchor": "right",
          "xref": "x domain",
          "y": 35.80149036278689,
          "yanchor": "bottom",
          "yref": "y"
         },
         {
          "showarrow": false,
          "text": "Avg Cards: 2.2",
          "x": 2.229518863594735,
          "xanchor": "left",
          "xref": "x",
          "y": 1,
          "yanchor": "top",
          "yref": "y domain"
         }
        ],
        "coloraxis": {
         "colorbar": {
          "title": {
           "text": "Discipline Penalty Score"
          }
         },
         "colorscale": [
          [
           0,
           "rgb(255,245,240)"
          ],
          [
           0.125,
           "rgb(254,224,210)"
          ],
          [
           0.25,
           "rgb(252,187,161)"
          ],
          [
           0.375,
           "rgb(252,146,114)"
          ],
          [
           0.5,
           "rgb(251,106,74)"
          ],
          [
           0.625,
           "rgb(239,59,44)"
          ],
          [
           0.75,
           "rgb(203,24,29)"
          ],
          [
           0.875,
           "rgb(165,15,21)"
          ],
          [
           1,
           "rgb(103,0,13)"
          ]
         ]
        },
        "font": {
         "size": 12
        },
        "height": 600,
        "legend": {
         "itemsizing": "constant",
         "tracegroupgap": 0
        },
        "plot_bgcolor": "rgba(240,240,240,0.8)",
        "shapes": [
         {
          "line": {
           "color": "gray",
           "dash": "dot"
          },
          "type": "line",
          "x0": 0,
          "x1": 1,
          "xref": "x domain",
          "y0": 35.80149036278689,
          "y1": 35.80149036278689,
          "yref": "y"
         },
         {
          "line": {
           "color": "gray",
           "dash": "dot"
          },
          "type": "line",
          "x0": 2.229518863594735,
          "x1": 2.229518863594735,
          "xref": "x",
          "y0": 0,
          "y1": 1,
          "yref": "y domain"
         }
        ],
        "showlegend": true,
        "template": {
         "data": {
          "bar": [
           {
            "error_x": {
             "color": "#2a3f5f"
            },
            "error_y": {
             "color": "#2a3f5f"
            },
            "marker": {
             "line": {
              "color": "#E5ECF6",
              "width": 0.5
             },
             "pattern": {
              "fillmode": "overlay",
              "size": 10,
              "solidity": 0.2
             }
            },
            "type": "bar"
           }
          ],
          "barpolar": [
           {
            "marker": {
             "line": {
              "color": "#E5ECF6",
              "width": 0.5
             },
             "pattern": {
              "fillmode": "overlay",
              "size": 10,
              "solidity": 0.2
             }
            },
            "type": "barpolar"
           }
          ],
          "carpet": [
           {
            "aaxis": {
             "endlinecolor": "#2a3f5f",
             "gridcolor": "white",
             "linecolor": "white",
             "minorgridcolor": "white",
             "startlinecolor": "#2a3f5f"
            },
            "baxis": {
             "endlinecolor": "#2a3f5f",
             "gridcolor": "white",
             "linecolor": "white",
             "minorgridcolor": "white",
             "startlinecolor": "#2a3f5f"
            },
            "type": "carpet"
           }
          ],
          "choropleth": [
           {
            "colorbar": {
             "outlinewidth": 0,
             "ticks": ""
            },
            "type": "choropleth"
           }
          ],
          "contour": [
           {
            "colorbar": {
             "outlinewidth": 0,
             "ticks": ""
            },
            "colorscale": [
             [
              0,
              "#0d0887"
             ],
             [
              0.1111111111111111,
              "#46039f"
             ],
             [
              0.2222222222222222,
              "#7201a8"
             ],
             [
              0.3333333333333333,
              "#9c179e"
             ],
             [
              0.4444444444444444,
              "#bd3786"
             ],
             [
              0.5555555555555556,
              "#d8576b"
             ],
             [
              0.6666666666666666,
              "#ed7953"
             ],
             [
              0.7777777777777778,
              "#fb9f3a"
             ],
             [
              0.8888888888888888,
              "#fdca26"
             ],
             [
              1,
              "#f0f921"
             ]
            ],
            "type": "contour"
           }
          ],
          "contourcarpet": [
           {
            "colorbar": {
             "outlinewidth": 0,
             "ticks": ""
            },
            "type": "contourcarpet"
           }
          ],
          "heatmap": [
           {
            "colorbar": {
             "outlinewidth": 0,
             "ticks": ""
            },
            "colorscale": [
             [
              0,
              "#0d0887"
             ],
             [
              0.1111111111111111,
              "#46039f"
             ],
             [
              0.2222222222222222,
              "#7201a8"
             ],
             [
              0.3333333333333333,
              "#9c179e"
             ],
             [
              0.4444444444444444,
              "#bd3786"
             ],
             [
              0.5555555555555556,
              "#d8576b"
             ],
             [
              0.6666666666666666,
              "#ed7953"
             ],
             [
              0.7777777777777778,
              "#fb9f3a"
             ],
             [
              0.8888888888888888,
              "#fdca26"
             ],
             [
              1,
              "#f0f921"
             ]
            ],
            "type": "heatmap"
           }
          ],
          "histogram": [
           {
            "marker": {
             "pattern": {
              "fillmode": "overlay",
              "size": 10,
              "solidity": 0.2
             }
            },
            "type": "histogram"
           }
          ],
          "histogram2d": [
           {
            "colorbar": {
             "outlinewidth": 0,
             "ticks": ""
            },
            "colorscale": [
             [
              0,
              "#0d0887"
             ],
             [
              0.1111111111111111,
              "#46039f"
             ],
             [
              0.2222222222222222,
              "#7201a8"
             ],
             [
              0.3333333333333333,
              "#9c179e"
             ],
             [
              0.4444444444444444,
              "#bd3786"
             ],
             [
              0.5555555555555556,
              "#d8576b"
             ],
             [
              0.6666666666666666,
              "#ed7953"
             ],
             [
              0.7777777777777778,
              "#fb9f3a"
             ],
             [
              0.8888888888888888,
              "#fdca26"
             ],
             [
              1,
              "#f0f921"
             ]
            ],
            "type": "histogram2d"
           }
          ],
          "histogram2dcontour": [
           {
            "colorbar": {
             "outlinewidth": 0,
             "ticks": ""
            },
            "colorscale": [
             [
              0,
              "#0d0887"
             ],
             [
              0.1111111111111111,
              "#46039f"
             ],
             [
              0.2222222222222222,
              "#7201a8"
             ],
             [
              0.3333333333333333,
              "#9c179e"
             ],
             [
              0.4444444444444444,
              "#bd3786"
             ],
             [
              0.5555555555555556,
              "#d8576b"
             ],
             [
              0.6666666666666666,
              "#ed7953"
             ],
             [
              0.7777777777777778,
              "#fb9f3a"
             ],
             [
              0.8888888888888888,
              "#fdca26"
             ],
             [
              1,
              "#f0f921"
             ]
            ],
            "type": "histogram2dcontour"
           }
          ],
          "mesh3d": [
           {
            "colorbar": {
             "outlinewidth": 0,
             "ticks": ""
            },
            "type": "mesh3d"
           }
          ],
          "parcoords": [
           {
            "line": {
             "colorbar": {
              "outlinewidth": 0,
              "ticks": ""
             }
            },
            "type": "parcoords"
           }
          ],
          "pie": [
           {
            "automargin": true,
            "type": "pie"
           }
          ],
          "scatter": [
           {
            "fillpattern": {
             "fillmode": "overlay",
             "size": 10,
             "solidity": 0.2
            },
            "type": "scatter"
           }
          ],
          "scatter3d": [
           {
            "line": {
             "colorbar": {
              "outlinewidth": 0,
              "ticks": ""
             }
            },
            "marker": {
             "colorbar": {
              "outlinewidth": 0,
              "ticks": ""
             }
            },
            "type": "scatter3d"
           }
          ],
          "scattercarpet": [
           {
            "marker": {
             "colorbar": {
              "outlinewidth": 0,
              "ticks": ""
             }
            },
            "type": "scattercarpet"
           }
          ],
          "scattergeo": [
           {
            "marker": {
             "colorbar": {
              "outlinewidth": 0,
              "ticks": ""
             }
            },
            "type": "scattergeo"
           }
          ],
          "scattergl": [
           {
            "marker": {
             "colorbar": {
              "outlinewidth": 0,
              "ticks": ""
             }
            },
            "type": "scattergl"
           }
          ],
          "scattermap": [
           {
            "marker": {
             "colorbar": {
              "outlinewidth": 0,
              "ticks": ""
             }
            },
            "type": "scattermap"
           }
          ],
          "scattermapbox": [
           {
            "marker": {
             "colorbar": {
              "outlinewidth": 0,
              "ticks": ""
             }
            },
            "type": "scattermapbox"
           }
          ],
          "scatterpolar": [
           {
            "marker": {
             "colorbar": {
              "outlinewidth": 0,
              "ticks": ""
             }
            },
            "type": "scatterpolar"
           }
          ],
          "scatterpolargl": [
           {
            "marker": {
             "colorbar": {
              "outlinewidth": 0,
              "ticks": ""
             }
            },
            "type": "scatterpolargl"
           }
          ],
          "scatterternary": [
           {
            "marker": {
             "colorbar": {
              "outlinewidth": 0,
              "ticks": ""
             }
            },
            "type": "scatterternary"
           }
          ],
          "surface": [
           {
            "colorbar": {
             "outlinewidth": 0,
             "ticks": ""
            },
            "colorscale": [
             [
              0,
              "#0d0887"
             ],
             [
              0.1111111111111111,
              "#46039f"
             ],
             [
              0.2222222222222222,
              "#7201a8"
             ],
             [
              0.3333333333333333,
              "#9c179e"
             ],
             [
              0.4444444444444444,
              "#bd3786"
             ],
             [
              0.5555555555555556,
              "#d8576b"
             ],
             [
              0.6666666666666666,
              "#ed7953"
             ],
             [
              0.7777777777777778,
              "#fb9f3a"
             ],
             [
              0.8888888888888888,
              "#fdca26"
             ],
             [
              1,
              "#f0f921"
             ]
            ],
            "type": "surface"
           }
          ],
          "table": [
           {
            "cells": {
             "fill": {
              "color": "#EBF0F8"
             },
             "line": {
              "color": "white"
             }
            },
            "header": {
             "fill": {
              "color": "#C8D4E3"
             },
             "line": {
              "color": "white"
             }
            },
            "type": "table"
           }
          ]
         },
         "layout": {
          "annotationdefaults": {
           "arrowcolor": "#2a3f5f",
           "arrowhead": 0,
           "arrowwidth": 1
          },
          "autotypenumbers": "strict",
          "coloraxis": {
           "colorbar": {
            "outlinewidth": 0,
            "ticks": ""
           }
          },
          "colorscale": {
           "diverging": [
            [
             0,
             "#8e0152"
            ],
            [
             0.1,
             "#c51b7d"
            ],
            [
             0.2,
             "#de77ae"
            ],
            [
             0.3,
             "#f1b6da"
            ],
            [
             0.4,
             "#fde0ef"
            ],
            [
             0.5,
             "#f7f7f7"
            ],
            [
             0.6,
             "#e6f5d0"
            ],
            [
             0.7,
             "#b8e186"
            ],
            [
             0.8,
             "#7fbc41"
            ],
            [
             0.9,
             "#4d9221"
            ],
            [
             1,
             "#276419"
            ]
           ],
           "sequential": [
            [
             0,
             "#0d0887"
            ],
            [
             0.1111111111111111,
             "#46039f"
            ],
            [
             0.2222222222222222,
             "#7201a8"
            ],
            [
             0.3333333333333333,
             "#9c179e"
            ],
            [
             0.4444444444444444,
             "#bd3786"
            ],
            [
             0.5555555555555556,
             "#d8576b"
            ],
            [
             0.6666666666666666,
             "#ed7953"
            ],
            [
             0.7777777777777778,
             "#fb9f3a"
            ],
            [
             0.8888888888888888,
             "#fdca26"
            ],
            [
             1,
             "#f0f921"
            ]
           ],
           "sequentialminus": [
            [
             0,
             "#0d0887"
            ],
            [
             0.1111111111111111,
             "#46039f"
            ],
            [
             0.2222222222222222,
             "#7201a8"
            ],
            [
             0.3333333333333333,
             "#9c179e"
            ],
            [
             0.4444444444444444,
             "#bd3786"
            ],
            [
             0.5555555555555556,
             "#d8576b"
            ],
            [
             0.6666666666666666,
             "#ed7953"
            ],
            [
             0.7777777777777778,
             "#fb9f3a"
            ],
            [
             0.8888888888888888,
             "#fdca26"
            ],
            [
             1,
             "#f0f921"
            ]
           ]
          },
          "colorway": [
           "#636efa",
           "#EF553B",
           "#00cc96",
           "#ab63fa",
           "#FFA15A",
           "#19d3f3",
           "#FF6692",
           "#B6E880",
           "#FF97FF",
           "#FECB52"
          ],
          "font": {
           "color": "#2a3f5f"
          },
          "geo": {
           "bgcolor": "white",
           "lakecolor": "white",
           "landcolor": "#E5ECF6",
           "showlakes": true,
           "showland": true,
           "subunitcolor": "white"
          },
          "hoverlabel": {
           "align": "left"
          },
          "hovermode": "closest",
          "mapbox": {
           "style": "light"
          },
          "paper_bgcolor": "white",
          "plot_bgcolor": "#E5ECF6",
          "polar": {
           "angularaxis": {
            "gridcolor": "white",
            "linecolor": "white",
            "ticks": ""
           },
           "bgcolor": "#E5ECF6",
           "radialaxis": {
            "gridcolor": "white",
            "linecolor": "white",
            "ticks": ""
           }
          },
          "scene": {
           "xaxis": {
            "backgroundcolor": "#E5ECF6",
            "gridcolor": "white",
            "gridwidth": 2,
            "linecolor": "white",
            "showbackground": true,
            "ticks": "",
            "zerolinecolor": "white"
           },
           "yaxis": {
            "backgroundcolor": "#E5ECF6",
            "gridcolor": "white",
            "gridwidth": 2,
            "linecolor": "white",
            "showbackground": true,
            "ticks": "",
            "zerolinecolor": "white"
           },
           "zaxis": {
            "backgroundcolor": "#E5ECF6",
            "gridcolor": "white",
            "gridwidth": 2,
            "linecolor": "white",
            "showbackground": true,
            "ticks": "",
            "zerolinecolor": "white"
           }
          },
          "shapedefaults": {
           "line": {
            "color": "#2a3f5f"
           }
          },
          "ternary": {
           "aaxis": {
            "gridcolor": "white",
            "linecolor": "white",
            "ticks": ""
           },
           "baxis": {
            "gridcolor": "white",
            "linecolor": "white",
            "ticks": ""
           },
           "bgcolor": "#E5ECF6",
           "caxis": {
            "gridcolor": "white",
            "linecolor": "white",
            "ticks": ""
           }
          },
          "title": {
           "x": 0.05
          },
          "xaxis": {
           "automargin": true,
           "gridcolor": "white",
           "linecolor": "white",
           "ticks": "",
           "title": {
            "standoff": 15
           },
           "zerolinecolor": "white",
           "zerolinewidth": 2
          },
          "yaxis": {
           "automargin": true,
           "gridcolor": "white",
           "linecolor": "white",
           "ticks": "",
           "title": {
            "standoff": 15
           },
           "zerolinecolor": "white",
           "zerolinewidth": 2
          }
         }
        },
        "title": {
         "font": {
          "size": 16
         },
         "text": "🟨🟥 The Card Penalty Effect: How Discipline Affects Team Success"
        },
        "xaxis": {
         "anchor": "y",
         "domain": [
          0,
          1
         ],
         "title": {
          "text": "Total Cards per Match (Yellow + 2×Red)"
         }
        },
        "yaxis": {
         "anchor": "x",
         "domain": [
          0,
          1
         ],
         "title": {
          "text": "Win Rate (%)"
         }
        }
       }
      }
     },
     "metadata": {},
     "output_type": "display_data"
    }
   ],
   "source": [
    "# Create a comprehensive cards vs wins analysis\n",
    "team_cards_wins = []\n",
    "\n",
    "for team in df['HomeTeam'].unique():\n",
    "    # Home matches\n",
    "    home_matches = df[df['HomeTeam'] == team]\n",
    "    home_wins = len(home_matches[home_matches['FTR'] == 'H'])\n",
    "    home_yellow = home_matches['HY'].sum()\n",
    "    home_red = home_matches['HR'].sum()\n",
    "    home_total = len(home_matches)\n",
    "    \n",
    "    # Away matches  \n",
    "    away_matches = df[df['AwayTeam'] == team]\n",
    "    away_wins = len(away_matches[away_matches['FTR'] == 'A'])\n",
    "    away_yellow = away_matches['AY'].sum()\n",
    "    away_red = away_matches['AR'].sum()\n",
    "    away_total = len(away_matches)\n",
    "    \n",
    "    # Combined stats\n",
    "    total_wins = home_wins + away_wins\n",
    "    total_matches = home_total + away_total\n",
    "    total_yellow = home_yellow + away_yellow\n",
    "    total_red = home_red + away_red\n",
    "    total_cards = total_yellow + (total_red * 2)  # Weight red cards more heavily\n",
    "    \n",
    "    if total_matches > 20:  # Only include teams with sufficient matches\n",
    "        team_cards_wins.append({\n",
    "            'Team': team,\n",
    "            'Win_Rate': (total_wins / total_matches) * 100,\n",
    "            'Cards_Per_Match': total_cards / total_matches,\n",
    "            'Yellow_Per_Match': total_yellow / total_matches,\n",
    "            'Red_Per_Match': total_red / total_matches,\n",
    "            'Total_Matches': total_matches,\n",
    "            'Discipline_Score': (total_yellow * 1 + total_red * 5) / total_matches  # Discipline penalty score\n",
    "        })\n",
    "\n",
    "cards_df = pd.DataFrame(team_cards_wins)\n",
    "\n",
    "# Create the main bubble chart\n",
    "fig_cards = px.scatter(\n",
    "    cards_df,\n",
    "    x='Cards_Per_Match',\n",
    "    y='Win_Rate',\n",
    "    size='Total_Matches',\n",
    "    color='Discipline_Score',\n",
    "    hover_name='Team',\n",
    "    title='🟨🟥 The Card Penalty Effect: How Discipline Affects Team Success',\n",
    "    labels={\n",
    "        'Cards_Per_Match': 'Total Cards per Match (Yellow + 2×Red)',\n",
    "        'Win_Rate': 'Win Rate (%)',\n",
    "        'Discipline_Score': 'Discipline Penalty Score',\n",
    "        'Total_Matches': 'Total Matches'\n",
    "    },\n",
    "    color_continuous_scale='Reds',\n",
    "    size_max=25\n",
    ")\n",
    "\n",
    "# Add trend line\n",
    "import scipy.stats as stats\n",
    "slope, intercept, r_value, p_value, std_err = stats.linregress(cards_df['Cards_Per_Match'], cards_df['Win_Rate'])\n",
    "line_x = np.linspace(cards_df['Cards_Per_Match'].min(), cards_df['Cards_Per_Match'].max(), 100)\n",
    "line_y = slope * line_x + intercept\n",
    "\n",
    "fig_cards.add_trace(go.Scatter(\n",
    "    x=line_x,\n",
    "    y=line_y,\n",
    "    mode='lines',\n",
    "    name='',\n",
    "    # name=f'Trend Line (R² = {r_value**2:.3f})',\n",
    "    line=dict(color='darkblue', width=2, dash='dash'),\n",
    "    hovertemplate='Correlation: %{text}<extra></extra>',\n",
    "    text=[f'R² = {r_value**2:.3f}'] * len(line_x)\n",
    "))\n",
    "\n",
    "# Customize the layout\n",
    "fig_cards.update_layout(\n",
    "    height=600,\n",
    "    showlegend=True,\n",
    "    plot_bgcolor='rgba(240,240,240,0.8)',\n",
    "    font=dict(size=12),\n",
    "    title_font_size=16,\n",
    "    annotations=[\n",
    "        dict(\n",
    "            x=0.02, y=0.98,\n",
    "            xref='paper', yref='paper',\n",
    "            text='💡 Bubble size = Total matches played<br>🔴 Color intensity = Disciplinary issues',\n",
    "            showarrow=False,\n",
    "            font=dict(size=10),\n",
    "            bgcolor='rgba(255,255,255,0.8)',\n",
    "            bordercolor='gray',\n",
    "            borderwidth=1\n",
    "        )\n",
    "    ]\n",
    ")\n",
    "\n",
    "# Add quadrant lines for better interpretation\n",
    "mean_cards = cards_df['Cards_Per_Match'].mean()\n",
    "mean_wins = cards_df['Win_Rate'].mean()\n",
    "\n",
    "fig_cards.add_hline(y=mean_wins, line_dash=\"dot\", line_color=\"gray\", \n",
    "                   annotation_text=f\"Avg Win Rate: {mean_wins:.1f}%\")\n",
    "fig_cards.add_vline(x=mean_cards, line_dash=\"dot\", line_color=\"gray\",\n",
    "                   annotation_text=f\"Avg Cards: {mean_cards:.1f}\")\n",
    "\n",
    "# Update hover template for better information\n",
    "fig_cards.update_traces(\n",
    "    hovertemplate='<b>%{hovertext}</b><br>' +\n",
    "                  'Win Rate: %{y:.1f}%<br>' +\n",
    "                  'Cards per Match: %{x:.2f}<br>' +\n",
    "                  'Total Matches: %{marker.size}<br>' +\n",
    "                  'Discipline Score: %{marker.color:.2f}<br>' +\n",
    "                  '<extra></extra>',\n",
    "    selector=dict(mode='markers')\n",
    ")\n",
    "\n",
    "fig_cards.show()"
   ]
  }
 ],
 "metadata": {
  "kernelspec": {
   "display_name": "venv",
   "language": "python",
   "name": "python3"
  },
  "language_info": {
   "codemirror_mode": {
    "name": "ipython",
    "version": 3
   },
   "file_extension": ".py",
   "mimetype": "text/x-python",
   "name": "python",
   "nbconvert_exporter": "python",
   "pygments_lexer": "ipython3",
   "version": "3.11.2"
  }
 },
 "nbformat": 4,
 "nbformat_minor": 5
}
