{
 "cells": [
  {
   "cell_type": "markdown",
   "id": "ed5deee3",
   "metadata": {},
   "source": [
    "## Charts to display in flask frontend"
   ]
  },
  {
   "cell_type": "markdown",
   "id": "76aa74cf",
   "metadata": {},
   "source": [
    "### 0. Imports"
   ]
  },
  {
   "cell_type": "code",
   "execution_count": null,
   "id": "5bf6e5ca",
   "metadata": {},
   "outputs": [],
   "source": [
    "import os\n",
    "\n",
    "import sqlite3\n",
    "\n",
    "import pandas as pd\n",
    "from pandas.io.sql import DatabaseError\n",
    "\n",
    "import numpy as np\n",
    "\n",
    "import plotly.express as px\n",
    "\n",
    "from sklearn.model_selection import train_test_split\n",
    "from sklearn.preprocessing import OneHotEncoder, StandardScaler\n",
    "from sklearn.impute import SimpleImputer\n",
    "from sklearn.compose import ColumnTransformer\n",
    "from sklearn.pipeline import Pipeline"
   ]
  },
  {
   "cell_type": "markdown",
   "id": "f6ef7b91",
   "metadata": {},
   "source": [
    "### 1. Setup and load"
   ]
  },
  {
   "cell_type": "code",
   "execution_count": 14,
   "id": "7ffd3292",
   "metadata": {},
   "outputs": [
    {
     "name": "stdout",
     "output_type": "stream",
     "text": [
      "✅ Loaded 1508 rows from 'matches' table\n"
     ]
    }
   ],
   "source": [
    "# Path to database\n",
    "db_path = '../football.db'\n",
    "\n",
    "if not os.path.exists(db_path):\n",
    "    raise FileNotFoundError(f\"Database '{db_path}' not found. Run db_setup.py first.\")\n",
    "\n",
    "conn = sqlite3.connect(db_path)\n",
    "\n",
    "try:\n",
    "    df = pd.read_sql_query(\"SELECT * FROM matches\", conn)\n",
    "    print(f\"✅ Loaded {len(df)} rows from 'matches' table\")\n",
    "except DatabaseError as e:\n",
    "    df = pd.DataFrame()\n",
    "    print(f\"❌ Error loading data: {e}\")\n",
    "finally:\n",
    "    conn.close()"
   ]
  },
  {
   "cell_type": "markdown",
   "id": "d00f9bf7",
   "metadata": {},
   "source": [
    "### 2. Data preprocessing"
   ]
  },
  {
   "cell_type": "code",
   "execution_count": 15,
   "id": "530ae619",
   "metadata": {},
   "outputs": [
    {
     "name": "stdout",
     "output_type": "stream",
     "text": [
      "✅ Data preprocessing pipeline with imputers is ready.\n"
     ]
    }
   ],
   "source": [
    "# Nettoyage de base et définition des features\n",
    "df = df.dropna(subset=['HomeTeam', 'AwayTeam', 'FTR'])  # cible et équipes présentes\n",
    "X = df[['HomeTeam', 'AwayTeam', 'HS', 'AS']]             # sélection de features\n",
    "y = df['FTR']                                            # cible : résultat final\n",
    "\n",
    "# Définition des colonnes\n",
    "categorical_features = ['HomeTeam', 'AwayTeam']\n",
    "numerical_features = ['HS', 'AS']\n",
    "\n",
    "# Pipelines\n",
    "numeric_pipeline = Pipeline([\n",
    "    ('imputer', SimpleImputer(strategy='mean')),\n",
    "    ('scaler', StandardScaler())\n",
    "])\n",
    "\n",
    "categorical_pipeline = Pipeline([\n",
    "    ('imputer', SimpleImputer(strategy='constant', fill_value='missing')),\n",
    "    ('onehot', OneHotEncoder(handle_unknown='ignore'))\n",
    "])\n",
    "\n",
    "# Fusion des pipelines\n",
    "preprocessor = ColumnTransformer([\n",
    "    ('num', numeric_pipeline, numerical_features),\n",
    "    ('cat', categorical_pipeline, categorical_features)\n",
    "])\n",
    "\n",
    "# Split\n",
    "X_train, X_test, y_train, y_test = train_test_split(X, y, test_size=0.2, random_state=42)\n",
    "\n",
    "print(\"✅ Data preprocessing pipeline with imputers is ready.\")\n"
   ]
  },
  {
   "cell_type": "markdown",
   "id": "3fd151ec",
   "metadata": {},
   "source": [
    "### 3. Extra Stats"
   ]
  },
  {
   "cell_type": "code",
   "execution_count": 16,
   "id": "4869330d",
   "metadata": {},
   "outputs": [],
   "source": [
    "# Add derived columns\n",
    "df['TotalGoals'] = df['FTHG'] + df['FTAG']\n",
    "df['GoalDifference'] = df['FTHG'] - df['FTAG']\n",
    "df['IsDraw'] = df['FTR'] == 'D'\n",
    "\n",
    "# Points earned by Home Team\n",
    "def home_points(row):\n",
    "    if row['FTR'] == 'H':\n",
    "        return 3\n",
    "    elif row['FTR'] == 'D':\n",
    "        return 1\n",
    "    else:\n",
    "        return 0\n",
    "\n",
    "df['HomePoints'] = df.apply(home_points, axis=1)\n",
    "\n",
    "# Convert Date column\n",
    "df['Date'] = pd.to_datetime(df['Date'])\n"
   ]
  },
  {
   "cell_type": "markdown",
   "id": "5ceba125",
   "metadata": {},
   "source": [
    "### 4. Charts"
   ]
  },
  {
   "cell_type": "code",
   "execution_count": 17,
   "id": "7ca45b00",
   "metadata": {},
   "outputs": [
    {
     "data": {
      "application/vnd.plotly.v1+json": {
       "config": {
        "plotlyServerURL": "https://plot.ly"
       },
       "data": [
        {
         "hovertemplate": "Date=%{x}<br>Avg Home Goals=%{y}<extra></extra>",
         "legendgroup": "",
         "line": {
          "color": "#636efa",
          "dash": "solid"
         },
         "marker": {
          "symbol": "circle"
         },
         "mode": "lines",
         "name": "",
         "orientation": "v",
         "showlegend": false,
         "type": "scatter",
         "x": [
          "2019-07-26T00:00:00.000000000",
          "2019-07-27T00:00:00.000000000",
          "2019-07-28T00:00:00.000000000",
          "2019-08-02T00:00:00.000000000",
          "2019-08-03T00:00:00.000000000",
          "2019-08-04T00:00:00.000000000",
          "2019-08-09T00:00:00.000000000",
          "2019-08-10T00:00:00.000000000",
          "2019-08-11T00:00:00.000000000",
          "2019-08-16T00:00:00.000000000",
          "2019-08-17T00:00:00.000000000",
          "2019-08-18T00:00:00.000000000",
          "2019-08-19T00:00:00.000000000",
          "2019-08-23T00:00:00.000000000",
          "2019-08-24T00:00:00.000000000",
          "2019-08-25T00:00:00.000000000",
          "2019-08-30T00:00:00.000000000",
          "2019-08-31T00:00:00.000000000",
          "2019-09-01T00:00:00.000000000",
          "2019-09-13T00:00:00.000000000",
          "2019-09-14T00:00:00.000000000",
          "2019-09-15T00:00:00.000000000",
          "2019-09-20T00:00:00.000000000",
          "2019-09-21T00:00:00.000000000",
          "2019-09-22T00:00:00.000000000",
          "2019-09-28T00:00:00.000000000",
          "2019-09-29T00:00:00.000000000",
          "2019-10-04T00:00:00.000000000",
          "2019-10-05T00:00:00.000000000",
          "2019-10-06T00:00:00.000000000",
          "2019-10-18T00:00:00.000000000",
          "2019-10-19T00:00:00.000000000",
          "2019-10-20T00:00:00.000000000",
          "2019-10-25T00:00:00.000000000",
          "2019-10-26T00:00:00.000000000",
          "2019-10-27T00:00:00.000000000",
          "2019-10-29T00:00:00.000000000",
          "2019-10-30T00:00:00.000000000",
          "2019-10-31T00:00:00.000000000",
          "2019-11-02T00:00:00.000000000",
          "2019-11-03T00:00:00.000000000",
          "2019-11-08T00:00:00.000000000",
          "2019-11-09T00:00:00.000000000",
          "2019-11-10T00:00:00.000000000",
          "2019-11-21T00:00:00.000000000",
          "2019-11-22T00:00:00.000000000",
          "2019-11-23T00:00:00.000000000",
          "2019-11-24T00:00:00.000000000",
          "2019-11-29T00:00:00.000000000",
          "2019-11-30T00:00:00.000000000",
          "2019-12-01T00:00:00.000000000",
          "2019-12-06T00:00:00.000000000",
          "2019-12-07T00:00:00.000000000",
          "2019-12-08T00:00:00.000000000",
          "2019-12-13T00:00:00.000000000",
          "2019-12-14T00:00:00.000000000",
          "2019-12-15T00:00:00.000000000",
          "2019-12-20T00:00:00.000000000",
          "2019-12-21T00:00:00.000000000",
          "2019-12-22T00:00:00.000000000",
          "2019-12-26T00:00:00.000000000",
          "2019-12-27T00:00:00.000000000",
          "2020-01-17T00:00:00.000000000",
          "2020-01-18T00:00:00.000000000",
          "2020-01-19T00:00:00.000000000",
          "2020-01-24T00:00:00.000000000",
          "2020-01-25T00:00:00.000000000",
          "2020-01-26T00:00:00.000000000",
          "2020-01-29T00:00:00.000000000",
          "2020-01-31T00:00:00.000000000",
          "2020-02-01T00:00:00.000000000",
          "2020-02-02T00:00:00.000000000",
          "2020-02-07T00:00:00.000000000",
          "2020-02-08T00:00:00.000000000",
          "2020-02-11T00:00:00.000000000",
          "2020-02-12T00:00:00.000000000",
          "2020-02-13T00:00:00.000000000",
          "2020-02-14T00:00:00.000000000",
          "2020-02-15T00:00:00.000000000",
          "2020-02-16T00:00:00.000000000",
          "2020-02-21T00:00:00.000000000",
          "2020-02-22T00:00:00.000000000",
          "2020-02-23T00:00:00.000000000",
          "2020-02-28T00:00:00.000000000",
          "2020-02-29T00:00:00.000000000",
          "2020-03-01T00:00:00.000000000",
          "2020-03-07T00:00:00.000000000",
          "2020-08-08T00:00:00.000000000",
          "2020-08-09T00:00:00.000000000",
          "2020-08-10T00:00:00.000000000",
          "2020-08-14T00:00:00.000000000",
          "2020-08-15T00:00:00.000000000",
          "2020-08-16T00:00:00.000000000",
          "2020-08-17T00:00:00.000000000",
          "2020-08-21T00:00:00.000000000",
          "2020-08-22T00:00:00.000000000",
          "2020-08-23T00:00:00.000000000",
          "2020-08-24T00:00:00.000000000",
          "2020-08-28T00:00:00.000000000",
          "2020-08-29T00:00:00.000000000",
          "2020-08-30T00:00:00.000000000",
          "2020-09-11T00:00:00.000000000",
          "2020-09-12T00:00:00.000000000",
          "2020-09-13T00:00:00.000000000",
          "2020-09-14T00:00:00.000000000",
          "2020-09-18T00:00:00.000000000",
          "2020-09-19T00:00:00.000000000",
          "2020-09-20T00:00:00.000000000",
          "2020-09-21T00:00:00.000000000",
          "2020-09-25T00:00:00.000000000",
          "2020-09-26T00:00:00.000000000",
          "2020-09-27T00:00:00.000000000",
          "2020-09-28T00:00:00.000000000",
          "2020-10-02T00:00:00.000000000",
          "2020-10-03T00:00:00.000000000",
          "2020-10-04T00:00:00.000000000",
          "2020-10-17T00:00:00.000000000",
          "2020-10-18T00:00:00.000000000",
          "2020-10-23T00:00:00.000000000",
          "2020-10-24T00:00:00.000000000",
          "2020-10-25T00:00:00.000000000",
          "2020-10-26T00:00:00.000000000",
          "2020-10-30T00:00:00.000000000",
          "2020-10-31T00:00:00.000000000",
          "2020-11-01T00:00:00.000000000",
          "2020-11-02T00:00:00.000000000",
          "2020-11-06T00:00:00.000000000",
          "2020-11-07T00:00:00.000000000",
          "2020-11-08T00:00:00.000000000",
          "2020-11-21T00:00:00.000000000",
          "2020-11-22T00:00:00.000000000",
          "2020-11-23T00:00:00.000000000",
          "2020-11-24T00:00:00.000000000",
          "2020-11-25T00:00:00.000000000",
          "2020-11-27T00:00:00.000000000",
          "2020-11-28T00:00:00.000000000",
          "2020-11-29T00:00:00.000000000",
          "2020-11-30T00:00:00.000000000",
          "2020-12-01T00:00:00.000000000",
          "2020-12-02T00:00:00.000000000",
          "2020-12-03T00:00:00.000000000",
          "2020-12-04T00:00:00.000000000",
          "2020-12-05T00:00:00.000000000",
          "2020-12-06T00:00:00.000000000",
          "2020-12-07T00:00:00.000000000",
          "2020-12-08T00:00:00.000000000",
          "2020-12-11T00:00:00.000000000",
          "2020-12-12T00:00:00.000000000",
          "2020-12-13T00:00:00.000000000",
          "2020-12-15T00:00:00.000000000",
          "2020-12-16T00:00:00.000000000",
          "2020-12-17T00:00:00.000000000",
          "2020-12-18T00:00:00.000000000",
          "2020-12-19T00:00:00.000000000",
          "2020-12-20T00:00:00.000000000",
          "2020-12-26T00:00:00.000000000",
          "2020-12-27T00:00:00.000000000",
          "2020-12-29T00:00:00.000000000",
          "2020-12-30T00:00:00.000000000",
          "2021-01-06T00:00:00.000000000",
          "2021-01-09T00:00:00.000000000",
          "2021-01-10T00:00:00.000000000",
          "2021-01-11T00:00:00.000000000",
          "2021-01-12T00:00:00.000000000",
          "2021-01-13T00:00:00.000000000",
          "2021-01-15T00:00:00.000000000",
          "2021-01-16T00:00:00.000000000",
          "2021-01-17T00:00:00.000000000",
          "2021-01-19T00:00:00.000000000",
          "2021-01-20T00:00:00.000000000",
          "2021-01-21T00:00:00.000000000",
          "2021-01-22T00:00:00.000000000",
          "2021-01-23T00:00:00.000000000",
          "2021-01-24T00:00:00.000000000",
          "2021-01-26T00:00:00.000000000",
          "2021-01-27T00:00:00.000000000",
          "2021-01-28T00:00:00.000000000",
          "2021-01-29T00:00:00.000000000",
          "2021-01-30T00:00:00.000000000",
          "2021-01-31T00:00:00.000000000",
          "2021-02-05T00:00:00.000000000",
          "2021-02-06T00:00:00.000000000",
          "2021-02-07T00:00:00.000000000",
          "2021-02-12T00:00:00.000000000",
          "2021-02-13T00:00:00.000000000",
          "2021-02-14T00:00:00.000000000",
          "2021-02-15T00:00:00.000000000",
          "2021-02-17T00:00:00.000000000",
          "2021-02-19T00:00:00.000000000",
          "2021-02-20T00:00:00.000000000",
          "2021-02-21T00:00:00.000000000",
          "2021-02-22T00:00:00.000000000",
          "2021-02-26T00:00:00.000000000",
          "2021-02-27T00:00:00.000000000",
          "2021-02-28T00:00:00.000000000",
          "2021-03-01T00:00:00.000000000",
          "2021-03-05T00:00:00.000000000",
          "2021-03-06T00:00:00.000000000",
          "2021-03-07T00:00:00.000000000",
          "2021-03-08T00:00:00.000000000",
          "2021-03-12T00:00:00.000000000",
          "2021-03-15T00:00:00.000000000",
          "2021-03-19T00:00:00.000000000",
          "2021-03-20T00:00:00.000000000",
          "2021-03-21T00:00:00.000000000",
          "2021-04-03T00:00:00.000000000",
          "2021-04-04T00:00:00.000000000",
          "2021-04-05T00:00:00.000000000",
          "2021-04-06T00:00:00.000000000",
          "2021-04-07T00:00:00.000000000",
          "2021-04-09T00:00:00.000000000",
          "2021-04-10T00:00:00.000000000",
          "2021-04-11T00:00:00.000000000",
          "2021-04-12T00:00:00.000000000",
          "2021-04-17T00:00:00.000000000",
          "2021-04-18T00:00:00.000000000",
          "2021-07-23T00:00:00.000000000",
          "2021-07-24T00:00:00.000000000",
          "2021-07-25T00:00:00.000000000",
          "2021-07-27T00:00:00.000000000",
          "2021-07-30T00:00:00.000000000",
          "2021-07-31T00:00:00.000000000",
          "2021-08-01T00:00:00.000000000",
          "2021-08-06T00:00:00.000000000",
          "2021-08-07T00:00:00.000000000",
          "2021-08-08T00:00:00.000000000",
          "2021-08-13T00:00:00.000000000",
          "2021-08-14T00:00:00.000000000",
          "2021-08-15T00:00:00.000000000",
          "2021-08-20T00:00:00.000000000",
          "2021-08-21T00:00:00.000000000",
          "2021-08-22T00:00:00.000000000",
          "2021-08-27T00:00:00.000000000",
          "2021-08-28T00:00:00.000000000",
          "2021-08-29T00:00:00.000000000",
          "2021-09-10T00:00:00.000000000",
          "2021-09-11T00:00:00.000000000",
          "2021-09-12T00:00:00.000000000",
          "2021-09-13T00:00:00.000000000",
          "2021-09-17T00:00:00.000000000",
          "2021-09-18T00:00:00.000000000",
          "2021-09-19T00:00:00.000000000",
          "2021-09-22T00:00:00.000000000",
          "2021-09-23T00:00:00.000000000",
          "2021-09-24T00:00:00.000000000",
          "2021-09-25T00:00:00.000000000",
          "2021-09-26T00:00:00.000000000",
          "2021-10-01T00:00:00.000000000",
          "2021-10-02T00:00:00.000000000",
          "2021-10-03T00:00:00.000000000",
          "2021-10-15T00:00:00.000000000",
          "2021-10-16T00:00:00.000000000",
          "2021-10-17T00:00:00.000000000",
          "2021-10-22T00:00:00.000000000",
          "2021-10-23T00:00:00.000000000",
          "2021-10-24T00:00:00.000000000",
          "2021-10-29T00:00:00.000000000",
          "2021-10-30T00:00:00.000000000",
          "2021-10-31T00:00:00.000000000",
          "2021-11-05T00:00:00.000000000",
          "2021-11-06T00:00:00.000000000",
          "2021-11-07T00:00:00.000000000",
          "2021-11-19T00:00:00.000000000",
          "2021-11-20T00:00:00.000000000",
          "2021-11-21T00:00:00.000000000",
          "2021-11-26T00:00:00.000000000",
          "2021-11-27T00:00:00.000000000",
          "2021-11-28T00:00:00.000000000",
          "2021-12-03T00:00:00.000000000",
          "2021-12-04T00:00:00.000000000",
          "2021-12-05T00:00:00.000000000",
          "2021-12-10T00:00:00.000000000",
          "2021-12-11T00:00:00.000000000",
          "2021-12-12T00:00:00.000000000",
          "2021-12-14T00:00:00.000000000",
          "2021-12-15T00:00:00.000000000",
          "2021-12-16T00:00:00.000000000",
          "2021-12-17T00:00:00.000000000",
          "2021-12-18T00:00:00.000000000",
          "2021-12-19T00:00:00.000000000",
          "2021-12-26T00:00:00.000000000",
          "2021-12-27T00:00:00.000000000",
          "2022-01-14T00:00:00.000000000",
          "2022-01-15T00:00:00.000000000",
          "2022-01-16T00:00:00.000000000",
          "2022-01-18T00:00:00.000000000",
          "2022-01-21T00:00:00.000000000",
          "2022-01-22T00:00:00.000000000",
          "2022-01-23T00:00:00.000000000",
          "2022-01-25T00:00:00.000000000",
          "2022-01-26T00:00:00.000000000",
          "2022-01-27T00:00:00.000000000",
          "2022-01-28T00:00:00.000000000",
          "2022-01-29T00:00:00.000000000",
          "2022-01-30T00:00:00.000000000",
          "2022-02-02T00:00:00.000000000",
          "2022-02-04T00:00:00.000000000",
          "2022-02-05T00:00:00.000000000",
          "2022-02-06T00:00:00.000000000",
          "2022-02-09T00:00:00.000000000",
          "2022-02-11T00:00:00.000000000",
          "2022-02-12T00:00:00.000000000",
          "2022-02-13T00:00:00.000000000",
          "2022-02-16T00:00:00.000000000",
          "2022-02-19T00:00:00.000000000",
          "2022-02-20T00:00:00.000000000",
          "2022-02-23T00:00:00.000000000",
          "2022-02-25T00:00:00.000000000",
          "2022-02-26T00:00:00.000000000",
          "2022-02-27T00:00:00.000000000",
          "2022-03-02T00:00:00.000000000",
          "2022-03-04T00:00:00.000000000",
          "2022-03-05T00:00:00.000000000",
          "2022-03-06T00:00:00.000000000",
          "2022-03-11T00:00:00.000000000",
          "2022-03-12T00:00:00.000000000",
          "2022-03-13T00:00:00.000000000",
          "2022-03-18T00:00:00.000000000",
          "2022-03-19T00:00:00.000000000",
          "2022-03-20T00:00:00.000000000",
          "2022-04-01T00:00:00.000000000",
          "2022-04-02T00:00:00.000000000",
          "2022-04-03T00:00:00.000000000",
          "2022-04-09T00:00:00.000000000",
          "2022-04-10T00:00:00.000000000",
          "2022-07-22T00:00:00.000000000",
          "2022-07-23T00:00:00.000000000",
          "2022-07-24T00:00:00.000000000",
          "2022-07-29T00:00:00.000000000",
          "2022-07-30T00:00:00.000000000",
          "2022-07-31T00:00:00.000000000",
          "2022-08-05T00:00:00.000000000",
          "2022-08-06T00:00:00.000000000",
          "2022-08-07T00:00:00.000000000",
          "2022-08-12T00:00:00.000000000",
          "2022-08-13T00:00:00.000000000",
          "2022-08-14T00:00:00.000000000",
          "2022-08-19T00:00:00.000000000",
          "2022-08-20T00:00:00.000000000",
          "2022-08-21T00:00:00.000000000",
          "2022-08-26T00:00:00.000000000",
          "2022-08-27T00:00:00.000000000",
          "2022-08-28T00:00:00.000000000",
          "2022-08-31T00:00:00.000000000",
          "2022-09-01T00:00:00.000000000",
          "2022-09-02T00:00:00.000000000",
          "2022-09-03T00:00:00.000000000",
          "2022-09-04T00:00:00.000000000",
          "2022-09-09T00:00:00.000000000",
          "2022-09-10T00:00:00.000000000",
          "2022-09-11T00:00:00.000000000",
          "2022-09-16T00:00:00.000000000",
          "2022-09-17T00:00:00.000000000",
          "2022-09-18T00:00:00.000000000",
          "2022-09-30T00:00:00.000000000",
          "2022-10-01T00:00:00.000000000",
          "2022-10-02T00:00:00.000000000",
          "2022-10-07T00:00:00.000000000",
          "2022-10-08T00:00:00.000000000",
          "2022-10-09T00:00:00.000000000",
          "2022-10-14T00:00:00.000000000",
          "2022-10-15T00:00:00.000000000",
          "2022-10-16T00:00:00.000000000",
          "2022-10-18T00:00:00.000000000",
          "2022-10-19T00:00:00.000000000",
          "2022-10-20T00:00:00.000000000",
          "2022-10-21T00:00:00.000000000",
          "2022-10-22T00:00:00.000000000",
          "2022-10-23T00:00:00.000000000",
          "2022-10-28T00:00:00.000000000",
          "2022-10-29T00:00:00.000000000",
          "2022-10-30T00:00:00.000000000",
          "2022-11-04T00:00:00.000000000",
          "2022-11-05T00:00:00.000000000",
          "2022-11-06T00:00:00.000000000",
          "2022-11-11T00:00:00.000000000",
          "2022-11-12T00:00:00.000000000",
          "2022-11-13T00:00:00.000000000",
          "2022-12-23T00:00:00.000000000",
          "2022-12-26T00:00:00.000000000",
          "2022-12-27T00:00:00.000000000",
          "2023-01-06T00:00:00.000000000",
          "2023-01-07T00:00:00.000000000",
          "2023-01-08T00:00:00.000000000",
          "2023-01-13T00:00:00.000000000",
          "2023-01-14T00:00:00.000000000",
          "2023-01-15T00:00:00.000000000",
          "2023-01-17T00:00:00.000000000",
          "2023-01-18T00:00:00.000000000",
          "2023-01-19T00:00:00.000000000",
          "2023-01-21T00:00:00.000000000",
          "2023-01-22T00:00:00.000000000",
          "2023-01-27T00:00:00.000000000",
          "2023-01-28T00:00:00.000000000",
          "2023-01-29T00:00:00.000000000",
          "2023-02-01T00:00:00.000000000",
          "2023-02-03T00:00:00.000000000",
          "2023-02-04T00:00:00.000000000",
          "2023-02-05T00:00:00.000000000",
          "2023-02-10T00:00:00.000000000",
          "2023-02-11T00:00:00.000000000",
          "2023-02-12T00:00:00.000000000",
          "2023-02-17T00:00:00.000000000",
          "2023-02-18T00:00:00.000000000",
          "2023-02-19T00:00:00.000000000",
          "2023-02-24T00:00:00.000000000",
          "2023-02-25T00:00:00.000000000",
          "2023-02-26T00:00:00.000000000",
          "2023-03-03T00:00:00.000000000",
          "2023-03-04T00:00:00.000000000",
          "2023-03-05T00:00:00.000000000",
          "2023-03-10T00:00:00.000000000",
          "2023-03-11T00:00:00.000000000",
          "2023-03-12T00:00:00.000000000",
          "2023-03-17T00:00:00.000000000",
          "2023-03-18T00:00:00.000000000",
          "2023-03-19T00:00:00.000000000",
          "2023-03-31T00:00:00.000000000",
          "2023-04-01T00:00:00.000000000",
          "2023-04-02T00:00:00.000000000",
          "2023-04-07T00:00:00.000000000",
          "2023-04-08T00:00:00.000000000",
          "2023-04-09T00:00:00.000000000",
          "2023-04-14T00:00:00.000000000",
          "2023-04-15T00:00:00.000000000",
          "2023-04-16T00:00:00.000000000",
          "2023-04-22T00:00:00.000000000",
          "2023-04-23T00:00:00.000000000",
          "2023-07-28T00:00:00.000000000",
          "2023-07-29T00:00:00.000000000",
          "2023-07-30T00:00:00.000000000",
          "2023-08-04T00:00:00.000000000",
          "2023-08-05T00:00:00.000000000",
          "2023-08-06T00:00:00.000000000",
          "2023-08-11T00:00:00.000000000",
          "2023-08-12T00:00:00.000000000",
          "2023-08-13T00:00:00.000000000",
          "2023-08-18T00:00:00.000000000",
          "2023-08-19T00:00:00.000000000",
          "2023-08-20T00:00:00.000000000",
          "2023-08-26T00:00:00.000000000",
          "2023-08-27T00:00:00.000000000",
          "2023-09-01T00:00:00.000000000",
          "2023-09-02T00:00:00.000000000",
          "2023-09-03T00:00:00.000000000",
          "2023-09-15T00:00:00.000000000",
          "2023-09-16T00:00:00.000000000",
          "2023-09-17T00:00:00.000000000",
          "2023-09-22T00:00:00.000000000",
          "2023-09-23T00:00:00.000000000",
          "2023-09-24T00:00:00.000000000",
          "2023-09-27T00:00:00.000000000",
          "2023-09-28T00:00:00.000000000",
          "2023-09-29T00:00:00.000000000",
          "2023-09-30T00:00:00.000000000",
          "2023-10-01T00:00:00.000000000",
          "2023-10-06T00:00:00.000000000",
          "2023-10-07T00:00:00.000000000",
          "2023-10-08T00:00:00.000000000",
          "2023-10-20T00:00:00.000000000",
          "2023-10-21T00:00:00.000000000",
          "2023-10-22T00:00:00.000000000",
          "2023-10-27T00:00:00.000000000",
          "2023-10-28T00:00:00.000000000",
          "2023-10-29T00:00:00.000000000",
          "2023-11-03T00:00:00.000000000",
          "2023-11-04T00:00:00.000000000",
          "2023-11-05T00:00:00.000000000",
          "2023-11-10T00:00:00.000000000",
          "2023-11-11T00:00:00.000000000",
          "2023-11-12T00:00:00.000000000",
          "2023-11-24T00:00:00.000000000",
          "2023-11-25T00:00:00.000000000",
          "2023-11-26T00:00:00.000000000",
          "2023-12-01T00:00:00.000000000",
          "2023-12-02T00:00:00.000000000",
          "2023-12-03T00:00:00.000000000",
          "2023-12-08T00:00:00.000000000",
          "2023-12-09T00:00:00.000000000",
          "2023-12-10T00:00:00.000000000",
          "2023-12-15T00:00:00.000000000",
          "2023-12-16T00:00:00.000000000",
          "2023-12-17T00:00:00.000000000",
          "2023-12-20T00:00:00.000000000",
          "2023-12-21T00:00:00.000000000",
          "2023-12-22T00:00:00.000000000",
          "2023-12-23T00:00:00.000000000",
          "2023-12-26T00:00:00.000000000",
          "2023-12-27T00:00:00.000000000",
          "2024-01-19T00:00:00.000000000",
          "2024-01-20T00:00:00.000000000",
          "2024-01-21T00:00:00.000000000",
          "2024-01-24T00:00:00.000000000",
          "2024-01-26T00:00:00.000000000",
          "2024-01-27T00:00:00.000000000",
          "2024-01-28T00:00:00.000000000",
          "2024-01-30T00:00:00.000000000",
          "2024-01-31T00:00:00.000000000",
          "2024-02-01T00:00:00.000000000",
          "2024-02-03T00:00:00.000000000",
          "2024-02-04T00:00:00.000000000",
          "2024-02-09T00:00:00.000000000",
          "2024-02-10T00:00:00.000000000",
          "2024-02-11T00:00:00.000000000",
          "2024-02-16T00:00:00.000000000",
          "2024-02-17T00:00:00.000000000",
          "2024-02-18T00:00:00.000000000",
          "2024-02-23T00:00:00.000000000",
          "2024-02-24T00:00:00.000000000",
          "2024-02-25T00:00:00.000000000",
          "2024-03-01T00:00:00.000000000",
          "2024-03-02T00:00:00.000000000",
          "2024-03-03T00:00:00.000000000",
          "2024-03-08T00:00:00.000000000",
          "2024-03-09T00:00:00.000000000",
          "2024-03-10T00:00:00.000000000",
          "2024-03-16T00:00:00.000000000",
          "2024-03-17T00:00:00.000000000",
          "2024-03-29T00:00:00.000000000",
          "2024-03-30T00:00:00.000000000",
          "2024-03-31T00:00:00.000000000",
          "2024-04-01T00:00:00.000000000",
          "2024-04-05T00:00:00.000000000",
          "2024-04-06T00:00:00.000000000",
          "2024-04-07T00:00:00.000000000",
          "2024-04-12T00:00:00.000000000",
          "2024-04-13T00:00:00.000000000",
          "2024-04-14T00:00:00.000000000",
          "2024-04-20T00:00:00.000000000",
          "2024-04-21T00:00:00.000000000",
          "2024-04-23T00:00:00.000000000",
          "2024-04-24T00:00:00.000000000",
          "2024-04-25T00:00:00.000000000",
          "2024-04-26T00:00:00.000000000",
          "2024-04-27T00:00:00.000000000",
          "2024-04-28T00:00:00.000000000",
          "2024-05-03T00:00:00.000000000",
          "2024-05-04T00:00:00.000000000",
          "2024-05-05T00:00:00.000000000",
          "2024-05-11T00:00:00.000000000",
          "2024-05-12T00:00:00.000000000",
          "2024-05-13T00:00:00.000000000",
          "2024-05-17T00:00:00.000000000",
          "2024-05-18T00:00:00.000000000",
          "2024-05-19T00:00:00.000000000",
          "2024-05-20T00:00:00.000000000",
          "2024-05-25T00:00:00.000000000",
          "2024-05-26T00:00:00.000000000",
          "2024-06-02T00:00:00.000000000",
          "2024-07-26T00:00:00.000000000",
          "2024-07-27T00:00:00.000000000",
          "2024-07-28T00:00:00.000000000",
          "2024-08-02T00:00:00.000000000",
          "2024-08-03T00:00:00.000000000",
          "2024-08-04T00:00:00.000000000",
          "2024-08-09T00:00:00.000000000",
          "2024-08-10T00:00:00.000000000",
          "2024-08-11T00:00:00.000000000",
          "2024-08-16T00:00:00.000000000",
          "2024-08-17T00:00:00.000000000",
          "2024-08-18T00:00:00.000000000",
          "2024-08-24T00:00:00.000000000",
          "2024-08-25T00:00:00.000000000",
          "2024-08-30T00:00:00.000000000",
          "2024-08-31T00:00:00.000000000",
          "2024-09-01T00:00:00.000000000"
         ],
         "xaxis": "x",
         "y": {
          "bdata": "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",
          "dtype": "f8"
         },
         "yaxis": "y"
        }
       ],
       "layout": {
        "legend": {
         "tracegroupgap": 0
        },
        "template": {
         "data": {
          "bar": [
           {
            "error_x": {
             "color": "#2a3f5f"
            },
            "error_y": {
             "color": "#2a3f5f"
            },
            "marker": {
             "line": {
              "color": "#E5ECF6",
              "width": 0.5
             },
             "pattern": {
              "fillmode": "overlay",
              "size": 10,
              "solidity": 0.2
             }
            },
            "type": "bar"
           }
          ],
          "barpolar": [
           {
            "marker": {
             "line": {
              "color": "#E5ECF6",
              "width": 0.5
             },
             "pattern": {
              "fillmode": "overlay",
              "size": 10,
              "solidity": 0.2
             }
            },
            "type": "barpolar"
           }
          ],
          "carpet": [
           {
            "aaxis": {
             "endlinecolor": "#2a3f5f",
             "gridcolor": "white",
             "linecolor": "white",
             "minorgridcolor": "white",
             "startlinecolor": "#2a3f5f"
            },
            "baxis": {
             "endlinecolor": "#2a3f5f",
             "gridcolor": "white",
             "linecolor": "white",
             "minorgridcolor": "white",
             "startlinecolor": "#2a3f5f"
            },
            "type": "carpet"
           }
          ],
          "choropleth": [
           {
            "colorbar": {
             "outlinewidth": 0,
             "ticks": ""
            },
            "type": "choropleth"
           }
          ],
          "contour": [
           {
            "colorbar": {
             "outlinewidth": 0,
             "ticks": ""
            },
            "colorscale": [
             [
              0,
              "#0d0887"
             ],
             [
              0.1111111111111111,
              "#46039f"
             ],
             [
              0.2222222222222222,
              "#7201a8"
             ],
             [
              0.3333333333333333,
              "#9c179e"
             ],
             [
              0.4444444444444444,
              "#bd3786"
             ],
             [
              0.5555555555555556,
              "#d8576b"
             ],
             [
              0.6666666666666666,
              "#ed7953"
             ],
             [
              0.7777777777777778,
              "#fb9f3a"
             ],
             [
              0.8888888888888888,
              "#fdca26"
             ],
             [
              1,
              "#f0f921"
             ]
            ],
            "type": "contour"
           }
          ],
          "contourcarpet": [
           {
            "colorbar": {
             "outlinewidth": 0,
             "ticks": ""
            },
            "type": "contourcarpet"
           }
          ],
          "heatmap": [
           {
            "colorbar": {
             "outlinewidth": 0,
             "ticks": ""
            },
            "colorscale": [
             [
              0,
              "#0d0887"
             ],
             [
              0.1111111111111111,
              "#46039f"
             ],
             [
              0.2222222222222222,
              "#7201a8"
             ],
             [
              0.3333333333333333,
              "#9c179e"
             ],
             [
              0.4444444444444444,
              "#bd3786"
             ],
             [
              0.5555555555555556,
              "#d8576b"
             ],
             [
              0.6666666666666666,
              "#ed7953"
             ],
             [
              0.7777777777777778,
              "#fb9f3a"
             ],
             [
              0.8888888888888888,
              "#fdca26"
             ],
             [
              1,
              "#f0f921"
             ]
            ],
            "type": "heatmap"
           }
          ],
          "histogram": [
           {
            "marker": {
             "pattern": {
              "fillmode": "overlay",
              "size": 10,
              "solidity": 0.2
             }
            },
            "type": "histogram"
           }
          ],
          "histogram2d": [
           {
            "colorbar": {
             "outlinewidth": 0,
             "ticks": ""
            },
            "colorscale": [
             [
              0,
              "#0d0887"
             ],
             [
              0.1111111111111111,
              "#46039f"
             ],
             [
              0.2222222222222222,
              "#7201a8"
             ],
             [
              0.3333333333333333,
              "#9c179e"
             ],
             [
              0.4444444444444444,
              "#bd3786"
             ],
             [
              0.5555555555555556,
              "#d8576b"
             ],
             [
              0.6666666666666666,
              "#ed7953"
             ],
             [
              0.7777777777777778,
              "#fb9f3a"
             ],
             [
              0.8888888888888888,
              "#fdca26"
             ],
             [
              1,
              "#f0f921"
             ]
            ],
            "type": "histogram2d"
           }
          ],
          "histogram2dcontour": [
           {
            "colorbar": {
             "outlinewidth": 0,
             "ticks": ""
            },
            "colorscale": [
             [
              0,
              "#0d0887"
             ],
             [
              0.1111111111111111,
              "#46039f"
             ],
             [
              0.2222222222222222,
              "#7201a8"
             ],
             [
              0.3333333333333333,
              "#9c179e"
             ],
             [
              0.4444444444444444,
              "#bd3786"
             ],
             [
              0.5555555555555556,
              "#d8576b"
             ],
             [
              0.6666666666666666,
              "#ed7953"
             ],
             [
              0.7777777777777778,
              "#fb9f3a"
             ],
             [
              0.8888888888888888,
              "#fdca26"
             ],
             [
              1,
              "#f0f921"
             ]
            ],
            "type": "histogram2dcontour"
           }
          ],
          "mesh3d": [
           {
            "colorbar": {
             "outlinewidth": 0,
             "ticks": ""
            },
            "type": "mesh3d"
           }
          ],
          "parcoords": [
           {
            "line": {
             "colorbar": {
              "outlinewidth": 0,
              "ticks": ""
             }
            },
            "type": "parcoords"
           }
          ],
          "pie": [
           {
            "automargin": true,
            "type": "pie"
           }
          ],
          "scatter": [
           {
            "fillpattern": {
             "fillmode": "overlay",
             "size": 10,
             "solidity": 0.2
            },
            "type": "scatter"
           }
          ],
          "scatter3d": [
           {
            "line": {
             "colorbar": {
              "outlinewidth": 0,
              "ticks": ""
             }
            },
            "marker": {
             "colorbar": {
              "outlinewidth": 0,
              "ticks": ""
             }
            },
            "type": "scatter3d"
           }
          ],
          "scattercarpet": [
           {
            "marker": {
             "colorbar": {
              "outlinewidth": 0,
              "ticks": ""
             }
            },
            "type": "scattercarpet"
           }
          ],
          "scattergeo": [
           {
            "marker": {
             "colorbar": {
              "outlinewidth": 0,
              "ticks": ""
             }
            },
            "type": "scattergeo"
           }
          ],
          "scattergl": [
           {
            "marker": {
             "colorbar": {
              "outlinewidth": 0,
              "ticks": ""
             }
            },
            "type": "scattergl"
           }
          ],
          "scattermap": [
           {
            "marker": {
             "colorbar": {
              "outlinewidth": 0,
              "ticks": ""
             }
            },
            "type": "scattermap"
           }
          ],
          "scattermapbox": [
           {
            "marker": {
             "colorbar": {
              "outlinewidth": 0,
              "ticks": ""
             }
            },
            "type": "scattermapbox"
           }
          ],
          "scatterpolar": [
           {
            "marker": {
             "colorbar": {
              "outlinewidth": 0,
              "ticks": ""
             }
            },
            "type": "scatterpolar"
           }
          ],
          "scatterpolargl": [
           {
            "marker": {
             "colorbar": {
              "outlinewidth": 0,
              "ticks": ""
             }
            },
            "type": "scatterpolargl"
           }
          ],
          "scatterternary": [
           {
            "marker": {
             "colorbar": {
              "outlinewidth": 0,
              "ticks": ""
             }
            },
            "type": "scatterternary"
           }
          ],
          "surface": [
           {
            "colorbar": {
             "outlinewidth": 0,
             "ticks": ""
            },
            "colorscale": [
             [
              0,
              "#0d0887"
             ],
             [
              0.1111111111111111,
              "#46039f"
             ],
             [
              0.2222222222222222,
              "#7201a8"
             ],
             [
              0.3333333333333333,
              "#9c179e"
             ],
             [
              0.4444444444444444,
              "#bd3786"
             ],
             [
              0.5555555555555556,
              "#d8576b"
             ],
             [
              0.6666666666666666,
              "#ed7953"
             ],
             [
              0.7777777777777778,
              "#fb9f3a"
             ],
             [
              0.8888888888888888,
              "#fdca26"
             ],
             [
              1,
              "#f0f921"
             ]
            ],
            "type": "surface"
           }
          ],
          "table": [
           {
            "cells": {
             "fill": {
              "color": "#EBF0F8"
             },
             "line": {
              "color": "white"
             }
            },
            "header": {
             "fill": {
              "color": "#C8D4E3"
             },
             "line": {
              "color": "white"
             }
            },
            "type": "table"
           }
          ]
         },
         "layout": {
          "annotationdefaults": {
           "arrowcolor": "#2a3f5f",
           "arrowhead": 0,
           "arrowwidth": 1
          },
          "autotypenumbers": "strict",
          "coloraxis": {
           "colorbar": {
            "outlinewidth": 0,
            "ticks": ""
           }
          },
          "colorscale": {
           "diverging": [
            [
             0,
             "#8e0152"
            ],
            [
             0.1,
             "#c51b7d"
            ],
            [
             0.2,
             "#de77ae"
            ],
            [
             0.3,
             "#f1b6da"
            ],
            [
             0.4,
             "#fde0ef"
            ],
            [
             0.5,
             "#f7f7f7"
            ],
            [
             0.6,
             "#e6f5d0"
            ],
            [
             0.7,
             "#b8e186"
            ],
            [
             0.8,
             "#7fbc41"
            ],
            [
             0.9,
             "#4d9221"
            ],
            [
             1,
             "#276419"
            ]
           ],
           "sequential": [
            [
             0,
             "#0d0887"
            ],
            [
             0.1111111111111111,
             "#46039f"
            ],
            [
             0.2222222222222222,
             "#7201a8"
            ],
            [
             0.3333333333333333,
             "#9c179e"
            ],
            [
             0.4444444444444444,
             "#bd3786"
            ],
            [
             0.5555555555555556,
             "#d8576b"
            ],
            [
             0.6666666666666666,
             "#ed7953"
            ],
            [
             0.7777777777777778,
             "#fb9f3a"
            ],
            [
             0.8888888888888888,
             "#fdca26"
            ],
            [
             1,
             "#f0f921"
            ]
           ],
           "sequentialminus": [
            [
             0,
             "#0d0887"
            ],
            [
             0.1111111111111111,
             "#46039f"
            ],
            [
             0.2222222222222222,
             "#7201a8"
            ],
            [
             0.3333333333333333,
             "#9c179e"
            ],
            [
             0.4444444444444444,
             "#bd3786"
            ],
            [
             0.5555555555555556,
             "#d8576b"
            ],
            [
             0.6666666666666666,
             "#ed7953"
            ],
            [
             0.7777777777777778,
             "#fb9f3a"
            ],
            [
             0.8888888888888888,
             "#fdca26"
            ],
            [
             1,
             "#f0f921"
            ]
           ]
          },
          "colorway": [
           "#636efa",
           "#EF553B",
           "#00cc96",
           "#ab63fa",
           "#FFA15A",
           "#19d3f3",
           "#FF6692",
           "#B6E880",
           "#FF97FF",
           "#FECB52"
          ],
          "font": {
           "color": "#2a3f5f"
          },
          "geo": {
           "bgcolor": "white",
           "lakecolor": "white",
           "landcolor": "#E5ECF6",
           "showlakes": true,
           "showland": true,
           "subunitcolor": "white"
          },
          "hoverlabel": {
           "align": "left"
          },
          "hovermode": "closest",
          "mapbox": {
           "style": "light"
          },
          "paper_bgcolor": "white",
          "plot_bgcolor": "#E5ECF6",
          "polar": {
           "angularaxis": {
            "gridcolor": "white",
            "linecolor": "white",
            "ticks": ""
           },
           "bgcolor": "#E5ECF6",
           "radialaxis": {
            "gridcolor": "white",
            "linecolor": "white",
            "ticks": ""
           }
          },
          "scene": {
           "xaxis": {
            "backgroundcolor": "#E5ECF6",
            "gridcolor": "white",
            "gridwidth": 2,
            "linecolor": "white",
            "showbackground": true,
            "ticks": "",
            "zerolinecolor": "white"
           },
           "yaxis": {
            "backgroundcolor": "#E5ECF6",
            "gridcolor": "white",
            "gridwidth": 2,
            "linecolor": "white",
            "showbackground": true,
            "ticks": "",
            "zerolinecolor": "white"
           },
           "zaxis": {
            "backgroundcolor": "#E5ECF6",
            "gridcolor": "white",
            "gridwidth": 2,
            "linecolor": "white",
            "showbackground": true,
            "ticks": "",
            "zerolinecolor": "white"
           }
          },
          "shapedefaults": {
           "line": {
            "color": "#2a3f5f"
           }
          },
          "ternary": {
           "aaxis": {
            "gridcolor": "white",
            "linecolor": "white",
            "ticks": ""
           },
           "baxis": {
            "gridcolor": "white",
            "linecolor": "white",
            "ticks": ""
           },
           "bgcolor": "#E5ECF6",
           "caxis": {
            "gridcolor": "white",
            "linecolor": "white",
            "ticks": ""
           }
          },
          "title": {
           "x": 0.05
          },
          "xaxis": {
           "automargin": true,
           "gridcolor": "white",
           "linecolor": "white",
           "ticks": "",
           "title": {
            "standoff": 15
           },
           "zerolinecolor": "white",
           "zerolinewidth": 2
          },
          "yaxis": {
           "automargin": true,
           "gridcolor": "white",
           "linecolor": "white",
           "ticks": "",
           "title": {
            "standoff": 15
           },
           "zerolinecolor": "white",
           "zerolinewidth": 2
          }
         }
        },
        "title": {
         "text": "Avg Home Goals Over Time (With Season Gaps)"
        },
        "xaxis": {
         "anchor": "y",
         "domain": [
          0,
          1
         ],
         "title": {
          "text": "Date"
         }
        },
        "yaxis": {
         "anchor": "x",
         "domain": [
          0,
          1
         ],
         "title": {
          "text": "Avg Home Goals"
         }
        }
       }
      }
     },
     "metadata": {},
     "output_type": "display_data"
    }
   ],
   "source": [
    "# Group by date to show average goals scored by home teams per matchday\n",
    "daily_goals = df.groupby('Date')['FTHG'].mean().reset_index()\n",
    "\n",
    "\n",
    "# Calculate time gaps between rows\n",
    "daily_goals['PrevDate'] = daily_goals['Date'].shift(1)\n",
    "daily_goals['Gap'] = (daily_goals['Date'] - daily_goals['PrevDate']).dt.days\n",
    "\n",
    "# Insert NaN for big gaps\n",
    "daily_goals['FTHG_clean'] = np.where(daily_goals['Gap'] > 30, np.nan, daily_goals['FTHG'])\n",
    "\n",
    "# Plot the cleaned series\n",
    "fig = px.line(\n",
    "    daily_goals,\n",
    "    x='Date',\n",
    "    y='FTHG_clean',\n",
    "    title='Avg Home Goals Over Time (With Season Gaps)',\n",
    "    labels={'FTHG_clean': 'Avg Home Goals'}\n",
    ")\n",
    "fig.show()\n"
   ]
  },
  {
   "cell_type": "code",
   "execution_count": 19,
   "id": "02c5cd9f",
   "metadata": {},
   "outputs": [
    {
     "data": {
      "application/vnd.plotly.v1+json": {
       "config": {
        "plotlyServerURL": "https://plot.ly"
       },
       "data": [
        {
         "name": "Home Teams",
         "type": "bar",
         "visible": true,
         "x": [
          "Club Brugge",
          "Gent",
          "Genk",
          "St. Gilloise",
          "Antwerp",
          "Westerlo",
          "Anderlecht",
          "Mechelen",
          "Dender",
          "Waregem"
         ],
         "y": {
          "bdata": "mMMc5jCHAUCKUIQiFKEAQIELXOACFwBABPcR3Edw/z/poosuuuj+PwAAAAAAAP4/dNFFF110/T/Sj370ox/9P6uqqqqqqvo/qZVaqZVa+T8=",
          "dtype": "f8"
         }
        },
        {
         "name": "Away Teams",
         "type": "bar",
         "visible": false,
         "x": [
          "Dender",
          "St. Gilloise",
          "Club Brugge",
          "Genk",
          "Gent",
          "Anderlecht",
          "Charleroi",
          "Antwerp",
          "Westerlo",
          "Oud-Heverlee Leuven"
         ],
         "y": {
          "bdata": "q6qqqqqqAkA2lNdQXkMBQEYXXXTRRf0/XXTRRRdd+j/poosuuuj4PwAAAAAAAPg/WO5phOWe9j9c4AIXuMD1P+ZbvuVbvvU/fdYNpshn9T8=",
          "dtype": "f8"
         }
        }
       ],
       "layout": {
        "height": 500,
        "template": {
         "data": {
          "bar": [
           {
            "error_x": {
             "color": "#2a3f5f"
            },
            "error_y": {
             "color": "#2a3f5f"
            },
            "marker": {
             "line": {
              "color": "#E5ECF6",
              "width": 0.5
             },
             "pattern": {
              "fillmode": "overlay",
              "size": 10,
              "solidity": 0.2
             }
            },
            "type": "bar"
           }
          ],
          "barpolar": [
           {
            "marker": {
             "line": {
              "color": "#E5ECF6",
              "width": 0.5
             },
             "pattern": {
              "fillmode": "overlay",
              "size": 10,
              "solidity": 0.2
             }
            },
            "type": "barpolar"
           }
          ],
          "carpet": [
           {
            "aaxis": {
             "endlinecolor": "#2a3f5f",
             "gridcolor": "white",
             "linecolor": "white",
             "minorgridcolor": "white",
             "startlinecolor": "#2a3f5f"
            },
            "baxis": {
             "endlinecolor": "#2a3f5f",
             "gridcolor": "white",
             "linecolor": "white",
             "minorgridcolor": "white",
             "startlinecolor": "#2a3f5f"
            },
            "type": "carpet"
           }
          ],
          "choropleth": [
           {
            "colorbar": {
             "outlinewidth": 0,
             "ticks": ""
            },
            "type": "choropleth"
           }
          ],
          "contour": [
           {
            "colorbar": {
             "outlinewidth": 0,
             "ticks": ""
            },
            "colorscale": [
             [
              0,
              "#0d0887"
             ],
             [
              0.1111111111111111,
              "#46039f"
             ],
             [
              0.2222222222222222,
              "#7201a8"
             ],
             [
              0.3333333333333333,
              "#9c179e"
             ],
             [
              0.4444444444444444,
              "#bd3786"
             ],
             [
              0.5555555555555556,
              "#d8576b"
             ],
             [
              0.6666666666666666,
              "#ed7953"
             ],
             [
              0.7777777777777778,
              "#fb9f3a"
             ],
             [
              0.8888888888888888,
              "#fdca26"
             ],
             [
              1,
              "#f0f921"
             ]
            ],
            "type": "contour"
           }
          ],
          "contourcarpet": [
           {
            "colorbar": {
             "outlinewidth": 0,
             "ticks": ""
            },
            "type": "contourcarpet"
           }
          ],
          "heatmap": [
           {
            "colorbar": {
             "outlinewidth": 0,
             "ticks": ""
            },
            "colorscale": [
             [
              0,
              "#0d0887"
             ],
             [
              0.1111111111111111,
              "#46039f"
             ],
             [
              0.2222222222222222,
              "#7201a8"
             ],
             [
              0.3333333333333333,
              "#9c179e"
             ],
             [
              0.4444444444444444,
              "#bd3786"
             ],
             [
              0.5555555555555556,
              "#d8576b"
             ],
             [
              0.6666666666666666,
              "#ed7953"
             ],
             [
              0.7777777777777778,
              "#fb9f3a"
             ],
             [
              0.8888888888888888,
              "#fdca26"
             ],
             [
              1,
              "#f0f921"
             ]
            ],
            "type": "heatmap"
           }
          ],
          "histogram": [
           {
            "marker": {
             "pattern": {
              "fillmode": "overlay",
              "size": 10,
              "solidity": 0.2
             }
            },
            "type": "histogram"
           }
          ],
          "histogram2d": [
           {
            "colorbar": {
             "outlinewidth": 0,
             "ticks": ""
            },
            "colorscale": [
             [
              0,
              "#0d0887"
             ],
             [
              0.1111111111111111,
              "#46039f"
             ],
             [
              0.2222222222222222,
              "#7201a8"
             ],
             [
              0.3333333333333333,
              "#9c179e"
             ],
             [
              0.4444444444444444,
              "#bd3786"
             ],
             [
              0.5555555555555556,
              "#d8576b"
             ],
             [
              0.6666666666666666,
              "#ed7953"
             ],
             [
              0.7777777777777778,
              "#fb9f3a"
             ],
             [
              0.8888888888888888,
              "#fdca26"
             ],
             [
              1,
              "#f0f921"
             ]
            ],
            "type": "histogram2d"
           }
          ],
          "histogram2dcontour": [
           {
            "colorbar": {
             "outlinewidth": 0,
             "ticks": ""
            },
            "colorscale": [
             [
              0,
              "#0d0887"
             ],
             [
              0.1111111111111111,
              "#46039f"
             ],
             [
              0.2222222222222222,
              "#7201a8"
             ],
             [
              0.3333333333333333,
              "#9c179e"
             ],
             [
              0.4444444444444444,
              "#bd3786"
             ],
             [
              0.5555555555555556,
              "#d8576b"
             ],
             [
              0.6666666666666666,
              "#ed7953"
             ],
             [
              0.7777777777777778,
              "#fb9f3a"
             ],
             [
              0.8888888888888888,
              "#fdca26"
             ],
             [
              1,
              "#f0f921"
             ]
            ],
            "type": "histogram2dcontour"
           }
          ],
          "mesh3d": [
           {
            "colorbar": {
             "outlinewidth": 0,
             "ticks": ""
            },
            "type": "mesh3d"
           }
          ],
          "parcoords": [
           {
            "line": {
             "colorbar": {
              "outlinewidth": 0,
              "ticks": ""
             }
            },
            "type": "parcoords"
           }
          ],
          "pie": [
           {
            "automargin": true,
            "type": "pie"
           }
          ],
          "scatter": [
           {
            "fillpattern": {
             "fillmode": "overlay",
             "size": 10,
             "solidity": 0.2
            },
            "type": "scatter"
           }
          ],
          "scatter3d": [
           {
            "line": {
             "colorbar": {
              "outlinewidth": 0,
              "ticks": ""
             }
            },
            "marker": {
             "colorbar": {
              "outlinewidth": 0,
              "ticks": ""
             }
            },
            "type": "scatter3d"
           }
          ],
          "scattercarpet": [
           {
            "marker": {
             "colorbar": {
              "outlinewidth": 0,
              "ticks": ""
             }
            },
            "type": "scattercarpet"
           }
          ],
          "scattergeo": [
           {
            "marker": {
             "colorbar": {
              "outlinewidth": 0,
              "ticks": ""
             }
            },
            "type": "scattergeo"
           }
          ],
          "scattergl": [
           {
            "marker": {
             "colorbar": {
              "outlinewidth": 0,
              "ticks": ""
             }
            },
            "type": "scattergl"
           }
          ],
          "scattermap": [
           {
            "marker": {
             "colorbar": {
              "outlinewidth": 0,
              "ticks": ""
             }
            },
            "type": "scattermap"
           }
          ],
          "scattermapbox": [
           {
            "marker": {
             "colorbar": {
              "outlinewidth": 0,
              "ticks": ""
             }
            },
            "type": "scattermapbox"
           }
          ],
          "scatterpolar": [
           {
            "marker": {
             "colorbar": {
              "outlinewidth": 0,
              "ticks": ""
             }
            },
            "type": "scatterpolar"
           }
          ],
          "scatterpolargl": [
           {
            "marker": {
             "colorbar": {
              "outlinewidth": 0,
              "ticks": ""
             }
            },
            "type": "scatterpolargl"
           }
          ],
          "scatterternary": [
           {
            "marker": {
             "colorbar": {
              "outlinewidth": 0,
              "ticks": ""
             }
            },
            "type": "scatterternary"
           }
          ],
          "surface": [
           {
            "colorbar": {
             "outlinewidth": 0,
             "ticks": ""
            },
            "colorscale": [
             [
              0,
              "#0d0887"
             ],
             [
              0.1111111111111111,
              "#46039f"
             ],
             [
              0.2222222222222222,
              "#7201a8"
             ],
             [
              0.3333333333333333,
              "#9c179e"
             ],
             [
              0.4444444444444444,
              "#bd3786"
             ],
             [
              0.5555555555555556,
              "#d8576b"
             ],
             [
              0.6666666666666666,
              "#ed7953"
             ],
             [
              0.7777777777777778,
              "#fb9f3a"
             ],
             [
              0.8888888888888888,
              "#fdca26"
             ],
             [
              1,
              "#f0f921"
             ]
            ],
            "type": "surface"
           }
          ],
          "table": [
           {
            "cells": {
             "fill": {
              "color": "#EBF0F8"
             },
             "line": {
              "color": "white"
             }
            },
            "header": {
             "fill": {
              "color": "#C8D4E3"
             },
             "line": {
              "color": "white"
             }
            },
            "type": "table"
           }
          ]
         },
         "layout": {
          "annotationdefaults": {
           "arrowcolor": "#2a3f5f",
           "arrowhead": 0,
           "arrowwidth": 1
          },
          "autotypenumbers": "strict",
          "coloraxis": {
           "colorbar": {
            "outlinewidth": 0,
            "ticks": ""
           }
          },
          "colorscale": {
           "diverging": [
            [
             0,
             "#8e0152"
            ],
            [
             0.1,
             "#c51b7d"
            ],
            [
             0.2,
             "#de77ae"
            ],
            [
             0.3,
             "#f1b6da"
            ],
            [
             0.4,
             "#fde0ef"
            ],
            [
             0.5,
             "#f7f7f7"
            ],
            [
             0.6,
             "#e6f5d0"
            ],
            [
             0.7,
             "#b8e186"
            ],
            [
             0.8,
             "#7fbc41"
            ],
            [
             0.9,
             "#4d9221"
            ],
            [
             1,
             "#276419"
            ]
           ],
           "sequential": [
            [
             0,
             "#0d0887"
            ],
            [
             0.1111111111111111,
             "#46039f"
            ],
            [
             0.2222222222222222,
             "#7201a8"
            ],
            [
             0.3333333333333333,
             "#9c179e"
            ],
            [
             0.4444444444444444,
             "#bd3786"
            ],
            [
             0.5555555555555556,
             "#d8576b"
            ],
            [
             0.6666666666666666,
             "#ed7953"
            ],
            [
             0.7777777777777778,
             "#fb9f3a"
            ],
            [
             0.8888888888888888,
             "#fdca26"
            ],
            [
             1,
             "#f0f921"
            ]
           ],
           "sequentialminus": [
            [
             0,
             "#0d0887"
            ],
            [
             0.1111111111111111,
             "#46039f"
            ],
            [
             0.2222222222222222,
             "#7201a8"
            ],
            [
             0.3333333333333333,
             "#9c179e"
            ],
            [
             0.4444444444444444,
             "#bd3786"
            ],
            [
             0.5555555555555556,
             "#d8576b"
            ],
            [
             0.6666666666666666,
             "#ed7953"
            ],
            [
             0.7777777777777778,
             "#fb9f3a"
            ],
            [
             0.8888888888888888,
             "#fdca26"
            ],
            [
             1,
             "#f0f921"
            ]
           ]
          },
          "colorway": [
           "#636efa",
           "#EF553B",
           "#00cc96",
           "#ab63fa",
           "#FFA15A",
           "#19d3f3",
           "#FF6692",
           "#B6E880",
           "#FF97FF",
           "#FECB52"
          ],
          "font": {
           "color": "#2a3f5f"
          },
          "geo": {
           "bgcolor": "white",
           "lakecolor": "white",
           "landcolor": "#E5ECF6",
           "showlakes": true,
           "showland": true,
           "subunitcolor": "white"
          },
          "hoverlabel": {
           "align": "left"
          },
          "hovermode": "closest",
          "mapbox": {
           "style": "light"
          },
          "paper_bgcolor": "white",
          "plot_bgcolor": "#E5ECF6",
          "polar": {
           "angularaxis": {
            "gridcolor": "white",
            "linecolor": "white",
            "ticks": ""
           },
           "bgcolor": "#E5ECF6",
           "radialaxis": {
            "gridcolor": "white",
            "linecolor": "white",
            "ticks": ""
           }
          },
          "scene": {
           "xaxis": {
            "backgroundcolor": "#E5ECF6",
            "gridcolor": "white",
            "gridwidth": 2,
            "linecolor": "white",
            "showbackground": true,
            "ticks": "",
            "zerolinecolor": "white"
           },
           "yaxis": {
            "backgroundcolor": "#E5ECF6",
            "gridcolor": "white",
            "gridwidth": 2,
            "linecolor": "white",
            "showbackground": true,
            "ticks": "",
            "zerolinecolor": "white"
           },
           "zaxis": {
            "backgroundcolor": "#E5ECF6",
            "gridcolor": "white",
            "gridwidth": 2,
            "linecolor": "white",
            "showbackground": true,
            "ticks": "",
            "zerolinecolor": "white"
           }
          },
          "shapedefaults": {
           "line": {
            "color": "#2a3f5f"
           }
          },
          "ternary": {
           "aaxis": {
            "gridcolor": "white",
            "linecolor": "white",
            "ticks": ""
           },
           "baxis": {
            "gridcolor": "white",
            "linecolor": "white",
            "ticks": ""
           },
           "bgcolor": "#E5ECF6",
           "caxis": {
            "gridcolor": "white",
            "linecolor": "white",
            "ticks": ""
           }
          },
          "title": {
           "x": 0.05
          },
          "xaxis": {
           "automargin": true,
           "gridcolor": "white",
           "linecolor": "white",
           "ticks": "",
           "title": {
            "standoff": 15
           },
           "zerolinecolor": "white",
           "zerolinewidth": 2
          },
          "yaxis": {
           "automargin": true,
           "gridcolor": "white",
           "linecolor": "white",
           "ticks": "",
           "title": {
            "standoff": 15
           },
           "zerolinecolor": "white",
           "zerolinewidth": 2
          }
         }
        },
        "title": {
         "text": "Top 10 Teams by Average Goals"
        },
        "updatemenus": [
         {
          "buttons": [
           {
            "args": [
             {
              "visible": [
               true,
               false
              ]
             },
             {
              "title": "Top 10 Home Teams by Avg Goals",
              "yaxis": {
               "title": "Avg Home Goals"
              }
             }
            ],
            "label": "Top Home Teams",
            "method": "update"
           },
           {
            "args": [
             {
              "visible": [
               false,
               true
              ]
             },
             {
              "title": "Top 10 Away Teams by Avg Goals",
              "yaxis": {
               "title": "Avg Away Goals"
              }
             }
            ],
            "label": "Top Away Teams",
            "method": "update"
           }
          ],
          "direction": "down",
          "showactive": true,
          "type": "dropdown",
          "x": 0.1,
          "xanchor": "left",
          "y": 1.15,
          "yanchor": "top"
         }
        ]
       }
      }
     },
     "metadata": {},
     "output_type": "display_data"
    }
   ],
   "source": [
    "import plotly.graph_objects as go\n",
    "\n",
    "# Compute top 10 home teams\n",
    "home_goals = df.groupby('HomeTeam')['FTHG'].mean().reset_index()\n",
    "top_home = home_goals.sort_values(by='FTHG', ascending=False).head(10)\n",
    "\n",
    "# Compute top 10 away teams\n",
    "away_goals = df.groupby('AwayTeam')['FTAG'].mean().reset_index()\n",
    "top_away = away_goals.sort_values(by='FTAG', ascending=False).head(10)\n",
    "\n",
    "# Create the figure\n",
    "fig = go.Figure()\n",
    "\n",
    "# Add home team bar chart\n",
    "fig.add_trace(go.Bar(\n",
    "    x=top_home['HomeTeam'],\n",
    "    y=top_home['FTHG'],\n",
    "    name='Home Teams',\n",
    "    visible=True\n",
    "))\n",
    "\n",
    "# Add away team bar chart\n",
    "fig.add_trace(go.Bar(\n",
    "    x=top_away['AwayTeam'],\n",
    "    y=top_away['FTAG'],\n",
    "    name='Away Teams',\n",
    "    visible=False\n",
    "))\n",
    "\n",
    "# Add dropdown to toggle visibility\n",
    "fig.update_layout(\n",
    "    title='Top 10 Teams by Average Goals',\n",
    "    updatemenus=[\n",
    "        dict(\n",
    "            type='dropdown',\n",
    "            direction='down',\n",
    "            buttons=[\n",
    "                dict(label='Top Home Teams',\n",
    "                     method='update',\n",
    "                     args=[{'visible': [True, False]},\n",
    "                           {'title': 'Top 10 Home Teams by Avg Goals',\n",
    "                            'yaxis': {'title': 'Avg Home Goals'}}]),\n",
    "                dict(label='Top Away Teams',\n",
    "                     method='update',\n",
    "                     args=[{'visible': [False, True]},\n",
    "                           {'title': 'Top 10 Away Teams by Avg Goals',\n",
    "                            'yaxis': {'title': 'Avg Away Goals'}}]),\n",
    "            ],\n",
    "            showactive=True,\n",
    "            x=0.1,\n",
    "            xanchor=\"left\",\n",
    "            y=1.15,\n",
    "            yanchor=\"top\"\n",
    "        ),\n",
    "    ]\n",
    ")\n",
    "\n",
    "fig.update_layout(height=500)\n",
    "\n",
    "fig.show()\n"
   ]
  },
  {
   "cell_type": "code",
   "execution_count": 21,
   "id": "b5225b16",
   "metadata": {},
   "outputs": [
    {
     "data": {
      "application/vnd.plotly.v1+json": {
       "config": {
        "plotlyServerURL": "https://plot.ly"
       },
       "data": [
        {
         "domain": {
          "x": [
           0,
           1
          ],
          "y": [
           0,
           1
          ]
         },
         "hovertemplate": "labels=%{label}<br>value=%{value}<br>parent=%{parent}<br>id=%{id}<extra></extra>",
         "ids": [
          "Antwerp_Home_Win",
          "Antwerp_Home_Draw",
          "Antwerp_Home_Loss",
          "Antwerp_Away_Win",
          "Antwerp_Away_Draw",
          "Antwerp_Away_Loss",
          "Antwerp_Home",
          "Antwerp_Away",
          "Antwerp",
          "Mechelen_Home_Win",
          "Mechelen_Home_Draw",
          "Mechelen_Home_Loss",
          "Mechelen_Away_Win",
          "Mechelen_Away_Draw",
          "Mechelen_Away_Loss",
          "Mechelen_Home",
          "Mechelen_Away",
          "Mechelen",
          "Oud-Heverlee Leuven_Home_Win",
          "Oud-Heverlee Leuven_Home_Draw",
          "Oud-Heverlee Leuven_Home_Loss",
          "Oud-Heverlee Leuven_Away_Win",
          "Oud-Heverlee Leuven_Away_Draw",
          "Oud-Heverlee Leuven_Away_Loss",
          "Oud-Heverlee Leuven_Home",
          "Oud-Heverlee Leuven_Away",
          "Oud-Heverlee Leuven",
          "Eupen_Home_Win",
          "Eupen_Home_Draw",
          "Eupen_Home_Loss",
          "Eupen_Away_Win",
          "Eupen_Away_Draw",
          "Eupen_Away_Loss",
          "Eupen_Home",
          "Eupen_Away",
          "Eupen",
          "Club Brugge_Home_Win",
          "Club Brugge_Home_Draw",
          "Club Brugge_Home_Loss",
          "Club Brugge_Away_Win",
          "Club Brugge_Away_Draw",
          "Club Brugge_Away_Loss",
          "Club Brugge_Home",
          "Club Brugge_Away",
          "Club Brugge",
          "Beerschot VA_Home_Win",
          "Beerschot VA_Home_Draw",
          "Beerschot VA_Home_Loss",
          "Beerschot VA_Away_Win",
          "Beerschot VA_Away_Draw",
          "Beerschot VA_Away_Loss",
          "Beerschot VA_Home",
          "Beerschot VA_Away",
          "Beerschot VA",
          "Charleroi_Home_Win",
          "Charleroi_Home_Draw",
          "Charleroi_Home_Loss",
          "Charleroi_Away_Win",
          "Charleroi_Away_Draw",
          "Charleroi_Away_Loss",
          "Charleroi_Home",
          "Charleroi_Away",
          "Charleroi",
          "Waregem_Home_Win",
          "Waregem_Home_Draw",
          "Waregem_Home_Loss",
          "Waregem_Away_Win",
          "Waregem_Away_Draw",
          "Waregem_Away_Loss",
          "Waregem_Home",
          "Waregem_Away",
          "Waregem",
          "Oostende_Home_Win",
          "Oostende_Home_Draw",
          "Oostende_Home_Loss",
          "Oostende_Away_Win",
          "Oostende_Away_Draw",
          "Oostende_Away_Loss",
          "Oostende_Home",
          "Oostende_Away",
          "Oostende",
          "Dender_Home_Win",
          "Dender_Home_Draw",
          "Dender_Home_Loss",
          "Dender_Away_Win",
          "Dender_Away_Draw",
          "Dender_Home",
          "Dender_Away",
          "Dender",
          "Gent_Home_Win",
          "Gent_Home_Draw",
          "Gent_Home_Loss",
          "Gent_Away_Win",
          "Gent_Away_Draw",
          "Gent_Away_Loss",
          "Gent_Home",
          "Gent_Away",
          "Gent",
          "Seraing_Home_Win",
          "Seraing_Home_Draw",
          "Seraing_Home_Loss",
          "Seraing_Away_Win",
          "Seraing_Away_Draw",
          "Seraing_Away_Loss",
          "Seraing_Home",
          "Seraing_Away",
          "Seraing",
          "Anderlecht_Home_Win",
          "Anderlecht_Home_Draw",
          "Anderlecht_Home_Loss",
          "Anderlecht_Away_Win",
          "Anderlecht_Away_Draw",
          "Anderlecht_Away_Loss",
          "Anderlecht_Home",
          "Anderlecht_Away",
          "Anderlecht",
          "Standard_Home_Win",
          "Standard_Home_Draw",
          "Standard_Home_Loss",
          "Standard_Away_Win",
          "Standard_Away_Draw",
          "Standard_Away_Loss",
          "Standard_Home",
          "Standard_Away",
          "Standard",
          "Westerlo_Home_Win",
          "Westerlo_Home_Draw",
          "Westerlo_Home_Loss",
          "Westerlo_Away_Win",
          "Westerlo_Away_Draw",
          "Westerlo_Away_Loss",
          "Westerlo_Home",
          "Westerlo_Away",
          "Westerlo",
          "St. Gilloise_Home_Win",
          "St. Gilloise_Home_Draw",
          "St. Gilloise_Home_Loss",
          "St. Gilloise_Away_Win",
          "St. Gilloise_Away_Draw",
          "St. Gilloise_Away_Loss",
          "St. Gilloise_Home",
          "St. Gilloise_Away",
          "St. Gilloise",
          "Kortrijk_Home_Win",
          "Kortrijk_Home_Draw",
          "Kortrijk_Home_Loss",
          "Kortrijk_Away_Win",
          "Kortrijk_Away_Draw",
          "Kortrijk_Away_Loss",
          "Kortrijk_Home",
          "Kortrijk_Away",
          "Kortrijk",
          "St Truiden_Home_Win",
          "St Truiden_Home_Draw",
          "St Truiden_Home_Loss",
          "St Truiden_Away_Win",
          "St Truiden_Away_Draw",
          "St Truiden_Away_Loss",
          "St Truiden_Home",
          "St Truiden_Away",
          "St Truiden",
          "Mouscron_Home_Win",
          "Mouscron_Home_Draw",
          "Mouscron_Home_Loss",
          "Mouscron_Away_Win",
          "Mouscron_Away_Draw",
          "Mouscron_Away_Loss",
          "Mouscron_Home",
          "Mouscron_Away",
          "Mouscron",
          "Cercle Brugge_Home_Win",
          "Cercle Brugge_Home_Draw",
          "Cercle Brugge_Home_Loss",
          "Cercle Brugge_Away_Win",
          "Cercle Brugge_Away_Draw",
          "Cercle Brugge_Away_Loss",
          "Cercle Brugge_Home",
          "Cercle Brugge_Away",
          "Cercle Brugge",
          "RWD Molenbeek_Home_Win",
          "RWD Molenbeek_Home_Draw",
          "RWD Molenbeek_Home_Loss",
          "RWD Molenbeek_Away_Win",
          "RWD Molenbeek_Away_Draw",
          "RWD Molenbeek_Away_Loss",
          "RWD Molenbeek_Home",
          "RWD Molenbeek_Away",
          "RWD Molenbeek",
          "Waasland-Beveren_Home_Win",
          "Waasland-Beveren_Home_Draw",
          "Waasland-Beveren_Home_Loss",
          "Waasland-Beveren_Away_Win",
          "Waasland-Beveren_Away_Draw",
          "Waasland-Beveren_Away_Loss",
          "Waasland-Beveren_Home",
          "Waasland-Beveren_Away",
          "Waasland-Beveren",
          "Genk_Home_Win",
          "Genk_Home_Draw",
          "Genk_Home_Loss",
          "Genk_Away_Win",
          "Genk_Away_Draw",
          "Genk_Away_Loss",
          "Genk_Home",
          "Genk_Away",
          "Genk"
         ],
         "labels": [
          "Win",
          "Draw",
          "Loss",
          "Win",
          "Draw",
          "Loss",
          "Home",
          "Away",
          "Antwerp",
          "Win",
          "Draw",
          "Loss",
          "Win",
          "Draw",
          "Loss",
          "Home",
          "Away",
          "Mechelen",
          "Win",
          "Draw",
          "Loss",
          "Win",
          "Draw",
          "Loss",
          "Home",
          "Away",
          "Oud-Heverlee Leuven",
          "Win",
          "Draw",
          "Loss",
          "Win",
          "Draw",
          "Loss",
          "Home",
          "Away",
          "Eupen",
          "Win",
          "Draw",
          "Loss",
          "Win",
          "Draw",
          "Loss",
          "Home",
          "Away",
          "Club Brugge",
          "Win",
          "Draw",
          "Loss",
          "Win",
          "Draw",
          "Loss",
          "Home",
          "Away",
          "Beerschot VA",
          "Win",
          "Draw",
          "Loss",
          "Win",
          "Draw",
          "Loss",
          "Home",
          "Away",
          "Charleroi",
          "Win",
          "Draw",
          "Loss",
          "Win",
          "Draw",
          "Loss",
          "Home",
          "Away",
          "Waregem",
          "Win",
          "Draw",
          "Loss",
          "Win",
          "Draw",
          "Loss",
          "Home",
          "Away",
          "Oostende",
          "Win",
          "Draw",
          "Loss",
          "Win",
          "Draw",
          "Home",
          "Away",
          "Dender",
          "Win",
          "Draw",
          "Loss",
          "Win",
          "Draw",
          "Loss",
          "Home",
          "Away",
          "Gent",
          "Win",
          "Draw",
          "Loss",
          "Win",
          "Draw",
          "Loss",
          "Home",
          "Away",
          "Seraing",
          "Win",
          "Draw",
          "Loss",
          "Win",
          "Draw",
          "Loss",
          "Home",
          "Away",
          "Anderlecht",
          "Win",
          "Draw",
          "Loss",
          "Win",
          "Draw",
          "Loss",
          "Home",
          "Away",
          "Standard",
          "Win",
          "Draw",
          "Loss",
          "Win",
          "Draw",
          "Loss",
          "Home",
          "Away",
          "Westerlo",
          "Win",
          "Draw",
          "Loss",
          "Win",
          "Draw",
          "Loss",
          "Home",
          "Away",
          "St. Gilloise",
          "Win",
          "Draw",
          "Loss",
          "Win",
          "Draw",
          "Loss",
          "Home",
          "Away",
          "Kortrijk",
          "Win",
          "Draw",
          "Loss",
          "Win",
          "Draw",
          "Loss",
          "Home",
          "Away",
          "St Truiden",
          "Win",
          "Draw",
          "Loss",
          "Win",
          "Draw",
          "Loss",
          "Home",
          "Away",
          "Mouscron",
          "Win",
          "Draw",
          "Loss",
          "Win",
          "Draw",
          "Loss",
          "Home",
          "Away",
          "Cercle Brugge",
          "Win",
          "Draw",
          "Loss",
          "Win",
          "Draw",
          "Loss",
          "Home",
          "Away",
          "RWD Molenbeek",
          "Win",
          "Draw",
          "Loss",
          "Win",
          "Draw",
          "Loss",
          "Home",
          "Away",
          "Waasland-Beveren",
          "Win",
          "Draw",
          "Loss",
          "Win",
          "Draw",
          "Loss",
          "Home",
          "Away",
          "Genk"
         ],
         "name": "",
         "parents": [
          "Antwerp_Home",
          "Antwerp_Home",
          "Antwerp_Home",
          "Antwerp_Away",
          "Antwerp_Away",
          "Antwerp_Away",
          "Antwerp",
          "Antwerp",
          "",
          "Mechelen_Home",
          "Mechelen_Home",
          "Mechelen_Home",
          "Mechelen_Away",
          "Mechelen_Away",
          "Mechelen_Away",
          "Mechelen",
          "Mechelen",
          "",
          "Oud-Heverlee Leuven_Home",
          "Oud-Heverlee Leuven_Home",
          "Oud-Heverlee Leuven_Home",
          "Oud-Heverlee Leuven_Away",
          "Oud-Heverlee Leuven_Away",
          "Oud-Heverlee Leuven_Away",
          "Oud-Heverlee Leuven",
          "Oud-Heverlee Leuven",
          "",
          "Eupen_Home",
          "Eupen_Home",
          "Eupen_Home",
          "Eupen_Away",
          "Eupen_Away",
          "Eupen_Away",
          "Eupen",
          "Eupen",
          "",
          "Club Brugge_Home",
          "Club Brugge_Home",
          "Club Brugge_Home",
          "Club Brugge_Away",
          "Club Brugge_Away",
          "Club Brugge_Away",
          "Club Brugge",
          "Club Brugge",
          "",
          "Beerschot VA_Home",
          "Beerschot VA_Home",
          "Beerschot VA_Home",
          "Beerschot VA_Away",
          "Beerschot VA_Away",
          "Beerschot VA_Away",
          "Beerschot VA",
          "Beerschot VA",
          "",
          "Charleroi_Home",
          "Charleroi_Home",
          "Charleroi_Home",
          "Charleroi_Away",
          "Charleroi_Away",
          "Charleroi_Away",
          "Charleroi",
          "Charleroi",
          "",
          "Waregem_Home",
          "Waregem_Home",
          "Waregem_Home",
          "Waregem_Away",
          "Waregem_Away",
          "Waregem_Away",
          "Waregem",
          "Waregem",
          "",
          "Oostende_Home",
          "Oostende_Home",
          "Oostende_Home",
          "Oostende_Away",
          "Oostende_Away",
          "Oostende_Away",
          "Oostende",
          "Oostende",
          "",
          "Dender_Home",
          "Dender_Home",
          "Dender_Home",
          "Dender_Away",
          "Dender_Away",
          "Dender",
          "Dender",
          "",
          "Gent_Home",
          "Gent_Home",
          "Gent_Home",
          "Gent_Away",
          "Gent_Away",
          "Gent_Away",
          "Gent",
          "Gent",
          "",
          "Seraing_Home",
          "Seraing_Home",
          "Seraing_Home",
          "Seraing_Away",
          "Seraing_Away",
          "Seraing_Away",
          "Seraing",
          "Seraing",
          "",
          "Anderlecht_Home",
          "Anderlecht_Home",
          "Anderlecht_Home",
          "Anderlecht_Away",
          "Anderlecht_Away",
          "Anderlecht_Away",
          "Anderlecht",
          "Anderlecht",
          "",
          "Standard_Home",
          "Standard_Home",
          "Standard_Home",
          "Standard_Away",
          "Standard_Away",
          "Standard_Away",
          "Standard",
          "Standard",
          "",
          "Westerlo_Home",
          "Westerlo_Home",
          "Westerlo_Home",
          "Westerlo_Away",
          "Westerlo_Away",
          "Westerlo_Away",
          "Westerlo",
          "Westerlo",
          "",
          "St. Gilloise_Home",
          "St. Gilloise_Home",
          "St. Gilloise_Home",
          "St. Gilloise_Away",
          "St. Gilloise_Away",
          "St. Gilloise_Away",
          "St. Gilloise",
          "St. Gilloise",
          "",
          "Kortrijk_Home",
          "Kortrijk_Home",
          "Kortrijk_Home",
          "Kortrijk_Away",
          "Kortrijk_Away",
          "Kortrijk_Away",
          "Kortrijk",
          "Kortrijk",
          "",
          "St Truiden_Home",
          "St Truiden_Home",
          "St Truiden_Home",
          "St Truiden_Away",
          "St Truiden_Away",
          "St Truiden_Away",
          "St Truiden",
          "St Truiden",
          "",
          "Mouscron_Home",
          "Mouscron_Home",
          "Mouscron_Home",
          "Mouscron_Away",
          "Mouscron_Away",
          "Mouscron_Away",
          "Mouscron",
          "Mouscron",
          "",
          "Cercle Brugge_Home",
          "Cercle Brugge_Home",
          "Cercle Brugge_Home",
          "Cercle Brugge_Away",
          "Cercle Brugge_Away",
          "Cercle Brugge_Away",
          "Cercle Brugge",
          "Cercle Brugge",
          "",
          "RWD Molenbeek_Home",
          "RWD Molenbeek_Home",
          "RWD Molenbeek_Home",
          "RWD Molenbeek_Away",
          "RWD Molenbeek_Away",
          "RWD Molenbeek_Away",
          "RWD Molenbeek",
          "RWD Molenbeek",
          "",
          "Waasland-Beveren_Home",
          "Waasland-Beveren_Home",
          "Waasland-Beveren_Home",
          "Waasland-Beveren_Away",
          "Waasland-Beveren_Away",
          "Waasland-Beveren_Away",
          "Waasland-Beveren",
          "Waasland-Beveren",
          "",
          "Genk_Home",
          "Genk_Home",
          "Genk_Home",
          "Genk_Away",
          "Genk_Away",
          "Genk_Away",
          "Genk",
          "Genk",
          ""
         ],
         "type": "sunburst",
         "values": {
          "bdata": "NAATABEAKAASAB8AWABZALEAJwAXABsAIQAOACkAWQBYALEAIAAQABoAEAAcAB4ASgBKAJQAFgAVACgAEwARADAAUwBUAKcAOQAZAAcAMQATABQAWQBYALEACwAGABQABwAEABoAJQAlAEoAJwAUABsAHwAWACIAVgBXAK0AFQAMACAAEQAPACIAQQBCAIMAGAAMAB4ADgANACYAQgBBAIMAAQABAAEAAgABAAMAAwAGADMAFAASACQAFgAeAFkAWACxAAYABwAVAAcAAgAZACIAIgBEADAAGQAPACIAHAAaAFgAWACwACUAHAAXABkAFwAoAFgAWACwAA8ACgAPAAoADAARACgAJwBPACYACgAJACQADQAIADkAOQByABkAEgAsABYAEwAtAFcAVgCtACEAFwAgABkAFwApAFgAWQCxAAoACgAMAAYACQAQACAAHwA/ACMAEQAjABoAEgAtAFcAWQCwAAQABgAIAAMAAwAMABIAEgAkAAYABAAVAAcACAARAB8AIAA/ADQAEgATACIAFAAiAFkAWACxAA==",
          "dtype": "i2"
         }
        }
       ],
       "layout": {
        "font": {
         "size": 10
        },
        "height": 700,
        "legend": {
         "tracegroupgap": 0
        },
        "template": {
         "data": {
          "bar": [
           {
            "error_x": {
             "color": "#2a3f5f"
            },
            "error_y": {
             "color": "#2a3f5f"
            },
            "marker": {
             "line": {
              "color": "#E5ECF6",
              "width": 0.5
             },
             "pattern": {
              "fillmode": "overlay",
              "size": 10,
              "solidity": 0.2
             }
            },
            "type": "bar"
           }
          ],
          "barpolar": [
           {
            "marker": {
             "line": {
              "color": "#E5ECF6",
              "width": 0.5
             },
             "pattern": {
              "fillmode": "overlay",
              "size": 10,
              "solidity": 0.2
             }
            },
            "type": "barpolar"
           }
          ],
          "carpet": [
           {
            "aaxis": {
             "endlinecolor": "#2a3f5f",
             "gridcolor": "white",
             "linecolor": "white",
             "minorgridcolor": "white",
             "startlinecolor": "#2a3f5f"
            },
            "baxis": {
             "endlinecolor": "#2a3f5f",
             "gridcolor": "white",
             "linecolor": "white",
             "minorgridcolor": "white",
             "startlinecolor": "#2a3f5f"
            },
            "type": "carpet"
           }
          ],
          "choropleth": [
           {
            "colorbar": {
             "outlinewidth": 0,
             "ticks": ""
            },
            "type": "choropleth"
           }
          ],
          "contour": [
           {
            "colorbar": {
             "outlinewidth": 0,
             "ticks": ""
            },
            "colorscale": [
             [
              0,
              "#0d0887"
             ],
             [
              0.1111111111111111,
              "#46039f"
             ],
             [
              0.2222222222222222,
              "#7201a8"
             ],
             [
              0.3333333333333333,
              "#9c179e"
             ],
             [
              0.4444444444444444,
              "#bd3786"
             ],
             [
              0.5555555555555556,
              "#d8576b"
             ],
             [
              0.6666666666666666,
              "#ed7953"
             ],
             [
              0.7777777777777778,
              "#fb9f3a"
             ],
             [
              0.8888888888888888,
              "#fdca26"
             ],
             [
              1,
              "#f0f921"
             ]
            ],
            "type": "contour"
           }
          ],
          "contourcarpet": [
           {
            "colorbar": {
             "outlinewidth": 0,
             "ticks": ""
            },
            "type": "contourcarpet"
           }
          ],
          "heatmap": [
           {
            "colorbar": {
             "outlinewidth": 0,
             "ticks": ""
            },
            "colorscale": [
             [
              0,
              "#0d0887"
             ],
             [
              0.1111111111111111,
              "#46039f"
             ],
             [
              0.2222222222222222,
              "#7201a8"
             ],
             [
              0.3333333333333333,
              "#9c179e"
             ],
             [
              0.4444444444444444,
              "#bd3786"
             ],
             [
              0.5555555555555556,
              "#d8576b"
             ],
             [
              0.6666666666666666,
              "#ed7953"
             ],
             [
              0.7777777777777778,
              "#fb9f3a"
             ],
             [
              0.8888888888888888,
              "#fdca26"
             ],
             [
              1,
              "#f0f921"
             ]
            ],
            "type": "heatmap"
           }
          ],
          "histogram": [
           {
            "marker": {
             "pattern": {
              "fillmode": "overlay",
              "size": 10,
              "solidity": 0.2
             }
            },
            "type": "histogram"
           }
          ],
          "histogram2d": [
           {
            "colorbar": {
             "outlinewidth": 0,
             "ticks": ""
            },
            "colorscale": [
             [
              0,
              "#0d0887"
             ],
             [
              0.1111111111111111,
              "#46039f"
             ],
             [
              0.2222222222222222,
              "#7201a8"
             ],
             [
              0.3333333333333333,
              "#9c179e"
             ],
             [
              0.4444444444444444,
              "#bd3786"
             ],
             [
              0.5555555555555556,
              "#d8576b"
             ],
             [
              0.6666666666666666,
              "#ed7953"
             ],
             [
              0.7777777777777778,
              "#fb9f3a"
             ],
             [
              0.8888888888888888,
              "#fdca26"
             ],
             [
              1,
              "#f0f921"
             ]
            ],
            "type": "histogram2d"
           }
          ],
          "histogram2dcontour": [
           {
            "colorbar": {
             "outlinewidth": 0,
             "ticks": ""
            },
            "colorscale": [
             [
              0,
              "#0d0887"
             ],
             [
              0.1111111111111111,
              "#46039f"
             ],
             [
              0.2222222222222222,
              "#7201a8"
             ],
             [
              0.3333333333333333,
              "#9c179e"
             ],
             [
              0.4444444444444444,
              "#bd3786"
             ],
             [
              0.5555555555555556,
              "#d8576b"
             ],
             [
              0.6666666666666666,
              "#ed7953"
             ],
             [
              0.7777777777777778,
              "#fb9f3a"
             ],
             [
              0.8888888888888888,
              "#fdca26"
             ],
             [
              1,
              "#f0f921"
             ]
            ],
            "type": "histogram2dcontour"
           }
          ],
          "mesh3d": [
           {
            "colorbar": {
             "outlinewidth": 0,
             "ticks": ""
            },
            "type": "mesh3d"
           }
          ],
          "parcoords": [
           {
            "line": {
             "colorbar": {
              "outlinewidth": 0,
              "ticks": ""
             }
            },
            "type": "parcoords"
           }
          ],
          "pie": [
           {
            "automargin": true,
            "type": "pie"
           }
          ],
          "scatter": [
           {
            "fillpattern": {
             "fillmode": "overlay",
             "size": 10,
             "solidity": 0.2
            },
            "type": "scatter"
           }
          ],
          "scatter3d": [
           {
            "line": {
             "colorbar": {
              "outlinewidth": 0,
              "ticks": ""
             }
            },
            "marker": {
             "colorbar": {
              "outlinewidth": 0,
              "ticks": ""
             }
            },
            "type": "scatter3d"
           }
          ],
          "scattercarpet": [
           {
            "marker": {
             "colorbar": {
              "outlinewidth": 0,
              "ticks": ""
             }
            },
            "type": "scattercarpet"
           }
          ],
          "scattergeo": [
           {
            "marker": {
             "colorbar": {
              "outlinewidth": 0,
              "ticks": ""
             }
            },
            "type": "scattergeo"
           }
          ],
          "scattergl": [
           {
            "marker": {
             "colorbar": {
              "outlinewidth": 0,
              "ticks": ""
             }
            },
            "type": "scattergl"
           }
          ],
          "scattermap": [
           {
            "marker": {
             "colorbar": {
              "outlinewidth": 0,
              "ticks": ""
             }
            },
            "type": "scattermap"
           }
          ],
          "scattermapbox": [
           {
            "marker": {
             "colorbar": {
              "outlinewidth": 0,
              "ticks": ""
             }
            },
            "type": "scattermapbox"
           }
          ],
          "scatterpolar": [
           {
            "marker": {
             "colorbar": {
              "outlinewidth": 0,
              "ticks": ""
             }
            },
            "type": "scatterpolar"
           }
          ],
          "scatterpolargl": [
           {
            "marker": {
             "colorbar": {
              "outlinewidth": 0,
              "ticks": ""
             }
            },
            "type": "scatterpolargl"
           }
          ],
          "scatterternary": [
           {
            "marker": {
             "colorbar": {
              "outlinewidth": 0,
              "ticks": ""
             }
            },
            "type": "scatterternary"
           }
          ],
          "surface": [
           {
            "colorbar": {
             "outlinewidth": 0,
             "ticks": ""
            },
            "colorscale": [
             [
              0,
              "#0d0887"
             ],
             [
              0.1111111111111111,
              "#46039f"
             ],
             [
              0.2222222222222222,
              "#7201a8"
             ],
             [
              0.3333333333333333,
              "#9c179e"
             ],
             [
              0.4444444444444444,
              "#bd3786"
             ],
             [
              0.5555555555555556,
              "#d8576b"
             ],
             [
              0.6666666666666666,
              "#ed7953"
             ],
             [
              0.7777777777777778,
              "#fb9f3a"
             ],
             [
              0.8888888888888888,
              "#fdca26"
             ],
             [
              1,
              "#f0f921"
             ]
            ],
            "type": "surface"
           }
          ],
          "table": [
           {
            "cells": {
             "fill": {
              "color": "#EBF0F8"
             },
             "line": {
              "color": "white"
             }
            },
            "header": {
             "fill": {
              "color": "#C8D4E3"
             },
             "line": {
              "color": "white"
             }
            },
            "type": "table"
           }
          ]
         },
         "layout": {
          "annotationdefaults": {
           "arrowcolor": "#2a3f5f",
           "arrowhead": 0,
           "arrowwidth": 1
          },
          "autotypenumbers": "strict",
          "coloraxis": {
           "colorbar": {
            "outlinewidth": 0,
            "ticks": ""
           }
          },
          "colorscale": {
           "diverging": [
            [
             0,
             "#8e0152"
            ],
            [
             0.1,
             "#c51b7d"
            ],
            [
             0.2,
             "#de77ae"
            ],
            [
             0.3,
             "#f1b6da"
            ],
            [
             0.4,
             "#fde0ef"
            ],
            [
             0.5,
             "#f7f7f7"
            ],
            [
             0.6,
             "#e6f5d0"
            ],
            [
             0.7,
             "#b8e186"
            ],
            [
             0.8,
             "#7fbc41"
            ],
            [
             0.9,
             "#4d9221"
            ],
            [
             1,
             "#276419"
            ]
           ],
           "sequential": [
            [
             0,
             "#0d0887"
            ],
            [
             0.1111111111111111,
             "#46039f"
            ],
            [
             0.2222222222222222,
             "#7201a8"
            ],
            [
             0.3333333333333333,
             "#9c179e"
            ],
            [
             0.4444444444444444,
             "#bd3786"
            ],
            [
             0.5555555555555556,
             "#d8576b"
            ],
            [
             0.6666666666666666,
             "#ed7953"
            ],
            [
             0.7777777777777778,
             "#fb9f3a"
            ],
            [
             0.8888888888888888,
             "#fdca26"
            ],
            [
             1,
             "#f0f921"
            ]
           ],
           "sequentialminus": [
            [
             0,
             "#0d0887"
            ],
            [
             0.1111111111111111,
             "#46039f"
            ],
            [
             0.2222222222222222,
             "#7201a8"
            ],
            [
             0.3333333333333333,
             "#9c179e"
            ],
            [
             0.4444444444444444,
             "#bd3786"
            ],
            [
             0.5555555555555556,
             "#d8576b"
            ],
            [
             0.6666666666666666,
             "#ed7953"
            ],
            [
             0.7777777777777778,
             "#fb9f3a"
            ],
            [
             0.8888888888888888,
             "#fdca26"
            ],
            [
             1,
             "#f0f921"
            ]
           ]
          },
          "colorway": [
           "#636efa",
           "#EF553B",
           "#00cc96",
           "#ab63fa",
           "#FFA15A",
           "#19d3f3",
           "#FF6692",
           "#B6E880",
           "#FF97FF",
           "#FECB52"
          ],
          "font": {
           "color": "#2a3f5f"
          },
          "geo": {
           "bgcolor": "white",
           "lakecolor": "white",
           "landcolor": "#E5ECF6",
           "showlakes": true,
           "showland": true,
           "subunitcolor": "white"
          },
          "hoverlabel": {
           "align": "left"
          },
          "hovermode": "closest",
          "mapbox": {
           "style": "light"
          },
          "paper_bgcolor": "white",
          "plot_bgcolor": "#E5ECF6",
          "polar": {
           "angularaxis": {
            "gridcolor": "white",
            "linecolor": "white",
            "ticks": ""
           },
           "bgcolor": "#E5ECF6",
           "radialaxis": {
            "gridcolor": "white",
            "linecolor": "white",
            "ticks": ""
           }
          },
          "scene": {
           "xaxis": {
            "backgroundcolor": "#E5ECF6",
            "gridcolor": "white",
            "gridwidth": 2,
            "linecolor": "white",
            "showbackground": true,
            "ticks": "",
            "zerolinecolor": "white"
           },
           "yaxis": {
            "backgroundcolor": "#E5ECF6",
            "gridcolor": "white",
            "gridwidth": 2,
            "linecolor": "white",
            "showbackground": true,
            "ticks": "",
            "zerolinecolor": "white"
           },
           "zaxis": {
            "backgroundcolor": "#E5ECF6",
            "gridcolor": "white",
            "gridwidth": 2,
            "linecolor": "white",
            "showbackground": true,
            "ticks": "",
            "zerolinecolor": "white"
           }
          },
          "shapedefaults": {
           "line": {
            "color": "#2a3f5f"
           }
          },
          "ternary": {
           "aaxis": {
            "gridcolor": "white",
            "linecolor": "white",
            "ticks": ""
           },
           "baxis": {
            "gridcolor": "white",
            "linecolor": "white",
            "ticks": ""
           },
           "bgcolor": "#E5ECF6",
           "caxis": {
            "gridcolor": "white",
            "linecolor": "white",
            "ticks": ""
           }
          },
          "title": {
           "x": 0.05
          },
          "xaxis": {
           "automargin": true,
           "gridcolor": "white",
           "linecolor": "white",
           "ticks": "",
           "title": {
            "standoff": 15
           },
           "zerolinecolor": "white",
           "zerolinewidth": 2
          },
          "yaxis": {
           "automargin": true,
           "gridcolor": "white",
           "linecolor": "white",
           "ticks": "",
           "title": {
            "standoff": 15
           },
           "zerolinecolor": "white",
           "zerolinewidth": 2
          }
         }
        },
        "title": {
         "text": "Team Performance Breakdown: Home/Away Results"
        }
       }
      }
     },
     "metadata": {},
     "output_type": "display_data"
    }
   ],
   "source": [
    "# Create data for sunburst chart showing team performance breakdown\n",
    "sunburst_data = []\n",
    "\n",
    "# Get unique teams\n",
    "all_teams = set(df['HomeTeam'].unique()) | set(df['AwayTeam'].unique())\n",
    "\n",
    "for team in all_teams:\n",
    "    # Home matches\n",
    "    home_matches = df[df['HomeTeam'] == team]\n",
    "    home_wins = len(home_matches[home_matches['FTR'] == 'H'])\n",
    "    home_draws = len(home_matches[home_matches['FTR'] == 'D'])\n",
    "    home_losses = len(home_matches[home_matches['FTR'] == 'A'])\n",
    "    \n",
    "    # Away matches\n",
    "    away_matches = df[df['AwayTeam'] == team]\n",
    "    away_wins = len(away_matches[away_matches['FTR'] == 'A'])\n",
    "    away_draws = len(away_matches[away_matches['FTR'] == 'D'])\n",
    "    away_losses = len(away_matches[away_matches['FTR'] == 'H'])\n",
    "    \n",
    "    # Add data for this team\n",
    "    if home_wins > 0:\n",
    "        sunburst_data.append({'ids': f'{team}_Home_Win', 'labels': 'Win', 'parents': f'{team}_Home', 'values': home_wins})\n",
    "    if home_draws > 0:\n",
    "        sunburst_data.append({'ids': f'{team}_Home_Draw', 'labels': 'Draw', 'parents': f'{team}_Home', 'values': home_draws})\n",
    "    if home_losses > 0:\n",
    "        sunburst_data.append({'ids': f'{team}_Home_Loss', 'labels': 'Loss', 'parents': f'{team}_Home', 'values': home_losses})\n",
    "    \n",
    "    if away_wins > 0:\n",
    "        sunburst_data.append({'ids': f'{team}_Away_Win', 'labels': 'Win', 'parents': f'{team}_Away', 'values': away_wins})\n",
    "    if away_draws > 0:\n",
    "        sunburst_data.append({'ids': f'{team}_Away_Draw', 'labels': 'Draw', 'parents': f'{team}_Away', 'values': away_draws})\n",
    "    if away_losses > 0:\n",
    "        sunburst_data.append({'ids': f'{team}_Away_Loss', 'labels': 'Loss', 'parents': f'{team}_Away', 'values': away_losses})\n",
    "    \n",
    "    # Add home/away categories\n",
    "    sunburst_data.append({'ids': f'{team}_Home', 'labels': 'Home', 'parents': team, 'values': len(home_matches)})\n",
    "    sunburst_data.append({'ids': f'{team}_Away', 'labels': 'Away', 'parents': team, 'values': len(away_matches)})\n",
    "    \n",
    "    # Add team root\n",
    "    sunburst_data.append({'ids': team, 'labels': team, 'parents': '', 'values': len(home_matches) + len(away_matches)})\n",
    "\n",
    "# Convert to DataFrame for easier handling\n",
    "sunburst_df = pd.DataFrame(sunburst_data)\n",
    "\n",
    "# Create sunburst chart\n",
    "fig_sunburst = px.sunburst(\n",
    "    sunburst_df,\n",
    "    ids='ids',\n",
    "    names='labels',\n",
    "    parents='parents',\n",
    "    values='values',\n",
    "    title='Team Performance Breakdown: Home/Away Results'\n",
    ")\n",
    "\n",
    "fig_sunburst.update_layout(\n",
    "    font_size=10,\n",
    "    height=700\n",
    ")\n",
    "\n",
    "fig_sunburst.show()"
   ]
  },
  {
   "cell_type": "code",
   "execution_count": null,
   "id": "416a14e4",
   "metadata": {},
   "outputs": [
    {
     "data": {
      "application/vnd.plotly.v1+json": {
       "config": {
        "plotlyServerURL": "https://plot.ly"
       },
       "data": [
        {
         "hovertemplate": "Result=Wins<br>Number of Matches=%{x}<br>Team=%{y}<extra></extra>",
         "legendgroup": "Wins",
         "marker": {
          "color": "#2E8B57",
          "pattern": {
           "shape": ""
          }
         },
         "name": "Wins",
         "orientation": "h",
         "showlegend": true,
         "textposition": "auto",
         "type": "bar",
         "x": {
          "bdata": "DQcNEikQLyYmGTA6PT5GSFJWVwNcako=",
          "dtype": "i1"
         },
         "xaxis": "x",
         "y": [
          "Seraing",
          "RWD Molenbeek",
          "Waasland-Beveren",
          "Beerschot VA",
          "Eupen",
          "Mouscron",
          "Kortrijk",
          "Waregem",
          "Oostende",
          "Westerlo",
          "Oud-Heverlee Leuven",
          "St Truiden",
          "Cercle Brugge",
          "Standard",
          "Charleroi",
          "Mechelen",
          "Anderlecht",
          "Genk",
          "Gent",
          "Dender",
          "Antwerp",
          "Club Brugge",
          "St. Gilloise"
         ],
         "yaxis": "y"
        },
        {
         "hovertemplate": "Result=Draws<br>Number of Matches=%{x}<br>Team=%{y}<extra></extra>",
         "legendgroup": "Draws",
         "marker": {
          "color": "#FFD700",
          "pattern": {
           "shape": ""
          }
         },
         "name": "Draws",
         "orientation": "h",
         "showlegend": true,
         "textposition": "auto",
         "type": "bar",
         "x": {
          "bdata": "CQkMCiYTJRsZFiwuIzMqJTUmKgIlLBc=",
          "dtype": "i1"
         },
         "xaxis": "x",
         "y": [
          "Seraing",
          "RWD Molenbeek",
          "Waasland-Beveren",
          "Beerschot VA",
          "Eupen",
          "Mouscron",
          "Kortrijk",
          "Waregem",
          "Oostende",
          "Westerlo",
          "Oud-Heverlee Leuven",
          "St Truiden",
          "Cercle Brugge",
          "Standard",
          "Charleroi",
          "Mechelen",
          "Anderlecht",
          "Genk",
          "Gent",
          "Dender",
          "Antwerp",
          "Club Brugge",
          "St. Gilloise"
         ],
         "yaxis": "y"
        },
        {
         "hovertemplate": "Result=Losses<br>Number of Matches=%{x}<br>Team=%{y}<extra></extra>",
         "legendgroup": "Losses",
         "marker": {
          "color": "#DC143C",
          "pattern": {
           "shape": ""
          }
         },
         "name": "Losses",
         "orientation": "h",
         "showlegend": true,
         "textposition": "auto",
         "type": "bar",
         "x": {
          "bdata": "LhQmLlgcWUJEIDhJUD89RCk1MAEwGxE=",
          "dtype": "i1"
         },
         "xaxis": "x",
         "y": [
          "Seraing",
          "RWD Molenbeek",
          "Waasland-Beveren",
          "Beerschot VA",
          "Eupen",
          "Mouscron",
          "Kortrijk",
          "Waregem",
          "Oostende",
          "Westerlo",
          "Oud-Heverlee Leuven",
          "St Truiden",
          "Cercle Brugge",
          "Standard",
          "Charleroi",
          "Mechelen",
          "Anderlecht",
          "Genk",
          "Gent",
          "Dender",
          "Antwerp",
          "Club Brugge",
          "St. Gilloise"
         ],
         "yaxis": "y"
        }
       ],
       "layout": {
        "barmode": "relative",
        "height": 600,
        "legend": {
         "title": {
          "text": "Match Result"
         },
         "tracegroupgap": 0
        },
        "template": {
         "data": {
          "bar": [
           {
            "error_x": {
             "color": "#2a3f5f"
            },
            "error_y": {
             "color": "#2a3f5f"
            },
            "marker": {
             "line": {
              "color": "#E5ECF6",
              "width": 0.5
             },
             "pattern": {
              "fillmode": "overlay",
              "size": 10,
              "solidity": 0.2
             }
            },
            "type": "bar"
           }
          ],
          "barpolar": [
           {
            "marker": {
             "line": {
              "color": "#E5ECF6",
              "width": 0.5
             },
             "pattern": {
              "fillmode": "overlay",
              "size": 10,
              "solidity": 0.2
             }
            },
            "type": "barpolar"
           }
          ],
          "carpet": [
           {
            "aaxis": {
             "endlinecolor": "#2a3f5f",
             "gridcolor": "white",
             "linecolor": "white",
             "minorgridcolor": "white",
             "startlinecolor": "#2a3f5f"
            },
            "baxis": {
             "endlinecolor": "#2a3f5f",
             "gridcolor": "white",
             "linecolor": "white",
             "minorgridcolor": "white",
             "startlinecolor": "#2a3f5f"
            },
            "type": "carpet"
           }
          ],
          "choropleth": [
           {
            "colorbar": {
             "outlinewidth": 0,
             "ticks": ""
            },
            "type": "choropleth"
           }
          ],
          "contour": [
           {
            "colorbar": {
             "outlinewidth": 0,
             "ticks": ""
            },
            "colorscale": [
             [
              0,
              "#0d0887"
             ],
             [
              0.1111111111111111,
              "#46039f"
             ],
             [
              0.2222222222222222,
              "#7201a8"
             ],
             [
              0.3333333333333333,
              "#9c179e"
             ],
             [
              0.4444444444444444,
              "#bd3786"
             ],
             [
              0.5555555555555556,
              "#d8576b"
             ],
             [
              0.6666666666666666,
              "#ed7953"
             ],
             [
              0.7777777777777778,
              "#fb9f3a"
             ],
             [
              0.8888888888888888,
              "#fdca26"
             ],
             [
              1,
              "#f0f921"
             ]
            ],
            "type": "contour"
           }
          ],
          "contourcarpet": [
           {
            "colorbar": {
             "outlinewidth": 0,
             "ticks": ""
            },
            "type": "contourcarpet"
           }
          ],
          "heatmap": [
           {
            "colorbar": {
             "outlinewidth": 0,
             "ticks": ""
            },
            "colorscale": [
             [
              0,
              "#0d0887"
             ],
             [
              0.1111111111111111,
              "#46039f"
             ],
             [
              0.2222222222222222,
              "#7201a8"
             ],
             [
              0.3333333333333333,
              "#9c179e"
             ],
             [
              0.4444444444444444,
              "#bd3786"
             ],
             [
              0.5555555555555556,
              "#d8576b"
             ],
             [
              0.6666666666666666,
              "#ed7953"
             ],
             [
              0.7777777777777778,
              "#fb9f3a"
             ],
             [
              0.8888888888888888,
              "#fdca26"
             ],
             [
              1,
              "#f0f921"
             ]
            ],
            "type": "heatmap"
           }
          ],
          "histogram": [
           {
            "marker": {
             "pattern": {
              "fillmode": "overlay",
              "size": 10,
              "solidity": 0.2
             }
            },
            "type": "histogram"
           }
          ],
          "histogram2d": [
           {
            "colorbar": {
             "outlinewidth": 0,
             "ticks": ""
            },
            "colorscale": [
             [
              0,
              "#0d0887"
             ],
             [
              0.1111111111111111,
              "#46039f"
             ],
             [
              0.2222222222222222,
              "#7201a8"
             ],
             [
              0.3333333333333333,
              "#9c179e"
             ],
             [
              0.4444444444444444,
              "#bd3786"
             ],
             [
              0.5555555555555556,
              "#d8576b"
             ],
             [
              0.6666666666666666,
              "#ed7953"
             ],
             [
              0.7777777777777778,
              "#fb9f3a"
             ],
             [
              0.8888888888888888,
              "#fdca26"
             ],
             [
              1,
              "#f0f921"
             ]
            ],
            "type": "histogram2d"
           }
          ],
          "histogram2dcontour": [
           {
            "colorbar": {
             "outlinewidth": 0,
             "ticks": ""
            },
            "colorscale": [
             [
              0,
              "#0d0887"
             ],
             [
              0.1111111111111111,
              "#46039f"
             ],
             [
              0.2222222222222222,
              "#7201a8"
             ],
             [
              0.3333333333333333,
              "#9c179e"
             ],
             [
              0.4444444444444444,
              "#bd3786"
             ],
             [
              0.5555555555555556,
              "#d8576b"
             ],
             [
              0.6666666666666666,
              "#ed7953"
             ],
             [
              0.7777777777777778,
              "#fb9f3a"
             ],
             [
              0.8888888888888888,
              "#fdca26"
             ],
             [
              1,
              "#f0f921"
             ]
            ],
            "type": "histogram2dcontour"
           }
          ],
          "mesh3d": [
           {
            "colorbar": {
             "outlinewidth": 0,
             "ticks": ""
            },
            "type": "mesh3d"
           }
          ],
          "parcoords": [
           {
            "line": {
             "colorbar": {
              "outlinewidth": 0,
              "ticks": ""
             }
            },
            "type": "parcoords"
           }
          ],
          "pie": [
           {
            "automargin": true,
            "type": "pie"
           }
          ],
          "scatter": [
           {
            "fillpattern": {
             "fillmode": "overlay",
             "size": 10,
             "solidity": 0.2
            },
            "type": "scatter"
           }
          ],
          "scatter3d": [
           {
            "line": {
             "colorbar": {
              "outlinewidth": 0,
              "ticks": ""
             }
            },
            "marker": {
             "colorbar": {
              "outlinewidth": 0,
              "ticks": ""
             }
            },
            "type": "scatter3d"
           }
          ],
          "scattercarpet": [
           {
            "marker": {
             "colorbar": {
              "outlinewidth": 0,
              "ticks": ""
             }
            },
            "type": "scattercarpet"
           }
          ],
          "scattergeo": [
           {
            "marker": {
             "colorbar": {
              "outlinewidth": 0,
              "ticks": ""
             }
            },
            "type": "scattergeo"
           }
          ],
          "scattergl": [
           {
            "marker": {
             "colorbar": {
              "outlinewidth": 0,
              "ticks": ""
             }
            },
            "type": "scattergl"
           }
          ],
          "scattermap": [
           {
            "marker": {
             "colorbar": {
              "outlinewidth": 0,
              "ticks": ""
             }
            },
            "type": "scattermap"
           }
          ],
          "scattermapbox": [
           {
            "marker": {
             "colorbar": {
              "outlinewidth": 0,
              "ticks": ""
             }
            },
            "type": "scattermapbox"
           }
          ],
          "scatterpolar": [
           {
            "marker": {
             "colorbar": {
              "outlinewidth": 0,
              "ticks": ""
             }
            },
            "type": "scatterpolar"
           }
          ],
          "scatterpolargl": [
           {
            "marker": {
             "colorbar": {
              "outlinewidth": 0,
              "ticks": ""
             }
            },
            "type": "scatterpolargl"
           }
          ],
          "scatterternary": [
           {
            "marker": {
             "colorbar": {
              "outlinewidth": 0,
              "ticks": ""
             }
            },
            "type": "scatterternary"
           }
          ],
          "surface": [
           {
            "colorbar": {
             "outlinewidth": 0,
             "ticks": ""
            },
            "colorscale": [
             [
              0,
              "#0d0887"
             ],
             [
              0.1111111111111111,
              "#46039f"
             ],
             [
              0.2222222222222222,
              "#7201a8"
             ],
             [
              0.3333333333333333,
              "#9c179e"
             ],
             [
              0.4444444444444444,
              "#bd3786"
             ],
             [
              0.5555555555555556,
              "#d8576b"
             ],
             [
              0.6666666666666666,
              "#ed7953"
             ],
             [
              0.7777777777777778,
              "#fb9f3a"
             ],
             [
              0.8888888888888888,
              "#fdca26"
             ],
             [
              1,
              "#f0f921"
             ]
            ],
            "type": "surface"
           }
          ],
          "table": [
           {
            "cells": {
             "fill": {
              "color": "#EBF0F8"
             },
             "line": {
              "color": "white"
             }
            },
            "header": {
             "fill": {
              "color": "#C8D4E3"
             },
             "line": {
              "color": "white"
             }
            },
            "type": "table"
           }
          ]
         },
         "layout": {
          "annotationdefaults": {
           "arrowcolor": "#2a3f5f",
           "arrowhead": 0,
           "arrowwidth": 1
          },
          "autotypenumbers": "strict",
          "coloraxis": {
           "colorbar": {
            "outlinewidth": 0,
            "ticks": ""
           }
          },
          "colorscale": {
           "diverging": [
            [
             0,
             "#8e0152"
            ],
            [
             0.1,
             "#c51b7d"
            ],
            [
             0.2,
             "#de77ae"
            ],
            [
             0.3,
             "#f1b6da"
            ],
            [
             0.4,
             "#fde0ef"
            ],
            [
             0.5,
             "#f7f7f7"
            ],
            [
             0.6,
             "#e6f5d0"
            ],
            [
             0.7,
             "#b8e186"
            ],
            [
             0.8,
             "#7fbc41"
            ],
            [
             0.9,
             "#4d9221"
            ],
            [
             1,
             "#276419"
            ]
           ],
           "sequential": [
            [
             0,
             "#0d0887"
            ],
            [
             0.1111111111111111,
             "#46039f"
            ],
            [
             0.2222222222222222,
             "#7201a8"
            ],
            [
             0.3333333333333333,
             "#9c179e"
            ],
            [
             0.4444444444444444,
             "#bd3786"
            ],
            [
             0.5555555555555556,
             "#d8576b"
            ],
            [
             0.6666666666666666,
             "#ed7953"
            ],
            [
             0.7777777777777778,
             "#fb9f3a"
            ],
            [
             0.8888888888888888,
             "#fdca26"
            ],
            [
             1,
             "#f0f921"
            ]
           ],
           "sequentialminus": [
            [
             0,
             "#0d0887"
            ],
            [
             0.1111111111111111,
             "#46039f"
            ],
            [
             0.2222222222222222,
             "#7201a8"
            ],
            [
             0.3333333333333333,
             "#9c179e"
            ],
            [
             0.4444444444444444,
             "#bd3786"
            ],
            [
             0.5555555555555556,
             "#d8576b"
            ],
            [
             0.6666666666666666,
             "#ed7953"
            ],
            [
             0.7777777777777778,
             "#fb9f3a"
            ],
            [
             0.8888888888888888,
             "#fdca26"
            ],
            [
             1,
             "#f0f921"
            ]
           ]
          },
          "colorway": [
           "#636efa",
           "#EF553B",
           "#00cc96",
           "#ab63fa",
           "#FFA15A",
           "#19d3f3",
           "#FF6692",
           "#B6E880",
           "#FF97FF",
           "#FECB52"
          ],
          "font": {
           "color": "#2a3f5f"
          },
          "geo": {
           "bgcolor": "white",
           "lakecolor": "white",
           "landcolor": "#E5ECF6",
           "showlakes": true,
           "showland": true,
           "subunitcolor": "white"
          },
          "hoverlabel": {
           "align": "left"
          },
          "hovermode": "closest",
          "mapbox": {
           "style": "light"
          },
          "paper_bgcolor": "white",
          "plot_bgcolor": "#E5ECF6",
          "polar": {
           "angularaxis": {
            "gridcolor": "white",
            "linecolor": "white",
            "ticks": ""
           },
           "bgcolor": "#E5ECF6",
           "radialaxis": {
            "gridcolor": "white",
            "linecolor": "white",
            "ticks": ""
           }
          },
          "scene": {
           "xaxis": {
            "backgroundcolor": "#E5ECF6",
            "gridcolor": "white",
            "gridwidth": 2,
            "linecolor": "white",
            "showbackground": true,
            "ticks": "",
            "zerolinecolor": "white"
           },
           "yaxis": {
            "backgroundcolor": "#E5ECF6",
            "gridcolor": "white",
            "gridwidth": 2,
            "linecolor": "white",
            "showbackground": true,
            "ticks": "",
            "zerolinecolor": "white"
           },
           "zaxis": {
            "backgroundcolor": "#E5ECF6",
            "gridcolor": "white",
            "gridwidth": 2,
            "linecolor": "white",
            "showbackground": true,
            "ticks": "",
            "zerolinecolor": "white"
           }
          },
          "shapedefaults": {
           "line": {
            "color": "#2a3f5f"
           }
          },
          "ternary": {
           "aaxis": {
            "gridcolor": "white",
            "linecolor": "white",
            "ticks": ""
           },
           "baxis": {
            "gridcolor": "white",
            "linecolor": "white",
            "ticks": ""
           },
           "bgcolor": "#E5ECF6",
           "caxis": {
            "gridcolor": "white",
            "linecolor": "white",
            "ticks": ""
           }
          },
          "title": {
           "x": 0.05
          },
          "xaxis": {
           "automargin": true,
           "gridcolor": "white",
           "linecolor": "white",
           "ticks": "",
           "title": {
            "standoff": 15
           },
           "zerolinecolor": "white",
           "zerolinewidth": 2
          },
          "yaxis": {
           "automargin": true,
           "gridcolor": "white",
           "linecolor": "white",
           "ticks": "",
           "title": {
            "standoff": 15
           },
           "zerolinecolor": "white",
           "zerolinewidth": 2
          }
         }
        },
        "title": {
         "text": "Win/Draw/Loss Record by Team"
        },
        "xaxis": {
         "anchor": "y",
         "domain": [
          0,
          1
         ],
         "title": {
          "text": "Number of Matches"
         }
        },
        "yaxis": {
         "anchor": "x",
         "domain": [
          0,
          1
         ],
         "title": {
          "text": "Teams"
         }
        }
       }
      }
     },
     "metadata": {},
     "output_type": "display_data"
    }
   ],
   "source": [
    "# Calculate win/loss/draw statistics for all teams\n",
    "team_stats = []\n",
    "\n",
    "# Get all unique teams\n",
    "all_teams = set(df['HomeTeam'].unique()) | set(df['AwayTeam'].unique())\n",
    "\n",
    "for team in all_teams:\n",
    "    # Home matches\n",
    "    home_matches = df[df['HomeTeam'] == team]\n",
    "    home_wins = len(home_matches[home_matches['FTR'] == 'H'])\n",
    "    home_draws = len(home_matches[home_matches['FTR'] == 'D'])\n",
    "    home_losses = len(home_matches[home_matches['FTR'] == 'A'])\n",
    "    \n",
    "    # Away matches\n",
    "    away_matches = df[df['AwayTeam'] == team]\n",
    "    away_wins = len(away_matches[away_matches['FTR'] == 'A'])\n",
    "    away_draws = len(away_matches[away_matches['FTR'] == 'D'])\n",
    "    away_losses = len(away_matches[away_matches['FTR'] == 'H'])\n",
    "    \n",
    "    # Total stats\n",
    "    total_wins = home_wins + away_wins\n",
    "    total_draws = home_draws + away_draws\n",
    "    total_losses = home_losses + away_losses\n",
    "    total_matches = total_wins + total_draws + total_losses\n",
    "    \n",
    "    team_stats.append({\n",
    "        'Team': team,\n",
    "        'Wins': total_wins,\n",
    "        'Draws': total_draws,\n",
    "        'Losses': total_losses,\n",
    "        'Total': total_matches,\n",
    "        'Win_Pct': total_wins / total_matches * 100 if total_matches > 0 else 0\n",
    "    })\n",
    "\n",
    "# Convert to DataFrame and sort by win percentage\n",
    "stats_df = pd.DataFrame(team_stats)\n",
    "stats_df = stats_df.sort_values('Win_Pct', ascending=True)\n",
    "\n",
    "# Create stacked horizontal bar chart\n",
    "fig_wld = px.bar(\n",
    "    stats_df,\n",
    "    x=['Wins', 'Draws', 'Losses'],\n",
    "    y='Team',\n",
    "    orientation='h',\n",
    "    title='Win/Draw/Loss Record by Team',\n",
    "    color_discrete_map={\n",
    "        'Wins': '#2E8B57',     # Sea Green\n",
    "        'Draws': '#FFD700',    # Gold\n",
    "        'Losses': '#DC143C'    # Crimson\n",
    "    },\n",
    "    labels={'value': 'Number of Matches', 'variable': 'Result'}\n",
    ")\n",
    "\n",
    "fig_wld.update_layout(\n",
    "    height=600,\n",
    "    xaxis_title='Number of Matches',\n",
    "    yaxis_title='Teams',\n",
    "    legend_title='Match Result'\n",
    ")\n",
    "\n",
    "fig_wld.show()"
   ]
  },
  {
   "cell_type": "code",
   "execution_count": 32,
   "id": "f286c8c0",
   "metadata": {},
   "outputs": [
    {
     "data": {
      "application/vnd.plotly.v1+json": {
       "config": {
        "plotlyServerURL": "https://plot.ly"
       },
       "data": [
        {
         "hovertemplate": "Result=Win_Pct<br>Percentage (%)=%{x}<br>Team=%{y}<extra></extra>",
         "legendgroup": "Win_Pct",
         "marker": {
          "color": "#2E8B57",
          "pattern": {
           "shape": ""
          }
         },
         "name": "Win_Pct",
         "orientation": "h",
         "showlegend": true,
         "textposition": "auto",
         "type": "bar",
         "x": {
          "bdata": "Hh4eHh4eM0Adx3Ecx3EzQCiKoiiKojRAMUU+6wZTOEA12yeqB404QFmWZVmWZTlArBewzekqO0Ck5FlG9AE9QKTkWUb0AT1AS0f2DESlP0B2gynyWTdAQDLtHKxZYkBAddFFF11UQUBddNFFF51BQFAyFtUwO0RAxEndl8dWRECLLrrooktHQFSmnYM1S0hAzGMrgoaTSEAAAAAAAABJQCQX8Hob/UlAtXOwZonxTUCms5jOYjpQQA==",
          "dtype": "f8"
         },
         "xaxis": "x",
         "y": [
          "Seraing",
          "RWD Molenbeek",
          "Waasland-Beveren",
          "Beerschot VA",
          "Eupen",
          "Mouscron",
          "Kortrijk",
          "Waregem",
          "Oostende",
          "Westerlo",
          "Oud-Heverlee Leuven",
          "St Truiden",
          "Cercle Brugge",
          "Standard",
          "Charleroi",
          "Mechelen",
          "Anderlecht",
          "Genk",
          "Gent",
          "Dender",
          "Antwerp",
          "Club Brugge",
          "St. Gilloise"
         ],
         "yaxis": "y"
        },
        {
         "hovertemplate": "Result=Draw_Pct<br>Percentage (%)=%{x}<br>Team=%{y}<extra></extra>",
         "legendgroup": "Draw_Pct",
         "marker": {
          "color": "#FFD700",
          "pattern": {
           "shape": ""
          }
         },
         "name": "Draw_Pct",
         "orientation": "h",
         "showlegend": true,
         "textposition": "auto",
         "type": "bar",
         "x": {
          "bdata": "eXh4eHh4KkAAAAAAAAA5QMMwDMMwDDNAbzBFPusGK0AMSMdSJsE2QIqiKIqiKD5A4C2F/iRjNUBMcxf8VZw0QA7T3AV/FTNAsmcgKh3ZO0CtG0yRz7o9QCQX8Hob/TlAo4suuujiM0C76KKLLvo8QMaiGmYHRzhAs8T4lGnnNEBddNFFFx0+QKM/FJILeDVAZCuChpO6N0CqqqqqqqpAQLPE+JRp5zRARCG5gNfbOEDOYjqL6Sw0QA==",
          "dtype": "f8"
         },
         "xaxis": "x",
         "y": [
          "Seraing",
          "RWD Molenbeek",
          "Waasland-Beveren",
          "Beerschot VA",
          "Eupen",
          "Mouscron",
          "Kortrijk",
          "Waregem",
          "Oostende",
          "Westerlo",
          "Oud-Heverlee Leuven",
          "St Truiden",
          "Cercle Brugge",
          "Standard",
          "Charleroi",
          "Mechelen",
          "Anderlecht",
          "Genk",
          "Gent",
          "Dender",
          "Antwerp",
          "Club Brugge",
          "St. Gilloise"
         ],
         "yaxis": "y"
        },
        {
         "hovertemplate": "Result=Loss_Pct<br>Percentage (%)=%{x}<br>Team=%{y}<extra></extra>",
         "legendgroup": "Loss_Pct",
         "marker": {
          "color": "#DC143C",
          "pattern": {
           "shape": ""
          }
         },
         "name": "Loss_Pct",
         "orientation": "h",
         "showlegend": true,
         "textposition": "auto",
         "type": "bar",
         "x": {
          "bdata": "amlpaWnpUEByHMdxHMdLQIqiKIqiKE5ATJHPusEUT0BgbogB6VhKQI7jOI7jOEZAOl3lmfi4SUAHVMfe2jBJQCek5FlG9ElAgqh0ZM9AREC0bjBFPutCQDsHa5YYn0RAuuiiiy66RkBGF1100eVBQE183HdLoUFA41OmnYM1Q0CLLrrooks3QLVzsGaJ8T1ABA0ndV8eO0CqqqqqqqowQAQNJ3VfHjtApe7LYyuCLkAxncV0FtMtQA==",
          "dtype": "f8"
         },
         "xaxis": "x",
         "y": [
          "Seraing",
          "RWD Molenbeek",
          "Waasland-Beveren",
          "Beerschot VA",
          "Eupen",
          "Mouscron",
          "Kortrijk",
          "Waregem",
          "Oostende",
          "Westerlo",
          "Oud-Heverlee Leuven",
          "St Truiden",
          "Cercle Brugge",
          "Standard",
          "Charleroi",
          "Mechelen",
          "Anderlecht",
          "Genk",
          "Gent",
          "Dender",
          "Antwerp",
          "Club Brugge",
          "St. Gilloise"
         ],
         "yaxis": "y"
        }
       ],
       "layout": {
        "barmode": "relative",
        "height": 600,
        "legend": {
         "title": {
          "text": "Match Result"
         },
         "tracegroupgap": 0
        },
        "template": {
         "data": {
          "bar": [
           {
            "error_x": {
             "color": "#2a3f5f"
            },
            "error_y": {
             "color": "#2a3f5f"
            },
            "marker": {
             "line": {
              "color": "#E5ECF6",
              "width": 0.5
             },
             "pattern": {
              "fillmode": "overlay",
              "size": 10,
              "solidity": 0.2
             }
            },
            "type": "bar"
           }
          ],
          "barpolar": [
           {
            "marker": {
             "line": {
              "color": "#E5ECF6",
              "width": 0.5
             },
             "pattern": {
              "fillmode": "overlay",
              "size": 10,
              "solidity": 0.2
             }
            },
            "type": "barpolar"
           }
          ],
          "carpet": [
           {
            "aaxis": {
             "endlinecolor": "#2a3f5f",
             "gridcolor": "white",
             "linecolor": "white",
             "minorgridcolor": "white",
             "startlinecolor": "#2a3f5f"
            },
            "baxis": {
             "endlinecolor": "#2a3f5f",
             "gridcolor": "white",
             "linecolor": "white",
             "minorgridcolor": "white",
             "startlinecolor": "#2a3f5f"
            },
            "type": "carpet"
           }
          ],
          "choropleth": [
           {
            "colorbar": {
             "outlinewidth": 0,
             "ticks": ""
            },
            "type": "choropleth"
           }
          ],
          "contour": [
           {
            "colorbar": {
             "outlinewidth": 0,
             "ticks": ""
            },
            "colorscale": [
             [
              0,
              "#0d0887"
             ],
             [
              0.1111111111111111,
              "#46039f"
             ],
             [
              0.2222222222222222,
              "#7201a8"
             ],
             [
              0.3333333333333333,
              "#9c179e"
             ],
             [
              0.4444444444444444,
              "#bd3786"
             ],
             [
              0.5555555555555556,
              "#d8576b"
             ],
             [
              0.6666666666666666,
              "#ed7953"
             ],
             [
              0.7777777777777778,
              "#fb9f3a"
             ],
             [
              0.8888888888888888,
              "#fdca26"
             ],
             [
              1,
              "#f0f921"
             ]
            ],
            "type": "contour"
           }
          ],
          "contourcarpet": [
           {
            "colorbar": {
             "outlinewidth": 0,
             "ticks": ""
            },
            "type": "contourcarpet"
           }
          ],
          "heatmap": [
           {
            "colorbar": {
             "outlinewidth": 0,
             "ticks": ""
            },
            "colorscale": [
             [
              0,
              "#0d0887"
             ],
             [
              0.1111111111111111,
              "#46039f"
             ],
             [
              0.2222222222222222,
              "#7201a8"
             ],
             [
              0.3333333333333333,
              "#9c179e"
             ],
             [
              0.4444444444444444,
              "#bd3786"
             ],
             [
              0.5555555555555556,
              "#d8576b"
             ],
             [
              0.6666666666666666,
              "#ed7953"
             ],
             [
              0.7777777777777778,
              "#fb9f3a"
             ],
             [
              0.8888888888888888,
              "#fdca26"
             ],
             [
              1,
              "#f0f921"
             ]
            ],
            "type": "heatmap"
           }
          ],
          "histogram": [
           {
            "marker": {
             "pattern": {
              "fillmode": "overlay",
              "size": 10,
              "solidity": 0.2
             }
            },
            "type": "histogram"
           }
          ],
          "histogram2d": [
           {
            "colorbar": {
             "outlinewidth": 0,
             "ticks": ""
            },
            "colorscale": [
             [
              0,
              "#0d0887"
             ],
             [
              0.1111111111111111,
              "#46039f"
             ],
             [
              0.2222222222222222,
              "#7201a8"
             ],
             [
              0.3333333333333333,
              "#9c179e"
             ],
             [
              0.4444444444444444,
              "#bd3786"
             ],
             [
              0.5555555555555556,
              "#d8576b"
             ],
             [
              0.6666666666666666,
              "#ed7953"
             ],
             [
              0.7777777777777778,
              "#fb9f3a"
             ],
             [
              0.8888888888888888,
              "#fdca26"
             ],
             [
              1,
              "#f0f921"
             ]
            ],
            "type": "histogram2d"
           }
          ],
          "histogram2dcontour": [
           {
            "colorbar": {
             "outlinewidth": 0,
             "ticks": ""
            },
            "colorscale": [
             [
              0,
              "#0d0887"
             ],
             [
              0.1111111111111111,
              "#46039f"
             ],
             [
              0.2222222222222222,
              "#7201a8"
             ],
             [
              0.3333333333333333,
              "#9c179e"
             ],
             [
              0.4444444444444444,
              "#bd3786"
             ],
             [
              0.5555555555555556,
              "#d8576b"
             ],
             [
              0.6666666666666666,
              "#ed7953"
             ],
             [
              0.7777777777777778,
              "#fb9f3a"
             ],
             [
              0.8888888888888888,
              "#fdca26"
             ],
             [
              1,
              "#f0f921"
             ]
            ],
            "type": "histogram2dcontour"
           }
          ],
          "mesh3d": [
           {
            "colorbar": {
             "outlinewidth": 0,
             "ticks": ""
            },
            "type": "mesh3d"
           }
          ],
          "parcoords": [
           {
            "line": {
             "colorbar": {
              "outlinewidth": 0,
              "ticks": ""
             }
            },
            "type": "parcoords"
           }
          ],
          "pie": [
           {
            "automargin": true,
            "type": "pie"
           }
          ],
          "scatter": [
           {
            "fillpattern": {
             "fillmode": "overlay",
             "size": 10,
             "solidity": 0.2
            },
            "type": "scatter"
           }
          ],
          "scatter3d": [
           {
            "line": {
             "colorbar": {
              "outlinewidth": 0,
              "ticks": ""
             }
            },
            "marker": {
             "colorbar": {
              "outlinewidth": 0,
              "ticks": ""
             }
            },
            "type": "scatter3d"
           }
          ],
          "scattercarpet": [
           {
            "marker": {
             "colorbar": {
              "outlinewidth": 0,
              "ticks": ""
             }
            },
            "type": "scattercarpet"
           }
          ],
          "scattergeo": [
           {
            "marker": {
             "colorbar": {
              "outlinewidth": 0,
              "ticks": ""
             }
            },
            "type": "scattergeo"
           }
          ],
          "scattergl": [
           {
            "marker": {
             "colorbar": {
              "outlinewidth": 0,
              "ticks": ""
             }
            },
            "type": "scattergl"
           }
          ],
          "scattermap": [
           {
            "marker": {
             "colorbar": {
              "outlinewidth": 0,
              "ticks": ""
             }
            },
            "type": "scattermap"
           }
          ],
          "scattermapbox": [
           {
            "marker": {
             "colorbar": {
              "outlinewidth": 0,
              "ticks": ""
             }
            },
            "type": "scattermapbox"
           }
          ],
          "scatterpolar": [
           {
            "marker": {
             "colorbar": {
              "outlinewidth": 0,
              "ticks": ""
             }
            },
            "type": "scatterpolar"
           }
          ],
          "scatterpolargl": [
           {
            "marker": {
             "colorbar": {
              "outlinewidth": 0,
              "ticks": ""
             }
            },
            "type": "scatterpolargl"
           }
          ],
          "scatterternary": [
           {
            "marker": {
             "colorbar": {
              "outlinewidth": 0,
              "ticks": ""
             }
            },
            "type": "scatterternary"
           }
          ],
          "surface": [
           {
            "colorbar": {
             "outlinewidth": 0,
             "ticks": ""
            },
            "colorscale": [
             [
              0,
              "#0d0887"
             ],
             [
              0.1111111111111111,
              "#46039f"
             ],
             [
              0.2222222222222222,
              "#7201a8"
             ],
             [
              0.3333333333333333,
              "#9c179e"
             ],
             [
              0.4444444444444444,
              "#bd3786"
             ],
             [
              0.5555555555555556,
              "#d8576b"
             ],
             [
              0.6666666666666666,
              "#ed7953"
             ],
             [
              0.7777777777777778,
              "#fb9f3a"
             ],
             [
              0.8888888888888888,
              "#fdca26"
             ],
             [
              1,
              "#f0f921"
             ]
            ],
            "type": "surface"
           }
          ],
          "table": [
           {
            "cells": {
             "fill": {
              "color": "#EBF0F8"
             },
             "line": {
              "color": "white"
             }
            },
            "header": {
             "fill": {
              "color": "#C8D4E3"
             },
             "line": {
              "color": "white"
             }
            },
            "type": "table"
           }
          ]
         },
         "layout": {
          "annotationdefaults": {
           "arrowcolor": "#2a3f5f",
           "arrowhead": 0,
           "arrowwidth": 1
          },
          "autotypenumbers": "strict",
          "coloraxis": {
           "colorbar": {
            "outlinewidth": 0,
            "ticks": ""
           }
          },
          "colorscale": {
           "diverging": [
            [
             0,
             "#8e0152"
            ],
            [
             0.1,
             "#c51b7d"
            ],
            [
             0.2,
             "#de77ae"
            ],
            [
             0.3,
             "#f1b6da"
            ],
            [
             0.4,
             "#fde0ef"
            ],
            [
             0.5,
             "#f7f7f7"
            ],
            [
             0.6,
             "#e6f5d0"
            ],
            [
             0.7,
             "#b8e186"
            ],
            [
             0.8,
             "#7fbc41"
            ],
            [
             0.9,
             "#4d9221"
            ],
            [
             1,
             "#276419"
            ]
           ],
           "sequential": [
            [
             0,
             "#0d0887"
            ],
            [
             0.1111111111111111,
             "#46039f"
            ],
            [
             0.2222222222222222,
             "#7201a8"
            ],
            [
             0.3333333333333333,
             "#9c179e"
            ],
            [
             0.4444444444444444,
             "#bd3786"
            ],
            [
             0.5555555555555556,
             "#d8576b"
            ],
            [
             0.6666666666666666,
             "#ed7953"
            ],
            [
             0.7777777777777778,
             "#fb9f3a"
            ],
            [
             0.8888888888888888,
             "#fdca26"
            ],
            [
             1,
             "#f0f921"
            ]
           ],
           "sequentialminus": [
            [
             0,
             "#0d0887"
            ],
            [
             0.1111111111111111,
             "#46039f"
            ],
            [
             0.2222222222222222,
             "#7201a8"
            ],
            [
             0.3333333333333333,
             "#9c179e"
            ],
            [
             0.4444444444444444,
             "#bd3786"
            ],
            [
             0.5555555555555556,
             "#d8576b"
            ],
            [
             0.6666666666666666,
             "#ed7953"
            ],
            [
             0.7777777777777778,
             "#fb9f3a"
            ],
            [
             0.8888888888888888,
             "#fdca26"
            ],
            [
             1,
             "#f0f921"
            ]
           ]
          },
          "colorway": [
           "#636efa",
           "#EF553B",
           "#00cc96",
           "#ab63fa",
           "#FFA15A",
           "#19d3f3",
           "#FF6692",
           "#B6E880",
           "#FF97FF",
           "#FECB52"
          ],
          "font": {
           "color": "#2a3f5f"
          },
          "geo": {
           "bgcolor": "white",
           "lakecolor": "white",
           "landcolor": "#E5ECF6",
           "showlakes": true,
           "showland": true,
           "subunitcolor": "white"
          },
          "hoverlabel": {
           "align": "left"
          },
          "hovermode": "closest",
          "mapbox": {
           "style": "light"
          },
          "paper_bgcolor": "white",
          "plot_bgcolor": "#E5ECF6",
          "polar": {
           "angularaxis": {
            "gridcolor": "white",
            "linecolor": "white",
            "ticks": ""
           },
           "bgcolor": "#E5ECF6",
           "radialaxis": {
            "gridcolor": "white",
            "linecolor": "white",
            "ticks": ""
           }
          },
          "scene": {
           "xaxis": {
            "backgroundcolor": "#E5ECF6",
            "gridcolor": "white",
            "gridwidth": 2,
            "linecolor": "white",
            "showbackground": true,
            "ticks": "",
            "zerolinecolor": "white"
           },
           "yaxis": {
            "backgroundcolor": "#E5ECF6",
            "gridcolor": "white",
            "gridwidth": 2,
            "linecolor": "white",
            "showbackground": true,
            "ticks": "",
            "zerolinecolor": "white"
           },
           "zaxis": {
            "backgroundcolor": "#E5ECF6",
            "gridcolor": "white",
            "gridwidth": 2,
            "linecolor": "white",
            "showbackground": true,
            "ticks": "",
            "zerolinecolor": "white"
           }
          },
          "shapedefaults": {
           "line": {
            "color": "#2a3f5f"
           }
          },
          "ternary": {
           "aaxis": {
            "gridcolor": "white",
            "linecolor": "white",
            "ticks": ""
           },
           "baxis": {
            "gridcolor": "white",
            "linecolor": "white",
            "ticks": ""
           },
           "bgcolor": "#E5ECF6",
           "caxis": {
            "gridcolor": "white",
            "linecolor": "white",
            "ticks": ""
           }
          },
          "title": {
           "x": 0.05
          },
          "xaxis": {
           "automargin": true,
           "gridcolor": "white",
           "linecolor": "white",
           "ticks": "",
           "title": {
            "standoff": 15
           },
           "zerolinecolor": "white",
           "zerolinewidth": 2
          },
          "yaxis": {
           "automargin": true,
           "gridcolor": "white",
           "linecolor": "white",
           "ticks": "",
           "title": {
            "standoff": 15
           },
           "zerolinecolor": "white",
           "zerolinewidth": 2
          }
         }
        },
        "title": {
         "text": "Win/Draw/Loss Percentage by Team - All Seasons"
        },
        "updatemenus": [
         {
          "buttons": [
           {
            "args": [
             {
              "x": [
               [
                19.11764705882353,
                19.444444444444446,
                20.634920634920633,
                24.324324324324326,
                24.550898203592812,
                25.396825396825395,
                27.167630057803464,
                29.00763358778626,
                29.00763358778626,
                31.645569620253166,
                32.432432432432435,
                32.7683615819209,
                34.659090909090914,
                35.22727272727273,
                40.46242774566474,
                40.67796610169492,
                46.590909090909086,
                48.58757062146893,
                49.152542372881356,
                50,
                51.9774011299435,
                59.887005649717516,
                64.91228070175438
               ],
               [
                13.23529411764706,
                25,
                19.047619047619047,
                13.513513513513514,
                22.75449101796407,
                30.158730158730158,
                21.38728323699422,
                20.610687022900763,
                19.083969465648856,
                27.848101265822784,
                29.72972972972973,
                25.98870056497175,
                19.886363636363637,
                28.97727272727273,
                24.277456647398843,
                20.903954802259886,
                30.113636363636363,
                21.468926553672315,
                23.728813559322035,
                33.33333333333333,
                20.903954802259886,
                24.858757062146893,
                20.175438596491226
               ],
               [
                67.64705882352942,
                55.55555555555556,
                60.317460317460316,
                62.16216216216216,
                52.69461077844312,
                44.44444444444444,
                51.445086705202314,
                50.38167938931297,
                51.908396946564885,
                40.50632911392405,
                37.83783783783784,
                41.24293785310734,
                45.45454545454545,
                35.79545454545455,
                35.26011560693642,
                38.4180790960452,
                23.295454545454543,
                29.943502824858758,
                27.11864406779661,
                16.666666666666664,
                27.11864406779661,
                15.254237288135593,
                14.912280701754385
               ]
              ],
              "y": [
               [
                "Seraing",
                "RWD Molenbeek",
                "Waasland-Beveren",
                "Beerschot VA",
                "Eupen",
                "Mouscron",
                "Kortrijk",
                "Waregem",
                "Oostende",
                "Westerlo",
                "Oud-Heverlee Leuven",
                "St Truiden",
                "Cercle Brugge",
                "Standard",
                "Charleroi",
                "Mechelen",
                "Anderlecht",
                "Genk",
                "Gent",
                "Dender",
                "Antwerp",
                "Club Brugge",
                "St. Gilloise"
               ],
               [
                "Seraing",
                "RWD Molenbeek",
                "Waasland-Beveren",
                "Beerschot VA",
                "Eupen",
                "Mouscron",
                "Kortrijk",
                "Waregem",
                "Oostende",
                "Westerlo",
                "Oud-Heverlee Leuven",
                "St Truiden",
                "Cercle Brugge",
                "Standard",
                "Charleroi",
                "Mechelen",
                "Anderlecht",
                "Genk",
                "Gent",
                "Dender",
                "Antwerp",
                "Club Brugge",
                "St. Gilloise"
               ],
               [
                "Seraing",
                "RWD Molenbeek",
                "Waasland-Beveren",
                "Beerschot VA",
                "Eupen",
                "Mouscron",
                "Kortrijk",
                "Waregem",
                "Oostende",
                "Westerlo",
                "Oud-Heverlee Leuven",
                "St Truiden",
                "Cercle Brugge",
                "Standard",
                "Charleroi",
                "Mechelen",
                "Anderlecht",
                "Genk",
                "Gent",
                "Dender",
                "Antwerp",
                "Club Brugge",
                "St. Gilloise"
               ]
              ]
             }
            ],
            "args2": [
             {
              "title": "Win/Draw/Loss Percentage by Team - All Seasons"
             }
            ],
            "label": "All Seasons",
            "method": "restyle"
           },
           {
            "args": [
             {
              "x": [
               [
                14.285714285714285,
                19.047619047619047,
                23.809523809523807,
                23.809523809523807,
                28.57142857142857,
                28.57142857142857,
                28.57142857142857,
                28.57142857142857,
                42.857142857142854,
                42.857142857142854,
                47.61904761904761,
                47.61904761904761,
                52.38095238095239,
                52.38095238095239,
                55.00000000000001,
                75
               ],
               [
                9.523809523809524,
                23.809523809523807,
                14.285714285714285,
                19.047619047619047,
                19.047619047619047,
                42.857142857142854,
                23.809523809523807,
                42.857142857142854,
                19.047619047619047,
                19.047619047619047,
                19.047619047619047,
                23.809523809523807,
                28.57142857142857,
                28.57142857142857,
                30,
                20
               ],
               [
                76.19047619047619,
                57.14285714285714,
                61.904761904761905,
                57.14285714285714,
                52.38095238095239,
                28.57142857142857,
                47.61904761904761,
                28.57142857142857,
                38.095238095238095,
                38.095238095238095,
                33.33333333333333,
                28.57142857142857,
                19.047619047619047,
                19.047619047619047,
                15,
                5
               ]
              ],
              "y": [
               [
                "Cercle Brugge",
                "Waasland-Beveren",
                "Oostende",
                "Eupen",
                "Kortrijk",
                "Anderlecht",
                "St Truiden",
                "Mouscron",
                "Genk",
                "Waregem",
                "Mechelen",
                "Standard",
                "Antwerp",
                "Gent",
                "Charleroi",
                "Club Brugge"
               ],
               [
                "Cercle Brugge",
                "Waasland-Beveren",
                "Oostende",
                "Eupen",
                "Kortrijk",
                "Anderlecht",
                "St Truiden",
                "Mouscron",
                "Genk",
                "Waregem",
                "Mechelen",
                "Standard",
                "Antwerp",
                "Gent",
                "Charleroi",
                "Club Brugge"
               ],
               [
                "Cercle Brugge",
                "Waasland-Beveren",
                "Oostende",
                "Eupen",
                "Kortrijk",
                "Anderlecht",
                "St Truiden",
                "Mouscron",
                "Genk",
                "Waregem",
                "Mechelen",
                "Standard",
                "Antwerp",
                "Gent",
                "Charleroi",
                "Club Brugge"
               ]
              ]
             }
            ],
            "args2": [
             {
              "title": "Win/Draw/Loss Percentage by Team - 2019/20"
             }
            ],
            "label": "2019/20",
            "method": "restyle"
           },
           {
            "args": [
             {
              "x": [
               [
                22.22222222222222,
                25.925925925925924,
                28.000000000000004,
                29.629629629629626,
                29.629629629629626,
                29.629629629629626,
                30.76923076923077,
                37.03703703703704,
                37.03703703703704,
                38.46153846153847,
                42.10526315789473,
                48.148148148148145,
                48.148148148148145,
                48.148148148148145,
                50,
                50,
                53.84615384615385,
                64.28571428571429
               ],
               [
                14.814814814814813,
                18.51851851851852,
                40,
                18.51851851851852,
                22.22222222222222,
                22.22222222222222,
                19.230769230769234,
                33.33333333333333,
                25.925925925925924,
                0,
                26.31578947368421,
                22.22222222222222,
                33.33333333333333,
                7.4074074074074066,
                5.555555555555555,
                21.428571428571427,
                23.076923076923077,
                21.428571428571427
               ],
               [
                62.96296296296296,
                55.55555555555556,
                32,
                51.85185185185185,
                48.148148148148145,
                48.148148148148145,
                50,
                29.629629629629626,
                37.03703703703704,
                61.53846153846154,
                31.57894736842105,
                29.629629629629626,
                18.51851851851852,
                44.44444444444444,
                44.44444444444444,
                28.57142857142857,
                23.076923076923077,
                14.285714285714285
               ]
              ],
              "y": [
               [
                "Waasland-Beveren",
                "Mouscron",
                "Eupen",
                "Waregem",
                "St Truiden",
                "Mechelen",
                "Oostende",
                "Standard",
                "Kortrijk",
                "Cercle Brugge",
                "Oud-Heverlee Leuven",
                "Antwerp",
                "Anderlecht",
                "Gent",
                "Beerschot VA",
                "Charleroi",
                "Genk",
                "Club Brugge"
               ],
               [
                "Waasland-Beveren",
                "Mouscron",
                "Eupen",
                "Waregem",
                "St Truiden",
                "Mechelen",
                "Oostende",
                "Standard",
                "Kortrijk",
                "Cercle Brugge",
                "Oud-Heverlee Leuven",
                "Antwerp",
                "Anderlecht",
                "Gent",
                "Beerschot VA",
                "Charleroi",
                "Genk",
                "Club Brugge"
               ],
               [
                "Waasland-Beveren",
                "Mouscron",
                "Eupen",
                "Waregem",
                "St Truiden",
                "Mechelen",
                "Oostende",
                "Standard",
                "Kortrijk",
                "Cercle Brugge",
                "Oud-Heverlee Leuven",
                "Antwerp",
                "Anderlecht",
                "Gent",
                "Beerschot VA",
                "Charleroi",
                "Genk",
                "Club Brugge"
               ]
              ]
             }
            ],
            "args2": [
             {
              "title": "Win/Draw/Loss Percentage by Team - 2020/21"
             }
            ],
            "label": "2020/21",
            "method": "restyle"
           },
           {
            "args": [
             {
              "x": [
               [
                19.444444444444446,
                20,
                20,
                27.77777777777778,
                28.57142857142857,
                30.555555555555557,
                32.432432432432435,
                33.33333333333333,
                34.21052631578947,
                34.285714285714285,
                36.11111111111111,
                37.142857142857146,
                37.83783783783784,
                40.54054054054054,
                44.44444444444444,
                47.22222222222222,
                50,
                57.14285714285714,
                63.888888888888886,
                71.42857142857143
               ],
               [
                19.444444444444446,
                33.33333333333333,
                20,
                33.33333333333333,
                4.761904761904762,
                30.555555555555557,
                18.91891891891892,
                16.666666666666664,
                23.684210526315788,
                22.857142857142858,
                16.666666666666664,
                25.71428571428571,
                21.62162162162162,
                16.216216216216218,
                27.77777777777778,
                36.11111111111111,
                19.444444444444446,
                17.142857142857142,
                22.22222222222222,
                9.523809523809524
               ],
               [
                61.111111111111114,
                46.666666666666664,
                60,
                38.88888888888889,
                66.66666666666666,
                38.88888888888889,
                48.64864864864865,
                50,
                42.10526315789473,
                42.857142857142854,
                47.22222222222222,
                37.142857142857146,
                40.54054054054054,
                43.24324324324324,
                27.77777777777778,
                16.666666666666664,
                30.555555555555557,
                25.71428571428571,
                13.88888888888889,
                19.047619047619047
               ]
              ],
              "y": [
               [
                "Beerschot VA",
                "Mouscron",
                "Waasland-Beveren",
                "Oud-Heverlee Leuven",
                "Seraing",
                "Charleroi",
                "Cercle Brugge",
                "St Truiden",
                "Eupen",
                "Kortrijk",
                "Waregem",
                "Standard",
                "Genk",
                "Oostende",
                "Gent",
                "Anderlecht",
                "Mechelen",
                "Antwerp",
                "Club Brugge",
                "St. Gilloise"
               ],
               [
                "Beerschot VA",
                "Mouscron",
                "Waasland-Beveren",
                "Oud-Heverlee Leuven",
                "Seraing",
                "Charleroi",
                "Cercle Brugge",
                "St Truiden",
                "Eupen",
                "Kortrijk",
                "Waregem",
                "Standard",
                "Genk",
                "Oostende",
                "Gent",
                "Anderlecht",
                "Mechelen",
                "Antwerp",
                "Club Brugge",
                "St. Gilloise"
               ],
               [
                "Beerschot VA",
                "Mouscron",
                "Waasland-Beveren",
                "Oud-Heverlee Leuven",
                "Seraing",
                "Charleroi",
                "Cercle Brugge",
                "St Truiden",
                "Eupen",
                "Kortrijk",
                "Waregem",
                "Standard",
                "Genk",
                "Oostende",
                "Gent",
                "Anderlecht",
                "Mechelen",
                "Antwerp",
                "Club Brugge",
                "St. Gilloise"
               ]
              ]
             }
            ],
            "args2": [
             {
              "title": "Win/Draw/Loss Percentage by Team - 2021/22"
             }
            ],
            "label": "2021/22",
            "method": "restyle"
           },
           {
            "args": [
             {
              "x": [
               [
                14.285714285714285,
                15.625,
                16.129032258064516,
                16.129032258064516,
                22.58064516129032,
                25.806451612903224,
                35.483870967741936,
                35.483870967741936,
                35.483870967741936,
                37.5,
                38.70967741935484,
                44.44444444444444,
                48.38709677419355,
                48.38709677419355,
                54.83870967741935,
                59.375,
                64.51612903225806,
                67.74193548387096,
                70.96774193548387
               ],
               [
                7.142857142857142,
                18.75,
                16.129032258064516,
                22.58064516129032,
                16.129032258064516,
                22.58064516129032,
                16.129032258064516,
                25.806451612903224,
                25.806451612903224,
                18.75,
                32.25806451612903,
                16.666666666666664,
                25.806451612903224,
                12.903225806451612,
                25.806451612903224,
                15.625,
                19.35483870967742,
                19.35483870967742,
                6.451612903225806
               ],
               [
                78.57142857142857,
                65.625,
                67.74193548387096,
                61.29032258064516,
                61.29032258064516,
                51.61290322580645,
                48.38709677419355,
                38.70967741935484,
                38.70967741935484,
                43.75,
                29.03225806451613,
                38.88888888888889,
                25.806451612903224,
                38.70967741935484,
                19.35483870967742,
                25,
                16.129032258064516,
                12.903225806451612,
                22.58064516129032
               ]
              ],
              "y": [
               [
                "Beerschot VA",
                "Kortrijk",
                "Seraing",
                "Waregem",
                "Eupen",
                "Oostende",
                "Charleroi",
                "Mechelen",
                "Oud-Heverlee Leuven",
                "Standard",
                "Cercle Brugge",
                "Westerlo",
                "St Truiden",
                "Anderlecht",
                "Gent",
                "Antwerp",
                "Club Brugge",
                "St. Gilloise",
                "Genk"
               ],
               [
                "Beerschot VA",
                "Kortrijk",
                "Seraing",
                "Waregem",
                "Eupen",
                "Oostende",
                "Charleroi",
                "Mechelen",
                "Oud-Heverlee Leuven",
                "Standard",
                "Cercle Brugge",
                "Westerlo",
                "St Truiden",
                "Anderlecht",
                "Gent",
                "Antwerp",
                "Club Brugge",
                "St. Gilloise",
                "Genk"
               ],
               [
                "Beerschot VA",
                "Kortrijk",
                "Seraing",
                "Waregem",
                "Eupen",
                "Oostende",
                "Charleroi",
                "Mechelen",
                "Oud-Heverlee Leuven",
                "Standard",
                "Cercle Brugge",
                "Westerlo",
                "St Truiden",
                "Anderlecht",
                "Gent",
                "Antwerp",
                "Club Brugge",
                "St. Gilloise",
                "Genk"
               ]
              ]
             }
            ],
            "args2": [
             {
              "title": "Win/Draw/Loss Percentage by Team - 2022/23"
             }
            ],
            "label": "2022/23",
            "method": "restyle"
           },
           {
            "args": [
             {
              "x": [
               [
                12.5,
                12.5,
                13.88888888888889,
                16.666666666666664,
                18.75,
                25,
                27.77777777777778,
                27.77777777777778,
                30.555555555555557,
                30.555555555555557,
                33.33333333333333,
                36.11111111111111,
                41.66666666666667,
                44.44444444444444,
                47.22222222222222,
                47.22222222222222,
                50,
                52.77777777777778,
                72.22222222222221
               ],
               [
                25,
                18.75,
                25,
                22.22222222222222,
                31.25,
                30,
                22.22222222222222,
                36.11111111111111,
                33.33333333333333,
                19.444444444444446,
                36.11111111111111,
                30.555555555555557,
                38.88888888888889,
                19.444444444444446,
                33.33333333333333,
                33.33333333333333,
                30.555555555555557,
                30.555555555555557,
                16.666666666666664
               ],
               [
                62.5,
                68.75,
                61.111111111111114,
                61.111111111111114,
                50,
                45,
                50,
                36.11111111111111,
                36.11111111111111,
                50,
                30.555555555555557,
                33.33333333333333,
                19.444444444444446,
                36.11111111111111,
                19.444444444444446,
                19.444444444444446,
                19.444444444444446,
                16.666666666666664,
                11.11111111111111
               ]
              ],
              "y": [
               [
                "Oostende",
                "Seraing",
                "Eupen",
                "Kortrijk",
                "Waregem",
                "RWD Molenbeek",
                "Oud-Heverlee Leuven",
                "St Truiden",
                "Westerlo",
                "Mechelen",
                "Standard",
                "Charleroi",
                "Club Brugge",
                "Cercle Brugge",
                "Gent",
                "Genk",
                "Anderlecht",
                "Antwerp",
                "St. Gilloise"
               ],
               [
                "Oostende",
                "Seraing",
                "Eupen",
                "Kortrijk",
                "Waregem",
                "RWD Molenbeek",
                "Oud-Heverlee Leuven",
                "St Truiden",
                "Westerlo",
                "Mechelen",
                "Standard",
                "Charleroi",
                "Club Brugge",
                "Cercle Brugge",
                "Gent",
                "Genk",
                "Anderlecht",
                "Antwerp",
                "St. Gilloise"
               ],
               [
                "Oostende",
                "Seraing",
                "Eupen",
                "Kortrijk",
                "Waregem",
                "RWD Molenbeek",
                "Oud-Heverlee Leuven",
                "St Truiden",
                "Westerlo",
                "Mechelen",
                "Standard",
                "Charleroi",
                "Club Brugge",
                "Cercle Brugge",
                "Gent",
                "Genk",
                "Anderlecht",
                "Antwerp",
                "St. Gilloise"
               ]
              ]
             }
            ],
            "args2": [
             {
              "title": "Win/Draw/Loss Percentage by Team - 2023/24"
             }
            ],
            "label": "2023/24",
            "method": "restyle"
           },
           {
            "args": [
             {
              "x": [
               [
                0,
                12.5,
                20,
                24,
                25,
                26.923076923076923,
                32,
                34.61538461538461,
                36.36363636363637,
                38.46153846153847,
                38.46153846153847,
                45.45454545454545,
                46.15384615384615,
                50,
                50,
                52,
                53.84615384615385,
                57.692307692307686
               ],
               [
                16.666666666666664,
                18.75,
                36,
                28.000000000000004,
                6.25,
                30.76923076923077,
                36,
                42.30769230769231,
                18.181818181818183,
                11.538461538461538,
                23.076923076923077,
                13.636363636363635,
                34.61538461538461,
                15.384615384615385,
                33.33333333333333,
                28.000000000000004,
                19.230769230769234,
                23.076923076923077
               ],
               [
                83.33333333333334,
                68.75,
                44,
                48,
                68.75,
                42.30769230769231,
                32,
                23.076923076923077,
                45.45454545454545,
                50,
                38.46153846153847,
                40.909090909090914,
                19.230769230769234,
                34.61538461538461,
                16.666666666666664,
                20,
                26.923076923076923,
                19.230769230769234
               ]
              ],
              "y": [
               [
                "Beerschot VA",
                "RWD Molenbeek",
                "Standard",
                "Westerlo",
                "Eupen",
                "St Truiden",
                "Cercle Brugge",
                "Oud-Heverlee Leuven",
                "Kortrijk",
                "Antwerp",
                "Genk",
                "Charleroi",
                "St. Gilloise",
                "Gent",
                "Dender",
                "Anderlecht",
                "Mechelen",
                "Club Brugge"
               ],
               [
                "Beerschot VA",
                "RWD Molenbeek",
                "Standard",
                "Westerlo",
                "Eupen",
                "St Truiden",
                "Cercle Brugge",
                "Oud-Heverlee Leuven",
                "Kortrijk",
                "Antwerp",
                "Genk",
                "Charleroi",
                "St. Gilloise",
                "Gent",
                "Dender",
                "Anderlecht",
                "Mechelen",
                "Club Brugge"
               ],
               [
                "Beerschot VA",
                "RWD Molenbeek",
                "Standard",
                "Westerlo",
                "Eupen",
                "St Truiden",
                "Cercle Brugge",
                "Oud-Heverlee Leuven",
                "Kortrijk",
                "Antwerp",
                "Genk",
                "Charleroi",
                "St. Gilloise",
                "Gent",
                "Dender",
                "Anderlecht",
                "Mechelen",
                "Club Brugge"
               ]
              ]
             }
            ],
            "args2": [
             {
              "title": "Win/Draw/Loss Percentage by Team - 2024/25"
             }
            ],
            "label": "2024/25",
            "method": "restyle"
           }
          ],
          "direction": "down",
          "showactive": true,
          "type": "dropdown",
          "x": 0.1,
          "xanchor": "left",
          "y": 1.15,
          "yanchor": "top"
         }
        ],
        "xaxis": {
         "anchor": "y",
         "domain": [
          0,
          1
         ],
         "range": [
          0,
          100
         ],
         "title": {
          "text": "Percentage (%)"
         }
        },
        "yaxis": {
         "anchor": "x",
         "domain": [
          0,
          1
         ],
         "title": {
          "text": "Teams"
         }
        }
       }
      }
     },
     "metadata": {},
     "output_type": "display_data"
    }
   ],
   "source": [
    "# Extract season information from dates\n",
    "df['Season'] = df['Date'].dt.year.astype(str) + '/' + (df['Date'].dt.year + 1).astype(str).str[-2:]\n",
    "\n",
    "# Get unique seasons for dropdown options\n",
    "seasons = ['All Seasons'] + sorted(df['Season'].unique().tolist())\n",
    "\n",
    "# Calculate win/loss/draw statistics as percentages with season filter\n",
    "def calculate_team_stats_by_season(selected_season):\n",
    "    if selected_season == 'All Seasons':\n",
    "        filtered_df = df\n",
    "    else:\n",
    "        filtered_df = df[df['Season'] == selected_season]\n",
    "    \n",
    "    team_stats_pct = []\n",
    "    all_teams = set(filtered_df['HomeTeam'].unique()) | set(filtered_df['AwayTeam'].unique())\n",
    "    \n",
    "    for team in all_teams:\n",
    "        # Home matches\n",
    "        home_matches = filtered_df[filtered_df['HomeTeam'] == team]\n",
    "        home_wins = len(home_matches[home_matches['FTR'] == 'H'])\n",
    "        home_draws = len(home_matches[home_matches['FTR'] == 'D'])\n",
    "        home_losses = len(home_matches[home_matches['FTR'] == 'A'])\n",
    "        \n",
    "        # Away matches\n",
    "        away_matches = filtered_df[filtered_df['AwayTeam'] == team]\n",
    "        away_wins = len(away_matches[away_matches['FTR'] == 'A'])\n",
    "        away_draws = len(away_matches[away_matches['FTR'] == 'D'])\n",
    "        away_losses = len(away_matches[away_matches['FTR'] == 'H'])\n",
    "        \n",
    "        # Total stats\n",
    "        total_wins = home_wins + away_wins\n",
    "        total_draws = home_draws + away_draws\n",
    "        total_losses = home_losses + away_losses\n",
    "        total_matches = total_wins + total_draws + total_losses\n",
    "        \n",
    "        if total_matches > 0:  # Only include teams with matches in the season\n",
    "            # Calculate percentages\n",
    "            win_pct = (total_wins / total_matches * 100)\n",
    "            draw_pct = (total_draws / total_matches * 100)\n",
    "            loss_pct = (total_losses / total_matches * 100)\n",
    "            \n",
    "            team_stats_pct.append({\n",
    "                'Team': team,\n",
    "                'Win_Pct': win_pct,\n",
    "                'Draw_Pct': draw_pct,\n",
    "                'Loss_Pct': loss_pct,\n",
    "                'Total': total_matches\n",
    "            })\n",
    "    \n",
    "    return pd.DataFrame(team_stats_pct).sort_values('Win_Pct', ascending=True)\n",
    "\n",
    "# Create initial data for all seasons\n",
    "initial_stats = calculate_team_stats_by_season('All Seasons')\n",
    "\n",
    "# Create the figure with initial data\n",
    "fig_pct = px.bar(\n",
    "    initial_stats,\n",
    "    x=['Win_Pct', 'Draw_Pct', 'Loss_Pct'],\n",
    "    y='Team',\n",
    "    orientation='h',\n",
    "    title='Win/Draw/Loss Percentage by Team - All Seasons',\n",
    "    color_discrete_map={\n",
    "        'Win_Pct': '#2E8B57',     # Sea Green\n",
    "        'Draw_Pct': '#FFD700',    # Gold\n",
    "        'Loss_Pct': '#DC143C'     # Crimson\n",
    "    },\n",
    "    labels={'value': 'Percentage (%)', 'variable': 'Result'}\n",
    ")\n",
    "\n",
    "# Add dropdown menu for season selection\n",
    "buttons = []\n",
    "for season in seasons:\n",
    "    season_stats = calculate_team_stats_by_season(season)\n",
    "    \n",
    "    # Create button for each season\n",
    "    button = dict(\n",
    "        label=season,\n",
    "        method='restyle',\n",
    "        args=[{\n",
    "            'x': [season_stats['Win_Pct'].tolist(), \n",
    "                  season_stats['Draw_Pct'].tolist(), \n",
    "                  season_stats['Loss_Pct'].tolist()],\n",
    "            'y': [season_stats['Team'].tolist()] * 3\n",
    "        }],\n",
    "        args2=[{\n",
    "            'title': f'Win/Draw/Loss Percentage by Team - {season}'\n",
    "        }]\n",
    "    )\n",
    "    buttons.append(button)\n",
    "\n",
    "# Add the dropdown to the layout\n",
    "fig_pct.update_layout(\n",
    "    height=600,\n",
    "    xaxis_title='Percentage (%)',\n",
    "    yaxis_title='Teams',\n",
    "    legend_title='Match Result',\n",
    "    xaxis=dict(range=[0, 100]),  # Set x-axis range to 0-100%\n",
    "    updatemenus=[\n",
    "        dict(\n",
    "            type='dropdown',\n",
    "            direction='down',\n",
    "            buttons=buttons,\n",
    "            showactive=True,\n",
    "            x=0.1,\n",
    "            xanchor=\"left\",\n",
    "            y=1.15,\n",
    "            yanchor=\"top\"\n",
    "        )\n",
    "    ]\n",
    ")\n",
    "\n",
    "fig_pct.show()"
   ]
  }
 ],
 "metadata": {
  "kernelspec": {
   "display_name": "venv",
   "language": "python",
   "name": "python3"
  },
  "language_info": {
   "codemirror_mode": {
    "name": "ipython",
    "version": 3
   },
   "file_extension": ".py",
   "mimetype": "text/x-python",
   "name": "python",
   "nbconvert_exporter": "python",
   "pygments_lexer": "ipython3",
   "version": "3.11.2"
  }
 },
 "nbformat": 4,
 "nbformat_minor": 5
}
